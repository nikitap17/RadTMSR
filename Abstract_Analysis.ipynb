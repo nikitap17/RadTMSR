{
 "cells": [
  {
   "cell_type": "markdown",
   "id": "8429767c-b9c7-4327-abb7-234fc6438807",
   "metadata": {},
   "source": [
    "# Reproducible code\n",
    "For maximal reproducibility, we recommend to run the \"Create_VirtualEnv....ipynb\", using the default shell of your OS or bash. You are then required to change the current notebook's kernel to \"RadTMSR_env\", which stores all required versions of the used modules.\n",
    "\n",
    "**Written in Python 4.20.11 and Jupyter Lab 4.0.7**\n"
   ]
  },
  {
   "cell_type": "code",
   "execution_count": null,
   "id": "6f4ccffe-3a9d-49fc-abba-449952184f47",
   "metadata": {},
   "outputs": [],
   "source": [
    "input(\"Reassure that Kernel is set to \"RadTMSR_env before continuing\")"
   ]
  },
  {
   "cell_type": "code",
   "execution_count": null,
   "id": "a7924d83-77a3-4b4f-8d66-359f8184efa2",
   "metadata": {},
   "outputs": [],
   "source": []
  },
  {
   "cell_type": "code",
   "execution_count": 1,
   "id": "4966a6ed-77c8-4438-af14-64593a1808db",
   "metadata": {},
   "outputs": [],
   "source": [
    "import pandas as pd\n",
    "import os\n",
    "import re\n",
    "import numpy as np\n",
    "import matplotlib.pyplot as plt\n",
    "from collections import Counter\n",
    "import subprocess\n",
    "import spacy\n",
    "nlp = spacy.load('en_core_web_sm')\n",
    "import networkx as nx\n",
    "from scipy.stats import binom_test"
   ]
  },
  {
   "cell_type": "markdown",
   "id": "60ce043d-f9a4-4bf2-a630-91fef2577bda",
   "metadata": {},
   "source": [
    "#### **To run this script successfully, R has to be installed and Rscript.exe has to be in the local environment's PATH.**\n",
    "\n",
    "To ensure that Rscript.exe is in the PATH, follow the following steps:\n",
    "\n",
    "1. Run the cell below. If Rscript.exe is found, you are informed that R scripts can be run successfully. Otherwise, you are required to input the absolute directory of the Rscript.exe. To this end, follow the following guidance:\n",
    "\n",
    "2. Locate the Rscript.exe file, usually in the bin folder of your R installation directory. The path might look something like C:\\Program Files\\R\\R-x.x.x\\bin."
   ]
  },
  {
   "cell_type": "code",
   "execution_count": 2,
   "id": "e614c675-be5a-4dae-b3c9-26935f8357cf",
   "metadata": {},
   "outputs": [
    {
     "name": "stdout",
     "output_type": "stream",
     "text": [
      "Rscript version: Rscript (R) version 4.3.2 (2023-10-31)\n",
      "\n",
      "R scripts can be successfully run.\n"
     ]
    }
   ],
   "source": [
    "try:\n",
    "    result = subprocess.run(['Rscript', '--version'], capture_output=True, text=True)\n",
    "    print(\"Rscript version:\", result.stdout)\n",
    "    print(\"R scripts can be successfully run.\")\n",
    "    \n",
    "except FileNotFoundError:\n",
    "    rscript_path = input(\"Rscript.exe not found. Please enter the absolute directory path where Rscript.exe is located: \")\n",
    "    print(\"Absolute path provided: \", rscript_path)\n",
    "    \n",
    "    # Add the path to the PATH environment variable for the current session\n",
    "    os.environ['PATH'] += os.pathsep + rscript_path\n",
    "    \n",
    "    # Verify if Rscript is accessible this time\n",
    "    try:\n",
    "        result = subprocess.run(['Rscript', '--version'], capture_output=True, text=True)\n",
    "        print(\"Rscript version:\", result.stdout)\n",
    "        print(\"R scripts can be successfully run.\")\n",
    "    except FileNotFoundError:\n",
    "        raise Exception(\"Rscript not found. Please check the path.\")"
   ]
  },
  {
   "cell_type": "code",
   "execution_count": null,
   "id": "d0bbcdc0-a190-4be0-94a4-ad2b29a6da78",
   "metadata": {},
   "outputs": [],
   "source": []
  },
  {
   "cell_type": "code",
   "execution_count": null,
   "id": "aa4b2ccf-263b-4588-88d9-c82b694937ec",
   "metadata": {},
   "outputs": [],
   "source": []
  },
  {
   "cell_type": "markdown",
   "id": "68c108e3-f7b3-4223-a6a2-fdd91cf1c514",
   "metadata": {},
   "source": [
    "## Study 2 - Abstract Analysis"
   ]
  },
  {
   "cell_type": "code",
   "execution_count": 3,
   "id": "c5fe4e71-ea63-4bfe-8066-078cb1c17b78",
   "metadata": {},
   "outputs": [],
   "source": [
    "# Import data\n",
    "dfTot = pd.read_excel(\"asreview_dataset_relevant_Radicalization.xlsx\")\n",
    "#dfTot.head()"
   ]
  },
  {
   "cell_type": "code",
   "execution_count": 4,
   "id": "b3aaf06d-a690-4f20-a60d-be12d9b0b6ab",
   "metadata": {},
   "outputs": [],
   "source": [
    "data = dfTot[[\"record_id\",\"Abstract\"]].copy()\n",
    "data.rename(columns={'Abstract': 'abstract'}, inplace=True)"
   ]
  },
  {
   "cell_type": "code",
   "execution_count": 5,
   "id": "5394b0b4-d83b-4ca7-a863-bbeafd71931d",
   "metadata": {},
   "outputs": [
    {
     "data": {
      "text/html": [
       "<div>\n",
       "<style scoped>\n",
       "    .dataframe tbody tr th:only-of-type {\n",
       "        vertical-align: middle;\n",
       "    }\n",
       "\n",
       "    .dataframe tbody tr th {\n",
       "        vertical-align: top;\n",
       "    }\n",
       "\n",
       "    .dataframe thead th {\n",
       "        text-align: right;\n",
       "    }\n",
       "</style>\n",
       "<table border=\"1\" class=\"dataframe\">\n",
       "  <thead>\n",
       "    <tr style=\"text-align: right;\">\n",
       "      <th></th>\n",
       "      <th>record_id</th>\n",
       "      <th>abstract</th>\n",
       "    </tr>\n",
       "  </thead>\n",
       "  <tbody>\n",
       "    <tr>\n",
       "      <th>0</th>\n",
       "      <td>50129</td>\n",
       "      <td>This research examines how the relationship be...</td>\n",
       "    </tr>\n",
       "    <tr>\n",
       "      <th>1</th>\n",
       "      <td>2624</td>\n",
       "      <td>Religion is often seen as one of the main caus...</td>\n",
       "    </tr>\n",
       "    <tr>\n",
       "      <th>2</th>\n",
       "      <td>35510</td>\n",
       "      <td>Why are some people capable of sympathizing wi...</td>\n",
       "    </tr>\n",
       "    <tr>\n",
       "      <th>3</th>\n",
       "      <td>43427</td>\n",
       "      <td>In this study among Dutch Muslim youth (N= 131...</td>\n",
       "    </tr>\n",
       "    <tr>\n",
       "      <th>4</th>\n",
       "      <td>986</td>\n",
       "      <td>Despite its prominence in radicalization model...</td>\n",
       "    </tr>\n",
       "    <tr>\n",
       "      <th>...</th>\n",
       "      <td>...</td>\n",
       "      <td>...</td>\n",
       "    </tr>\n",
       "    <tr>\n",
       "      <th>4014</th>\n",
       "      <td>24073</td>\n",
       "      <td>This article focuses on the place and role of ...</td>\n",
       "    </tr>\n",
       "    <tr>\n",
       "      <th>4015</th>\n",
       "      <td>22510</td>\n",
       "      <td>Islamist militancy is not a new phenomenon in ...</td>\n",
       "    </tr>\n",
       "    <tr>\n",
       "      <th>4016</th>\n",
       "      <td>50382</td>\n",
       "      <td>Results of an empirical study of long-term goa...</td>\n",
       "    </tr>\n",
       "    <tr>\n",
       "      <th>4017</th>\n",
       "      <td>2188</td>\n",
       "      <td>The purpose of this study is to examine the ef...</td>\n",
       "    </tr>\n",
       "    <tr>\n",
       "      <th>4018</th>\n",
       "      <td>33733</td>\n",
       "      <td>We compare the characteristics of 77 homegrown...</td>\n",
       "    </tr>\n",
       "  </tbody>\n",
       "</table>\n",
       "<p>4019 rows × 2 columns</p>\n",
       "</div>"
      ],
      "text/plain": [
       "      record_id                                           abstract\n",
       "0         50129  This research examines how the relationship be...\n",
       "1          2624  Religion is often seen as one of the main caus...\n",
       "2         35510  Why are some people capable of sympathizing wi...\n",
       "3         43427  In this study among Dutch Muslim youth (N= 131...\n",
       "4           986  Despite its prominence in radicalization model...\n",
       "...         ...                                                ...\n",
       "4014      24073  This article focuses on the place and role of ...\n",
       "4015      22510  Islamist militancy is not a new phenomenon in ...\n",
       "4016      50382  Results of an empirical study of long-term goa...\n",
       "4017       2188  The purpose of this study is to examine the ef...\n",
       "4018      33733  We compare the characteristics of 77 homegrown...\n",
       "\n",
       "[4019 rows x 2 columns]"
      ]
     },
     "execution_count": 5,
     "metadata": {},
     "output_type": "execute_result"
    }
   ],
   "source": [
    "data = data.dropna(subset = ['abstract']).reset_index(drop=True)\n",
    "data"
   ]
  },
  {
   "cell_type": "code",
   "execution_count": null,
   "id": "8417937d-5c05-4242-ba43-2f8053ebb3d3",
   "metadata": {},
   "outputs": [],
   "source": []
  },
  {
   "cell_type": "markdown",
   "id": "224eca3a-8f94-4b45-9ec9-1c7ad214dddc",
   "metadata": {},
   "source": [
    "# Preprocessing\n",
    "\n",
    "**Pipeline**:\n",
    "\n",
    "`data` --> `pre-processing`\n",
    "\n",
    "* strip punctuation, exclude non-letters, but keep \"-\" between words\n",
    "* part-of-speech tagging - retain adjectives and nouns only\n",
    "* lower case\n",
    "* lemmatise\n",
    "\n",
    "--> `exclusion filter (stopwords, countries, exclusion terms)` --> `n-gram extraction`\n",
    "\n",
    "* 1 - 3-grams\n",
    "\n",
    "--> `classification and replacement`\n",
    "\n",
    "* Replace according to dictionary order (vs. overlapping as in keywords) ?\n",
    "\n",
    "\n",
    "\n",
    "\n",
    "--> `tokenbydoc` --> *transfer to R* --> `negative binomial` --> `topic modelling` --> `frequence analysis` --> `co-occurrence analysis` --> *transfer to Python* --> `co-occurrence network map`"
   ]
  },
  {
   "cell_type": "code",
   "execution_count": null,
   "id": "1a791897-0296-4cb0-a20f-b197953703c4",
   "metadata": {},
   "outputs": [],
   "source": []
  },
  {
   "cell_type": "markdown",
   "id": "bb1562c1-6297-4470-b9e8-67a759d88ff7",
   "metadata": {},
   "source": [
    "### 1. Cleaning"
   ]
  },
  {
   "cell_type": "code",
   "execution_count": 6,
   "id": "32cdb19f-96b1-4500-b5d2-82a769072e2a",
   "metadata": {},
   "outputs": [],
   "source": [
    "from Word_functions.word_functions_py import strip_characters, POS_tagging, lemmatisation"
   ]
  },
  {
   "cell_type": "markdown",
   "id": "7165d8e6-6073-46a3-a03a-e69a4ae6fd5c",
   "metadata": {},
   "source": [
    "**strip punctuation, exclude non-letters**"
   ]
  },
  {
   "cell_type": "code",
   "execution_count": 7,
   "id": "72766942-19bc-4c1d-962b-e9a122458e43",
   "metadata": {},
   "outputs": [
    {
     "data": {
      "text/plain": [
       "\"This article focuses on the place and role of women in the ideology of the Greek neo-Nazi political party Golden Dawn (GD). The article considers the place of women in GD's ideology as well as how GD envisages the role of women in society. It asks whether this vision of women's role is reflected in the participation of women in the party's activities. Based on a content analysis of material derived from the party's official websites, it is argued that women play a key role in GD's ideological edifice. This is evident in the party's concern with the construction of a nationalist habitus for women. This habitus is rooted in ideas of anti-feminism, motherhood and family and the primacy of nation and nationalist sentiment in determining women's lives.\""
      ]
     },
     "execution_count": 7,
     "metadata": {},
     "output_type": "execute_result"
    }
   ],
   "source": [
    "data.abstract[4014]"
   ]
  },
  {
   "cell_type": "code",
   "execution_count": null,
   "id": "5fbaecb3-daae-4713-a2ec-089ce6ee7291",
   "metadata": {},
   "outputs": [],
   "source": []
  },
  {
   "cell_type": "code",
   "execution_count": 8,
   "id": "2095fda1-8580-4b19-9171-2df140ef6d43",
   "metadata": {},
   "outputs": [],
   "source": [
    "data.abstract = data.abstract.apply(strip_characters)"
   ]
  },
  {
   "cell_type": "code",
   "execution_count": 9,
   "id": "c3938f58-d7e3-4c6c-b477-2f4cd9fc9e09",
   "metadata": {},
   "outputs": [
    {
     "data": {
      "text/plain": [
       "'This article focuses on the place and role of women in the ideology of the Greek neo Nazi political party Golden Dawn GD The article considers the place of women in GD ideology as well as how GD envisages the role of women in society It asks whether this vision of women role is reflected in the participation of women in the party activities Based on a content analysis of material derived from the party official websites it is argued that women play a key role in GD ideological edifice This is evident in the party concern with the construction of a nationalist habitus for women This habitus is rooted in ideas of anti feminism motherhood and family and the primacy of nation and nationalist sentiment in determining women lives'"
      ]
     },
     "execution_count": 9,
     "metadata": {},
     "output_type": "execute_result"
    }
   ],
   "source": [
    "data.abstract[4014]"
   ]
  },
  {
   "cell_type": "markdown",
   "id": "ccbd7c25-688d-4b07-9845-b5c979194584",
   "metadata": {},
   "source": [
    "**POS tagging**"
   ]
  },
  {
   "cell_type": "code",
   "execution_count": 10,
   "id": "e91e10a5-134a-4f8a-a557-198f3e3e21e0",
   "metadata": {},
   "outputs": [],
   "source": [
    "data.abstract = data.abstract.apply(POS_tagging)"
   ]
  },
  {
   "cell_type": "code",
   "execution_count": 11,
   "id": "e5090357-b21c-4ef7-b5e8-5a829f22bfb0",
   "metadata": {},
   "outputs": [
    {
     "data": {
      "text/plain": [
       "'article place role women ideology Greek neo political party article place women ideology role women society vision women role participation women party activities content analysis material party official websites women key role ideological edifice evident party concern construction nationalist habitus women habitus ideas anti feminism motherhood family primacy nation nationalist sentiment women lives'"
      ]
     },
     "execution_count": 11,
     "metadata": {},
     "output_type": "execute_result"
    }
   ],
   "source": [
    "data.abstract[4014]"
   ]
  },
  {
   "cell_type": "markdown",
   "id": "9d1a54f5-6aac-4c96-9e4f-a6cacb81d027",
   "metadata": {},
   "source": [
    "**lower case**"
   ]
  },
  {
   "cell_type": "code",
   "execution_count": 12,
   "id": "1b992a1e-5431-499a-8df8-2ec5f3af3db0",
   "metadata": {},
   "outputs": [],
   "source": [
    "data.abstract = data.abstract.apply(lambda x: \" \".join([str(item).lower() for item in x.split(\" \")]))"
   ]
  },
  {
   "cell_type": "code",
   "execution_count": 13,
   "id": "b5d9709f-b253-4077-b629-79f6d2cb54a9",
   "metadata": {},
   "outputs": [
    {
     "data": {
      "text/plain": [
       "'article place role women ideology greek neo political party article place women ideology role women society vision women role participation women party activities content analysis material party official websites women key role ideological edifice evident party concern construction nationalist habitus women habitus ideas anti feminism motherhood family primacy nation nationalist sentiment women lives'"
      ]
     },
     "execution_count": 13,
     "metadata": {},
     "output_type": "execute_result"
    }
   ],
   "source": [
    "data.abstract[4014]"
   ]
  },
  {
   "cell_type": "markdown",
   "id": "aa208cb2-2b9a-4800-851d-8fa504db61eb",
   "metadata": {},
   "source": [
    "**lemmatisation**"
   ]
  },
  {
   "cell_type": "code",
   "execution_count": 14,
   "id": "7dfd270c-4fe5-429e-aa6b-6837eb3d3ec4",
   "metadata": {},
   "outputs": [],
   "source": [
    "data.abstract = data.abstract.apply(lemmatisation)"
   ]
  },
  {
   "cell_type": "code",
   "execution_count": 15,
   "id": "e41b51cb-4a86-481d-980b-23f1fb8d7529",
   "metadata": {},
   "outputs": [
    {
     "data": {
      "text/plain": [
       "'article place role woman ideology greek neo political party article place woman ideology role woman society vision woman role participation woman party activity content analysis material party official website woman key role ideological edifice evident party concern construction nationalist habitus woman habitus ideas anti feminism motherhood family primacy nation nationalist sentiment woman live'"
      ]
     },
     "execution_count": 15,
     "metadata": {},
     "output_type": "execute_result"
    }
   ],
   "source": [
    "data.abstract[4014]"
   ]
  },
  {
   "cell_type": "markdown",
   "id": "8c945593-3f6f-4823-b490-ab002a17cae8",
   "metadata": {},
   "source": [
    "### 2. Exclusion filter"
   ]
  },
  {
   "cell_type": "code",
   "execution_count": 16,
   "id": "4c733e0b-7c07-4d27-98ff-6dfa2df4279e",
   "metadata": {},
   "outputs": [],
   "source": [
    "from stop_words import get_stop_words\n",
    "stoplist = get_stop_words('en')\n",
    "from country_list import countries_for_language\n",
    "countries_dict = dict(countries_for_language('en'))\n",
    "countries_raw = list(countries_dict.values())\n",
    "countries = [term.lower() for term in countries_raw]"
   ]
  },
  {
   "cell_type": "code",
   "execution_count": 17,
   "id": "e10ad5bb-abee-482f-9cba-97c106156a99",
   "metadata": {},
   "outputs": [],
   "source": [
    "exclusion_list = pd.read_excel(\"Exclusion_def.xlsx\")\n",
    "excl_list = list(exclusion_list.Exclusion)\n",
    "excl_list = [str(item) for item in excl_list]\n",
    "region_list = ['africa','asia','europe','america','middle east',\n",
    "               \"western europe\", \"northern ireland\", \"hong kong\", \"basque country\",\n",
    "               \"eastern europe\", \"southeast asia\", \"south asia\", \"somali\", \"britain\", \"latin america\", \"central asia\",\n",
    "               \"palestine\", 'middle east and north africa', \"european country\", \"c\", \"elsevi\"]"
   ]
  },
  {
   "cell_type": "code",
   "execution_count": 18,
   "id": "b07821c1-e23b-480d-9140-671ec5e3bd4e",
   "metadata": {},
   "outputs": [],
   "source": [
    "exclusion_filter = set(excl_list + countries + stoplist + region_list)\n",
    "exclusion_filter_string = \"\\\\b\" + \" \\\\b|\\\\b\".join(exclusion_filter) + \" \\\\b\""
   ]
  },
  {
   "cell_type": "code",
   "execution_count": 19,
   "id": "49e1f7ae-827c-4d4a-bcde-febdfdc457b8",
   "metadata": {},
   "outputs": [],
   "source": [
    "data.abstract = data.abstract.apply(lambda x: re.sub(exclusion_filter_string, \"\", x))\n",
    "#data"
   ]
  },
  {
   "cell_type": "code",
   "execution_count": 20,
   "id": "67ee7861-7736-4282-b0a3-37300662598b",
   "metadata": {
    "scrolled": true
   },
   "outputs": [],
   "source": [
    "data.to_json('RTMR_Output/data_processed_study2.json', orient='records', lines=True)"
   ]
  },
  {
   "cell_type": "code",
   "execution_count": null,
   "id": "814c2415-915b-4c75-a0e4-6d55e51774d8",
   "metadata": {},
   "outputs": [],
   "source": []
  },
  {
   "cell_type": "markdown",
   "id": "fcc4dcc5-3e29-40ba-906e-c89a2314f3d0",
   "metadata": {},
   "source": [
    "### 3. N-gram extraction"
   ]
  },
  {
   "cell_type": "code",
   "execution_count": 21,
   "id": "9713b39b-6ad7-4f6d-af77-2bbe121cbb1d",
   "metadata": {},
   "outputs": [],
   "source": [
    "#data = pd.read_json('RTMR_Output/data_processed_study2.json', orient='records', lines=True)"
   ]
  },
  {
   "cell_type": "code",
   "execution_count": 22,
   "id": "8de99fd2-3270-49cb-bb14-7e0ff64f9913",
   "metadata": {},
   "outputs": [],
   "source": [
    "from Word_functions.word_functions_py import ngram_extractor, trigram_to_nounbydoc, bigram_to_nounbydoc, relevant_trigrams, select_unigrams, to_nounbydoc"
   ]
  },
  {
   "cell_type": "code",
   "execution_count": 23,
   "id": "2d8cd293-f5be-4814-897e-806d9c8560c2",
   "metadata": {},
   "outputs": [],
   "source": [
    "data.abstract = data.abstract.apply(lambda x: x.split(\" \"))"
   ]
  },
  {
   "cell_type": "code",
   "execution_count": 24,
   "id": "15f6a1b4-d2f1-4ee6-8c01-52fead77e4a2",
   "metadata": {},
   "outputs": [],
   "source": [
    "# remove consecutive duplicates\n",
    "data.abstract = data.abstract.apply(lambda x: [element for idx, element in enumerate(x) if idx == 0 or element != x[idx-1]])"
   ]
  },
  {
   "cell_type": "code",
   "execution_count": 25,
   "id": "79c88f44-aa7a-4b38-95f2-ac274cda1a09",
   "metadata": {},
   "outputs": [],
   "source": [
    "data[\"ngram\"] = data.abstract.apply(ngram_extractor)"
   ]
  },
  {
   "cell_type": "code",
   "execution_count": null,
   "id": "4c963e7d-49ac-4ecb-bb95-36501742c63b",
   "metadata": {},
   "outputs": [],
   "source": []
  },
  {
   "cell_type": "markdown",
   "id": "c26a0c94-32ec-4d40-95d2-96ca3751dd77",
   "metadata": {},
   "source": [
    "#### Identifying meaningful n-grams \n",
    "\n",
    "**Workflow**:\n",
    "\n",
    "1. N-grams can be considered meaningful if they occur above chance.\n",
    "2. To this end, the occurrence of trigrams will be modelled with a negative binomial distribution"
   ]
  },
  {
   "cell_type": "code",
   "execution_count": 26,
   "id": "78fbebf7-4e2f-4a8e-861b-f387ca26aba1",
   "metadata": {},
   "outputs": [],
   "source": [
    "trigram_nounbydoc = trigram_to_nounbydoc(data)\n",
    "#trigram_nounbydoc"
   ]
  },
  {
   "cell_type": "code",
   "execution_count": 27,
   "id": "513ab3a0-d2ef-4806-bc68-3af12cc21a4d",
   "metadata": {},
   "outputs": [],
   "source": [
    "trigram_nounbydoc.to_csv(\"RTMR_Output/trigram_nounbydoc.csv\", index=False)"
   ]
  },
  {
   "cell_type": "code",
   "execution_count": 28,
   "id": "f005acd9-f3f9-481e-98e6-717ac352cea2",
   "metadata": {},
   "outputs": [
    {
     "name": "stdout",
     "output_type": "stream",
     "text": [
      "R script ran successfully\n"
     ]
    }
   ],
   "source": [
    "os.chdir(\"Word_functions\")\n",
    "r_script_path = 'trigrams_pruning.R'\n",
    "result = subprocess.run(['Rscript', r_script_path], capture_output=True, text=True)\n",
    "os.chdir(\"..\")\n",
    "\n",
    "if result.returncode == 0:\n",
    "    print(\"R script ran successfully\")\n",
    "else:\n",
    "    print(\"Error in running R script\")\n",
    "    print(result.stderr)\n",
    "    raise Exception(\"an error occurred\")"
   ]
  },
  {
   "cell_type": "code",
   "execution_count": 29,
   "id": "b2967da7-6edb-4025-99f7-93404350d4cd",
   "metadata": {},
   "outputs": [],
   "source": [
    "meaningful_trigrams = list(pd.read_csv(\"RTMR_Output/trigrams_pruned.csv\").Word)"
   ]
  },
  {
   "cell_type": "code",
   "execution_count": 30,
   "id": "d4262d02-3392-4f0a-9559-f5d45340fbb1",
   "metadata": {},
   "outputs": [],
   "source": [
    "data[[\"trigrams\",\"residual_ngrams\"]] = data.ngram.apply(lambda x: pd.Series(relevant_trigrams(x, meaningful_trigrams)))"
   ]
  },
  {
   "cell_type": "code",
   "execution_count": 31,
   "id": "7e49cbf0-3a06-4486-a39d-1bd933c36aae",
   "metadata": {},
   "outputs": [
    {
     "data": {
      "text/html": [
       "<div>\n",
       "<style scoped>\n",
       "    .dataframe tbody tr th:only-of-type {\n",
       "        vertical-align: middle;\n",
       "    }\n",
       "\n",
       "    .dataframe tbody tr th {\n",
       "        vertical-align: top;\n",
       "    }\n",
       "\n",
       "    .dataframe thead th {\n",
       "        text-align: right;\n",
       "    }\n",
       "</style>\n",
       "<table border=\"1\" class=\"dataframe\">\n",
       "  <thead>\n",
       "    <tr style=\"text-align: right;\">\n",
       "      <th></th>\n",
       "      <th>record_id</th>\n",
       "      <th>abstract</th>\n",
       "      <th>ngram</th>\n",
       "      <th>trigrams</th>\n",
       "      <th>residual_ngrams</th>\n",
       "    </tr>\n",
       "  </thead>\n",
       "  <tbody>\n",
       "    <tr>\n",
       "      <th>0</th>\n",
       "      <td>50129</td>\n",
       "      <td>[relationship, passion, ideology, violent, act...</td>\n",
       "      <td>[[relationship passion ideology, relationship ...</td>\n",
       "      <td>[collective loss significance, obsessive harmo...</td>\n",
       "      <td>[relationship passion, passion ideology, ideol...</td>\n",
       "    </tr>\n",
       "    <tr>\n",
       "      <th>1</th>\n",
       "      <td>2624</td>\n",
       "      <td>[religion, main, extremist, violence, suicide,...</td>\n",
       "      <td>[[religion main extremist, religion main], [ma...</td>\n",
       "      <td>[support extremist violence]</td>\n",
       "      <td>[religion main, main extremist, extremist viol...</td>\n",
       "    </tr>\n",
       "    <tr>\n",
       "      <th>2</th>\n",
       "      <td>35510</td>\n",
       "      <td>[capable, andor, act, political, violence, att...</td>\n",
       "      <td>[[capable andor act, capable andor], [andor ac...</td>\n",
       "      <td>[radicalization political violence, act politi...</td>\n",
       "      <td>[capable andor, andor act, nan, violence attac...</td>\n",
       "    </tr>\n",
       "    <tr>\n",
       "      <th>3</th>\n",
       "      <td>43427</td>\n",
       "      <td>[dutch, muslim, youth, radicalization, main, p...</td>\n",
       "      <td>[[dutch muslim youth, dutch muslim], [muslim y...</td>\n",
       "      <td>[]</td>\n",
       "      <td>[dutch muslim, muslim youth, youth radicalizat...</td>\n",
       "    </tr>\n",
       "    <tr>\n",
       "      <th>4</th>\n",
       "      <td>986</td>\n",
       "      <td>[prominence, understand, extent, identity, ext...</td>\n",
       "      <td>[[prominence understand extent, prominence und...</td>\n",
       "      <td>[]</td>\n",
       "      <td>[prominence understand, understand extent, ext...</td>\n",
       "    </tr>\n",
       "  </tbody>\n",
       "</table>\n",
       "</div>"
      ],
      "text/plain": [
       "   record_id                                           abstract  \\\n",
       "0      50129  [relationship, passion, ideology, violent, act...   \n",
       "1       2624  [religion, main, extremist, violence, suicide,...   \n",
       "2      35510  [capable, andor, act, political, violence, att...   \n",
       "3      43427  [dutch, muslim, youth, radicalization, main, p...   \n",
       "4        986  [prominence, understand, extent, identity, ext...   \n",
       "\n",
       "                                               ngram  \\\n",
       "0  [[relationship passion ideology, relationship ...   \n",
       "1  [[religion main extremist, religion main], [ma...   \n",
       "2  [[capable andor act, capable andor], [andor ac...   \n",
       "3  [[dutch muslim youth, dutch muslim], [muslim y...   \n",
       "4  [[prominence understand extent, prominence und...   \n",
       "\n",
       "                                            trigrams  \\\n",
       "0  [collective loss significance, obsessive harmo...   \n",
       "1                       [support extremist violence]   \n",
       "2  [radicalization political violence, act politi...   \n",
       "3                                                 []   \n",
       "4                                                 []   \n",
       "\n",
       "                                     residual_ngrams  \n",
       "0  [relationship passion, passion ideology, ideol...  \n",
       "1  [religion main, main extremist, extremist viol...  \n",
       "2  [capable andor, andor act, nan, violence attac...  \n",
       "3  [dutch muslim, muslim youth, youth radicalizat...  \n",
       "4  [prominence understand, understand extent, ext...  "
      ]
     },
     "execution_count": 31,
     "metadata": {},
     "output_type": "execute_result"
    }
   ],
   "source": [
    "data.head()"
   ]
  },
  {
   "cell_type": "code",
   "execution_count": null,
   "id": "83d6ccf7-b2fb-4a1d-a492-e0e272574500",
   "metadata": {},
   "outputs": [],
   "source": []
  },
  {
   "cell_type": "code",
   "execution_count": null,
   "id": "0348c159-957d-4cb4-993e-ce95738c8033",
   "metadata": {},
   "outputs": [],
   "source": []
  },
  {
   "cell_type": "markdown",
   "id": "bc1ebdb2-1911-4db2-aea7-2e8504f45c2a",
   "metadata": {},
   "source": [
    "**Next step: selecting meaningful 2-grams**"
   ]
  },
  {
   "cell_type": "code",
   "execution_count": 32,
   "id": "82359ed1-9ef7-4399-94a1-32dc9c3115a4",
   "metadata": {},
   "outputs": [],
   "source": [
    "bigrams_nounbydoc = bigram_to_nounbydoc(data)\n",
    "#bigrams_nounbydoc"
   ]
  },
  {
   "cell_type": "code",
   "execution_count": 33,
   "id": "bb430585-f460-4665-ba40-cdac6815bb96",
   "metadata": {},
   "outputs": [],
   "source": [
    "bigrams_nounbydoc.to_csv(\"RTMR_Output/bigrams_nounbydoc.csv\",index=False)"
   ]
  },
  {
   "cell_type": "code",
   "execution_count": null,
   "id": "2b0c6a08-4bbe-4298-83aa-298e82b5c02f",
   "metadata": {},
   "outputs": [],
   "source": []
  },
  {
   "cell_type": "code",
   "execution_count": 34,
   "id": "81839e76-16c2-489a-92cb-1902dbbc3981",
   "metadata": {},
   "outputs": [
    {
     "name": "stdout",
     "output_type": "stream",
     "text": [
      "R script ran successfully\n"
     ]
    }
   ],
   "source": [
    "os.chdir(\"Word_functions\")\n",
    "r_script_path = 'bigrams_pruning.R'\n",
    "result = subprocess.run(['Rscript', r_script_path], capture_output=True, text=True)\n",
    "os.chdir(\"..\")\n",
    "\n",
    "if result.returncode == 0:\n",
    "    print(\"R script ran successfully\")\n",
    "else:\n",
    "    print(\"Error in running R script\")\n",
    "    print(result.stderr)\n",
    "    raise Exception(\"an error occurred\")"
   ]
  },
  {
   "cell_type": "code",
   "execution_count": 35,
   "id": "6199745a-ff0b-4fa6-8d50-fda6764b5eda",
   "metadata": {},
   "outputs": [],
   "source": [
    "meaningful_bigrams = list(pd.read_csv(\"RTMR_Output/bigrams_pruned.csv\").Word)"
   ]
  },
  {
   "cell_type": "code",
   "execution_count": 36,
   "id": "1d6a3e7d-49d4-418b-97bf-c25444ea8ca8",
   "metadata": {},
   "outputs": [],
   "source": [
    "data[\"bigrams\"] = data.residual_ngrams.apply(lambda x: list(set([element for element in x if element in meaningful_bigrams])))"
   ]
  },
  {
   "cell_type": "code",
   "execution_count": null,
   "id": "5197578c-73bb-411a-9dab-c46efcd0376a",
   "metadata": {},
   "outputs": [],
   "source": []
  },
  {
   "cell_type": "code",
   "execution_count": null,
   "id": "209c981b-6032-4d8d-9225-e5ff1d92fed2",
   "metadata": {},
   "outputs": [],
   "source": []
  },
  {
   "cell_type": "markdown",
   "id": "f338a628-6faf-4085-ac24-83144194eb62",
   "metadata": {},
   "source": [
    "**Combining meaningful trigrams, bigrams, and unigrams**"
   ]
  },
  {
   "cell_type": "code",
   "execution_count": 37,
   "id": "f7d5856a-dbee-41ef-bfa7-99f58567d048",
   "metadata": {},
   "outputs": [],
   "source": [
    "select_unigrams(data)"
   ]
  },
  {
   "cell_type": "code",
   "execution_count": 38,
   "id": "e13cd98c-1ed3-4e21-b8c5-8287eec6dff4",
   "metadata": {},
   "outputs": [],
   "source": [
    "#data.drop(\"residual_ngrams\",axis=1,inplace=True)\n",
    "data['keywords'] = data.apply(lambda row: list(set(row['trigrams'] + row['bigrams'] + row['resid_onegrams'])), axis=1)\n",
    "#data['keywords'] = data.apply(lambda row: list(set(row['trigrams'] + row['bigrams'])), axis=1)\n",
    "#data.head()"
   ]
  },
  {
   "cell_type": "code",
   "execution_count": null,
   "id": "21328c3d-3efe-4a86-b552-41d801160c7c",
   "metadata": {},
   "outputs": [],
   "source": []
  },
  {
   "cell_type": "markdown",
   "id": "8d83fff6-7063-49ef-a673-cc7c38ebf1d1",
   "metadata": {},
   "source": [
    "### 4. Classification and Replacement"
   ]
  },
  {
   "cell_type": "code",
   "execution_count": 39,
   "id": "3ffae6fa-003a-4a71-bb37-758398a01cbb",
   "metadata": {},
   "outputs": [],
   "source": [
    "data.to_json('RTMR_Output/data_ready_study2.json', orient='records', lines=True)\n",
    "#data = pd.read_json('RTMR_Output/data_ready_study2.json', orient='records', lines=True)"
   ]
  },
  {
   "cell_type": "code",
   "execution_count": 40,
   "id": "e84fd3f8-2ac2-416b-88c0-0b6e49ec104b",
   "metadata": {},
   "outputs": [],
   "source": [
    "from TMSR_dictionary import word_dict\n",
    "from Word_functions.word_functions_py import classification, extend_keywords"
   ]
  },
  {
   "cell_type": "code",
   "execution_count": null,
   "id": "3b10e2e0-37bc-4553-9253-b49f29eecb12",
   "metadata": {},
   "outputs": [],
   "source": []
  },
  {
   "cell_type": "markdown",
   "id": "57d22a33-ecba-45c8-a450-0809b2e62a9b",
   "metadata": {},
   "source": [
    "========================================================================================================"
   ]
  },
  {
   "cell_type": "code",
   "execution_count": 41,
   "id": "fb5cb437-8238-4b59-8da5-153dfb0b826c",
   "metadata": {},
   "outputs": [
    {
     "data": {
      "text/plain": [
       "154593"
      ]
     },
     "execution_count": 41,
     "metadata": {},
     "output_type": "execute_result"
    }
   ],
   "source": [
    "keywords_list = sum(data.keywords, [])\n",
    "len(keywords_list)"
   ]
  },
  {
   "cell_type": "code",
   "execution_count": 42,
   "id": "05626b5d-37bf-44c1-97a6-eb8f8a067667",
   "metadata": {},
   "outputs": [],
   "source": [
    "count_dict, uniques, terms_in_cat_dict = classification(keywords_list,word_dict)"
   ]
  },
  {
   "cell_type": "code",
   "execution_count": 43,
   "id": "933d8f53-e074-4807-8392-6accec420593",
   "metadata": {},
   "outputs": [],
   "source": [
    "#print(f\"{len(uniques)} not classified keywords, with {len(set(uniques))} unique terms.\")"
   ]
  },
  {
   "cell_type": "markdown",
   "id": "8f54e773-2616-442b-9870-af7f8adc543e",
   "metadata": {},
   "source": [
    "**Arnis playground 2.0**"
   ]
  },
  {
   "cell_type": "code",
   "execution_count": 44,
   "id": "980487f5-b78a-4858-9b34-163c9d34eb0d",
   "metadata": {},
   "outputs": [
    {
     "name": "stdout",
     "output_type": "stream",
     "text": [
      "Counter({'rhetoric': 91, 'language': 84, 'linguistic': 41, 'speech': 41, 'rhetorical': 18, 'verbal': 14, 'english language': 7, 'extremist language': 7, 'populist rhetoric': 7, 'violent rhetoric': 6, 'use language': 5, 'linguistic fractionalization': 5, 'political rhetoric': 5, 'rhetoric violence': 4, 'rhetoric radical': 4, 'religious rhetoric': 2, 'multilingual': 2, 'lingual': 2, 'linguistical': 1, 'psycholinguistic': 1, 'multilingualism': 1, 'corpuslinguistic': 1})\n"
     ]
    }
   ],
   "source": [
    "print(terms_in_cat_dict[\"language\"])"
   ]
  },
  {
   "cell_type": "code",
   "execution_count": 45,
   "id": "7279f452-3a23-4953-beda-2263b10bf4e5",
   "metadata": {
    "scrolled": true
   },
   "outputs": [],
   "source": [
    "from collections import Counter\n",
    " \n",
    "#frequency = Counter(uniques)\n",
    "#print(frequency)"
   ]
  },
  {
   "cell_type": "markdown",
   "id": "6f368946-9892-493f-a431-b52ccd9ad4c7",
   "metadata": {},
   "source": [
    "======================================================================================================================================"
   ]
  },
  {
   "cell_type": "code",
   "execution_count": null,
   "id": "7f5f1baa-4e5c-47c6-b3fc-195b2f14ac10",
   "metadata": {},
   "outputs": [],
   "source": []
  },
  {
   "cell_type": "code",
   "execution_count": null,
   "id": "ce94b0ab-c20b-46d9-86dd-ca676dfb420d",
   "metadata": {
    "scrolled": true
   },
   "outputs": [],
   "source": [
    "clean_data = data.copy(deep = True)\n",
    "clean_data[\"cat_keywords\"] = clean_data.keywords.apply(lambda x: extend_keywords(x,word_dict))"
   ]
  },
  {
   "cell_type": "code",
   "execution_count": null,
   "id": "d9798029-484f-4747-9d3e-f967e31b4131",
   "metadata": {},
   "outputs": [],
   "source": []
  },
  {
   "cell_type": "markdown",
   "id": "152b3880-331b-4cd8-bea6-2fc2237ab6ad",
   "metadata": {},
   "source": [
    "**keep categories, 2-3grams, discard single words**"
   ]
  },
  {
   "cell_type": "code",
   "execution_count": null,
   "id": "669ef078-6e30-4ca8-85f1-9e07c14cb1f6",
   "metadata": {},
   "outputs": [],
   "source": [
    "clean_data[\"cat_keywords2\"] = clean_data.cat_keywords.apply(lambda x: [token for token in x if token in list(word_dict.keys()) or \" \" in token])"
   ]
  },
  {
   "cell_type": "code",
   "execution_count": null,
   "id": "0833dda8-81fd-4eb1-896a-b6be1a6633e8",
   "metadata": {},
   "outputs": [],
   "source": []
  },
  {
   "cell_type": "code",
   "execution_count": null,
   "id": "3a49a1ab-6fb0-4ef4-96ac-98c841eb04a0",
   "metadata": {},
   "outputs": [],
   "source": [
    "nounbydoc = to_nounbydoc(clean_data, \"cat_keywords2\")\n",
    "nounbydoc.to_csv(r\"RTMR_Output/nounbydoc_study2.csv\", index = False)"
   ]
  },
  {
   "cell_type": "code",
   "execution_count": null,
   "id": "30ff6a23-6430-4625-aa7e-9e6fef912ca4",
   "metadata": {},
   "outputs": [],
   "source": [
    "clean_data.to_json(\"RTMR_Output/clean_data_study2.json\", orient='records', lines=True)\n",
    "#clean_data = pd.read_json(\"RTMR_Output/clean_data_study2.json\", orient='records', lines=True)"
   ]
  },
  {
   "cell_type": "code",
   "execution_count": null,
   "id": "96dcabe0-ac1c-419b-b3e5-5dfdcb741f2e",
   "metadata": {},
   "outputs": [],
   "source": [
    "print(f\"Total number of keywords: {len(nounbydoc.term)}\")\n",
    "print(f\"Number of unique keywords: {len(set(nounbydoc.term))}\")\n",
    "\n",
    "frequency = Counter(nounbydoc.term)\n",
    "one_hit_wonders = [term for term, n in frequency.items() if n == 1]\n",
    "print(\"Number of terms occurring only once: \", len(one_hit_wonders))"
   ]
  },
  {
   "cell_type": "code",
   "execution_count": null,
   "id": "7b4b69fe-3bbe-4141-88ff-e7a05c4edb4e",
   "metadata": {},
   "outputs": [],
   "source": []
  },
  {
   "cell_type": "markdown",
   "id": "5db1e402-3e61-4bf7-b9ef-a706f916ae47",
   "metadata": {},
   "source": [
    "===========================================================================================================================\n",
    "\n",
    "### Run R script for:\n",
    "* Negative Binomial (Pruning)\n",
    "* Word Frequency\n",
    "* Topic Modelling\n",
    "* Term co-occurrences\n",
    "\n",
    "##### using van Lissa's R code\n",
    "  \n",
    "==========================================================================================================================="
   ]
  },
  {
   "cell_type": "code",
   "execution_count": null,
   "id": "d2d899cf-bc3e-4180-9e1f-865ba926ef2d",
   "metadata": {},
   "outputs": [],
   "source": [
    "os.chdir(\"Word_functions\")\n",
    "r_script_path = 'Keywords_RTMR_study2.R'\n",
    "result = subprocess.run(['Rscript', r_script_path], capture_output=True, text=True)\n",
    "os.chdir(\"..\")\n",
    "\n",
    "if result.returncode == 0:\n",
    "    print(\"R script ran successfully\")\n",
    "else:\n",
    "    print(\"Error in running R script\")\n",
    "    print(result.stderr)\n",
    "    raise Exception(\"an error occurred\")"
   ]
  },
  {
   "cell_type": "code",
   "execution_count": null,
   "id": "35a09954-4098-4a34-b3e6-998f8dbbf00a",
   "metadata": {},
   "outputs": [],
   "source": []
  },
  {
   "cell_type": "markdown",
   "id": "9e686cd0-d3c8-47bc-8d6b-d39ed82acf15",
   "metadata": {},
   "source": [
    "## I. Word Frequency"
   ]
  },
  {
   "cell_type": "code",
   "execution_count": null,
   "id": "c0aba2b2-30ee-4015-965a-adf80eccd1dd",
   "metadata": {},
   "outputs": [],
   "source": [
    "freq_df = pd.read_csv(r\"RTMR_Output/Keywords_freq_study2.csv\").sort_values(by= \"Frequency\", ascending=False).reset_index()\n",
    "len(freq_df)"
   ]
  },
  {
   "cell_type": "code",
   "execution_count": null,
   "id": "5c47764f-e1c1-4112-a936-add0390afd4d",
   "metadata": {},
   "outputs": [],
   "source": [
    "plt_df = freq_df[freq_df.Word != \"radicalism\"].sort_values(by= \"Frequency\", ascending=True)\n",
    "#plt_df = freq_df\n",
    "highlight_words = ['far right', \"far left\", \"islamist\", \"lone actor\", \"foreign fighter\"]\n",
    "colors = ['turquoise' if word not in highlight_words else 'pink' for word in plt_df['Word']]\n",
    "\n",
    "plt.figure(figsize=(10,14))\n",
    "plt.barh(plt_df['Word'], plt_df['Frequency'], color=colors, height = 0.5)\n",
    "\n",
    "plt.xlabel('Frequency Analysis 2', fontsize=12)  \n",
    "\n",
    "plt.tick_params(axis='x', labelsize=10)\n",
    "plt.tick_params(axis='y', labelsize=8)\n",
    "\n",
    "plt.savefig('RTMR_Output/abstractsfull_frequency_of_words.png', bbox_inches='tight', dpi=600)\n"
   ]
  },
  {
   "cell_type": "markdown",
   "id": "dfafe3b1-ea8c-42f3-8ff2-d9f42cafe9b3",
   "metadata": {},
   "source": [
    "======================================================================================================"
   ]
  },
  {
   "cell_type": "markdown",
   "id": "27af683e-2575-4a45-9f17-04f303564493",
   "metadata": {},
   "source": [
    "**for poster**"
   ]
  },
  {
   "cell_type": "code",
   "execution_count": null,
   "id": "d3f1417e-290a-44d8-8122-4703af296426",
   "metadata": {},
   "outputs": [],
   "source": [
    "# Filter out the word \"radicalism\" and sort by frequency\n",
    "plt_df = freq_df[freq_df.Word != \"radicalism\"].sort_values(by=\"Frequency\", ascending=False).head(50)\n",
    "\n",
    "highlight_words = []  # You can specify any words you want to highlight\n",
    "colors = ['skyblue' if word not in highlight_words else 'pink' for word in plt_df['Word']]\n",
    "\n",
    "plt.figure(figsize=(18, 4))\n",
    "plt.bar(plt_df['Word'], plt_df['Frequency'], color=colors)\n",
    "\n",
    "plt.ylabel('Frequency', fontsize=12)\n",
    "plt.xlabel('Phenomena', fontsize=12)\n",
    "plt.title('Frequency of Phenomena', fontsize=14)\n",
    "\n",
    "plt.xticks(rotation=45, ha='right', fontsize=10)\n",
    "plt.yticks(fontsize=10)\n",
    "\n",
    "# Remove the black frame\n",
    "ax = plt.gca()\n",
    "ax.spines['top'].set_visible(False)\n",
    "ax.spines['right'].set_visible(False)\n",
    "ax.spines['left'].set_visible(False)\n",
    "ax.spines['bottom'].set_visible(True)\n",
    "\n",
    "# Add horizontal grid lines\n",
    "ax.yaxis.grid(True, linestyle='-', linewidth=0.7, color='gray')\n",
    "ax.set_axisbelow(True)\n",
    "\n",
    "plt.savefig('RTMR_Output/abstracts_frequency_of_words.png', bbox_inches='tight', dpi=600)\n",
    "plt.show()\n",
    "\n",
    "\n"
   ]
  },
  {
   "cell_type": "markdown",
   "id": "496f0764-a1b9-4c1a-b7a3-ae5df33579bc",
   "metadata": {},
   "source": [
    "## Frequency with categories"
   ]
  },
  {
   "cell_type": "code",
   "execution_count": null,
   "id": "548e2bd1-d6d1-42ed-aa8f-b0c5b9c17d81",
   "metadata": {},
   "outputs": [],
   "source": [
    "# Define the categorization\n",
    "micro_terms = [\"ideology\", \"violence\", \"religiosity\", \"adolescence\", \"identity\", \"cognition\", \n",
    "               \"sex\", \"employment\", \"deprivation\", \"emotion\", \"activism\", \"criminality\", \n",
    "               \"education\", \"nationalism\", \"populism\", \"status\", \"dogmatism\", \"authoritarianism\", \n",
    "               \"aggression\", \"morality\", \"mental health\", \"conservatism\", \"minority\", \n",
    "               \"sacred values\", \"age\", \"hate\", \"rationality\", \"prejudice\", \"uncertainty\", \n",
    "               \"trust\", \"personality\", \"liberalism\", \"intolerance\", \"fundamentalism\", \"fear\", \n",
    "               \"honor\", \"poverty\", \"white race\", \"superiority\", \"islamophobia\", \n",
    "               \"significance quest\", \"social movements\", \"masculinity\", \"conspiracy\", \n",
    "               \"misogyny\", \"racism\", \"martyrdom\", \"political engagement\", \"ptsd\", \"resilience\", \n",
    "               \"voting behavior\", \"misogyny\"]\n",
    "\n",
    "meso_terms = [\"social network\", \"threat\", \"diversity\", \"social exclusion\", \"norms\", \"internet\", \n",
    "              \"mobilization\", \"discourse\", \"integration\", \"family\", \"competition\", \"language\", \n",
    "              \"polarization\", \"discrimination\", \"group process\", \"recruitment\", \"elites\", \n",
    "              \"social media\", \"social cohesion\", \"social change\"]\n",
    "\n",
    "macro_terms = [\"conflict\", \"state\", \"economy\", \"society\", \"politics\", \"justice\", \"culture\", \n",
    "               \"security\", \"region\", \"elections\", \"policy\", \"democracy\", \"international\", \n",
    "               \"crisis\", \"institutions\", \"peace\", \"propaganda\", \"military\", \"globalization\", \n",
    "               \"immigration\"]\n",
    "\n",
    "theory_terms = [\"ideology\", \"violence\", \"social network\", \"conflict\", \"religiosity\", \"state\", \n",
    "                \"society\", \"identity\", \"politics\", \"cognition\", \"justice\", \"norms\", \"culture\", \n",
    "                \"threat\", \"superiority\", \"employment\", \"deprivation\", \"emotion\", \"activism\", \n",
    "                \"policy\", \"nationalism\", \"social exclusion\", \"status\", \"dogmatism\", \"mobilization\", \n",
    "                \"authoritarianism\", \"integration\", \"aggression\", \"morality\", \"competition\", \n",
    "                \"crisis\", \"sacred values\", \"discrimination\", \"group process\", \"rationality\", \n",
    "                \"prejudice\", \"uncertainty\", \"intolerance\", \"military\", \"fundamentalism\", \n",
    "                \"honor\", \"poverty\", \"significance quest\", \"social movements\", \"globalization\", \n",
    "                \"martyrdom\", \"political engagement\", \"resilience\"]\n",
    "\n",
    "radicalism_terms = ['far right', \"far left\", \"islamist\", \"lone actor\", \"foreign fighter\", \"male supremacist\"]\n",
    "\n",
    "not_in_co_occ_map = {'intolerance', 'diversity', 'society', 'social movements', 'minority', \n",
    "                     'martyrdom', 'social change', 'social cohesion', 'political engagement', \n",
    "                     'resilience', 'discourse', 'competition', 'globalization', 'poverty', 'trust', \n",
    "                     'language', 'personality', 'state', 'white race', 'family', 'racism', 'peace', \n",
    "                     'status'}\n",
    "\n",
    "# Generate color mapping for shapes\n",
    "color_mapping = {\n",
    "    'micro': 'grey',  # Grey\n",
    "    'meso': '#6c9808',   # Green\n",
    "    'macro': '#d89b40',  # Orange\n",
    "    'radicalism': '#b50012'  # Red\n",
    "}\n",
    "\n",
    "# Define shape mapping for categories\n",
    "shape_dict = {word: ('o', color_mapping['micro']) for word in micro_terms}  # Circle for micro\n",
    "shape_dict.update({word: ('s', color_mapping['meso']) for word in meso_terms})  # Square for meso\n",
    "shape_dict.update({word: ('v', color_mapping['macro']) for word in macro_terms})  # Triangle for macro\n",
    "shape_dict.update({word: ('D', color_mapping['radicalism']) for word in radicalism_terms})  # Diamond for radicalism\n",
    "\n",
    "plt_df = freq_df[freq_df.Word != \"radicalism\"].sort_values(by= \"Frequency\", ascending=True)\n",
    "\n",
    "plt.figure(figsize=(10, 14))\n",
    "\n",
    "# Draw bars in the background\n",
    "for i, word in enumerate(plt_df['Word']):\n",
    "    if word in not_in_co_occ_map:\n",
    "        plt.barh(word, plt_df['Frequency'].iloc[i], color='#D3D3D3', height=0.5, hatch='..', edgecolor='grey', zorder=1)\n",
    "    else:\n",
    "        plt.barh(word, plt_df['Frequency'].iloc[i], color='#D3D3D3', height=0.1, edgecolor='grey', linewidth=2, zorder=1)\n",
    "\n",
    "# Add filled shapes for categories in the foreground\n",
    "shape_offset = 0.2\n",
    "for i, word in enumerate(plt_df['Word']):\n",
    "    shape, color = shape_dict.get(word, ('o', 'black'))\n",
    "    if word not in theory_terms:\n",
    "        plt.scatter(plt_df['Frequency'].iloc[i] + shape_offset, i, color=color, edgecolor=color, linewidth=1, s=50, marker=shape, facecolors=color, zorder=2)\n",
    "\n",
    "# Add hollow shapes for categories in the foreground with white filling\n",
    "for i, word in enumerate(plt_df['Word']):\n",
    "    shape, color = shape_dict.get(word, ('o', 'black'))\n",
    "    if word in theory_terms:\n",
    "        plt.scatter(plt_df['Frequency'].iloc[i] + shape_offset, i, color='white', edgecolor=color, linewidth=1, s=50, marker=shape, facecolors='white', zorder=3)\n",
    "\n",
    "plt.xlabel('Frequency Analysis 2', fontsize=12)  \n",
    "\n",
    "plt.tick_params(axis='x', labelsize=10)\n",
    "plt.tick_params(axis='y', labelsize=8)\n",
    "plt.savefig('RTMR_Output/abstractsfull_frequency_of_words.png', bbox_inches='tight', dpi=600)\n"
   ]
  },
  {
   "cell_type": "code",
   "execution_count": null,
   "id": "abcd8f86-6657-4293-82b0-2c5a5f81afc1",
   "metadata": {},
   "outputs": [],
   "source": [
    "# Define the categorization\n",
    "micro_terms = [\"ideology\", \"violence\", \"religiosity\", \"adolescence\", \"identity\", \"cognition\", \n",
    "               \"sex\", \"employment\", \"deprivation\", \"emotion\", \"activism\", \"criminality\", \n",
    "               \"education\", \"nationalism\", \"populism\", \"status\", \"dogmatism\", \"authoritarianism\", \n",
    "               \"aggression\", \"morality\", \"mental health\", \"conservatism\", \"minority\", \n",
    "               \"sacred values\", \"age\", \"hate\", \"rationality\", \"prejudice\", \"uncertainty\", \n",
    "               \"trust\", \"personality\", \"liberalism\", \"intolerance\", \"fundamentalism\", \"fear\", \n",
    "               \"honor\", \"poverty\", \"white race\", \"superiority\", \"islamophobia\", \n",
    "               \"significance quest\", \"social movements\", \"masculinity\", \"conspiracy\", \n",
    "               \"misogyny\", \"racism\", \"martyrdom\", \"political engagement\", \"ptsd\", \"resilience\", \n",
    "               \"voting behavior\", \"determination\"]\n",
    "\n",
    "meso_terms = [\"social network\", \"threat\", \"diversity\", \"social exclusion\", \"norms\", \"internet\", \n",
    "              \"mobilization\", \"discourse\", \"integration\", \"family\", \"competition\", \"language\", \n",
    "              \"polarization\", \"discrimination\", \"group process\", \"recruitment\", \"elites\", \n",
    "              \"social media\", \"social cohesion\", \"social change\"]\n",
    "\n",
    "macro_terms = [\"conflict\", \"state\", \"economy\", \"society\", \"politics\", \"justice\", \"culture\", \n",
    "               \"security\", \"region\", \"elections\", \"policy\", \"democracy\", \"international\", \n",
    "               \"crisis\", \"institutions\", \"peace\", \"propaganda\", \"military\", \"globalization\", \n",
    "               \"immigration\"]\n",
    "\n",
    "theory_terms = [\"ideology\", \"violence\", \"social network\", \"conflict\", \"religiosity\", \"state\", \n",
    "                \"society\", \"identity\", \"politics\", \"cognition\", \"justice\", \"norms\", \"culture\", \n",
    "                \"threat\", \"superiority\", \"employment\", \"deprivation\", \"emotion\", \"activism\", \n",
    "                \"policy\", \"nationalism\", \"social exclusion\", \"status\", \"dogmatism\", \"mobilization\", \n",
    "                \"authoritarianism\", \"integration\", \"aggression\", \"morality\", \"competition\", \n",
    "                \"crisis\", \"sacred values\", \"discrimination\", \"group process\", \"rationality\", \n",
    "                \"prejudice\", \"uncertainty\", \"intolerance\", \"military\", \"fundamentalism\", \n",
    "                \"honor\", \"poverty\", \"significance quest\", \"social movements\", \"globalization\", \n",
    "                \"martyrdom\", \"political engagement\", \"resilience\"]\n",
    "\n",
    "radicalism_terms = ['far right', \"far left\", \"islamist\", \"lone actor\", \"foreign fighter\", \"male supremacist\"]\n",
    "\n",
    "not_in_co_occ_map = {'intolerance', 'diversity', 'society', 'social movements', 'minority', \n",
    "                     'martyrdom', 'social change', 'social cohesion', 'political engagement', \n",
    "                     'resilience', 'discourse', 'competition', 'globalization', 'poverty', 'trust', \n",
    "                     'language', 'personality', 'state', 'white race', 'family', 'racism', 'peace', \n",
    "                     'status'}\n",
    "\n",
    "# Generate color mapping for shapes\n",
    "color_mapping = {\n",
    "    'micro': 'grey',  # Grey\n",
    "    'meso': '#6c9808',   # Green\n",
    "    'macro': '#d89b40',  # Orange\n",
    "    'radicalism': '#b50012'  # Red\n",
    "}\n",
    "\n",
    "# Define shape mapping for categories\n",
    "shape_dict = {word: ('o', color_mapping['micro']) for word in micro_terms}  # Circle for micro\n",
    "shape_dict.update({word: ('s', color_mapping['meso']) for word in meso_terms})  # Square for meso\n",
    "shape_dict.update({word: ('v', color_mapping['macro']) for word in macro_terms})  # Triangle for macro\n",
    "shape_dict.update({word: ('D', color_mapping['radicalism']) for word in radicalism_terms})  # Diamond for radicalism\n",
    "\n",
    "plt_df = freq_df[freq_df.Word != \"radicalism\"].sort_values(by= \"Frequency\", ascending=True)\n",
    "\n",
    "plt.figure(figsize=(6, 14))  # Adjusted figure size to make it more narrow\n",
    "\n",
    "# Draw bars in the background\n",
    "for i, word in enumerate(plt_df['Word']):\n",
    "    if word in not_in_co_occ_map:\n",
    "        plt.barh(word, plt_df['Frequency'].iloc[i], color='#D3D3D3', height=0.5, hatch='..', edgecolor='grey', zorder=1)\n",
    "    else:\n",
    "        plt.barh(word, plt_df['Frequency'].iloc[i], color='#D3D3D3', height=0.1, edgecolor='grey', linewidth=2, zorder=1)\n",
    "\n",
    "# Add filled shapes for categories in the foreground\n",
    "shape_offset = 0.2\n",
    "for i, word in enumerate(plt_df['Word']):\n",
    "    shape, color = shape_dict.get(word, ('o', 'black'))\n",
    "    if word not in theory_terms:\n",
    "        plt.scatter(plt_df['Frequency'].iloc[i] + shape_offset, i, color=color, edgecolor=color, linewidth=1, s=50, marker=shape, facecolors=color, zorder=2)\n",
    "\n",
    "# Add hollow shapes for categories in the foreground with white filling\n",
    "for i, word in enumerate(plt_df['Word']):\n",
    "    shape, color = shape_dict.get(word, ('o', 'black'))\n",
    "    if word in theory_terms:\n",
    "        plt.scatter(plt_df['Frequency'].iloc[i] + shape_offset, i, color='white', edgecolor=color, linewidth=1, s=50, marker=shape, facecolors='white', zorder=3)\n",
    "\n",
    "plt.xlabel('Frequency Analysis 2', fontsize=12)  \n",
    "\n",
    "plt.tick_params(axis='x', labelsize=10)\n",
    "plt.tick_params(axis='y', labelsize=8)\n",
    "\n",
    "# Create a legend\n",
    "import matplotlib.lines as mlines\n",
    "micro_legend = mlines.Line2D([], [], color=color_mapping['micro'], marker='o', linestyle='None', markersize=7, label='Micro')\n",
    "meso_legend = mlines.Line2D([], [], color=color_mapping['meso'], marker='s', linestyle='None', markersize=7, label='Meso')\n",
    "macro_legend = mlines.Line2D([], [], color=color_mapping['macro'], marker='v', linestyle='None', markersize=7, label='Macro')\n",
    "radicalism_legend = mlines.Line2D([], [], color=color_mapping['radicalism'], marker='D', linestyle='None', markersize=7, label='Radicalism')\n",
    "\n",
    "plt.legend(handles=[micro_legend, meso_legend, macro_legend, radicalism_legend], loc='lower right')\n",
    "\n",
    "plt.savefig('RTMR_Output/abstractsfull_frequency_of_words.png', bbox_inches='tight', dpi=600)\n"
   ]
  },
  {
   "cell_type": "markdown",
   "id": "c17f07be-72fa-4a79-9b63-4612fa577936",
   "metadata": {},
   "source": [
    "======================================================================================================"
   ]
  },
  {
   "cell_type": "markdown",
   "id": "7af52000-d80c-4f7b-bfcc-ce3d1a7468a7",
   "metadata": {},
   "source": [
    "## II. Co-occurrences"
   ]
  },
  {
   "cell_type": "code",
   "execution_count": null,
   "id": "fe0776c4-5f4a-4b81-895f-0d0488c77de2",
   "metadata": {},
   "outputs": [],
   "source": [
    "cooc_df_incl = pd.read_csv(r\"RTMR_Output/Keywords_cooc_inclrad_study2.csv\")\n",
    "cooc_df_excl = pd.read_csv(r\"RTMR_Output/Keywords_cooc_worad_study2.csv\")\n",
    "cooc_df_ado = pd.read_csv(r\"RTMR_Output/Keywords_cooc_adolescence_study2.csv\")\n",
    "cooc_df_islamist = pd.read_csv(r\"RTMR_Output/Keywords_cooc_islamist_study2.csv\")\n",
    "cooc_df_right = pd.read_csv(r\"RTMR_Output/Keywords_cooc_far-right_study2.csv\")\n",
    "cooc_df_left = pd.read_csv(r\"RTMR_Output/Keywords_cooc_far-left_study2.csv\")\n",
    "cooc_df_lone = pd.read_csv(r\"RTMR_Output/Keywords_cooc_lone-actor_study2.csv\")"
   ]
  },
  {
   "cell_type": "code",
   "execution_count": null,
   "id": "c3db9bf9-cbca-4eb6-b2e1-e77d0faaf1c0",
   "metadata": {},
   "outputs": [],
   "source": [
    "print(\"Edges: \", len(cooc_df_incl))\n",
    "print(\"Nodes: \", len(set(list(cooc_df_incl.term1) + list(cooc_df_incl.term2))))\n",
    "print(\"Min number of co-occurrences: \", cooc_df_incl.cooc.min())"
   ]
  },
  {
   "cell_type": "code",
   "execution_count": null,
   "id": "df91f83b-e565-4923-9673-c12d04b7b7e6",
   "metadata": {},
   "outputs": [],
   "source": []
  },
  {
   "cell_type": "markdown",
   "id": "deff32f8-edef-4871-beef-777723b0d991",
   "metadata": {},
   "source": [
    "### Network Visualisation"
   ]
  },
  {
   "cell_type": "code",
   "execution_count": null,
   "id": "600f4342-a71c-4f68-9c06-0f76d7c572f8",
   "metadata": {
    "scrolled": true
   },
   "outputs": [],
   "source": [
    "# Define terms for each category based on your categorization\n",
    "micro_terms = [\n",
    "    \"ideology\", \"violence\", \"religiosity\", \"adolescence\", \"identity\", \"cognition\", \n",
    "    \"sex\", \"employment\", \"deprivation\", \"emotion\", \"activism\", \n",
    "    \"criminality\", \"education\", \"nationalism\", \"populism\", \"status\", \"dogmatism\", \n",
    "    \"authoritarianism\", \"aggression\", \"morality\", \"mental health\", \"conservatism\", \n",
    "    \"minority\", \"sacred values\", \"age\", \"hate\", \"rationality\", \"prejudice\", \n",
    "    \"uncertainty\", \"trust\", \"personality\", \"liberalism\", \"intolerance\", \n",
    "    \"fundamentalism\", \"fear\", \"honor\", \"poverty\", \"white race\", \"superiority\",\n",
    "    \"islamophobia\", \"significance quest\", \"social movements\", \"masculinity\", \n",
    "    \"conspiracy\", \"misogyny\", \"racism\", \"martyrdom\", \"political engagement\", \n",
    "    \"ptsd\", \"resilience\", \"voting behavior\", \"determination\"\n",
    "]\n",
    "\n",
    "meso_terms = [\n",
    "    \"social network\", \"threat\", \"diversity\", \"social exclusion\", \"norms\", \"internet\",\n",
    "    \"mobilization\", \"discourse\", \"integration\", \"family\", \"competition\", \"language\",\n",
    "    \"polarization\", \"discrimination\", \"group process\", \"recruitment\", \n",
    "    \"elites\", \"social media\", \"social cohesion\", \"social change\"\n",
    "]\n",
    "\n",
    "macro_terms = [\n",
    "    \"conflict\", \"state\", \"economy\", \"society\", \"politics\", \"justice\", \n",
    "    \"culture\", \"security\", \"region\", \"elections\", \"policy\", \"democracy\", \n",
    "    \"international\", \"crisis\", \"institutions\", \"peace\", \"propaganda\", \n",
    "    \"military\", \"globalization\", \"immigration\"\n",
    "]\n",
    "\n",
    "theory_terms = [\n",
    "    \"ideology\", \"violence\", \"social network\", \"conflict\", \"religiosity\", \"state\", \n",
    "    \"society\", \"identity\", \"politics\", \"cognition\", \"justice\", \"norms\", \"culture\", \n",
    "    \"threat\", \"superiority\", \"employment\", \"deprivation\", \"emotion\", \"activism\", \n",
    "    \"policy\", \"nationalism\", \"social exclusion\", \"status\", \"dogmatism\", \"mobilization\", \n",
    "    \"authoritarianism\", \"integration\", \"aggression\", \"morality\", \"competition\", \n",
    "    \"crisis\", \"sacred values\", \"discrimination\", \"group process\", \"rationality\", \n",
    "    \"prejudice\", \"uncertainty\", \"intolerance\", \"military\", \"fundamentalism\", \n",
    "    \"honor\", \"poverty\", \"significance quest\", \"social movements\", \"globalization\", \n",
    "    \"martyrdom\", \"political engagement\", \"resilience\"\n",
    "]\n",
    "\n",
    "radicalism_nodes = [\"radicalism\", \"far right\", \"islamist\"]\n",
    "\n",
    "# Create the graph\n",
    "G = nx.Graph()\n",
    "\n",
    "# Add edges with the corresponding frequency as the weight\n",
    "for index, row in cooc_df_incl.iterrows():\n",
    "    G.add_edge(row['term1'], row['term2'], weight=row['cooc'])\n",
    "\n",
    "# Draw the graph\n",
    "plt.figure(figsize=(18, 10))\n",
    "\n",
    "# Use spring layout for better visualization\n",
    "pos = nx.spring_layout(G, seed=43, k=2, iterations=100, scale=2)  # positions for all nodes\n",
    "\n",
    "# Draw nodes with shape based on their category\n",
    "micro_nodes = [node for node in G.nodes() if node in micro_terms]\n",
    "meso_nodes = [node for node in G.nodes() if node in meso_terms]\n",
    "macro_nodes = [node for node in G.nodes() if node in macro_terms]\n",
    "\n",
    "# Updated color mapping for shapes\n",
    "color_mapping = {\n",
    "    'micro': 'grey',  # Grey\n",
    "    'meso': '#6c9808',   # Green\n",
    "    'macro': '#f0ad48',  # Orange\n",
    "    'radicalism': '#b50012'  # Red\n",
    "}\n",
    "\n",
    "# Draw micro nodes\n",
    "nx.draw_networkx_nodes(G, pos, nodelist=[node for node in micro_nodes if node not in theory_terms], node_size=200, node_color=color_mapping['micro'], node_shape='o', alpha=0.7, label='Micro Level')\n",
    "nx.draw_networkx_nodes(G, pos, nodelist=[node for node in micro_nodes if node in theory_terms], node_size=200, node_color='white', edgecolors=color_mapping['micro'], node_shape='o', linewidths=2.5, alpha=0.7, label='Micro Level')\n",
    "\n",
    "# Draw meso nodes\n",
    "nx.draw_networkx_nodes(G, pos, nodelist=[node for node in meso_nodes if node not in theory_terms], node_size=200, node_color=color_mapping['meso'], node_shape='s', alpha=0.7, label='Meso Level')\n",
    "nx.draw_networkx_nodes(G, pos, nodelist=[node for node in meso_nodes if node in theory_terms], node_size=200, node_color='white', edgecolors=color_mapping['meso'], node_shape='s', linewidths=2.5, alpha=0.7, label='Meso Level')\n",
    "\n",
    "# Draw macro nodes\n",
    "nx.draw_networkx_nodes(G, pos, nodelist=[node for node in macro_nodes if node not in theory_terms], node_size=200, node_color=color_mapping['macro'], node_shape='v', alpha=0.7, label='Macro Level')\n",
    "nx.draw_networkx_nodes(G, pos, nodelist=[node for node in macro_nodes if node in theory_terms], node_size=200, node_color='white', edgecolors=color_mapping['macro'], node_shape='v', linewidths=2.5, alpha=0.7, label='Macro Level')\n",
    "\n",
    "# Draw radicalism nodes\n",
    "nx.draw_networkx_nodes(G, pos, nodelist=[node for node in radicalism_nodes if node not in theory_terms], node_size=200, node_color=color_mapping['radicalism'], node_shape='D', alpha=0.7, label='Radicalism')\n",
    "nx.draw_networkx_nodes(G, pos, nodelist=[node for node in radicalism_nodes if node in theory_terms], node_size=200, node_color='white', edgecolors=color_mapping['radicalism'], node_shape='D', linewidths=2.5, alpha=0.7, label='Radicalism')\n",
    "\n",
    "# Draw edges with width and color proportional to the frequency\n",
    "weights = [G[u][v]['weight'] for u, v in G.edges]\n",
    "min_weight = min(weights)\n",
    "max_weight = max(weights)\n",
    "normalized_weights = [(weight - min_weight) / (max_weight - min_weight) for weight in weights]\n",
    "edge_widths = [1 + 15 * norm_weight for norm_weight in normalized_weights]  # Increase contrast in thickness\n",
    "\n",
    "# Set edge colors: grey if connected to radicalism, otherwise black\n",
    "edge_colors = ['grey' if 'radicalism' in (u, v) else '#5495a4' for u, v in G.edges]\n",
    "\n",
    "# Draw edges\n",
    "edges = nx.draw_networkx_edges(\n",
    "    G, pos,\n",
    "    edge_color=edge_colors,\n",
    "    width=edge_widths,\n",
    "    alpha=0.7\n",
    ")\n",
    "\n",
    "# Draw labels with increased font size\n",
    "nx.draw_networkx_labels(G, pos, font_size=14, font_family=\"sans-serif\")\n",
    "\n",
    "# Add legend\n",
    "legend_elements = [\n",
    "    plt.Line2D([0], [0], marker='o', color='w', markerfacecolor=color_mapping['micro'], markersize=15, label='Micro Level'),\n",
    "    plt.Line2D([0], [0], marker='s', color='w', markerfacecolor=color_mapping['meso'], markersize=15, label='Meso Level'),\n",
    "    plt.Line2D([0], [0], marker='v', color='w', markerfacecolor=color_mapping['macro'], markersize=15, label='Macro Level'),\n",
    "    plt.Line2D([0], [0], marker='D', color='w', markerfacecolor=color_mapping['radicalism'], markersize=15, label='Radicalism')\n",
    "]\n",
    "\n",
    "plt.legend(handles=legend_elements, loc='upper right', fontsize=15, markerscale=1, bbox_to_anchor=(1, -0.05))\n",
    "\n",
    "# Remove the frame\n",
    "ax = plt.gca()\n",
    "ax.spines['top'].set_visible(False)\n",
    "ax.spines['right'].set_visible(False)\n",
    "ax.spines['left'].set_visible(False)\n",
    "ax.spines['bottom'].set_visible(False)\n",
    "\n",
    "plt.savefig('RTMR_Output/abstracts_cooccurence_radicalism.png', bbox_inches='tight', dpi=600)\n",
    "plt.show()\n"
   ]
  },
  {
   "cell_type": "markdown",
   "id": "df6f0b12-17c9-467b-92e6-47c2704c43e5",
   "metadata": {},
   "source": [
    "#### b) Without \"radicalism\""
   ]
  },
  {
   "cell_type": "code",
   "execution_count": null,
   "id": "96533df3-f1b8-48be-af60-685ffcbe7a88",
   "metadata": {},
   "outputs": [],
   "source": [
    "# Create the graph\n",
    "G = nx.Graph()\n",
    "\n",
    "# Add edges with the corresponding frequency as the weight\n",
    "for index, row in cooc_df_excl.iterrows():\n",
    "    G.add_edge(row['term1'], row['term2'], weight=row['cooc'])\n",
    "\n",
    "# Draw the graph\n",
    "plt.figure(figsize=(18, 12))\n",
    "\n",
    "# Use spring layout for better visualization\n",
    "pos = nx.spring_layout(G, seed=43, k=2, iterations=100)  # positions for all nodes\n",
    "\n",
    "# Draw nodes with color\n",
    "#highlight_nodes = ['adolescence'] + list(G.neighbors(\"adolescence\"))\n",
    "colors = \"orange\" #['orange' if node not in highlight_nodes else 'darkviolet' for node in G.nodes()]\n",
    "nx.draw_networkx_nodes(G, pos, node_size=200, node_color=colors, alpha = 0.5)\n",
    "\n",
    "# Draw edges with width and color proportional to the frequency\n",
    "# Normalize frequencies to get a color gradient\n",
    "weights = [G[u][v]['weight'] for u, v in G.edges]\n",
    "min_weight = min(weights)\n",
    "max_weight = max(weights)\n",
    "normalized_weights = [(weight - min_weight) / (max_weight - min_weight) for weight in weights]\n",
    "\n",
    "#mean_weight = np.mean(weights)\n",
    "#std_weight = np.std(weights)\n",
    "#normalized_weights = [(weight - mean_weight) / std_weight for weight in weights]\n",
    "\n",
    "\n",
    "\n",
    "# Create a color map\n",
    "cmap = plt.cm.Oranges\n",
    "\n",
    "edges = nx.draw_networkx_edges(\n",
    "    G, pos, \n",
    "    edge_color= weights, #normalized_weights, \n",
    "    width= 2, #[2 + 4*weight for weight in normalized_weights],  # adjust the width for better visualization\n",
    "    edge_cmap=cmap\n",
    ")\n",
    "\n",
    "# Draw labels\n",
    "nx.draw_networkx_labels(G, pos, font_size=9, font_family=\"sans-serif\")\n",
    "\n",
    "plt.title('Co-occurrence Network Excluding the Keyword \"Radicalism\"')\n",
    "plt.colorbar(edges, label='Co-occurrence Frequency', shrink=0.5)\n",
    "#plt.axis('off')  # Turn off the axis\n",
    "plt.show()"
   ]
  },
  {
   "cell_type": "code",
   "execution_count": null,
   "id": "d5ade41f-849c-497f-a8e7-5504af42795c",
   "metadata": {},
   "outputs": [],
   "source": []
  },
  {
   "cell_type": "code",
   "execution_count": null,
   "id": "15309785-2cb3-4482-a4e0-01602bd7ce13",
   "metadata": {},
   "outputs": [],
   "source": []
  },
  {
   "cell_type": "markdown",
   "id": "b14ca728-f5d3-49c3-bddd-e63bc6c83fa6",
   "metadata": {},
   "source": [
    "#### c) Centred around \"adolescence\""
   ]
  },
  {
   "cell_type": "code",
   "execution_count": null,
   "id": "426fc624-a04f-4d29-adb2-edb5722f520c",
   "metadata": {},
   "outputs": [],
   "source": [
    "# Define terms for each category based on your categorization\n",
    "categories = {\n",
    "    'micro': [\n",
    "        \"ideology\", \"violence\", \"religiosity\", \"adolescence\", \"identity\", \"cognition\", \n",
    "        \"sex\", \"employment\", \"deprivation\", \"emotion\", \"activism\", \n",
    "        \"criminality\", \"education\", \"nationalism\", \"populism\", \"status\", \"dogmatism\", \n",
    "        \"authoritarianism\", \"aggression\", \"morality\", \"mental health\", \"conservatism\", \n",
    "        \"minority\", \"sacred values\", \"age\", \"hate\", \"rationality\", \"prejudice\", \n",
    "        \"uncertainty\", \"trust\", \"personality\", \"liberalism\", \"intolerance\", \n",
    "        \"fundamentalism\", \"fear\", \"honor\", \"poverty\", \"white race\", \"superiority\",\n",
    "        \"islamophobia\", \"significance quest\", \"social movements\", \"masculinity\", \n",
    "        \"conspiracy\", \"misogyny\", \"racism\", \"martyrdom\", \"political engagement\", \n",
    "        \"ptsd\", \"resilience\", \"voting behavior\", \"misogyny\"\n",
    "    ],\n",
    "    'meso': [\n",
    "        \"social network\", \"threat\", \"diversity\", \"social exclusion\", \"norms\", \"internet\",\n",
    "        \"mobilization\", \"discourse\", \"integration\", \"family\", \"competition\", \"language\",\n",
    "        \"polarization\", \"discrimination\", \"group process\", \"recruitment\", \n",
    "        \"elites\", \"social media\", \"social cohesion\", \"social change\"\n",
    "    ],\n",
    "    'macro': [\n",
    "        \"conflict\", \"state\", \"economy\", \"society\", \"politics\", \"justice\", \n",
    "        \"culture\", \"security\", \"region\", \"elections\", \"policy\", \"democracy\", \n",
    "        \"international\", \"crisis\", \"institutions\", \"peace\", \"propaganda\", \n",
    "        \"military\", \"globalization\", \"immigration\"\n",
    "    ],\n",
    "    'theory': [\n",
    "        \"ideology\", \"violence\", \"social network\", \"conflict\", \"religiosity\", \"state\", \n",
    "        \"society\", \"identity\", \"politics\", \"cognition\", \"justice\", \"norms\", \"culture\", \n",
    "        \"threat\", \"superiority\", \"employment\", \"deprivation\", \"emotion\", \"activism\", \n",
    "        \"policy\", \"nationalism\", \"social exclusion\", \"status\", \"dogmatism\", \"mobilization\", \n",
    "        \"authoritarianism\", \"integration\", \"aggression\", \"morality\", \"competition\", \n",
    "        \"crisis\", \"sacred values\", \"discrimination\", \"group process\", \"rationality\", \n",
    "        \"prejudice\", \"uncertainty\", \"intolerance\", \"military\", \"fundamentalism\", \n",
    "        \"honor\", \"poverty\", \"significance quest\", \"social movements\", \"globalization\", \n",
    "        \"martyrdom\", \"political engagement\", \"resilience\"\n",
    "    ],\n",
    "    'radicalism': [\"radicalism\", \"far right\"]\n",
    "}\n",
    "\n",
    "# Create the graph\n",
    "G = nx.Graph()\n",
    "for index, row in cooc_df_ado.iterrows():\n",
    "    G.add_edge(row['term1'], row['term2'], weight=row['cooc'])\n",
    "\n",
    "plt.figure(figsize=(14, 10))\n",
    "pos = nx.spring_layout(G, seed=43, k=2, iterations=100)  # positions for all nodes\n",
    "\n",
    "# Adjust positions to separate 'radicalism' and 'adolescence'\n",
    "if 'adolescence' in pos and 'radicalism' in pos:\n",
    "    pos['adolescence'][0] += 0.1  # Adjust x position\n",
    "    pos['adolescence'][1] += 0.1  # Adjust y position\n",
    "\n",
    "# Color mapping\n",
    "color_mapping = {\n",
    "    'micro': 'grey',\n",
    "    'meso': '#6c9808',\n",
    "    'macro': '#f0ad48',\n",
    "    'radicalism': 'red'\n",
    "}\n",
    "\n",
    "highlight_nodes = categories['radicalism']\n",
    "\n",
    "# Draw nodes\n",
    "for category, nodes in categories.items():\n",
    "    if category != 'theory':\n",
    "        node_shape = 'o' if category == 'micro' else ('s' if category == 'meso' else ('v' if category == 'macro' else 'D'))\n",
    "        color = color_mapping[category]\n",
    "        non_theory_nodes = [node for node in G.nodes() if node in nodes and node not in highlight_nodes and node not in categories['theory']]\n",
    "        theory_nodes = [node for node in G.nodes() if node in nodes and node in categories['theory']]\n",
    "        nx.draw_networkx_nodes(G, pos, nodelist=non_theory_nodes, node_size=200, node_color=color, node_shape=node_shape, alpha=0.7)\n",
    "        nx.draw_networkx_nodes(G, pos, nodelist=theory_nodes, node_size=200, node_color='white', edgecolors=color, node_shape=node_shape, linewidths=2.5, alpha=0.7)\n",
    "\n",
    "# Draw highlight nodes\n",
    "nx.draw_networkx_nodes(G, pos, nodelist=highlight_nodes, node_size=200, node_color=color_mapping['radicalism'], node_shape='D', alpha=0.7)\n",
    "\n",
    "# Draw edges\n",
    "weights = [G[u][v]['weight'] for u, v in G.edges]\n",
    "min_weight = min(weights)\n",
    "max_weight = max(weights)\n",
    "normalized_weights = [(weight - min_weight) / (max_weight - min_weight) for weight in weights]\n",
    "edge_widths = [1 + 15 * norm_weight for norm_weight in normalized_weights]\n",
    "edges = nx.draw_networkx_edges(G, pos, edge_color='grey', width=edge_widths, alpha=0.7)\n",
    "\n",
    "# Draw labels with increased font size\n",
    "nx.draw_networkx_labels(G, pos, font_size=14, font_family=\"sans-serif\")\n",
    "\n",
    "# Add legend\n",
    "legend_elements = [\n",
    "    plt.Line2D([0], [0], marker='o', color='w', markerfacecolor=color_mapping['micro'], markersize=10, label='Micro Level'),\n",
    "    plt.Line2D([0], [0], marker='s', color='w', markerfacecolor=color_mapping['meso'], markersize=10, label='Meso Level'),\n",
    "    plt.Line2D([0], [0], marker='v', color='w', markerfacecolor=color_mapping['macro'], markersize=10, label='Macro Level'),\n",
    "    plt.Line2D([0], [0], marker='D', color='w', markerfacecolor=color_mapping['radicalism'], markersize=10, label='Radicalism')\n",
    "]\n",
    "\n",
    "plt.legend(handles=legend_elements, loc='upper right')\n",
    "\n",
    "# Remove the frame\n",
    "ax = plt.gca()\n",
    "ax.spines['top'].set_visible(False)\n",
    "ax.spines['right'].set_visible(False)\n",
    "ax.spines['left'].set_visible(False)\n",
    "ax.spines['bottom'].set_visible(False)\n",
    "\n",
    "plt.savefig('RTMR_Output/abstracts_cooccurence_adolescence.png', bbox_inches='tight', dpi=600)\n",
    "plt.show()\n"
   ]
  },
  {
   "cell_type": "code",
   "execution_count": null,
   "id": "df3fcf16-8b7a-4bd3-8482-8537350deeb5",
   "metadata": {},
   "outputs": [],
   "source": [
    "#without radicalism"
   ]
  },
  {
   "cell_type": "code",
   "execution_count": null,
   "id": "4a570327-6386-4463-8ec9-ea91997fd594",
   "metadata": {},
   "outputs": [],
   "source": []
  },
  {
   "cell_type": "markdown",
   "id": "3a2b78c3-e46c-4bbe-86c6-5dd7bd39d7d9",
   "metadata": {},
   "source": [
    "#### d) Centred around \"islamist\""
   ]
  },
  {
   "cell_type": "code",
   "execution_count": null,
   "id": "3df855f4-570b-4900-a4a3-c844c1c1fc5a",
   "metadata": {},
   "outputs": [],
   "source": [
    "# Define terms for each category based on your categorization\n",
    "categories = {\n",
    "    'micro': [\n",
    "        \"ideology\", \"violence\", \"religiosity\", \"adolescence\", \"identity\", \"cognition\", \n",
    "        \"sex\", \"employment\", \"deprivation\", \"emotion\", \"activism\", \n",
    "        \"criminality\", \"education\", \"nationalism\", \"populism\", \"status\", \"dogmatism\", \n",
    "        \"authoritarianism\", \"aggression\", \"morality\", \"mental health\", \"conservatism\", \n",
    "        \"minority\", \"sacred values\", \"age\", \"hate\", \"rationality\", \"prejudice\", \n",
    "        \"uncertainty\", \"trust\", \"personality\", \"liberalism\", \"intolerance\", \n",
    "        \"fundamentalism\", \"fear\", \"honor\", \"poverty\", \"white race\", \"superiority\",\n",
    "        \"islamophobia\", \"significance quest\", \"social movements\", \"masculinity\", \n",
    "        \"conspiracy\", \"misogyny\", \"racism\", \"martyrdom\", \"political engagement\", \n",
    "        \"ptsd\", \"resilience\", \"voting behavior\", \"misogyny\"\n",
    "    ],\n",
    "    'meso': [\n",
    "        \"social network\", \"threat\", \"diversity\", \"social exclusion\", \"norms\", \"internet\",\n",
    "        \"mobilization\", \"discourse\", \"integration\", \"family\", \"competition\", \"language\",\n",
    "        \"polarization\", \"discrimination\", \"group process\", \"recruitment\", \n",
    "        \"elites\", \"social media\", \"social cohesion\", \"social change\"\n",
    "    ],\n",
    "    'macro': [\n",
    "        \"conflict\", \"state\", \"economy\", \"society\", \"politics\", \"justice\", \n",
    "        \"culture\", \"security\", \"region\", \"elections\", \"policy\", \"democracy\", \n",
    "        \"international\", \"crisis\", \"institutions\", \"peace\", \"propaganda\", \n",
    "        \"military\", \"globalization\", \"immigration\"\n",
    "    ],\n",
    "    'theory': [\n",
    "        \"ideology\", \"violence\", \"social network\", \"conflict\", \"religiosity\", \"state\", \n",
    "        \"society\", \"identity\", \"politics\", \"cognition\", \"justice\", \"norms\", \"culture\", \n",
    "        \"threat\", \"superiority\", \"employment\", \"deprivation\", \"emotion\", \"activism\", \n",
    "        \"policy\", \"nationalism\", \"social exclusion\", \"status\", \"dogmatism\", \"mobilization\", \n",
    "        \"authoritarianism\", \"integration\", \"aggression\", \"morality\", \"competition\", \n",
    "        \"crisis\", \"sacred values\", \"discrimination\", \"group process\", \"rationality\", \n",
    "        \"prejudice\", \"uncertainty\", \"intolerance\", \"military\", \"fundamentalism\", \n",
    "        \"honor\", \"poverty\", \"significance quest\", \"social movements\", \"globalization\", \n",
    "        \"martyrdom\", \"political engagement\", \"resilience\"\n",
    "    ],\n",
    "    'radicalism': [\"radicalism\", \"islamist\", \"foreign fighter\"]\n",
    "}\n",
    "\n",
    "# Create the graph\n",
    "G = nx.Graph()\n",
    "for index, row in cooc_df_islamist.iterrows():\n",
    "    G.add_edge(row['term1'], row['term2'], weight=row['cooc'])\n",
    "\n",
    "plt.figure(figsize=(14, 10))\n",
    "pos = nx.spring_layout(G, seed=43, k=1.5, iterations=100)  # positions for all nodes\n",
    "\n",
    "# Adjust positions to separate 'radicalism' and 'islamist'\n",
    "if 'islamist' in pos:\n",
    "    pos['islamist'][1] += 0.002  # Adjust y position slightly by 2 mm\n",
    "if 'radicalism' in pos:\n",
    "    pos['radicalism'][1] -= 0.002  # Adjust y position slightly by 2 mm\n",
    "\n",
    "# Color mapping\n",
    "color_mapping = {\n",
    "    'micro': 'grey',\n",
    "    'meso': '#6c9808',\n",
    "    'macro': '#f0ad48',\n",
    "    'radicalism': '#b50012'\n",
    "}\n",
    "\n",
    "highlight_nodes = categories['radicalism']\n",
    "\n",
    "# Draw nodes\n",
    "for category, nodes in categories.items():\n",
    "    if category != 'theory':\n",
    "        node_shape = 'o' if category == 'micro' else ('s' if category == 'meso' else ('v' if category == 'macro' else 'D'))\n",
    "        color = color_mapping[category]\n",
    "        non_theory_nodes = [node for node in G.nodes() if node in nodes and node not in highlight_nodes and node not in categories['theory']]\n",
    "        theory_nodes = [node for node in G.nodes() if node in nodes and node in categories['theory']]\n",
    "        nx.draw_networkx_nodes(G, pos, nodelist=non_theory_nodes, node_size=200, node_color=color, node_shape=node_shape, alpha=0.7)\n",
    "        nx.draw_networkx_nodes(G, pos, nodelist=theory_nodes, node_size=200, node_color='white', edgecolors=color, node_shape=node_shape, linewidths=2.5, alpha=0.7)\n",
    "\n",
    "# Draw highlight nodes\n",
    "nx.draw_networkx_nodes(G, pos, nodelist=highlight_nodes, node_size=200, node_color=color_mapping['radicalism'], node_shape='D', alpha=0.7)\n",
    "\n",
    "# Draw edges\n",
    "weights = [G[u][v]['weight'] for u, v in G.edges]\n",
    "min_weight = min(weights)\n",
    "max_weight = max(weights)\n",
    "normalized_weights = [(weight - min_weight) / (max_weight - min_weight) for weight in weights]\n",
    "edge_widths = [1 + 15 * norm_weight for norm_weight in normalized_weights]\n",
    "edges = nx.draw_networkx_edges(G, pos, edge_color='grey', width=edge_widths, alpha=0.7)\n",
    "\n",
    "# Draw labels with increased font size\n",
    "nx.draw_networkx_labels(G, pos, font_size=14, font_family=\"sans-serif\")\n",
    "\n",
    "# Add legend\n",
    "legend_elements = [\n",
    "    plt.Line2D([0], [0], marker='o', color='w', markerfacecolor=color_mapping['micro'], markersize=10, label='Micro Level'),\n",
    "    plt.Line2D([0], [0], marker='s', color='w', markerfacecolor=color_mapping['meso'], markersize=10, label='Meso Level'),\n",
    "    plt.Line2D([0], [0], marker='v', color='w', markerfacecolor=color_mapping['macro'], markersize=10, label='Macro Level'),\n",
    "    plt.Line2D([0], [0], marker='D', color='w', markerfacecolor=color_mapping['radicalism'], markersize=10, label='Radicalism')\n",
    "]\n",
    "\n",
    "plt.legend(handles=legend_elements, loc='upper right')\n",
    "\n",
    "# Remove the frame\n",
    "ax = plt.gca()\n",
    "ax.spines['top'].set_visible(False)\n",
    "ax.spines['right'].set_visible(False)\n",
    "ax.spines['left'].set_visible(False)\n",
    "ax.spines['bottom'].set_visible(False)\n",
    "\n",
    "plt.savefig('RTMR_Output/abstracts_cooccurence_Islamist.png', bbox_inches='tight', dpi=600)\n",
    "plt.show()\n"
   ]
  },
  {
   "cell_type": "code",
   "execution_count": null,
   "id": "b506b1e5-4591-4d4a-b3f5-39c960265490",
   "metadata": {},
   "outputs": [],
   "source": [
    "#without radicalism"
   ]
  },
  {
   "cell_type": "code",
   "execution_count": null,
   "id": "86815ffc-1a7f-4822-bf7d-7e054cd05487",
   "metadata": {},
   "outputs": [],
   "source": []
  },
  {
   "cell_type": "markdown",
   "id": "3cfe8c1d-ef5c-484a-b688-692095f73bb0",
   "metadata": {},
   "source": [
    "#### e) Centred around \"far right\""
   ]
  },
  {
   "cell_type": "code",
   "execution_count": null,
   "id": "c53e7943-abf8-4772-894f-53b97b290a7f",
   "metadata": {},
   "outputs": [],
   "source": []
  },
  {
   "cell_type": "code",
   "execution_count": null,
   "id": "98ede25f-bfbd-49fd-b330-0dfccd4a1b37",
   "metadata": {},
   "outputs": [],
   "source": [
    "# Define terms for each category based on categorization\n",
    "micro_terms = [\n",
    "    \"ideology\", \"violence\", \"religiosity\", \"adolescence\", \"identity\", \"cognition\", \n",
    "    \"sex\", \"employment\", \"deprivation\", \"emotion\", \"activism\", \n",
    "    \"criminality\", \"education\", \"nationalism\", \"populism\", \"status\", \"dogmatism\", \n",
    "    \"authoritarianism\", \"aggression\", \"morality\", \"mental health\", \"conservatism\", \n",
    "    \"minority\", \"sacred values\", \"age\", \"hate\", \"rationality\", \"prejudice\", \n",
    "    \"uncertainty\", \"trust\", \"personality\", \"liberalism\", \"intolerance\", \n",
    "    \"fundamentalism\", \"fear\", \"honor\", \"poverty\", \"white race\", \"superiority\",\n",
    "    \"islamophobia\", \"significance quest\", \"social movements\", \"masculinity\", \n",
    "    \"conspiracy\", \"misogyny\", \"racism\", \"martyrdom\", \"political engagement\", \n",
    "    \"ptsd\", \"resilience\", \"voting behavior\", \"misogyny\",\n",
    "]\n",
    "\n",
    "meso_terms = [\n",
    "    \"social network\", \"threat\", \"diversity\", \"social exclusion\", \"norms\", \"internet\",\n",
    "    \"mobilization\", \"discourse\", \"integration\", \"family\", \"competition\", \"language\",\n",
    "    \"polarization\", \"discrimination\", \"group process\", \"recruitment\", \n",
    "    \"elites\", \"social media\", \"social cohesion\", \"social change\",\n",
    "]\n",
    "\n",
    "macro_terms = [\n",
    "    \"conflict\", \"state\", \"economy\", \"society\", \"politics\", \"justice\", \n",
    "    \"culture\", \"security\", \"region\", \"elections\", \"policy\", \"democracy\", \n",
    "    \"international\", \"crisis\", \"institutions\", \"peace\", \"propaganda\", \n",
    "    \"military\", \"globalization\", \"immigration\"\n",
    "]\n",
    "\n",
    "theory_terms = [\n",
    "    \"ideology\", \"violence\", \"social network\", \"conflict\", \"religiosity\", \"state\", \n",
    "    \"society\", \"identity\", \"politics\", \"cognition\", \"justice\", \"norms\", \"culture\", \n",
    "    \"threat\", \"superiority\", \"employment\", \"deprivation\", \"emotion\", \"activism\", \n",
    "    \"policy\", \"nationalism\", \"social exclusion\", \"status\", \"dogmatism\", \"mobilization\", \n",
    "    \"authoritarianism\", \"integration\", \"aggression\", \"morality\", \"competition\", \n",
    "    \"crisis\", \"sacred values\", \"discrimination\", \"group process\", \"rationality\", \n",
    "    \"prejudice\", \"uncertainty\", \"intolerance\", \"military\", \"fundamentalism\", \n",
    "    \"honor\", \"poverty\", \"significance quest\", \"social movements\", \"globalization\", \n",
    "    \"martyrdom\", \"political engagement\", \"resilience\"\n",
    "]\n",
    "\n",
    "radicalism_nodes = [\"radicalism\", \"far right\"]\n",
    "\n",
    "# Create the graph\n",
    "G = nx.Graph()\n",
    "\n",
    "# Add edges with the corresponding frequency as the weight\n",
    "for index, row in cooc_df_right.iterrows():\n",
    "    G.add_edge(row['term1'], row['term2'], weight=row['cooc'])\n",
    "\n",
    "# Draw the graph\n",
    "plt.figure(figsize=(18, 10))\n",
    "\n",
    "# Use spring layout for better visualization\n",
    "pos = nx.spring_layout(G, seed=43, k=2, iterations=100, scale=2)  # positions for all nodes\n",
    "\n",
    "# Manually adjust positions to prevent overlap of \"far right\" and \"radicalism\"\n",
    "if \"far right\" in pos and \"radicalism\" in pos:\n",
    "    pos[\"far right\"][0] += 0.1  # Adjust x position\n",
    "    pos[\"far right\"][1] += 0.1  # Adjust y position\n",
    "\n",
    "# Draw nodes with shape based on their category\n",
    "micro_nodes = [node for node in G.nodes() if node in micro_terms]\n",
    "meso_nodes = [node for node in G.nodes() if node in meso_terms]\n",
    "macro_nodes = [node for node in G.nodes() if node in macro_terms]\n",
    "\n",
    "# Updated color mapping for shapes\n",
    "color_mapping = {\n",
    "    'micro': 'grey',  # Grey\n",
    "    'meso': '#6c9808',   # Green\n",
    "    'macro': '#f0ad48',  # Orange\n",
    "    'radicalism': '#b50012'  # Red\n",
    "}\n",
    "\n",
    "# Draw micro nodes\n",
    "nx.draw_networkx_nodes(G, pos, nodelist=[node for node in micro_nodes if node not in theory_terms], node_size=200, node_color=color_mapping['micro'], node_shape='o', alpha=0.7, label='Micro Level')\n",
    "nx.draw_networkx_nodes(G, pos, nodelist=[node for node in micro_nodes if node in theory_terms], node_size=200, node_color='white', edgecolors=color_mapping['micro'], node_shape='o', linewidths=2.5, alpha=0.7, label='Micro Level')\n",
    "\n",
    "# Draw meso nodes\n",
    "nx.draw_networkx_nodes(G, pos, nodelist=[node for node in meso_nodes if node not in theory_terms], node_size=200, node_color=color_mapping['meso'], node_shape='s', alpha=0.7, label='Meso Level')\n",
    "nx.draw_networkx_nodes(G, pos, nodelist=[node for node in meso_nodes if node in theory_terms], node_size=200, node_color='white', edgecolors=color_mapping['meso'], node_shape='s', linewidths=2.5, alpha=0.7, label='Meso Level')\n",
    "\n",
    "# Draw macro nodes\n",
    "nx.draw_networkx_nodes(G, pos, nodelist=[node for node in macro_nodes if node not in theory_terms], node_size=200, node_color=color_mapping['macro'], node_shape='v', alpha=0.7, label='Macro Level')\n",
    "nx.draw_networkx_nodes(G, pos, nodelist=[node for node in macro_nodes if node in theory_terms], node_size=200, node_color='white', edgecolors=color_mapping['macro'], node_shape='v', linewidths=2.5, alpha=0.7, label='Macro Level')\n",
    "\n",
    "# Draw radicalism nodes\n",
    "nx.draw_networkx_nodes(G, pos, nodelist=[node for node in radicalism_nodes if node not in theory_terms], node_size=200, node_color=color_mapping['radicalism'], node_shape='D', alpha=0.7, label='Radicalism')\n",
    "nx.draw_networkx_nodes(G, pos, nodelist=[node for node in radicalism_nodes if node in theory_terms], node_size=200, node_color='white', edgecolors=color_mapping['radicalism'], node_shape='D', linewidths=2.5, alpha=0.7, label='Radicalism')\n",
    "\n",
    "# Draw edges with width and color proportional to the frequency\n",
    "weights = [G[u][v]['weight'] for u, v in G.edges]\n",
    "min_weight = min(weights)\n",
    "max_weight = max(weights)\n",
    "normalized_weights = [(weight - min_weight) / (max_weight - min_weight) for weight in weights]\n",
    "edge_widths = [1 + 15 * norm_weight for norm_weight in normalized_weights]  # Increase contrast in thickness\n",
    "\n",
    "# Set edge colors to a single color (e.g., grey)\n",
    "edge_colors = ['grey' for _ in G.edges]\n",
    "\n",
    "# Draw edges\n",
    "edges = nx.draw_networkx_edges(\n",
    "    G, pos,\n",
    "    edge_color=edge_colors,\n",
    "    width=edge_widths,\n",
    "    alpha=0.7\n",
    ")\n",
    "\n",
    "# Draw labels with increased font size\n",
    "nx.draw_networkx_labels(G, pos, font_size=14, font_family=\"sans-serif\")\n",
    "\n",
    "# Add legend for node shapes\n",
    "legend_elements = [\n",
    "    plt.Line2D([0], [0], marker='o', color='w', markerfacecolor=color_mapping['micro'], markersize=10, label='Micro Level'),\n",
    "    plt.Line2D([0], [0], marker='s', color='w', markerfacecolor=color_mapping['meso'], markersize=10, label='Meso Level'),\n",
    "    plt.Line2D([0], [0], marker='v', color='w', markerfacecolor=color_mapping['macro'], markersize=10, label='Macro Level'),\n",
    "    plt.Line2D([0], [0], marker='D', color='w', markerfacecolor=color_mapping['radicalism'], markersize=10, label='Radicalism')\n",
    "]\n",
    "\n",
    "plt.legend(handles=legend_elements, loc='upper right')\n",
    "\n",
    "# Remove the frame\n",
    "ax = plt.gca()\n",
    "ax.spines['top'].set_visible(False)\n",
    "ax.spines['right'].set_visible(False)\n",
    "ax.spines['left'].set_visible(False)\n",
    "ax.spines['bottom'].set_visible(False)\n",
    "\n",
    "plt.savefig('RTMR_Output/abstracts_cooccurence_farright.png', bbox_inches='tight', dpi=600)\n",
    "plt.show()\n"
   ]
  },
  {
   "cell_type": "code",
   "execution_count": null,
   "id": "043f024e-e6de-4a37-8566-80167cb2b7d9",
   "metadata": {},
   "outputs": [],
   "source": [
    "#### f) Excluding the term radicalism"
   ]
  },
  {
   "cell_type": "code",
   "execution_count": null,
   "id": "9f52fb1b-22f4-47e6-a535-f98858363b7f",
   "metadata": {},
   "outputs": [],
   "source": []
  },
  {
   "cell_type": "code",
   "execution_count": null,
   "id": "a41959d7-b52a-4448-892f-b09d8cec36a0",
   "metadata": {},
   "outputs": [],
   "source": [
    "# Define terms for each category based on your categorization\n",
    "micro_terms = [\n",
    "    \"ideology\", \"violence\", \"religiosity\", \"adolescence\", \"identity\", \"cognition\", \n",
    "    \"sex\", \"employment\", \"deprivation\", \"emotion\", \"activism\", \n",
    "    \"criminality\", \"education\", \"nationalism\", \"populism\", \"status\", \"dogmatism\", \n",
    "    \"authoritarianism\", \"aggression\", \"morality\", \"mental health\", \"conservatism\", \n",
    "    \"minority\", \"sacred values\", \"age\", \"hate\", \"rationality\", \"prejudice\", \n",
    "    \"uncertainty\", \"trust\", \"personality\", \"liberalism\", \"intolerance\", \n",
    "    \"fundamentalism\", \"fear\", \"honor\", \"poverty\", \"white race\", \"superiority\",\n",
    "    \"islamophobia\", \"significance quest\", \"social movements\", \"masculinity\", \n",
    "    \"conspiracy\", \"misogyny\", \"racism\", \"martyrdom\", \"political engagement\", \n",
    "    \"ptsd\", \"resilience\", \"voting behavior\", \"misogyny\",\n",
    "]\n",
    "\n",
    "meso_terms = [\n",
    "    \"social network\", \"threat\", \"diversity\", \"social exclusion\", \"norms\", \"internet\",\n",
    "    \"mobilization\", \"discourse\", \"integration\", \"family\", \"competition\", \"language\",\n",
    "    \"polarization\", \"discrimination\", \"group process\", \"recruitment\", \n",
    "    \"elites\", \"social media\", \"social cohesion\", \"social change\"\n",
    "]\n",
    "\n",
    "macro_terms = [\n",
    "    \"conflict\", \"state\", \"economy\", \"society\", \"politics\", \"justice\", \n",
    "    \"culture\", \"security\", \"region\", \"elections\", \"policy\", \"democracy\", \n",
    "    \"international\", \"crisis\", \"institutions\", \"peace\", \"propaganda\", \n",
    "    \"military\", \"globalization\", \"immigration\"\n",
    "]\n",
    "\n",
    "theory_terms = [\n",
    "    \"ideology\", \"violence\", \"social network\", \"conflict\", \"religiosity\", \"state\", \n",
    "    \"society\", \"identity\", \"politics\", \"cognition\", \"justice\", \"norms\", \"culture\", \n",
    "    \"threat\", \"superiority\", \"employment\", \"deprivation\", \"emotion\", \"activism\", \n",
    "    \"policy\", \"nationalism\", \"social exclusion\", \"status\", \"dogmatism\", \"mobilization\", \n",
    "    \"authoritarianism\", \"integration\", \"aggression\", \"morality\", \"competition\", \n",
    "    \"crisis\", \"sacred values\", \"discrimination\", \"group process\", \"rationality\", \n",
    "    \"prejudice\", \"uncertainty\", \"intolerance\", \"military\", \"fundamentalism\", \n",
    "    \"honor\", \"poverty\", \"significance quest\", \"social movements\", \"globalization\", \n",
    "    \"martyrdom\", \"political engagement\", \"resilience\"\n",
    "]\n",
    "\n",
    "radicalism_terms = ['far right']\n",
    "\n",
    "# Create the graph\n",
    "G = nx.Graph()\n",
    "\n",
    "# Add edges with the corresponding frequency as the weight\n",
    "for index, row in cooc_df_right.iterrows():\n",
    "    if row['term1'] != \"radicalism\" and row['term2'] != \"radicalism\":\n",
    "        G.add_edge(row['term1'], row['term2'], weight=row['cooc'])\n",
    "\n",
    "# Draw the graph\n",
    "plt.figure(figsize=(18, 10))\n",
    "\n",
    "# Use spring layout for better visualization\n",
    "pos = nx.spring_layout(G, seed=43, k=2, iterations=100, scale=2)  # positions for all nodes\n",
    "\n",
    "# Draw nodes with shape based on their category\n",
    "micro_nodes = [node for node in G.nodes() if node in micro_terms]\n",
    "meso_nodes = [node for node in G.nodes() if node in meso_terms]\n",
    "macro_nodes = [node for node in G.nodes() if node in macro_terms]\n",
    "\n",
    "# Updated color mapping for shapes\n",
    "color_mapping = {\n",
    "    'micro': 'grey',  # Grey\n",
    "    'meso': '#6c9808',   # Green\n",
    "    'macro': '#f0ad48',  # Orange\n",
    "    'radicalism': '#b50012'  # Red\n",
    "}\n",
    "\n",
    "# Draw micro nodes\n",
    "nx.draw_networkx_nodes(G, pos, nodelist=[node for node in micro_nodes if node not in theory_terms], node_size=200, node_color=color_mapping['micro'], node_shape='o', alpha=0.7, label='Micro Level')\n",
    "nx.draw_networkx_nodes(G, pos, nodelist=[node for node in micro_nodes if node in theory_terms], node_size=200, node_color='white', edgecolors=color_mapping['micro'], node_shape='o', linewidths=2.5, alpha=0.7, label='Micro Level')\n",
    "\n",
    "# Draw meso nodes\n",
    "nx.draw_networkx_nodes(G, pos, nodelist=[node for node in meso_nodes if node not in theory_terms], node_size=200, node_color=color_mapping['meso'], node_shape='s', alpha=0.7, label='Meso Level')\n",
    "nx.draw_networkx_nodes(G, pos, nodelist=[node for node in meso_nodes if node in theory_terms], node_size=200, node_color='white', edgecolors=color_mapping['meso'], node_shape='s', linewidths=2.5, alpha=0.7, label='Meso Level')\n",
    "\n",
    "# Draw macro nodes\n",
    "nx.draw_networkx_nodes(G, pos, nodelist=[node for node in macro_nodes if node not in theory_terms], node_size=200, node_color=color_mapping['macro'], node_shape='v', alpha=0.7, label='Macro Level')\n",
    "nx.draw_networkx_nodes(G, pos, nodelist=[node for node in macro_nodes if node in theory_terms], node_size=200, node_color='white', edgecolors=color_mapping['macro'], node_shape='v', linewidths=2.5, alpha=0.7, label='Macro Level')\n",
    "\n",
    "# Draw radicalism nodes\n",
    "nx.draw_networkx_nodes(G, pos, nodelist=[node for node in radicalism_terms], node_size=200, node_color=color_mapping['radicalism'], node_shape='D', alpha=0.7, label='Radicalism')\n",
    "\n",
    "# Draw edges with width and color proportional to the frequency\n",
    "weights = [G[u][v]['weight'] for u, v in G.edges]\n",
    "min_weight = min(weights)\n",
    "max_weight = max(weights)\n",
    "normalized_weights = [(weight - min_weight) / (max_weight - min_weight) for weight in weights]\n",
    "edge_widths = [1 + 15 * norm_weight for norm_weight in normalized_weights]  # Increase contrast in thickness\n",
    "\n",
    "# Set edge colors to a single color (e.g., grey)\n",
    "edge_colors = ['grey' for _ in G.edges]\n",
    "\n",
    "# Draw edges\n",
    "edges = nx.draw_networkx_edges(\n",
    "    G, pos,\n",
    "    edge_color=edge_colors,\n",
    "    width=edge_widths,\n",
    "    alpha=0.7\n",
    ")\n",
    "\n",
    "# Draw labels with increased font size\n",
    "nx.draw_networkx_labels(G, pos, font_size=14, font_family=\"sans-serif\")\n",
    "\n",
    "# Add legend for node shapes\n",
    "legend_elements = [\n",
    "    plt.Line2D([0], [0], marker='o', color='w', markerfacecolor=color_mapping['micro'], markersize=10, label='Micro Level'),\n",
    "    plt.Line2D([0], [0], marker='s', color='w', markerfacecolor=color_mapping['meso'], markersize=10, label='Meso Level'),\n",
    "    plt.Line2D([0], [0], marker='v', color='w', markerfacecolor=color_mapping['macro'], markersize=10, label='Macro Level'),\n",
    "    plt.Line2D([0], [0], marker='D', color='w', markerfacecolor=color_mapping['radicalism'], markersize=10, label='Radicalism')\n",
    "]\n",
    "\n",
    "plt.legend(handles=legend_elements, loc='upper right')\n",
    "\n",
    "# Remove the frame\n",
    "ax = plt.gca()\n",
    "ax.spines['top'].set_visible(False)\n",
    "ax.spines['right'].set_visible(False)\n",
    "ax.spines['left'].set_visible(False)\n",
    "ax.spines['bottom'].set_visible(False)\n",
    "\n",
    "plt.savefig('RTMR_Output/abstracts_cooccurence_farright_excluding_radicalism.png', bbox_inches='tight', dpi=600)\n",
    "plt.show()\n"
   ]
  },
  {
   "cell_type": "markdown",
   "id": "6733a498-b69e-4c19-8406-fbb615583018",
   "metadata": {},
   "source": [
    "#### f) Centred around \"far left\""
   ]
  },
  {
   "cell_type": "code",
   "execution_count": null,
   "id": "dbdd01cc-59c4-41ee-a4ca-5de0bc09c2bf",
   "metadata": {},
   "outputs": [],
   "source": [
    "# Define terms for each category based on your categorization\n",
    "categories = {\n",
    "    'micro': [\n",
    "        \"ideology\", \"violence\", \"religiosity\", \"adolescence\", \"identity\", \"cognition\", \n",
    "        \"sex\", \"employment\", \"deprivation\", \"emotion\", \"activism\", \n",
    "        \"criminality\", \"education\", \"nationalism\", \"populism\", \"status\", \"dogmatism\", \n",
    "        \"authoritarianism\", \"aggression\", \"morality\", \"mental health\", \"conservatism\", \n",
    "        \"minority\", \"sacred values\", \"age\", \"hate\", \"rationality\", \"prejudice\", \n",
    "        \"uncertainty\", \"trust\", \"personality\", \"liberalism\", \"intolerance\", \n",
    "        \"fundamentalism\", \"fear\", \"honor\", \"poverty\", \"white race\", \"superiority\",\n",
    "        \"islamophobia\", \"significance quest\", \"social movements\", \"masculinity\", \n",
    "        \"conspiracy\", \"misogyny\", \"racism\", \"martyrdom\", \"political engagement\", \n",
    "        \"ptsd\", \"resilience\", \"voting behavior\", \"misogyny\"\n",
    "    ],\n",
    "    'meso': [\n",
    "        \"social network\", \"threat\", \"diversity\", \"social exclusion\", \"norms\", \"internet\",\n",
    "        \"mobilization\", \"discourse\", \"integration\", \"family\", \"competition\", \"language\",\n",
    "        \"polarization\", \"discrimination\", \"group process\", \"recruitment\", \n",
    "        \"elites\", \"social media\", \"social cohesion\", \"social change\"\n",
    "    ],\n",
    "    'macro': [\n",
    "        \"conflict\", \"state\", \"economy\", \"society\", \"politics\", \"justice\", \n",
    "        \"culture\", \"security\", \"region\", \"elections\", \"policy\", \"democracy\", \n",
    "        \"international\", \"crisis\", \"institutions\", \"peace\", \"propaganda\", \n",
    "        \"military\", \"globalization\", \"immigration\"\n",
    "    ],\n",
    "    'theory': [\n",
    "        \"ideology\", \"violence\", \"social network\", \"conflict\", \"religiosity\", \"state\", \n",
    "        \"society\", \"identity\", \"politics\", \"cognition\", \"justice\", \"norms\", \"culture\", \n",
    "        \"threat\", \"superiority\", \"employment\", \"deprivation\", \"emotion\", \"activism\", \n",
    "        \"policy\", \"nationalism\", \"social exclusion\", \"status\", \"dogmatism\", \"mobilization\", \n",
    "        \"authoritarianism\", \"integration\", \"aggression\", \"morality\", \"competition\", \n",
    "        \"crisis\", \"sacred values\", \"discrimination\", \"group process\", \"rationality\", \n",
    "        \"prejudice\", \"uncertainty\", \"intolerance\", \"military\", \"fundamentalism\", \n",
    "        \"honor\", \"poverty\", \"significance quest\", \"social movements\", \"globalization\", \n",
    "        \"martyrdom\", \"political engagement\", \"resilience\"\n",
    "    ],\n",
    "    'radicalism': [\"radicalism\", \"far left\", \"islamist\", \"far right\"]\n",
    "}\n",
    "\n",
    "# Create the graph\n",
    "G = nx.Graph()\n",
    "for index, row in cooc_df_left.iterrows():\n",
    "    G.add_edge(row['term1'], row['term2'], weight=row['cooc'])\n",
    "\n",
    "plt.figure(figsize=(14, 10))\n",
    "pos = nx.spring_layout(G, seed=43, k=1.5, iterations=100)  # positions for all nodes\n",
    "\n",
    "# Adjust positions to separate 'radicalism' and 'far left'\n",
    "if 'far left' in pos:\n",
    "    pos['far left'][1] += 0.002  # Adjust y position slightly by 2 mm\n",
    "if 'radicalism' in pos:\n",
    "    pos['radicalism'][1] -= 0.002  # Adjust y position slightly by 2 mm\n",
    "\n",
    "# Color mapping\n",
    "color_mapping = {\n",
    "    'micro': 'grey',\n",
    "    'meso': '#6c9808',\n",
    "    'macro': '#f0ad48',\n",
    "    'radicalism': '#b50012'\n",
    "}\n",
    "\n",
    "highlight_nodes = categories['radicalism']\n",
    "\n",
    "# Draw nodes\n",
    "for category, nodes in categories.items():\n",
    "    if category != 'theory':\n",
    "        node_shape = 'o' if category == 'micro' else ('s' if category == 'meso' else ('v' if category == 'macro' else 'D'))\n",
    "        color = color_mapping[category]\n",
    "        non_theory_nodes = [node for node in G.nodes() if node in nodes and node not in highlight_nodes and node not in categories['theory']]\n",
    "        theory_nodes = [node for node in G.nodes() if node in nodes and node in categories['theory']]\n",
    "        nx.draw_networkx_nodes(G, pos, nodelist=non_theory_nodes, node_size=200, node_color=color, node_shape=node_shape, alpha=0.7)\n",
    "        nx.draw_networkx_nodes(G, pos, nodelist=theory_nodes, node_size=200, node_color='white', edgecolors=color, node_shape=node_shape, linewidths=2.5, alpha=0.7)\n",
    "\n",
    "# Draw highlight nodes\n",
    "nx.draw_networkx_nodes(G, pos, nodelist=highlight_nodes, node_size=200, node_color=color_mapping['radicalism'], node_shape='D', alpha=0.7)\n",
    "\n",
    "# Draw edges\n",
    "weights = [G[u][v]['weight'] for u, v in G.edges]\n",
    "min_weight = min(weights)\n",
    "max_weight = max(weights)\n",
    "normalized_weights = [(weight - min_weight) / (max_weight - min_weight) for weight in weights]\n",
    "edge_widths = [1 + 15 * norm_weight for norm_weight in normalized_weights]\n",
    "edges = nx.draw_networkx_edges(G, pos, edge_color='grey', width=edge_widths, alpha=0.7)\n",
    "\n",
    "# Draw labels with increased font size\n",
    "nx.draw_networkx_labels(G, pos, font_size=14, font_family=\"sans-serif\")\n",
    "\n",
    "# Add legend\n",
    "legend_elements = [\n",
    "    plt.Line2D([0], [0], marker='o', color='w', markerfacecolor=color_mapping['micro'], markersize=10, label='Micro Level'),\n",
    "    plt.Line2D([0], [0], marker='s', color='w', markerfacecolor=color_mapping['meso'], markersize=10, label='Meso Level'),\n",
    "    plt.Line2D([0], [0], marker='v', color='w', markerfacecolor=color_mapping['macro'], markersize=10, label='Macro Level'),\n",
    "    plt.Line2D([0], [0], marker='D', color='w', markerfacecolor=color_mapping['radicalism'], markersize=10, label='Radicalism')\n",
    "]\n",
    "\n",
    "plt.legend(handles=legend_elements, loc='upper right')\n",
    "\n",
    "\n",
    "# Remove the frame\n",
    "ax = plt.gca()\n",
    "ax.spines['top'].set_visible(False)\n",
    "ax.spines['right'].set_visible(False)\n",
    "ax.spines['left'].set_visible(False)\n",
    "ax.spines['bottom'].set_visible(False)\n",
    "\n",
    "plt.savefig('RTMR_Output/abstracts_cooccurence_farleft.png', bbox_inches='tight', dpi=600)\n",
    "plt.show()\n"
   ]
  },
  {
   "cell_type": "code",
   "execution_count": null,
   "id": "efeb4507-fcb0-4ebe-874e-1b685e881cfc",
   "metadata": {},
   "outputs": [],
   "source": [
    "#excluding radicalism"
   ]
  },
  {
   "cell_type": "code",
   "execution_count": null,
   "id": "f994ccb1-55a2-4235-911a-c344a3d7c44c",
   "metadata": {},
   "outputs": [],
   "source": [
    "# Define terms for each category based on your categorization\n",
    "categories = {\n",
    "    'micro': [\n",
    "        \"ideology\", \"violence\", \"religiosity\", \"adolescence\", \"identity\", \"cognition\", \n",
    "        \"sex\", \"employment\", \"deprivation\", \"emotion\", \"activism\", \n",
    "        \"criminality\", \"education\", \"nationalism\", \"populism\", \"status\", \"dogmatism\", \n",
    "        \"authoritarianism\", \"aggression\", \"morality\", \"mental health\", \"conservatism\", \n",
    "        \"minority\", \"sacred values\", \"age\", \"hate\", \"rationality\", \"prejudice\", \n",
    "        \"uncertainty\", \"trust\", \"personality\", \"liberalism\", \"intolerance\", \n",
    "        \"fundamentalism\", \"fear\", \"honor\", \"poverty\", \"white race\", \"superiority\",\n",
    "        \"islamophobia\", \"significance quest\", \"social movements\", \"masculinity\", \n",
    "        \"conspiracy\", \"misogyny\", \"racism\", \"martyrdom\", \"political engagement\", \n",
    "        \"ptsd\", \"resilience\", \"voting behavior\", \"misogyny\"\n",
    "    ],\n",
    "    'meso': [\n",
    "        \"social network\", \"threat\", \"diversity\", \"social exclusion\", \"norms\", \"internet\",\n",
    "        \"mobilization\", \"discourse\", \"integration\", \"family\", \"competition\", \"language\",\n",
    "        \"polarization\", \"discrimination\", \"group process\", \"recruitment\", \n",
    "        \"elites\", \"social media\", \"social cohesion\", \"social change\"\n",
    "    ],\n",
    "    'macro': [\n",
    "        \"conflict\", \"state\", \"economy\", \"society\", \"politics\", \"justice\", \n",
    "        \"culture\", \"security\", \"region\", \"elections\", \"policy\", \"democracy\", \n",
    "        \"international\", \"crisis\", \"institutions\", \"peace\", \"propaganda\", \n",
    "        \"military\", \"globalization\", \"immigration\"\n",
    "    ],\n",
    "    'theory': [\n",
    "        \"ideology\", \"violence\", \"social network\", \"conflict\", \"religiosity\", \"state\", \n",
    "        \"society\", \"identity\", \"politics\", \"cognition\", \"justice\", \"norms\", \"culture\", \n",
    "        \"threat\", \"superiority\", \"employment\", \"deprivation\", \"emotion\", \"activism\", \n",
    "        \"policy\", \"nationalism\", \"social exclusion\", \"status\", \"dogmatism\", \"mobilization\", \n",
    "        \"authoritarianism\", \"integration\", \"aggression\", \"morality\", \"competition\", \n",
    "        \"crisis\", \"sacred values\", \"discrimination\", \"group process\", \"rationality\", \n",
    "        \"prejudice\", \"uncertainty\", \"intolerance\", \"military\", \"fundamentalism\", \n",
    "        \"honor\", \"poverty\", \"significance quest\", \"social movements\", \"globalization\", \n",
    "        \"martyrdom\", \"political engagement\", \"resilience\"\n",
    "    ],\n",
    "    'radicalism': [\"far left\", \"islamist\", \"far right\"]\n",
    "}\n",
    "\n",
    "# Create the graph\n",
    "G = nx.Graph()\n",
    "for index, row in cooc_df_left.iterrows():\n",
    "    if 'radicalism' not in (row['term1'], row['term2']):\n",
    "        G.add_edge(row['term1'], row['term2'], weight=row['cooc'])\n",
    "\n",
    "plt.figure(figsize=(14, 10))\n",
    "pos = nx.spring_layout(G, seed=43, k=0.3, iterations=300)  # positions for all nodes, more compact layout\n",
    "\n",
    "# Adjust positions to separate 'far left' and other nodes\n",
    "if 'far left' in pos:\n",
    "    pos['far left'][1] += 0.002  # Adjust y position slightly by 2 mm\n",
    "\n",
    "# Color mapping\n",
    "color_mapping = {\n",
    "    'micro': 'grey',\n",
    "    'meso': '#6c9808',\n",
    "    'macro': '#f0ad48',\n",
    "    'radicalism': '#b50012'\n",
    "}\n",
    "\n",
    "highlight_nodes = categories['radicalism']\n",
    "\n",
    "# Draw nodes\n",
    "for category, nodes in categories.items():\n",
    "    if category != 'theory':\n",
    "        node_shape = 'o' if category == 'micro' else ('s' if category == 'meso' else ('v' if category == 'macro' else 'D'))\n",
    "        color = color_mapping[category]\n",
    "        non_theory_nodes = [node for node in G.nodes() if node in nodes and node not in highlight_nodes and node not in categories['theory']]\n",
    "        theory_nodes = [node for node in G.nodes() if node in nodes and node in categories['theory']]\n",
    "        nx.draw_networkx_nodes(G, pos, nodelist=non_theory_nodes, node_size=200, node_color=color, node_shape=node_shape, alpha=0.7)\n",
    "        nx.draw_networkx_nodes(G, pos, nodelist=theory_nodes, node_size=200, node_color='white', edgecolors=color, node_shape=node_shape, linewidths=2.5, alpha=0.7)\n",
    "\n",
    "# Draw highlight nodes\n",
    "nx.draw_networkx_nodes(G, pos, nodelist=highlight_nodes, node_size=200, node_color=color_mapping['radicalism'], node_shape='D', alpha=0.7)\n",
    "\n",
    "# Draw edges\n",
    "weights = [G[u][v]['weight'] for u, v in G.edges]\n",
    "min_weight = min(weights)\n",
    "max_weight = max(weights)\n",
    "normalized_weights = [(weight - min_weight) / (max_weight - min_weight) for weight in weights]\n",
    "edge_widths = [1 + 15 * norm_weight for norm_weight in normalized_weights]\n",
    "edges = nx.draw_networkx_edges(G, pos, edge_color='grey', width=edge_widths, alpha=0.7)\n",
    "\n",
    "# Draw labels with increased font size\n",
    "nx.draw_networkx_labels(G, pos, font_size=14, font_family=\"sans-serif\")\n",
    "\n",
    "# Add legend\n",
    "legend_elements = [\n",
    "    plt.Line2D([0], [0], marker='o', color='w', markerfacecolor=color_mapping['micro'], markersize=10, label='Micro Level'),\n",
    "    plt.Line2D([0], [0], marker='s', color='w', markerfacecolor=color_mapping['meso'], markersize=10, label='Meso Level'),\n",
    "    plt.Line2D([0], [0], marker='v', color='w', markerfacecolor=color_mapping['macro'], markersize=10, label='Macro Level'),\n",
    "    plt.Line2D([0], [0], marker='D', color='w', markerfacecolor=color_mapping['radicalism'], markersize=10, label='Radicalism')\n",
    "]\n",
    "\n",
    "plt.legend(handles=legend_elements, loc='upper right')\n",
    "\n",
    "# Remove the frame\n",
    "ax = plt.gca()\n",
    "ax.spines['top'].set_visible(False)\n",
    "ax.spines['right'].set_visible(False)\n",
    "ax.spines['left'].set_visible(False)\n",
    "ax.spines['bottom'].set_visible(False)\n",
    "\n",
    "plt.savefig('RTMR_Output/abstracts_cooccurence_farleft.png', bbox_inches='tight', dpi=600)\n",
    "plt.show()\n"
   ]
  },
  {
   "cell_type": "markdown",
   "id": "a593cebe-e487-4a63-a00c-53d7d0a7bf15",
   "metadata": {},
   "source": [
    "#### g) Centred around \"lone actor\""
   ]
  },
  {
   "cell_type": "code",
   "execution_count": null,
   "id": "81cec6c5-f653-438f-b06b-30f69afcc05e",
   "metadata": {},
   "outputs": [],
   "source": [
    "# Define terms for each category based on your categorization\n",
    "categories = {\n",
    "    'micro': [\n",
    "        \"ideology\", \"violence\", \"religiosity\", \"adolescence\", \"identity\", \"cognition\", \n",
    "        \"sex\", \"employment\", \"deprivation\", \"emotion\", \"activism\", \n",
    "        \"criminality\", \"education\", \"nationalism\", \"populism\", \"status\", \"dogmatism\", \n",
    "        \"authoritarianism\", \"aggression\", \"morality\", \"mental health\", \"conservatism\", \n",
    "        \"minority\", \"sacred values\", \"age\", \"hate\", \"rationality\", \"prejudice\", \n",
    "        \"uncertainty\", \"trust\", \"personality\", \"liberalism\", \"intolerance\", \n",
    "        \"fundamentalism\", \"fear\", \"honor\", \"poverty\", \"white race\", \"superiority\",\n",
    "        \"islamophobia\", \"significance quest\", \"social movements\", \"masculinity\", \n",
    "        \"conspiracy\", \"misogyny\", \"racism\", \"martyrdom\", \"political engagement\", \n",
    "        \"ptsd\", \"resilience\", \"voting behavior\", \"misogyny\"\n",
    "    ],\n",
    "    'meso': [\n",
    "        \"social network\", \"threat\", \"diversity\", \"social exclusion\", \"norms\", \"internet\",\n",
    "        \"mobilization\", \"discourse\", \"integration\", \"family\", \"competition\", \"language\",\n",
    "        \"polarization\", \"discrimination\", \"group process\", \"recruitment\", \n",
    "        \"elites\", \"social media\", \"social cohesion\", \"social change\"\n",
    "    ],\n",
    "    'macro': [\n",
    "        \"conflict\", \"state\", \"economy\", \"society\", \"politics\", \"justice\", \n",
    "        \"culture\", \"security\", \"region\", \"elections\", \"policy\", \"democracy\", \n",
    "        \"international\", \"crisis\", \"institutions\", \"peace\", \"propaganda\", \n",
    "        \"military\", \"globalization\", \"immigration\"\n",
    "    ],\n",
    "    'theory': [\n",
    "        \"ideology\", \"violence\", \"social network\", \"conflict\", \"religiosity\", \"state\", \n",
    "        \"society\", \"identity\", \"politics\", \"cognition\", \"justice\", \"norms\", \"culture\", \n",
    "        \"threat\", \"superiority\", \"employment\", \"deprivation\", \"emotion\", \"activism\", \n",
    "        \"policy\", \"nationalism\", \"social exclusion\", \"status\", \"dogmatism\", \"mobilization\", \n",
    "        \"authoritarianism\", \"integration\", \"aggression\", \"morality\", \"competition\", \n",
    "        \"crisis\", \"sacred values\", \"discrimination\", \"group process\", \"rationality\", \n",
    "        \"prejudice\", \"uncertainty\", \"intolerance\", \"military\", \"fundamentalism\", \n",
    "        \"honor\", \"poverty\", \"significance quest\", \"social movements\", \"globalization\", \n",
    "        \"martyrdom\", \"political engagement\", \"resilience\"\n",
    "    ],\n",
    "    'radicalism': [\"lone actor\", \"radicalism\"]\n",
    "}\n",
    "\n",
    "# Create the graph\n",
    "G = nx.Graph()\n",
    "for index, row in cooc_df_lone.iterrows():\n",
    "    G.add_edge(row['term1'], row['term2'], weight=row['cooc'])\n",
    "\n",
    "plt.figure(figsize=(14, 10))\n",
    "pos = nx.spring_layout(G, seed=43, k=0.3, iterations=300)  # positions for all nodes\n",
    "\n",
    "# Adjust positions to separate 'lone actor' and other nodes if necessary\n",
    "if 'lone actor' in pos:\n",
    "    pos['lone actor'][1] += 0.002  # Adjust y position slightly by 2 mm\n",
    "\n",
    "# Color mapping\n",
    "color_mapping = {\n",
    "    'micro': 'grey',\n",
    "    'meso': '#6c9808',\n",
    "    'macro': '#f0ad48',\n",
    "    'radicalism': '#b50012'\n",
    "}\n",
    "\n",
    "highlight_nodes = categories['radicalism']\n",
    "\n",
    "# Draw nodes\n",
    "for category, nodes in categories.items():\n",
    "    if category != 'theory':\n",
    "        node_shape = 'o' if category == 'micro' else ('s' if category == 'meso' else ('v' if category == 'macro' else 'D'))\n",
    "        color = color_mapping[category]\n",
    "        non_theory_nodes = [node for node in G.nodes() if node in nodes and node not in highlight_nodes and node not in categories['theory']]\n",
    "        theory_nodes = [node for node in G.nodes() if node in nodes and node in categories['theory']]\n",
    "        nx.draw_networkx_nodes(G, pos, nodelist=non_theory_nodes, node_size=200, node_color=color, node_shape=node_shape, alpha=0.7)\n",
    "        nx.draw_networkx_nodes(G, pos, nodelist=theory_nodes, node_size=200, node_color='white', edgecolors=color, node_shape=node_shape, linewidths=2.5, alpha=0.7)\n",
    "\n",
    "# Draw highlight nodes\n",
    "nx.draw_networkx_nodes(G, pos, nodelist=highlight_nodes, node_size=200, node_color=color_mapping['radicalism'], node_shape='D', alpha=0.7)\n",
    "\n",
    "# Draw edges\n",
    "weights = [G[u][v]['weight'] for u, v in G.edges]\n",
    "min_weight = min(weights)\n",
    "max_weight = max(weights)\n",
    "normalized_weights = [(weight - min_weight) / (max_weight - min_weight) for weight in weights]\n",
    "edge_widths = [1 + 15 * norm_weight for norm_weight in normalized_weights]\n",
    "edges = nx.draw_networkx_edges(G, pos, edge_color='grey', width=edge_widths, alpha=0.7)\n",
    "\n",
    "# Draw labels with increased font size\n",
    "nx.draw_networkx_labels(G, pos, font_size=14, font_family=\"sans-serif\")\n",
    "\n",
    "# Add legend\n",
    "legend_elements = [\n",
    "    plt.Line2D([0], [0], marker='o', color='w', markerfacecolor=color_mapping['micro'], markersize=10, label='Micro Level'),\n",
    "    plt.Line2D([0], [0], marker='s', color='w', markerfacecolor=color_mapping['meso'], markersize=10, label='Meso Level'),\n",
    "    plt.Line2D([0], [0], marker='D', color='w', markerfacecolor=color_mapping['radicalism'], markersize=10, label='Radicalism')\n",
    "]\n",
    "\n",
    "plt.legend(handles=legend_elements, loc='upper right')\n",
    "\n",
    "# Remove the frame\n",
    "ax = plt.gca()\n",
    "ax.spines['top'].set_visible(False)\n",
    "ax.spines['right'].set_visible(False)\n",
    "ax.spines['left'].set_visible(False)\n",
    "ax.spines['bottom'].set_visible(False)\n",
    "\n",
    "plt.title('Co-occurrence Network for Lone Actor', fontsize=16)\n",
    "plt.savefig('RTMR_Output/abstracts_cooccurence_loneactor.png', bbox_inches='tight', dpi=600)\n",
    "plt.show()\n"
   ]
  },
  {
   "cell_type": "code",
   "execution_count": null,
   "id": "fca2dd39-5ab2-482f-9d04-5e5e7b16f7bc",
   "metadata": {},
   "outputs": [],
   "source": [
    "# without radicalism"
   ]
  },
  {
   "cell_type": "code",
   "execution_count": null,
   "id": "f8d0ac4f-b517-48b1-a08c-ded18f2d9a78",
   "metadata": {},
   "outputs": [],
   "source": [
    "# Define terms for each category based on your categorization\n",
    "categories = {\n",
    "    'micro': [\n",
    "        \"ideology\", \"violence\", \"religiosity\", \"adolescence\", \"identity\", \"cognition\", \n",
    "        \"sex\", \"employment\", \"deprivation\", \"emotion\", \"activism\", \n",
    "        \"criminality\", \"education\", \"nationalism\", \"populism\", \"status\", \"dogmatism\", \n",
    "        \"authoritarianism\", \"aggression\", \"morality\", \"mental health\", \"conservatism\", \n",
    "        \"minority\", \"sacred values\", \"age\", \"hate\", \"rationality\", \"prejudice\", \n",
    "        \"uncertainty\", \"trust\", \"personality\", \"liberalism\", \"intolerance\", \n",
    "        \"fundamentalism\", \"fear\", \"honor\", \"poverty\", \"white race\", \"superiority\",\n",
    "        \"islamophobia\", \"significance quest\", \"social movements\", \"masculinity\", \n",
    "        \"conspiracy\", \"misogyny\", \"racism\", \"martyrdom\", \"political engagement\", \n",
    "        \"ptsd\", \"resilience\", \"voting behavior\", \"misogyny\"\n",
    "    ],\n",
    "    'meso': [\n",
    "        \"social network\", \"threat\", \"diversity\", \"social exclusion\", \"norms\", \"internet\",\n",
    "        \"mobilization\", \"discourse\", \"integration\", \"family\", \"competition\", \"language\",\n",
    "        \"polarization\", \"discrimination\", \"group process\", \"recruitment\", \n",
    "        \"elites\", \"social media\", \"social cohesion\", \"social change\"\n",
    "    ],\n",
    "    'macro': [\n",
    "        \"conflict\", \"state\", \"economy\", \"society\", \"politics\", \"justice\", \n",
    "        \"culture\", \"security\", \"region\", \"elections\", \"policy\", \"democracy\", \n",
    "        \"international\", \"crisis\", \"institutions\", \"peace\", \"propaganda\", \n",
    "        \"military\", \"globalization\", \"immigration\"\n",
    "    ],\n",
    "    'theory': [\n",
    "        \"ideology\", \"violence\", \"social network\", \"conflict\", \"religiosity\", \"state\", \n",
    "        \"society\", \"identity\", \"politics\", \"cognition\", \"justice\", \"norms\", \"culture\", \n",
    "        \"threat\", \"superiority\", \"employment\", \"deprivation\", \"emotion\", \"activism\", \n",
    "        \"policy\", \"nationalism\", \"social exclusion\", \"status\", \"dogmatism\", \"mobilization\", \n",
    "        \"authoritarianism\", \"integration\", \"aggression\", \"morality\", \"competition\", \n",
    "        \"crisis\", \"sacred values\", \"discrimination\", \"group process\", \"rationality\", \n",
    "        \"prejudice\", \"uncertainty\", \"intolerance\", \"military\", \"fundamentalism\", \n",
    "        \"honor\", \"poverty\", \"significance quest\", \"social movements\", \"globalization\", \n",
    "        \"martyrdom\", \"political engagement\", \"resilience\"\n",
    "    ],\n",
    "    'radicalism': [\"lone actor\"]\n",
    "}\n",
    "\n",
    "# Create the graph\n",
    "G = nx.Graph()\n",
    "for index, row in cooc_df_lone.iterrows():\n",
    "    if row['term1'] != \"radicalism\" and row['term2'] != \"radicalism\":\n",
    "        G.add_edge(row['term1'], row['term2'], weight=row['cooc'])\n",
    "\n",
    "plt.figure(figsize=(14, 10))\n",
    "pos = nx.spring_layout(G, seed=43, k=0.3, iterations=300)  # positions for all nodes\n",
    "\n",
    "# Adjust positions to separate 'lone actor' and other nodes if necessary\n",
    "if 'lone actor' in pos:\n",
    "    pos['lone actor'][1] += 0.002  # Adjust y position slightly by 2 mm\n",
    "\n",
    "# Color mapping\n",
    "color_mapping = {\n",
    "    'micro': 'grey',\n",
    "    'meso': '#6c9808',\n",
    "    'macro': '#f0ad48',\n",
    "    'radicalism': '#b50012'\n",
    "}\n",
    "\n",
    "highlight_nodes = [node for node in categories['radicalism'] if node != \"radicalism\"]\n",
    "\n",
    "# Draw nodes\n",
    "for category, nodes in categories.items():\n",
    "    if category != 'theory':\n",
    "        node_shape = 'o' if category == 'micro' else ('s' if category == 'meso' else ('v' if category == 'macro' else 'D'))\n",
    "        color = color_mapping[category]\n",
    "        non_theory_nodes = [node for node in G.nodes() if node in nodes and node not in highlight_nodes and node not in categories['theory']]\n",
    "        theory_nodes = [node for node in G.nodes() if node in nodes and node in categories['theory']]\n",
    "        nx.draw_networkx_nodes(G, pos, nodelist=non_theory_nodes, node_size=200, node_color=color, node_shape=node_shape, alpha=0.7)\n",
    "        nx.draw_networkx_nodes(G, pos, nodelist=theory_nodes, node_size=200, node_color='white', edgecolors=color, node_shape=node_shape, linewidths=2.5, alpha=0.7)\n",
    "\n",
    "# Draw highlight nodes\n",
    "nx.draw_networkx_nodes(G, pos, nodelist=highlight_nodes, node_size=200, node_color=color_mapping['radicalism'], node_shape='D', alpha=0.7)\n",
    "\n",
    "# Draw edges\n",
    "weights = [G[u][v]['weight'] for u, v in G.edges]\n",
    "min_weight = min(weights)\n",
    "max_weight = max(weights)\n",
    "normalized_weights = [(weight - min_weight) / (max_weight - min_weight) for weight in weights]\n",
    "edge_widths = [1 + 15 * norm_weight for norm_weight in normalized_weights]\n",
    "edges = nx.draw_networkx_edges(G, pos, edge_color='grey', width=edge_widths, alpha=0.7)\n",
    "\n",
    "# Draw labels with increased font size\n",
    "nx.draw_networkx_labels(G, pos, font_size=14, font_family=\"sans-serif\")\n",
    "\n",
    "# Add legend\n",
    "legend_elements = [\n",
    "    plt.Line2D([0], [0], marker='o', color='w', markerfacecolor=color_mapping['micro'], markersize=10, label='Micro Level'),\n",
    "    plt.Line2D([0], [0], marker='s', color='w', markerfacecolor=color_mapping['meso'], markersize=10, label='Meso Level'),\n",
    "    plt.Line2D([0], [0], marker='v', color='w', markerfacecolor=color_mapping['macro'], markersize=10, label='Macro Level'),\n",
    "    plt.Line2D([0], [0], marker='D', color='w', markerfacecolor=color_mapping['radicalism'], markersize=10, label='Radicalism')\n",
    "]\n",
    "\n",
    "plt.legend(handles=legend_elements, loc='upper right')\n",
    "\n",
    "# Remove the frame\n",
    "ax = plt.gca()\n",
    "ax.spines['top'].set_visible(False)\n",
    "ax.spines['right'].set_visible(False)\n",
    "ax.spines['left'].set_visible(False)\n",
    "ax.spines['bottom'].set_visible(False)\n",
    "\n",
    "plt.savefig('RTMR_Output/abstracts_cooccurence_loneactor_excluding_radicalism.png', bbox_inches='tight', dpi=600)\n",
    "plt.show()\n"
   ]
  },
  {
   "cell_type": "markdown",
   "id": "18e84492-42f1-4fd9-8f4c-b046a5b2069a",
   "metadata": {},
   "source": [
    "### III. Comparison between Study 1 (Keywords) and Study 2 (Abstract)\n",
    "\n",
    "**Overlapping terms for frequencies**"
   ]
  },
  {
   "cell_type": "code",
   "execution_count": null,
   "id": "f665cf60-8123-46e9-89d7-c5c95642049a",
   "metadata": {},
   "outputs": [],
   "source": [
    "freq_df_st1 = pd.read_csv(r\"RTMR_Output/Keywords_freq_study1.csv\").sort_values(by= \"Frequency\", ascending=False).reset_index()\n",
    "freq_df_st2 = pd.read_csv(r\"RTMR_Output/Keywords_freq_study2.csv\").sort_values(by= \"Frequency\", ascending=False).reset_index()"
   ]
  },
  {
   "cell_type": "code",
   "execution_count": null,
   "id": "5b8dfb29-7273-48cb-a0b6-68e599e66a80",
   "metadata": {},
   "outputs": [],
   "source": [
    "print(\"Percentage of overlapping terms, based on study 1: \", len( set(freq_df_st1.Word).intersection(set(freq_df_st2.Word)) ) / len(freq_df_st1.Word) )\n",
    "print(\"Percentage of overlapping terms, based on study 2: \", len( set(freq_df_st1.Word).intersection(set(freq_df_st2.Word)) ) / len(freq_df_st2.Word) )\n",
    "print(\"Absolute number of overlapping terms: \", len( set(freq_df_st1.Word).intersection(set(freq_df_st2.Word)) ))"
   ]
  },
  {
   "cell_type": "code",
   "execution_count": null,
   "id": "168c62d5-2b62-49a4-9205-538eb8c42211",
   "metadata": {},
   "outputs": [],
   "source": [
    "## Unique terms per analysis\n",
    "\n",
    "print(\"Unique terms in KW analysis: \\n\", set(freq_df_st1.Word).difference(set(freq_df_st2.Word)))\n",
    "print(\"\\nUnique terms in Abstract analysis: \\n\", set(freq_df_st2.Word).difference(set(freq_df_st1.Word)))"
   ]
  },
  {
   "cell_type": "code",
   "execution_count": null,
   "id": "e82f35d3-5b2c-42c0-8644-64a0067d740d",
   "metadata": {},
   "outputs": [],
   "source": []
  },
  {
   "cell_type": "code",
   "execution_count": null,
   "id": "ec66e1bb-868f-43c3-a855-e823f7ac0cd0",
   "metadata": {},
   "outputs": [],
   "source": []
  },
  {
   "cell_type": "markdown",
   "id": "6400853c-542d-4e6f-93b8-db341ed81f25",
   "metadata": {},
   "source": [
    "## Mental Health occurrences across timeline"
   ]
  },
  {
   "cell_type": "code",
   "execution_count": null,
   "id": "8cf555fa-6ea5-4d5f-b3f7-72beed95d744",
   "metadata": {},
   "outputs": [],
   "source": [
    "year_df = dfTot[[\"record_id\",\"Publication Year\"]]"
   ]
  },
  {
   "cell_type": "code",
   "execution_count": null,
   "id": "6947057c-5495-4094-bb4a-5b4a84bc8743",
   "metadata": {},
   "outputs": [],
   "source": [
    "study1 = pd.read_json(\"RTMR_Output/clean_data_study1.json\")\n",
    "study2 = clean_data.drop(columns = [\"cat_keywords\"])"
   ]
  },
  {
   "cell_type": "code",
   "execution_count": null,
   "id": "f364921c-f651-4d33-87c0-7ec932acf2ce",
   "metadata": {},
   "outputs": [],
   "source": [
    "merged_df = pd.merge(study1, study2, on='record_id', how='outer')\n",
    "merged_df = pd.merge(year_df, merged_df, on='record_id', how='outer')\n",
    "merged_df"
   ]
  },
  {
   "cell_type": "code",
   "execution_count": null,
   "id": "ad9daac3-5296-4f34-b9e3-12b7fc16d819",
   "metadata": {},
   "outputs": [],
   "source": [
    "# Replace NaN values with empty lists\n",
    "merged_df['cat_keywords'] = merged_df['cat_keywords'].apply(lambda x: x if isinstance(x, list) else [])\n",
    "merged_df['cat_keywords2'] = merged_df['cat_keywords2'].apply(lambda x: x if isinstance(x, list) else [])\n"
   ]
  },
  {
   "cell_type": "code",
   "execution_count": null,
   "id": "6905795f-9ff8-4119-9731-0534d96bd14b",
   "metadata": {},
   "outputs": [],
   "source": [
    "articles_per_year = Counter(merged_df[\"Publication Year\"])"
   ]
  },
  {
   "cell_type": "code",
   "execution_count": null,
   "id": "f67fa126-60e3-4a8d-90d6-96bd015e0197",
   "metadata": {},
   "outputs": [],
   "source": []
  },
  {
   "cell_type": "code",
   "execution_count": null,
   "id": "099736df-ff0c-4948-80a8-e821edb3d909",
   "metadata": {},
   "outputs": [],
   "source": [
    "check_term = \"mental health\""
   ]
  },
  {
   "cell_type": "code",
   "execution_count": null,
   "id": "adcb8838-e7f5-49ca-b51c-92758f33a36c",
   "metadata": {},
   "outputs": [],
   "source": [
    "rels = merged_df[merged_df['cat_keywords'].apply(lambda x: check_term in x) | merged_df['cat_keywords2'].apply(lambda x: check_term in x)]\n",
    "mental_health_per_year = Counter(rels[\"Publication Year\"])"
   ]
  },
  {
   "cell_type": "code",
   "execution_count": null,
   "id": "d645a9fe-aa2d-41b1-bf88-7fa5913c1d99",
   "metadata": {},
   "outputs": [],
   "source": [
    "corrected_years = dict()\n",
    "for key, value in mental_health_per_year.items():\n",
    "    corrected_years[key] = value / articles_per_year[key]\n",
    "\n",
    "corrected_years = dict(sorted(corrected_years.items()))"
   ]
  },
  {
   "cell_type": "code",
   "execution_count": null,
   "id": "50b0f651-32f8-4da6-bfcf-45e582616ae0",
   "metadata": {},
   "outputs": [],
   "source": [
    "# Determine the range of years\n",
    "min_year = min(corrected_years.keys())\n",
    "max_year = max(corrected_years.keys())\n",
    "\n",
    "# Create a list of all years in the range\n",
    "all_years = list(range(min_year, max_year + 1))\n",
    "\n",
    "# Get the frequencies for all years, using 0 for years with no data\n",
    "frequencies = [corrected_years.get(year, 0) for year in all_years]\n",
    "\n",
    "# Plot the histogram\n",
    "plt.figure(figsize=(10, 6))\n",
    "\n",
    "plt.bar(all_years, frequencies, edgecolor='black', color='gray')\n",
    "\n",
    "# Customize the x-axis labels for better detail\n",
    "plt.xticks(all_years, rotation=45)  # Rotate labels to 45 degrees\n",
    "plt.xlabel('Publication Year', fontsize=12, labelpad=15)  # Add padding\n",
    "plt.ylabel(f'Frequency of {check_term}', fontsize=12, labelpad=15)  # Add padding\n",
    "\n",
    "# Remove the background grid\n",
    "plt.grid(False)\n",
    "\n",
    "# Save\n",
    "plt.savefig('RTMR_Output/abstracts_mentalhealth_hist.png', bbox_inches='tight', dpi=600)\n",
    "\n",
    "\n",
    "# Show the plot\n",
    "plt.tight_layout()\n",
    "plt.show()\n"
   ]
  },
  {
   "cell_type": "code",
   "execution_count": null,
   "id": "8a731ca4-d8c5-4f9e-8875-ef82f4503fda",
   "metadata": {},
   "outputs": [],
   "source": []
  },
  {
   "cell_type": "markdown",
   "id": "511bfec2-7368-423f-905b-e860290f9246",
   "metadata": {},
   "source": [
    "## Terms not occurring in co-occurrence"
   ]
  },
  {
   "cell_type": "code",
   "execution_count": null,
   "id": "72991fca-9593-465e-8d8b-7e2d1b3c729f",
   "metadata": {},
   "outputs": [],
   "source": [
    "print(\"Terms not occurring in co-occurrnece maps: \\n\", set(list(freq_df.Word)).difference(set(list(cooc_df_incl.term1) + list(cooc_df_incl.term2))))"
   ]
  },
  {
   "cell_type": "code",
   "execution_count": null,
   "id": "67c5e371-af54-4713-9687-65a52e19c8cc",
   "metadata": {},
   "outputs": [],
   "source": []
  },
  {
   "cell_type": "code",
   "execution_count": null,
   "id": "a6b1820b-e8c9-4a1b-873d-8da2fa813008",
   "metadata": {},
   "outputs": [],
   "source": []
  },
  {
   "cell_type": "code",
   "execution_count": null,
   "id": "9092de24-1f99-40e5-ba3a-1b56e2423ca3",
   "metadata": {},
   "outputs": [],
   "source": []
  },
  {
   "cell_type": "markdown",
   "id": "6cf57929-059e-41c0-81f3-cd435feeb6ae",
   "metadata": {},
   "source": [
    "## Binomial test for within vs. between category co-occurrences"
   ]
  },
  {
   "cell_type": "code",
   "execution_count": null,
   "id": "9f8d0865-9dc9-42a1-a9e9-f29556bbb143",
   "metadata": {},
   "outputs": [],
   "source": [
    "data_chi = cooc_df_excl.copy(deep=True)\n",
    "data_chi"
   ]
  },
  {
   "cell_type": "code",
   "execution_count": null,
   "id": "7e460a22-5e9f-4843-86b7-344631d5fc54",
   "metadata": {},
   "outputs": [],
   "source": [
    "# Define terms for each category based on your updated categorization\n",
    "micro_terms = [\n",
    "    \"ideology\", \"violence\", \"religiosity\", \"adolescence\", \"identity\", \"cognition\", \n",
    "    \"sex\", \"employment\", \"deprivation\", \"immigration\", \"emotion\", \"activism\", \n",
    "    \"criminality\", \"education\", \"nationalism\", \"populism\", \"status\", \"dogmatism\", \n",
    "    \"authoritarianism\", \"aggression\", \"morality\", \"mental health\", \"conservatism\", \n",
    "    \"minority\", \"sacred values\", \"age\", \"hate\", \"rationality\", \"prejudice\", \n",
    "    \"uncertainty\", \"trust\", \"personality\", \"liberalism\", \"intolerance\", \n",
    "    \"fundamentalism\", \"fear\", \"honor\", \"poverty\", \"white race\", \"superiority\", \n",
    "]\n",
    "\n",
    "meso_terms = [\n",
    "    \"social network\", \"threat\", \"diversity\", \"social exclusion\", \"discourse\", \n",
    "    \"family\", \"competition\", \"polarization\", \"discrimination\", \"group process\", \n",
    "    \"recruitment\", \"elites\", \"social media\", \"social coherence\", \"mobilization\", \n",
    "    \"integration\"\n",
    "]\n",
    "\n",
    "macro_terms = [\n",
    "    \"conflict\", \"state\", \"economy\", \"society\", \"politics\", \"justice\", \"norms\", \n",
    "    \"culture\", \"internet\", \"security\", \"region\", \"elections\", \"policy\", \"democracy\", \n",
    "    \"language\", \"international\", \"crisis\", \"institutions\", \"peace\", \"propaganda\", \n",
    "    \"military\"\n",
    "]\n",
    "\n",
    "# Function to categorize terms\n",
    "def categorize_terms(term):\n",
    "    if term in micro_terms:\n",
    "        return 'micro'\n",
    "    elif term in meso_terms:\n",
    "        return 'meso'\n",
    "    elif term in macro_terms:\n",
    "        return 'macro'\n",
    "    else:\n",
    "        return 'unknown'"
   ]
  },
  {
   "cell_type": "code",
   "execution_count": null,
   "id": "2d2977ca-0b12-4145-b975-ff91efd92e4f",
   "metadata": {},
   "outputs": [],
   "source": []
  },
  {
   "cell_type": "code",
   "execution_count": null,
   "id": "f21f7342-62d0-4004-b60e-693323a4694e",
   "metadata": {},
   "outputs": [],
   "source": [
    "# Apply categorization to terms\n",
    "data_chi['category1'] = data_chi['term1'].apply(categorize_terms)\n",
    "data_chi['category2'] = data_chi['term2'].apply(categorize_terms)\n",
    "\n",
    "# Filter out unknown categories\n",
    "cooc_df_filtered = data_chi[(data_chi['category1'] != 'unknown') & (data_chi['category2'] != 'unknown')]\n",
    "cooc_df_filtered"
   ]
  },
  {
   "cell_type": "code",
   "execution_count": null,
   "id": "12d75bcf-15d4-41f6-a57c-5ff39d64dedb",
   "metadata": {},
   "outputs": [],
   "source": [
    "## how often do the levels occurr\n",
    "freq_levels = Counter(list(cooc_df_filtered.category1) + list(cooc_df_filtered.category2))\n",
    "total_nodes = np.sum(list(freq_levels.values()))\n",
    "for key, value in freq_levels.items():\n",
    "    freq_levels[key] = value / total_nodes\n",
    "freq_levels"
   ]
  },
  {
   "cell_type": "code",
   "execution_count": null,
   "id": "dbc89336-be88-4672-9107-207677380369",
   "metadata": {},
   "outputs": [],
   "source": [
    "corrected_cooc = []\n",
    "total_edges = cooc_df_filtered.cooc.sum()\n",
    "for idx in cooc_df_filtered.index:\n",
    "    corrected_cooc.append( (cooc_df_filtered.loc[idx, \"cooc\"] / total_edges) / (freq_levels[cooc_df_filtered.loc[idx, \"category1\"]] * freq_levels[cooc_df_filtered.loc[idx, \"category2\"]]))\n",
    "\n",
    "cooc_df_filtered[\"corrected_cooc\"] = corrected_cooc\n",
    "cooc_df_filtered"
   ]
  },
  {
   "cell_type": "code",
   "execution_count": null,
   "id": "82395368-32e0-4ca2-b064-bf3139391ec2",
   "metadata": {},
   "outputs": [],
   "source": []
  },
  {
   "cell_type": "code",
   "execution_count": null,
   "id": "a760fb45-40a4-44e6-9087-f25bc45f58a7",
   "metadata": {},
   "outputs": [],
   "source": [
    "n = cooc_df_filtered.cooc.sum()\n",
    "n"
   ]
  },
  {
   "cell_type": "code",
   "execution_count": null,
   "id": "9af7bba4-2c44-481d-968d-31380afe09df",
   "metadata": {},
   "outputs": [],
   "source": [
    "occ_within = cooc_df_filtered.cooc[cooc_df_filtered.category1 == cooc_df_filtered.category2].sum()\n",
    "occ_between = cooc_df_filtered.cooc[cooc_df_filtered.category1 != cooc_df_filtered.category2].sum()\n",
    "print(\"within: \",occ_within)\n",
    "print(\"between: \", occ_between)"
   ]
  },
  {
   "cell_type": "code",
   "execution_count": null,
   "id": "82fccbf4-d658-4c46-8d2f-e98f8f1b0bf7",
   "metadata": {},
   "outputs": [],
   "source": [
    "occ_within = cooc_df_filtered.cooc[cooc_df_filtered.category1 == cooc_df_filtered.category2].sum()\n",
    "occ_between = cooc_df_filtered.cooc[cooc_df_filtered.category1 != cooc_df_filtered.category2].sum()\n",
    "print(\"within: \",occ_within)\n",
    "print(\"between: \", occ_between)"
   ]
  },
  {
   "cell_type": "code",
   "execution_count": null,
   "id": "6553c880-d94a-493b-9888-346bffde58fa",
   "metadata": {},
   "outputs": [],
   "source": [
    "print(f\"Contingency Table:\\n\\n   within between\\nyes {np.array(observed)[0]}\\nno  {np.array(observed)[1]}\")"
   ]
  },
  {
   "cell_type": "code",
   "execution_count": null,
   "id": "608fc345-15c7-48c7-8983-335eed9adc8c",
   "metadata": {},
   "outputs": [],
   "source": [
    "from scipy.stats import binom_test\n",
    "print(binom_test(x=occ_between, n= n, p=1/2))\n",
    "print(binom_test(x=occ_within, n= n, p=1/2))\n"
   ]
  },
  {
   "cell_type": "code",
   "execution_count": null,
   "id": "1bb5a9da-9319-4e2b-8ef0-d77dc92bb88b",
   "metadata": {},
   "outputs": [],
   "source": []
  }
 ],
 "metadata": {
  "kernelspec": {
   "display_name": "RadTMSR_env",
   "language": "python",
   "name": "radtmsr_env"
  },
  "language_info": {
   "codemirror_mode": {
    "name": "ipython",
    "version": 3
   },
   "file_extension": ".py",
   "mimetype": "text/x-python",
   "name": "python",
   "nbconvert_exporter": "python",
   "pygments_lexer": "ipython3",
   "version": "3.10.11"
  }
 },
 "nbformat": 4,
 "nbformat_minor": 5
}
