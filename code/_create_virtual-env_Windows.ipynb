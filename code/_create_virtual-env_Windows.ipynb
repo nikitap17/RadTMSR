{
 "cells": [
  {
   "cell_type": "markdown",
   "id": "531e9247-ae39-4b89-8819-7442036bd58d",
   "metadata": {},
   "source": [
    "# Reproducible code\n",
    "For maximal reproducibility, we recommend to run the following code, which will be executed in the command prompt (Windows). You are then required to change the analyses notebook's kernel to \"RadTMSR_env\", which stores all required versions of the used modules.\n",
    "\n",
    "**Written in Python 3.10**\n",
    "\n",
    "\n",
    "More information on virtualenv, please visit https://docs.python.org/3/library/venv.html\n"
   ]
  },
  {
   "cell_type": "code",
   "execution_count": null,
   "id": "58e6d92a-126c-4b3b-9e2b-433e824a8726",
   "metadata": {},
   "outputs": [],
   "source": [
    "%%cmd\n",
    "pip install virtualenv ipykernel"
   ]
  },
  {
   "cell_type": "code",
<<<<<<< HEAD
   "execution_count": 1,
=======
   "execution_count": null,
>>>>>>> revision
   "id": "887c1556-e335-43d4-a297-9e4d184d2cbe",
   "metadata": {
    "scrolled": true
   },
<<<<<<< HEAD
   "outputs": [
    {
     "name": "stdout",
     "output_type": "stream",
     "text": [
      "Microsoft Windows [Version 10.0.26100.4652]\n",
      "(c) Microsoft Corporation. Alle Rechte vorbehalten.\n",
      "\n",
      "C:\\Users\\NikitaPodolin\\OneDrive - Cronbach GmbH\\Dokumente\\Privat\\Research\\RadTMSR\\code>python -m venv RadTMSR_env\n",
      "\n",
      "C:\\Users\\NikitaPodolin\\OneDrive - Cronbach GmbH\\Dokumente\\Privat\\Research\\RadTMSR\\code>RadTMSR_env\\Scripts\\activate.bat\n",
      "\n",
      "(RadTMSR_env) C:\\Users\\NikitaPodolin\\OneDrive - Cronbach GmbH\\Dokumente\\Privat\\Research\\RadTMSR\\code>pip install -r requirements.txt\n",
      "Collecting en-core-web-sm==3.7.1 (from -r requirements.txt (line 7))\n",
      "  Downloading https://github.com/explosion/spacy-models/releases/download/en_core_web_sm-3.7.1/en_core_web_sm-3.7.1-py3-none-any.whl (12.8 MB)\n",
      "     ---------------------------------------- 12.8/12.8 MB 5.7 MB/s eta 0:00:00\n",
      "Collecting ipykernel==6.28.0 (from -r requirements.txt (line 1))\n",
      "  Using cached ipykernel-6.28.0-py3-none-any.whl.metadata (6.0 kB)\n",
      "Requirement already satisfied: pandas==2.1.1 in c:\\users\\nikitapodolin\\onedrive - cronbach gmbh\\dokumente\\privat\\research\\radtmsr\\code\\radtmsr_env\\lib\\site-packages (from -r requirements.txt (line 2)) (2.1.1)\n",
      "Requirement already satisfied: regex==2023.10.3 in c:\\users\\nikitapodolin\\onedrive - cronbach gmbh\\dokumente\\privat\\research\\radtmsr\\code\\radtmsr_env\\lib\\site-packages (from -r requirements.txt (line 3)) (2023.10.3)\n",
      "Collecting numpy==1.26.2 (from -r requirements.txt (line 4))\n",
      "  Using cached numpy-1.26.2.tar.gz (15.7 MB)\n",
      "  Installing build dependencies: started\n",
      "  Installing build dependencies: finished with status 'done'\n",
      "  Getting requirements to build wheel: started\n",
      "  Getting requirements to build wheel: finished with status 'done'\n",
      "  Installing backend dependencies: started\n",
      "  Installing backend dependencies: finished with status 'done'\n",
      "  Preparing metadata (pyproject.toml): started\n",
      "  Preparing metadata (pyproject.toml): still running...\n",
      "  Preparing metadata (pyproject.toml): still running...\n",
      "  Preparing metadata (pyproject.toml): finished with status 'done'\n",
      "Collecting matplotlib==3.8.0 (from -r requirements.txt (line 5))\n",
      "  Downloading matplotlib-3.8.0.tar.gz (35.9 MB)\n",
      "     ---------------------------------------- 35.9/35.9 MB 6.5 MB/s eta 0:00:00\n",
      "  Installing build dependencies: started\n",
      "  Installing build dependencies: finished with status 'done'\n",
      "  Getting requirements to build wheel: started\n",
      "  Getting requirements to build wheel: finished with status 'done'\n",
      "  Preparing metadata (pyproject.toml): started\n",
      "  Preparing metadata (pyproject.toml): finished with status 'done'\n",
      "Requirement already satisfied: spacy==3.7.2 in c:\\users\\nikitapodolin\\onedrive - cronbach gmbh\\dokumente\\privat\\research\\radtmsr\\code\\radtmsr_env\\lib\\site-packages (from -r requirements.txt (line 6)) (3.7.2)\n",
      "Requirement already satisfied: stop-words==2018.7.23 in c:\\users\\nikitapodolin\\onedrive - cronbach gmbh\\dokumente\\privat\\research\\radtmsr\\code\\radtmsr_env\\lib\\site-packages (from -r requirements.txt (line 8)) (2018.7.23)\n",
      "Requirement already satisfied: country-list==1.0.0 in c:\\users\\nikitapodolin\\onedrive - cronbach gmbh\\dokumente\\privat\\research\\radtmsr\\code\\radtmsr_env\\lib\\site-packages (from -r requirements.txt (line 9)) (1.0.0)\n",
      "Requirement already satisfied: networkx==3.3 in c:\\users\\nikitapodolin\\onedrive - cronbach gmbh\\dokumente\\privat\\research\\radtmsr\\code\\radtmsr_env\\lib\\site-packages (from -r requirements.txt (line 10)) (3.3)\n",
      "Requirement already satisfied: scipy==1.11.3 in c:\\users\\nikitapodolin\\onedrive - cronbach gmbh\\dokumente\\privat\\research\\radtmsr\\code\\radtmsr_env\\lib\\site-packages (from -r requirements.txt (line 11)) (1.11.3)\n",
      "Requirement already satisfied: openpyxl==3.1.2 in c:\\users\\nikitapodolin\\onedrive - cronbach gmbh\\dokumente\\privat\\research\\radtmsr\\code\\radtmsr_env\\lib\\site-packages (from -r requirements.txt (line 12)) (3.1.2)\n",
      "Requirement already satisfied: comm>=0.1.1 in c:\\users\\nikitapodolin\\onedrive - cronbach gmbh\\dokumente\\privat\\research\\radtmsr\\code\\radtmsr_env\\lib\\site-packages (from ipykernel==6.28.0->-r requirements.txt (line 1)) (0.2.2)\n",
      "Requirement already satisfied: debugpy>=1.6.5 in c:\\users\\nikitapodolin\\onedrive - cronbach gmbh\\dokumente\\privat\\research\\radtmsr\\code\\radtmsr_env\\lib\\site-packages (from ipykernel==6.28.0->-r requirements.txt (line 1)) (1.8.14)\n",
      "Requirement already satisfied: ipython>=7.23.1 in c:\\users\\nikitapodolin\\onedrive - cronbach gmbh\\dokumente\\privat\\research\\radtmsr\\code\\radtmsr_env\\lib\\site-packages (from ipykernel==6.28.0->-r requirements.txt (line 1)) (9.4.0)\n",
      "Requirement already satisfied: jupyter-client>=6.1.12 in c:\\users\\nikitapodolin\\onedrive - cronbach gmbh\\dokumente\\privat\\research\\radtmsr\\code\\radtmsr_env\\lib\\site-packages (from ipykernel==6.28.0->-r requirements.txt (line 1)) (8.6.3)\n",
      "Requirement already satisfied: jupyter-core!=5.0.*,>=4.12 in c:\\users\\nikitapodolin\\onedrive - cronbach gmbh\\dokumente\\privat\\research\\radtmsr\\code\\radtmsr_env\\lib\\site-packages (from ipykernel==6.28.0->-r requirements.txt (line 1)) (5.8.1)\n",
      "Requirement already satisfied: matplotlib-inline>=0.1 in c:\\users\\nikitapodolin\\onedrive - cronbach gmbh\\dokumente\\privat\\research\\radtmsr\\code\\radtmsr_env\\lib\\site-packages (from ipykernel==6.28.0->-r requirements.txt (line 1)) (0.1.7)\n",
      "Requirement already satisfied: nest-asyncio in c:\\users\\nikitapodolin\\onedrive - cronbach gmbh\\dokumente\\privat\\research\\radtmsr\\code\\radtmsr_env\\lib\\site-packages (from ipykernel==6.28.0->-r requirements.txt (line 1)) (1.6.0)\n",
      "Requirement already satisfied: packaging in c:\\users\\nikitapodolin\\onedrive - cronbach gmbh\\dokumente\\privat\\research\\radtmsr\\code\\radtmsr_env\\lib\\site-packages (from ipykernel==6.28.0->-r requirements.txt (line 1)) (25.0)\n",
      "Requirement already satisfied: psutil in c:\\users\\nikitapodolin\\onedrive - cronbach gmbh\\dokumente\\privat\\research\\radtmsr\\code\\radtmsr_env\\lib\\site-packages (from ipykernel==6.28.0->-r requirements.txt (line 1)) (7.0.0)\n",
      "Requirement already satisfied: pyzmq>=24 in c:\\users\\nikitapodolin\\onedrive - cronbach gmbh\\dokumente\\privat\\research\\radtmsr\\code\\radtmsr_env\\lib\\site-packages (from ipykernel==6.28.0->-r requirements.txt (line 1)) (27.0.0)\n",
      "Requirement already satisfied: tornado>=6.1 in c:\\users\\nikitapodolin\\onedrive - cronbach gmbh\\dokumente\\privat\\research\\radtmsr\\code\\radtmsr_env\\lib\\site-packages (from ipykernel==6.28.0->-r requirements.txt (line 1)) (6.5.1)\n",
      "Requirement already satisfied: traitlets>=5.4.0 in c:\\users\\nikitapodolin\\onedrive - cronbach gmbh\\dokumente\\privat\\research\\radtmsr\\code\\radtmsr_env\\lib\\site-packages (from ipykernel==6.28.0->-r requirements.txt (line 1)) (5.14.3)\n",
      "Requirement already satisfied: python-dateutil>=2.8.2 in c:\\users\\nikitapodolin\\onedrive - cronbach gmbh\\dokumente\\privat\\research\\radtmsr\\code\\radtmsr_env\\lib\\site-packages (from pandas==2.1.1->-r requirements.txt (line 2)) (2.9.0.post0)\n",
      "Requirement already satisfied: pytz>=2020.1 in c:\\users\\nikitapodolin\\onedrive - cronbach gmbh\\dokumente\\privat\\research\\radtmsr\\code\\radtmsr_env\\lib\\site-packages (from pandas==2.1.1->-r requirements.txt (line 2)) (2024.1)\n",
      "Requirement already satisfied: tzdata>=2022.1 in c:\\users\\nikitapodolin\\onedrive - cronbach gmbh\\dokumente\\privat\\research\\radtmsr\\code\\radtmsr_env\\lib\\site-packages (from pandas==2.1.1->-r requirements.txt (line 2)) (2024.1)\n",
      "Requirement already satisfied: contourpy>=1.0.1 in c:\\users\\nikitapodolin\\onedrive - cronbach gmbh\\dokumente\\privat\\research\\radtmsr\\code\\radtmsr_env\\lib\\site-packages (from matplotlib==3.8.0->-r requirements.txt (line 5)) (1.3.2)\n",
      "Requirement already satisfied: cycler>=0.10 in c:\\users\\nikitapodolin\\onedrive - cronbach gmbh\\dokumente\\privat\\research\\radtmsr\\code\\radtmsr_env\\lib\\site-packages (from matplotlib==3.8.0->-r requirements.txt (line 5)) (0.12.1)\n",
      "Requirement already satisfied: fonttools>=4.22.0 in c:\\users\\nikitapodolin\\onedrive - cronbach gmbh\\dokumente\\privat\\research\\radtmsr\\code\\radtmsr_env\\lib\\site-packages (from matplotlib==3.8.0->-r requirements.txt (line 5)) (4.58.5)\n",
      "Requirement already satisfied: kiwisolver>=1.0.1 in c:\\users\\nikitapodolin\\onedrive - cronbach gmbh\\dokumente\\privat\\research\\radtmsr\\code\\radtmsr_env\\lib\\site-packages (from matplotlib==3.8.0->-r requirements.txt (line 5)) (1.4.8)\n",
      "Requirement already satisfied: pillow>=6.2.0 in c:\\users\\nikitapodolin\\onedrive - cronbach gmbh\\dokumente\\privat\\research\\radtmsr\\code\\radtmsr_env\\lib\\site-packages (from matplotlib==3.8.0->-r requirements.txt (line 5)) (11.3.0)\n",
      "Requirement already satisfied: pyparsing>=2.3.1 in c:\\users\\nikitapodolin\\onedrive - cronbach gmbh\\dokumente\\privat\\research\\radtmsr\\code\\radtmsr_env\\lib\\site-packages (from matplotlib==3.8.0->-r requirements.txt (line 5)) (3.2.3)\n",
      "Requirement already satisfied: spacy-legacy<3.1.0,>=3.0.11 in c:\\users\\nikitapodolin\\onedrive - cronbach gmbh\\dokumente\\privat\\research\\radtmsr\\code\\radtmsr_env\\lib\\site-packages (from spacy==3.7.2->-r requirements.txt (line 6)) (3.0.12)\n",
      "Requirement already satisfied: spacy-loggers<2.0.0,>=1.0.0 in c:\\users\\nikitapodolin\\onedrive - cronbach gmbh\\dokumente\\privat\\research\\radtmsr\\code\\radtmsr_env\\lib\\site-packages (from spacy==3.7.2->-r requirements.txt (line 6)) (1.0.5)\n",
      "Requirement already satisfied: murmurhash<1.1.0,>=0.28.0 in c:\\users\\nikitapodolin\\onedrive - cronbach gmbh\\dokumente\\privat\\research\\radtmsr\\code\\radtmsr_env\\lib\\site-packages (from spacy==3.7.2->-r requirements.txt (line 6)) (1.0.10)\n",
      "Requirement already satisfied: cymem<2.1.0,>=2.0.2 in c:\\users\\nikitapodolin\\onedrive - cronbach gmbh\\dokumente\\privat\\research\\radtmsr\\code\\radtmsr_env\\lib\\site-packages (from spacy==3.7.2->-r requirements.txt (line 6)) (2.0.8)\n",
      "Requirement already satisfied: preshed<3.1.0,>=3.0.2 in c:\\users\\nikitapodolin\\onedrive - cronbach gmbh\\dokumente\\privat\\research\\radtmsr\\code\\radtmsr_env\\lib\\site-packages (from spacy==3.7.2->-r requirements.txt (line 6)) (3.0.9)\n",
      "Requirement already satisfied: thinc<8.3.0,>=8.1.8 in c:\\users\\nikitapodolin\\onedrive - cronbach gmbh\\dokumente\\privat\\research\\radtmsr\\code\\radtmsr_env\\lib\\site-packages (from spacy==3.7.2->-r requirements.txt (line 6)) (8.2.5)\n",
      "Requirement already satisfied: wasabi<1.2.0,>=0.9.1 in c:\\users\\nikitapodolin\\onedrive - cronbach gmbh\\dokumente\\privat\\research\\radtmsr\\code\\radtmsr_env\\lib\\site-packages (from spacy==3.7.2->-r requirements.txt (line 6)) (1.1.3)\n",
      "Requirement already satisfied: srsly<3.0.0,>=2.4.3 in c:\\users\\nikitapodolin\\onedrive - cronbach gmbh\\dokumente\\privat\\research\\radtmsr\\code\\radtmsr_env\\lib\\site-packages (from spacy==3.7.2->-r requirements.txt (line 6)) (2.4.8)\n",
      "Requirement already satisfied: catalogue<2.1.0,>=2.0.6 in c:\\users\\nikitapodolin\\onedrive - cronbach gmbh\\dokumente\\privat\\research\\radtmsr\\code\\radtmsr_env\\lib\\site-packages (from spacy==3.7.2->-r requirements.txt (line 6)) (2.0.10)\n",
      "Requirement already satisfied: weasel<0.4.0,>=0.1.0 in c:\\users\\nikitapodolin\\onedrive - cronbach gmbh\\dokumente\\privat\\research\\radtmsr\\code\\radtmsr_env\\lib\\site-packages (from spacy==3.7.2->-r requirements.txt (line 6)) (0.3.4)\n",
      "Requirement already satisfied: typer<0.10.0,>=0.3.0 in c:\\users\\nikitapodolin\\onedrive - cronbach gmbh\\dokumente\\privat\\research\\radtmsr\\code\\radtmsr_env\\lib\\site-packages (from spacy==3.7.2->-r requirements.txt (line 6)) (0.9.4)\n",
      "Requirement already satisfied: smart-open<7.0.0,>=5.2.1 in c:\\users\\nikitapodolin\\onedrive - cronbach gmbh\\dokumente\\privat\\research\\radtmsr\\code\\radtmsr_env\\lib\\site-packages (from spacy==3.7.2->-r requirements.txt (line 6)) (6.4.0)\n",
      "Requirement already satisfied: tqdm<5.0.0,>=4.38.0 in c:\\users\\nikitapodolin\\onedrive - cronbach gmbh\\dokumente\\privat\\research\\radtmsr\\code\\radtmsr_env\\lib\\site-packages (from spacy==3.7.2->-r requirements.txt (line 6)) (4.66.4)\n",
      "Requirement already satisfied: requests<3.0.0,>=2.13.0 in c:\\users\\nikitapodolin\\onedrive - cronbach gmbh\\dokumente\\privat\\research\\radtmsr\\code\\radtmsr_env\\lib\\site-packages (from spacy==3.7.2->-r requirements.txt (line 6)) (2.32.4)\n",
      "Requirement already satisfied: pydantic!=1.8,!=1.8.1,<3.0.0,>=1.7.4 in c:\\users\\nikitapodolin\\onedrive - cronbach gmbh\\dokumente\\privat\\research\\radtmsr\\code\\radtmsr_env\\lib\\site-packages (from spacy==3.7.2->-r requirements.txt (line 6)) (2.8.2)\n",
      "Requirement already satisfied: jinja2 in c:\\users\\nikitapodolin\\onedrive - cronbach gmbh\\dokumente\\privat\\research\\radtmsr\\code\\radtmsr_env\\lib\\site-packages (from spacy==3.7.2->-r requirements.txt (line 6)) (3.1.6)\n",
      "Requirement already satisfied: setuptools in c:\\users\\nikitapodolin\\onedrive - cronbach gmbh\\dokumente\\privat\\research\\radtmsr\\code\\radtmsr_env\\lib\\site-packages (from spacy==3.7.2->-r requirements.txt (line 6)) (80.9.0)\n",
      "Requirement already satisfied: langcodes<4.0.0,>=3.2.0 in c:\\users\\nikitapodolin\\onedrive - cronbach gmbh\\dokumente\\privat\\research\\radtmsr\\code\\radtmsr_env\\lib\\site-packages (from spacy==3.7.2->-r requirements.txt (line 6)) (3.4.0)\n",
      "Requirement already satisfied: et-xmlfile in c:\\users\\nikitapodolin\\onedrive - cronbach gmbh\\dokumente\\privat\\research\\radtmsr\\code\\radtmsr_env\\lib\\site-packages (from openpyxl==3.1.2->-r requirements.txt (line 12)) (1.1.0)\n",
      "Requirement already satisfied: colorama in c:\\users\\nikitapodolin\\onedrive - cronbach gmbh\\dokumente\\privat\\research\\radtmsr\\code\\radtmsr_env\\lib\\site-packages (from ipython>=7.23.1->ipykernel==6.28.0->-r requirements.txt (line 1)) (0.4.6)\n",
      "Requirement already satisfied: decorator in c:\\users\\nikitapodolin\\onedrive - cronbach gmbh\\dokumente\\privat\\research\\radtmsr\\code\\radtmsr_env\\lib\\site-packages (from ipython>=7.23.1->ipykernel==6.28.0->-r requirements.txt (line 1)) (5.2.1)\n",
      "Requirement already satisfied: ipython-pygments-lexers in c:\\users\\nikitapodolin\\onedrive - cronbach gmbh\\dokumente\\privat\\research\\radtmsr\\code\\radtmsr_env\\lib\\site-packages (from ipython>=7.23.1->ipykernel==6.28.0->-r requirements.txt (line 1)) (1.1.1)\n",
      "Requirement already satisfied: jedi>=0.16 in c:\\users\\nikitapodolin\\onedrive - cronbach gmbh\\dokumente\\privat\\research\\radtmsr\\code\\radtmsr_env\\lib\\site-packages (from ipython>=7.23.1->ipykernel==6.28.0->-r requirements.txt (line 1)) (0.19.2)\n",
      "Requirement already satisfied: prompt_toolkit<3.1.0,>=3.0.41 in c:\\users\\nikitapodolin\\onedrive - cronbach gmbh\\dokumente\\privat\\research\\radtmsr\\code\\radtmsr_env\\lib\\site-packages (from ipython>=7.23.1->ipykernel==6.28.0->-r requirements.txt (line 1)) (3.0.51)\n",
      "Requirement already satisfied: pygments>=2.4.0 in c:\\users\\nikitapodolin\\onedrive - cronbach gmbh\\dokumente\\privat\\research\\radtmsr\\code\\radtmsr_env\\lib\\site-packages (from ipython>=7.23.1->ipykernel==6.28.0->-r requirements.txt (line 1)) (2.19.2)\n",
      "Requirement already satisfied: stack_data in c:\\users\\nikitapodolin\\onedrive - cronbach gmbh\\dokumente\\privat\\research\\radtmsr\\code\\radtmsr_env\\lib\\site-packages (from ipython>=7.23.1->ipykernel==6.28.0->-r requirements.txt (line 1)) (0.6.3)\n",
      "Requirement already satisfied: platformdirs>=2.5 in c:\\users\\nikitapodolin\\onedrive - cronbach gmbh\\dokumente\\privat\\research\\radtmsr\\code\\radtmsr_env\\lib\\site-packages (from jupyter-core!=5.0.*,>=4.12->ipykernel==6.28.0->-r requirements.txt (line 1)) (4.3.8)\n",
      "Requirement already satisfied: pywin32>=300 in c:\\users\\nikitapodolin\\onedrive - cronbach gmbh\\dokumente\\privat\\research\\radtmsr\\code\\radtmsr_env\\lib\\site-packages (from jupyter-core!=5.0.*,>=4.12->ipykernel==6.28.0->-r requirements.txt (line 1)) (310)\n",
      "Requirement already satisfied: language-data>=1.2 in c:\\users\\nikitapodolin\\onedrive - cronbach gmbh\\dokumente\\privat\\research\\radtmsr\\code\\radtmsr_env\\lib\\site-packages (from langcodes<4.0.0,>=3.2.0->spacy==3.7.2->-r requirements.txt (line 6)) (1.2.0)\n",
      "Requirement already satisfied: annotated-types>=0.4.0 in c:\\users\\nikitapodolin\\onedrive - cronbach gmbh\\dokumente\\privat\\research\\radtmsr\\code\\radtmsr_env\\lib\\site-packages (from pydantic!=1.8,!=1.8.1,<3.0.0,>=1.7.4->spacy==3.7.2->-r requirements.txt (line 6)) (0.7.0)\n",
      "Requirement already satisfied: pydantic-core==2.20.1 in c:\\users\\nikitapodolin\\onedrive - cronbach gmbh\\dokumente\\privat\\research\\radtmsr\\code\\radtmsr_env\\lib\\site-packages (from pydantic!=1.8,!=1.8.1,<3.0.0,>=1.7.4->spacy==3.7.2->-r requirements.txt (line 6)) (2.20.1)\n",
      "Requirement already satisfied: typing-extensions>=4.12.2 in c:\\users\\nikitapodolin\\onedrive - cronbach gmbh\\dokumente\\privat\\research\\radtmsr\\code\\radtmsr_env\\lib\\site-packages (from pydantic!=1.8,!=1.8.1,<3.0.0,>=1.7.4->spacy==3.7.2->-r requirements.txt (line 6)) (4.14.1)\n",
      "Requirement already satisfied: six>=1.5 in c:\\users\\nikitapodolin\\onedrive - cronbach gmbh\\dokumente\\privat\\research\\radtmsr\\code\\radtmsr_env\\lib\\site-packages (from python-dateutil>=2.8.2->pandas==2.1.1->-r requirements.txt (line 2)) (1.17.0)\n",
      "Requirement already satisfied: charset_normalizer<4,>=2 in c:\\users\\nikitapodolin\\onedrive - cronbach gmbh\\dokumente\\privat\\research\\radtmsr\\code\\radtmsr_env\\lib\\site-packages (from requests<3.0.0,>=2.13.0->spacy==3.7.2->-r requirements.txt (line 6)) (3.4.2)\n",
      "Requirement already satisfied: idna<4,>=2.5 in c:\\users\\nikitapodolin\\onedrive - cronbach gmbh\\dokumente\\privat\\research\\radtmsr\\code\\radtmsr_env\\lib\\site-packages (from requests<3.0.0,>=2.13.0->spacy==3.7.2->-r requirements.txt (line 6)) (3.10)\n",
      "Requirement already satisfied: urllib3<3,>=1.21.1 in c:\\users\\nikitapodolin\\onedrive - cronbach gmbh\\dokumente\\privat\\research\\radtmsr\\code\\radtmsr_env\\lib\\site-packages (from requests<3.0.0,>=2.13.0->spacy==3.7.2->-r requirements.txt (line 6)) (2.5.0)\n",
      "Requirement already satisfied: certifi>=2017.4.17 in c:\\users\\nikitapodolin\\onedrive - cronbach gmbh\\dokumente\\privat\\research\\radtmsr\\code\\radtmsr_env\\lib\\site-packages (from requests<3.0.0,>=2.13.0->spacy==3.7.2->-r requirements.txt (line 6)) (2025.7.9)\n",
      "Requirement already satisfied: blis<0.8.0,>=0.7.8 in c:\\users\\nikitapodolin\\onedrive - cronbach gmbh\\dokumente\\privat\\research\\radtmsr\\code\\radtmsr_env\\lib\\site-packages (from thinc<8.3.0,>=8.1.8->spacy==3.7.2->-r requirements.txt (line 6)) (0.7.11)\n",
      "Requirement already satisfied: confection<1.0.0,>=0.0.1 in c:\\users\\nikitapodolin\\onedrive - cronbach gmbh\\dokumente\\privat\\research\\radtmsr\\code\\radtmsr_env\\lib\\site-packages (from thinc<8.3.0,>=8.1.8->spacy==3.7.2->-r requirements.txt (line 6)) (0.1.5)\n",
      "Requirement already satisfied: click<9.0.0,>=7.1.1 in c:\\users\\nikitapodolin\\onedrive - cronbach gmbh\\dokumente\\privat\\research\\radtmsr\\code\\radtmsr_env\\lib\\site-packages (from typer<0.10.0,>=0.3.0->spacy==3.7.2->-r requirements.txt (line 6)) (8.1.7)\n",
      "Requirement already satisfied: cloudpathlib<0.17.0,>=0.7.0 in c:\\users\\nikitapodolin\\onedrive - cronbach gmbh\\dokumente\\privat\\research\\radtmsr\\code\\radtmsr_env\\lib\\site-packages (from weasel<0.4.0,>=0.1.0->spacy==3.7.2->-r requirements.txt (line 6)) (0.16.0)\n",
      "Requirement already satisfied: MarkupSafe>=2.0 in c:\\users\\nikitapodolin\\onedrive - cronbach gmbh\\dokumente\\privat\\research\\radtmsr\\code\\radtmsr_env\\lib\\site-packages (from jinja2->spacy==3.7.2->-r requirements.txt (line 6)) (3.0.2)\n",
      "Requirement already satisfied: parso<0.9.0,>=0.8.4 in c:\\users\\nikitapodolin\\onedrive - cronbach gmbh\\dokumente\\privat\\research\\radtmsr\\code\\radtmsr_env\\lib\\site-packages (from jedi>=0.16->ipython>=7.23.1->ipykernel==6.28.0->-r requirements.txt (line 1)) (0.8.4)\n",
      "Requirement already satisfied: marisa-trie>=0.7.7 in c:\\users\\nikitapodolin\\onedrive - cronbach gmbh\\dokumente\\privat\\research\\radtmsr\\code\\radtmsr_env\\lib\\site-packages (from language-data>=1.2->langcodes<4.0.0,>=3.2.0->spacy==3.7.2->-r requirements.txt (line 6)) (1.2.0)\n",
      "Requirement already satisfied: wcwidth in c:\\users\\nikitapodolin\\onedrive - cronbach gmbh\\dokumente\\privat\\research\\radtmsr\\code\\radtmsr_env\\lib\\site-packages (from prompt_toolkit<3.1.0,>=3.0.41->ipython>=7.23.1->ipykernel==6.28.0->-r requirements.txt (line 1)) (0.2.13)\n",
      "Requirement already satisfied: executing>=1.2.0 in c:\\users\\nikitapodolin\\onedrive - cronbach gmbh\\dokumente\\privat\\research\\radtmsr\\code\\radtmsr_env\\lib\\site-packages (from stack_data->ipython>=7.23.1->ipykernel==6.28.0->-r requirements.txt (line 1)) (2.2.0)\n",
      "Requirement already satisfied: asttokens>=2.1.0 in c:\\users\\nikitapodolin\\onedrive - cronbach gmbh\\dokumente\\privat\\research\\radtmsr\\code\\radtmsr_env\\lib\\site-packages (from stack_data->ipython>=7.23.1->ipykernel==6.28.0->-r requirements.txt (line 1)) (3.0.0)\n",
      "Requirement already satisfied: pure-eval in c:\\users\\nikitapodolin\\onedrive - cronbach gmbh\\dokumente\\privat\\research\\radtmsr\\code\\radtmsr_env\\lib\\site-packages (from stack_data->ipython>=7.23.1->ipykernel==6.28.0->-r requirements.txt (line 1)) (0.2.3)\n",
      "Downloading ipykernel-6.28.0-py3-none-any.whl (114 kB)\n",
      "Building wheels for collected packages: numpy, matplotlib\n",
      "  Building wheel for numpy (pyproject.toml): started\n",
      "  Building wheel for numpy (pyproject.toml): finished with status 'done'\n",
      "  Created wheel for numpy: filename=numpy-1.26.2-cp313-cp313-win_amd64.whl size=20733856 sha256=c8c62fe429b4a15a56bd3055295cc4e170e06cdc4be25f3141efe478479544f2\n",
      "  Stored in directory: c:\\users\\nikitapodolin\\appdata\\local\\pip\\cache\\wheels\\c9\\15\\32\\8370c1b87f23602d92aa9dd11d143dee8df8b5fc2fdbf2b40b\n",
      "  Building wheel for matplotlib (pyproject.toml): started\n",
      "  Building wheel for matplotlib (pyproject.toml): still running...\n",
      "  Building wheel for matplotlib (pyproject.toml): finished with status 'done'\n",
      "  Created wheel for matplotlib: filename=matplotlib-3.8.0-cp313-cp313-win_amd64.whl size=7460422 sha256=f40e8b70e3bdc2130602d0b37ac80e81eebf32aaad4b00468b7f7eaf5ec775f2\n",
      "  Stored in directory: c:\\users\\nikitapodolin\\appdata\\local\\pip\\cache\\wheels\\00\\9c\\62\\e55dbc07023f0ee8ec44a042266d943ae4789d4314153f01c2\n",
      "Successfully built numpy matplotlib\n",
      "Installing collected packages: numpy, matplotlib, ipykernel\n",
      "  Attempting uninstall: numpy\n",
      "    Found existing installation: numpy 2.3.1\n",
      "    Uninstalling numpy-2.3.1:\n",
      "      Successfully uninstalled numpy-2.3.1\n",
      "  Attempting uninstall: matplotlib\n",
      "    Found existing installation: matplotlib 3.10.3\n",
      "    Uninstalling matplotlib-3.10.3:\n",
      "      Successfully uninstalled matplotlib-3.10.3\n",
      "  Attempting uninstall: ipykernel\n",
      "    Found existing installation: ipykernel 6.29.5\n",
      "    Uninstalling ipykernel-6.29.5:\n",
      "      Successfully uninstalled ipykernel-6.29.5\n",
      "Successfully installed ipykernel-6.28.0 matplotlib-3.8.0 numpy-1.26.2\n"
     ]
    },
    {
     "name": "stderr",
     "output_type": "stream",
     "text": [
      "\n",
      "[notice] A new release of pip is available: 25.0.1 -> 25.1.1\n",
      "[notice] To update, run: python.exe -m pip install --upgrade pip\n"
     ]
    },
    {
     "name": "stdout",
     "output_type": "stream",
     "text": [
      "\n",
      "(RadTMSR_env) C:\\Users\\NikitaPodolin\\OneDrive - Cronbach GmbH\\Dokumente\\Privat\\Research\\RadTMSR\\code>"
     ]
    }
   ],
=======
   "outputs": [],
>>>>>>> revision
   "source": [
    "%%cmd\n",
    "python -m venv RadTMSR_env\n",
    "RadTMSR_env\\Scripts\\activate.bat\n",
    "pip install -r requirements.txt\n"
   ]
  },
  {
   "cell_type": "code",
<<<<<<< HEAD
   "execution_count": 1,
   "id": "c14498bc-ec88-46bd-9119-77c1fb666ffb",
   "metadata": {},
   "outputs": [
    {
     "name": "stdout",
     "output_type": "stream",
     "text": [
      "Microsoft Windows [Version 10.0.26100.4652]\n",
      "(c) Microsoft Corporation. Alle Rechte vorbehalten.\n",
      "\n",
      "C:\\Users\\NikitaPodolin\\OneDrive - Cronbach GmbH\\Dokumente\\Privat\\Research\\RadTMSR\\code>RadTMSR_env\\Scripts\\activate.bat\n",
      "\n",
      "C:\\Users\\NikitaPodolin\\OneDrive - Cronbach GmbH\\Dokumente\\Privat\\Research\\RadTMSR\\code>() \n",
      "\n",
      "(RadTMSR_env) C:\\Users\\NikitaPodolin\\OneDrive - Cronbach GmbH\\Dokumente\\Privat\\Research\\RadTMSR\\code>python -m ipykernel install --user --name RadTMSR_env --display-name \"Python (RadTMSR_env)\"\n",
      "Installed kernelspec RadTMSR_env in C:\\Users\\NikitaPodolin\\AppData\\Roaming\\jupyter\\kernels\\radtmsr_env\n",
      "\n",
      "(RadTMSR_env) C:\\Users\\NikitaPodolin\\OneDrive - Cronbach GmbH\\Dokumente\\Privat\\Research\\RadTMSR\\code>"
     ]
    }
   ],
=======
   "execution_count": null,
   "id": "c14498bc-ec88-46bd-9119-77c1fb666ffb",
   "metadata": {},
   "outputs": [],
>>>>>>> revision
   "source": [
    "%%cmd\n",
    "RadTMSR_env\\Scripts\\activate.bat\n",
    "pip install --force-reinstall --upgrade --no-cache-dir wheel pyzmq\n",
    "python -m ipykernel install --user --name RadTMSR_env --display-name \"RadTMSR_env\""
   ]
  }
 ],
 "metadata": {
  "kernelspec": {
   "display_name": "Python 3",
   "language": "python",
   "name": "python3"
  },
  "language_info": {
   "codemirror_mode": {
    "name": "ipython",
    "version": 3
   },
   "file_extension": ".py",
   "mimetype": "text/x-python",
   "name": "python",
   "nbconvert_exporter": "python",
   "pygments_lexer": "ipython3",
   "version": "3.11.8"
  }
 },
 "nbformat": 4,
 "nbformat_minor": 5
}
