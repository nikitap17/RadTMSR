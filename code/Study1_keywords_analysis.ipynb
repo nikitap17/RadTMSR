{
 "cells": [
  {
   "cell_type": "markdown",
   "id": "e125a583-dfdc-4ba0-831d-2aa6c7b57b66",
   "metadata": {},
   "source": [
    "# Reproducible code\n",
    "For maximal reproducibility, we recommend to run the \"Create_VirtualEnv....ipynb\", using the default shell of your OS or bash. You are then required to change the current notebook's kernel to \"RadTMSR_env\", which stores all required versions of the used modules.\n",
    "\n",
    "**Written in Python 4.20.11 and Jupyter Lab 4.0.7**\n"
   ]
  },
  {
   "cell_type": "code",
   "execution_count": 1,
   "id": "a5a54374-937f-44e1-bd77-33fc162ac831",
   "metadata": {},
   "outputs": [
    {
     "name": "stdin",
     "output_type": "stream",
     "text": [
      "Reassure that Kernel is set to RadTMSR_env before continuing \n"
     ]
    },
    {
     "data": {
      "text/plain": [
       "''"
      ]
     },
     "execution_count": 1,
     "metadata": {},
     "output_type": "execute_result"
    }
   ],
   "source": [
    "input(\"Reassure that Kernel is set to RadTMSR_env before continuing\")"
   ]
  },
  {
   "cell_type": "code",
   "execution_count": 2,
   "id": "59b998de-ff9e-4643-9589-16165fccf286",
   "metadata": {},
   "outputs": [],
   "source": [
    "import pandas as pd\n",
    "import re\n",
    "import numpy as np\n",
    "import matplotlib.pyplot as plt\n",
    "import os\n",
    "import subprocess\n",
    "import networkx as nx\n",
    "from scipy.stats import binom_test\n",
    "from collections import Counter\n",
    "#import requests"
   ]
  },
  {
   "cell_type": "code",
   "execution_count": 3,
   "id": "050ad955-4e99-4f16-bd8b-ea9d7776807b",
   "metadata": {},
   "outputs": [],
   "source": [
    "## create folder for storing output\n",
    "if not os.path.exists(\"RTMR_Output\"):\n",
    "    os.makedirs(\"RTMR_Output\")\n",
    "if not os.path.exists(\"RTMR_Output/Keywords\"):\n",
    "    os.makedirs(\"RTMR_Output/Keywords\")"
   ]
  },
  {
   "cell_type": "markdown",
   "id": "4deb1c1f-0ae1-4561-9603-3a6dab750558",
   "metadata": {},
   "source": [
    "#### **To run this script successfully, R has to be installed and Rscript.exe has to be in the local environment's PATH.**\n",
    "\n",
    "To ensure that Rscript.exe is in the PATH, follow the following steps:\n",
    "\n",
    "1. Run the cell below. If Rscript.exe is found, you are informed that R scripts can be run successfully. Otherwise, you are required to input the absolute directory of the Rscript.exe. To this end, follow the following guidance:\n",
    "\n",
    "2. Locate the Rscript.exe file, usually in the bin folder of your R installation directory. The path might look something like C:\\Program Files\\R\\R-x.x.x\\bin."
   ]
  },
  {
   "cell_type": "code",
   "execution_count": 4,
   "id": "8dea1e01-11e6-4df1-99bc-9297d346aa80",
   "metadata": {},
   "outputs": [
    {
     "name": "stdout",
     "output_type": "stream",
     "text": [
      "Rscript version: Rscript (R) version 4.3.0 (2023-04-21)\n",
      "\n",
      "R scripts can be successfully run.\n"
     ]
    }
   ],
   "source": [
    "try:\n",
    "    result = subprocess.run(['Rscript', '--version'], capture_output=True, text=True)\n",
    "    print(\"Rscript version:\", result.stdout)\n",
    "    print(\"R scripts can be successfully run.\")\n",
    "    \n",
    "except FileNotFoundError:\n",
    "    rscript_path = input(\"Rscript.exe not found. Please enter the absolute directory path where Rscript.exe is located: \")\n",
    "    #rscript_path = r\"C:/Program Files/R/R-4.3.2/bin\"\n",
    "    print(\"Absolute path provided: \", rscript_path)\n",
    "    \n",
    "    # Add the path to the PATH environment variable for the current session\n",
    "    os.environ['PATH'] += os.pathsep + rscript_path\n",
    "    \n",
    "    # Verify if Rscript is accessible this time\n",
    "    try:\n",
    "        result = subprocess.run(['Rscript', '--version'], capture_output=True, text=True)\n",
    "        print(\"Rscript version:\", result.stdout)\n",
    "        print(\"R scripts can be successfully run.\")\n",
    "    except FileNotFoundError:\n",
    "        raise Exception(\"Rscript not found. Please check the path.\")"
   ]
  },
  {
   "cell_type": "code",
   "execution_count": 5,
   "id": "f22d80fd-5bf6-41ee-b6e1-91f311d7d86f",
   "metadata": {},
   "outputs": [],
   "source": [
    "# Import data\n",
    "dfTot = pd.read_excel(\"asreview_dataset_relevant_Radicalization.xlsx\")\n",
    "#dfTot.head()"
   ]
  },
  {
   "cell_type": "code",
   "execution_count": null,
   "id": "8d9b987b-a2f9-444d-8658-6d218acf3db2",
   "metadata": {},
   "outputs": [],
   "source": []
  },
  {
   "cell_type": "markdown",
   "id": "c3150a1d-b63a-4081-b199-13de66501ca9",
   "metadata": {
    "id": "AeA4hVXHCs3b"
   },
   "source": [
    "# Data Overview"
   ]
  },
  {
   "cell_type": "code",
   "execution_count": 6,
   "id": "443b8359-b668-4a0b-9ed0-f11102437c62",
   "metadata": {
    "colab": {
     "base_uri": "https://localhost:8080/"
    },
    "id": "zAoe3OkE_Kwc",
    "outputId": "9f7055d3-f3f4-4578-e1e0-f0c510d67202"
   },
   "outputs": [
    {
     "name": "stdout",
     "output_type": "stream",
     "text": [
      "Number of articles (unprocessed): 4019\n"
     ]
    }
   ],
   "source": [
    "print('Number of articles (unprocessed): {}'.format(len(dfTot)))"
   ]
  },
  {
   "cell_type": "code",
   "execution_count": null,
   "id": "3f99b763-5774-4738-983e-adb07cfd4bc1",
   "metadata": {},
   "outputs": [],
   "source": []
  },
  {
   "cell_type": "markdown",
   "id": "db721e9b-cdde-40c6-9f2f-f66fe691bcf0",
   "metadata": {},
   "source": [
    "### Publication metrics"
   ]
  },
  {
   "cell_type": "code",
   "execution_count": 7,
   "id": "f672899f-e54a-4e11-aeb2-90524625a666",
   "metadata": {},
   "outputs": [],
   "source": [
    "dfTot[\"Title\"] = dfTot[\"Title\"].apply(lambda x: str(x).lower())"
   ]
  },
  {
   "cell_type": "code",
   "execution_count": 8,
   "id": "2f0a9536-b753-442f-b305-bf8617ec8536",
   "metadata": {
    "colab": {
     "base_uri": "https://localhost:8080/"
    },
    "id": "p2iLX3cWBCTa",
    "outputId": "23e04c66-aa05-43ec-cd81-8dc8f2e6b9ee"
   },
   "outputs": [
    {
     "data": {
      "text/plain": [
       "Publication Type\n",
       "J    3742\n",
       "C     233\n",
       "S      28\n",
       "B      16\n",
       "Name: count, dtype: int64"
      ]
     },
     "execution_count": 8,
     "metadata": {},
     "output_type": "execute_result"
    }
   ],
   "source": [
    "dfTot['Publication Type'].value_counts()"
   ]
  },
  {
   "cell_type": "code",
   "execution_count": 9,
   "id": "06cfa64f-785c-483c-b7f3-81c481adf8ee",
   "metadata": {
    "colab": {
     "base_uri": "https://localhost:8080/",
     "height": 485
    },
    "id": "yHcXy6mKAnha",
    "outputId": "da4d5e3d-61c4-471d-a8f7-20ae574855f8"
   },
   "outputs": [
    {
     "data": {
      "image/png": "[encoded data removed]",
      "text/plain": [
       "<Figure size 1000x600 with 1 Axes>"
      ]
     },
     "metadata": {},
     "output_type": "display_data"
    }
   ],
   "source": [
    "# Determine the range of years\n",
    "min_year = dfTot['Publication Year'].min()\n",
    "max_year = dfTot['Publication Year'].max()\n",
    "\n",
    "# Set the bin size to 2 years for detailed x-axis labels\n",
    "bins = range(min_year, max_year + 2, 2)  # Adding 2 to include the last year in the range\n",
    "\n",
    "# Plot the histogram\n",
    "plt.figure(figsize=(10, 6))\n",
    "dfTot['Publication Year'].hist(bins=bins, edgecolor='black', color='gray')\n",
    "\n",
    "# Customize the x-axis labels for better detail\n",
    "plt.xticks(bins, rotation=45)  # Rotate labels to 45 degrees\n",
    "plt.xlabel('Publication Year', fontsize=12, labelpad=15)  # Add padding to x-axis label\n",
    "plt.ylabel('Frequency', fontsize=12)\n",
    "plt.title(\"Publications per year\")\n",
    "\n",
    "# Remove the background grid\n",
    "plt.grid(False)\n",
    "\n",
    "# Adjust layout to make room for the caption\n",
    "plt.tight_layout(pad=3)\n",
    "\n",
    "#Save plot\n",
    "plt.savefig('RTMR_Output/publicationsperyear_hist.png', bbox_inches='tight', dpi=600)\n",
    "\n",
    "\n",
    "# Show the plot\n",
    "plt.show()\n"
   ]
  },
  {
   "cell_type": "code",
   "execution_count": 10,
   "id": "624d0518-3ba7-48bd-b02c-689ee6f581ad",
   "metadata": {
    "colab": {
     "base_uri": "https://localhost:8080/"
    },
    "id": "Fw09WNhYD1dp",
    "outputId": "f07371bf-b8c7-44e6-dcb8-9b9860599800"
   },
   "outputs": [
    {
     "name": "stdout",
     "output_type": "stream",
     "text": [
      "Number of Journals:  1114\n"
     ]
    }
   ],
   "source": [
    "print(\"Number of Journals: \", len(dfTot['Journal ISO Abbreviation'].unique()))"
   ]
  },
  {
   "cell_type": "code",
   "execution_count": null,
   "id": "f76b6b3c-b838-4b2a-aa54-63a34f9eee0c",
   "metadata": {},
   "outputs": [],
   "source": []
  },
  {
   "cell_type": "markdown",
   "id": "41b3c645-fb24-46ab-a9f6-ecfc8178fe18",
   "metadata": {},
   "source": [
    "* #### Freuquent authors"
   ]
  },
  {
   "cell_type": "code",
   "execution_count": 11,
   "id": "c242e92f-03bb-432c-aefa-0ec000ef5841",
   "metadata": {
    "colab": {
     "base_uri": "https://localhost:8080/",
     "height": 423
    },
    "id": "Wh6vXo2DESW3",
    "outputId": "1a185dad-2c2d-4730-d85c-2655824b2508"
   },
   "outputs": [
    {
     "data": {
      "text/html": [
       "<div>\n",
       "<style scoped>\n",
       "    .dataframe tbody tr th:only-of-type {\n",
       "        vertical-align: middle;\n",
       "    }\n",
       "\n",
       "    .dataframe tbody tr th {\n",
       "        vertical-align: top;\n",
       "    }\n",
       "\n",
       "    .dataframe thead th {\n",
       "        text-align: right;\n",
       "    }\n",
       "</style>\n",
       "<table border=\"1\" class=\"dataframe\">\n",
       "  <thead>\n",
       "    <tr style=\"text-align: right;\">\n",
       "      <th></th>\n",
       "      <th>count</th>\n",
       "    </tr>\n",
       "  </thead>\n",
       "  <tbody>\n",
       "    <tr>\n",
       "      <th>GillP</th>\n",
       "      <td>34</td>\n",
       "    </tr>\n",
       "    <tr>\n",
       "      <th>KruglanskiAW</th>\n",
       "      <td>24</td>\n",
       "    </tr>\n",
       "    <tr>\n",
       "      <th>FreilichJD</th>\n",
       "      <td>23</td>\n",
       "    </tr>\n",
       "    <tr>\n",
       "      <th>ChermakSM</th>\n",
       "      <td>22</td>\n",
       "    </tr>\n",
       "    <tr>\n",
       "      <th>RousseauC</th>\n",
       "      <td>20</td>\n",
       "    </tr>\n",
       "    <tr>\n",
       "      <th>...</th>\n",
       "      <td>...</td>\n",
       "    </tr>\n",
       "    <tr>\n",
       "      <th>DochartaighNO</th>\n",
       "      <td>1</td>\n",
       "    </tr>\n",
       "    <tr>\n",
       "      <th>MagniG</th>\n",
       "      <td>1</td>\n",
       "    </tr>\n",
       "    <tr>\n",
       "      <th>SgroPM</th>\n",
       "      <td>1</td>\n",
       "    </tr>\n",
       "    <tr>\n",
       "      <th>BhattacharyaS</th>\n",
       "      <td>1</td>\n",
       "    </tr>\n",
       "    <tr>\n",
       "      <th>ThorntonJ</th>\n",
       "      <td>1</td>\n",
       "    </tr>\n",
       "  </tbody>\n",
       "</table>\n",
       "<p>6272 rows × 1 columns</p>\n",
       "</div>"
      ],
      "text/plain": [
       "               count\n",
       "GillP             34\n",
       "KruglanskiAW      24\n",
       "FreilichJD        23\n",
       "ChermakSM         22\n",
       "RousseauC         20\n",
       "...              ...\n",
       "DochartaighNO      1\n",
       "MagniG             1\n",
       "SgroPM             1\n",
       "BhattacharyaS      1\n",
       "ThorntonJ          1\n",
       "\n",
       "[6272 rows x 1 columns]"
      ]
     },
     "execution_count": 11,
     "metadata": {},
     "output_type": "execute_result"
    }
   ],
   "source": [
    "clean_authors = dfTot['Authors'].apply(lambda x: re.sub(r'[^\\w;]', '', x))\n",
    "\n",
    "[(a.split(\";\")) for a in clean_authors]\n",
    "\n",
    "author_names = []\n",
    "for a in clean_authors:\n",
    "  names = a.split(\";\")\n",
    "  for name in names:\n",
    "    author_names.append(name)\n",
    "\n",
    "authors = pd.DataFrame(pd.Series(author_names).value_counts())\n",
    "authors"
   ]
  },
  {
   "cell_type": "code",
   "execution_count": null,
   "id": "94de0c42-e024-4880-a60c-9cccf09f230e",
   "metadata": {},
   "outputs": [],
   "source": []
  },
  {
   "cell_type": "markdown",
   "id": "24145cdc-19d3-483f-96ec-c2ac0c73b3ea",
   "metadata": {},
   "source": [
    "* #### Research fields / Journal categories "
   ]
  },
  {
   "cell_type": "markdown",
   "id": "52587cdd-621c-4cff-b553-8087545bd771",
   "metadata": {},
   "source": [
    "Research Areas"
   ]
  },
  {
   "cell_type": "code",
   "execution_count": 12,
   "id": "f29217d5-aeda-42c6-a91e-7111ee0cf639",
   "metadata": {
    "colab": {
     "base_uri": "https://localhost:8080/"
    },
    "id": "c0IDe38OGS1d",
    "outputId": "21bcebe6-66ff-497f-89a4-b4401fed04c8"
   },
   "outputs": [
    {
     "data": {
      "image/png": "[encoded data removed]",
      "text/plain": [
       "<Figure size 1000x600 with 1 Axes>"
      ]
     },
     "metadata": {},
     "output_type": "display_data"
    }
   ],
   "source": [
    "res_areas_freq = dfTot['Research Areas'].str.split(';').explode().str.strip().value_counts()\n",
    "res_areas_freq.to_excel('RTMR_Output/Research_Areas_freq.xlsx')\n",
    "\n",
    "# Plot\n",
    "plt.figure(figsize=(10, 6))\n",
    "#dfTot['Publication Year'].hist(bins=bins, edgecolor='black', color='gray')\n",
    "plt.bar(res_areas_freq.iloc[0:9].index, res_areas_freq.iloc[0:9], edgecolor='black', color='gray')\n",
    "\n",
    "# Customize the x-axis labels for better detail\n",
    "plt.xticks(rotation=45, ha = \"right\")  # Rotate labels to 45 degrees\n",
    "#plt.xlabel('Research Field', fontsize=12, labelpad=15)  # Add padding to x-axis label\n",
    "plt.ylabel('Frequency', fontsize=12, labelpad=15)\n",
    "plt.title(\"Top 10 Most Frequent Research Fields\", fontsize=14)\n",
    "\n",
    "# Adjust layout to make room for the caption\n",
    "plt.tight_layout(pad=3)\n",
    "\n",
    "#Save plot\n",
    "plt.savefig('RTMR_Output/Research_Areas_freq_barplot.png', bbox_inches='tight', dpi=600)\n",
    "\n",
    "# Show the plot\n",
    "plt.show()"
   ]
  },
  {
   "cell_type": "markdown",
   "id": "1eadeee4-200a-4c88-bfeb-c5c50f1dafd8",
   "metadata": {
    "id": "RtRCgmzLFKqn"
   },
   "source": [
    "WoS Categories"
   ]
  },
  {
   "cell_type": "code",
   "execution_count": 13,
   "id": "c1421b5d-69dc-4896-83e9-d48de9ad9e23",
   "metadata": {
    "colab": {
     "base_uri": "https://localhost:8080/"
    },
    "id": "jS8pWNlfFif0",
    "outputId": "16e2a71b-ab2d-4c27-b7af-f600d5fe8216"
   },
   "outputs": [
    {
     "data": {
      "image/png": "[encoded data removed]",
      "text/plain": [
       "<Figure size 1000x600 with 1 Axes>"
      ]
     },
     "metadata": {},
     "output_type": "display_data"
    }
   ],
   "source": [
    "wos_cat_freq = dfTot['WoS Categories'].str.split(';').explode().str.strip().value_counts()\n",
    "wos_cat_freq.to_excel('RTMR_Output/WoS_Categories_freq.xlsx')\n",
    "\n",
    "# Plot\n",
    "plt.figure(figsize=(10, 6))\n",
    "#dfTot['Publication Year'].hist(bins=bins, edgecolor='black', color='gray')\n",
    "plt.bar(wos_cat_freq.iloc[0:9].index, wos_cat_freq.iloc[0:9], edgecolor='black', color='gray')\n",
    "\n",
    "# Customize the x-axis labels for better detail\n",
    "plt.xticks(rotation=45, ha = \"right\")  # Rotate labels to 45 degrees\n",
    "#plt.xlabel('Research Field', fontsize=12, labelpad=15)  # Add padding to x-axis label\n",
    "plt.ylabel('Frequency', fontsize=12, labelpad=15)\n",
    "plt.title(\"Top 10 Most Frequent Web of Science Categories\", fontsize=14)\n",
    "\n",
    "# Adjust layout to make room for the caption\n",
    "plt.tight_layout(pad=3)\n",
    "\n",
    "#Save plot\n",
    "plt.savefig('RTMR_Output/WoS_Categories_freq_barplot.png', bbox_inches='tight', dpi=600)\n",
    "\n",
    "# Show the plot\n",
    "plt.show()"
   ]
  },
  {
   "cell_type": "code",
   "execution_count": null,
   "id": "4ba6debe-5bb3-4603-bf94-6787dd44f1cb",
   "metadata": {},
   "outputs": [],
   "source": []
  },
  {
   "cell_type": "code",
   "execution_count": null,
   "id": "3e1b6aa1-f20d-41d5-ba48-37378ee899c7",
   "metadata": {},
   "outputs": [],
   "source": []
  },
  {
   "cell_type": "markdown",
   "id": "d98cac51-2034-4137-b745-1db980bfd4fc",
   "metadata": {},
   "source": [
    "# Study 1 - Keywords Analysis"
   ]
  },
  {
   "cell_type": "markdown",
   "id": "019e6b89-3b01-4671-92c0-b1bb696003fe",
   "metadata": {},
   "source": [
    "# Preprocessing\n",
    "\n",
    "**Pipeline**:\n",
    "\n",
    "`data` --> `cleaning` --> `exclusion filter (stopwords, countries, exclusion terms)` --> `classification and replacement` --> `clean_data` --> `nounbydoc` --> *transfer to R* --> `negative binomial` --> `topic modelling` --> `frequence analysis` --> `co-occurrence analysis` --> *transfer to Python* --> `co-occurrence network map`"
   ]
  },
  {
   "cell_type": "code",
   "execution_count": 14,
   "id": "fd39115c-d0e0-4ac9-979a-d7a24ae0d6bd",
   "metadata": {},
   "outputs": [],
   "source": [
    "data = dfTot[[\"record_id\",\"Author Keywords\"]].copy()\n",
    "data.rename(columns={'Author Keywords': 'keywords'}, inplace=True)"
   ]
  },
  {
   "cell_type": "code",
   "execution_count": 15,
   "id": "3e250af0-1438-4f86-a3f9-44c77bdb173a",
   "metadata": {},
   "outputs": [],
   "source": [
    "data = data.dropna(subset = ['keywords'])"
   ]
  },
  {
   "cell_type": "code",
   "execution_count": 16,
   "id": "727005f0-bd0e-4df9-bc2e-802b1c66b99d",
   "metadata": {},
   "outputs": [
    {
     "data": {
      "text/plain": [
       "3093"
      ]
     },
     "execution_count": 16,
     "metadata": {},
     "output_type": "execute_result"
    }
   ],
   "source": [
    "len(data)"
   ]
  },
  {
   "cell_type": "markdown",
   "id": "cbbf1934-5f61-4e3b-9104-388b9a7b58eb",
   "metadata": {},
   "source": [
    "### 1. Cleaning"
   ]
  },
  {
   "cell_type": "code",
   "execution_count": 17,
   "id": "15221d16-6d4e-4bbd-a2a2-3449d8b76e06",
   "metadata": {
    "colab": {
     "base_uri": "https://localhost:8080/"
    },
    "id": "KTecbyNZMqff",
    "outputId": "167e791f-0fc1-46c1-90ef-94b131308415"
   },
   "outputs": [],
   "source": [
    "# Exclude NaNs\n",
    "data = data.dropna(subset = ['keywords'])\n",
    "\n",
    "# lower case, replace \"-\" with space, and split keywords\n",
    "data.keywords = data.keywords.apply(lambda x: x.replace(\"-\",\" \").split(\"; \"))\n",
    "data.keywords = data.keywords.apply(lambda x: [str(item).lower() for item in x])\n",
    "#data"
   ]
  },
  {
   "cell_type": "code",
   "execution_count": 18,
   "id": "2f7227da-7da1-4273-9491-3dabc7065fb2",
   "metadata": {},
   "outputs": [
    {
     "name": "stdout",
     "output_type": "stream",
     "text": [
      "Total number of keywords: 16751\n",
      "Number of unique keywords: 6608\n"
     ]
    }
   ],
   "source": [
    "print(f\"Total number of keywords: {len(data.keywords.sum())}\")\n",
    "print(f\"Number of unique keywords: {len(set(data.keywords.sum()))}\")\n"
   ]
  },
  {
   "cell_type": "code",
   "execution_count": null,
   "id": "fb74eee9-6ac9-4ea8-b37f-5df817fa6a6a",
   "metadata": {},
   "outputs": [],
   "source": []
  },
  {
   "cell_type": "markdown",
   "id": "8d603f16-9899-4fe7-9735-581426c37293",
   "metadata": {},
   "source": [
    "-------------------------------------------------------------------------------------------\n",
    "\n",
    "### *Frequency of countries and regions*\n",
    "(Has to be done before term exclusion)"
   ]
  },
  {
   "cell_type": "code",
   "execution_count": 19,
   "id": "d88cd30f-898f-4d2c-8530-a28578f82c8a",
   "metadata": {},
   "outputs": [],
   "source": [
    "from country_list import countries_for_language\n",
    "countries_dict = dict(countries_for_language('en'))\n",
    "countries_raw = list(countries_dict.values())\n",
    "countries = [term.lower() for term in countries_raw]\n",
    "\n",
    "region_list = ['africa','asia','europe','america','middle east',\n",
    "               \"western europe\", \"northern ireland\", \"hong kong\", \"basque country\",\n",
    "               \"eastern europe\", \"southeast asia\", \"south asia\", \"somali\", \"britain\", \"latin america\", \"central asia\",\n",
    "               \"palestine\", 'middle east and north africa']"
   ]
  },
  {
   "cell_type": "code",
   "execution_count": 20,
   "id": "c9a596dc-88fb-495c-942d-698f9b0e32a0",
   "metadata": {},
   "outputs": [
    {
     "data": {
      "image/png": "[encoded data removed]",
      "text/plain": [
       "<Figure size 800x1800 with 1 Axes>"
      ]
     },
     "metadata": {},
     "output_type": "display_data"
    }
   ],
   "source": [
    "freq_regions = {key: value for key, value in Counter(data.keywords.apply(lambda x: list(set(x))).sum()).items() if key in countries + region_list}\n",
    "freq_regions = pd.Series(dict(sorted(freq_regions.items(), key=lambda item: item[1])))\n",
    "\n",
    "freq_regions.to_excel('RTMR_Output/Keywords/Keywords_Regions_freq.xlsx')\n",
    "\n",
    "# Plot\n",
    "plt.figure(figsize=(8, 18))\n",
    "#dfTot['Publication Year'].hist(bins=bins, edgecolor='black', color='gray')\n",
    "plt.barh(freq_regions.index, freq_regions, edgecolor='black', color='gray')\n",
    "\n",
    "# Customize the x-axis labels for better detail\n",
    "plt.xticks(rotation=45, ha = \"right\")  # Rotate labels to 45 degrees\n",
    "#plt.xlabel('Research Field', fontsize=12, labelpad=15)  # Add padding to x-axis label\n",
    "plt.ylabel('Frequency', fontsize=12, labelpad=15)\n",
    "plt.title(\"Frequency of Countries and Regions (Keywords)\", fontsize=14)\n",
    "\n",
    "# Adjust layout to make room for the caption\n",
    "plt.tight_layout(pad=3)\n",
    "\n",
    "#Save plot\n",
    "plt.savefig('RTMR_Output/Keywords/Keywords_Regions_freq_barplot.png', bbox_inches='tight', dpi=600)\n",
    "\n",
    "# Show the plot\n",
    "plt.show()"
   ]
  },
  {
   "cell_type": "markdown",
   "id": "996f2ed7-c93b-4e4e-8b10-bf0661f3dac9",
   "metadata": {},
   "source": [
    "-----------------------------------------------------------------------------------------------------"
   ]
  },
  {
   "cell_type": "code",
   "execution_count": null,
   "id": "675e5345-3bbb-49f7-a986-7c5c800d1566",
   "metadata": {},
   "outputs": [],
   "source": []
  },
  {
   "cell_type": "markdown",
   "id": "ab263db5-33e3-41ad-a52d-e166f7179da1",
   "metadata": {},
   "source": [
    "### 2. Exclusion filter (stopwords, countries, and exclusion terms)"
   ]
  },
  {
   "cell_type": "code",
   "execution_count": 21,
   "id": "c380e423-932f-45d1-be30-6c123d8e9bb0",
   "metadata": {},
   "outputs": [],
   "source": [
    "from stop_words import get_stop_words\n",
    "stoplist = get_stop_words('en')"
   ]
  },
  {
   "cell_type": "code",
   "execution_count": 22,
   "id": "fcebcc76-bf84-411c-923a-15496449bd3b",
   "metadata": {},
   "outputs": [],
   "source": [
    "exclusion_list = pd.read_excel(\"Exclusion_def.xlsx\")\n",
    "excl_list = list(exclusion_list.Exclusion)\n",
    "excl_list = [str(item) for item in excl_list]\n",
    "region_list = ['africa','asia','europe','america','middle east',\n",
    "               \"western europe\", \"northern ireland\", \"hong kong\", \"basque country\",\n",
    "               \"eastern europe\", \"southeast asia\", \"south asia\", \"somali\", \"britain\", \"latin america\", \"central asia\",\n",
    "               \"palestine\", 'middle east and north africa']"
   ]
  },
  {
   "cell_type": "code",
   "execution_count": 23,
   "id": "1c6d95f1-7c25-41ae-b1f2-b40f054b831a",
   "metadata": {},
   "outputs": [],
   "source": [
    "exclusion_filter = set(excl_list + countries + stoplist + region_list)"
   ]
  },
  {
   "cell_type": "markdown",
   "id": "4b56e13e-aacc-4d90-b1ac-d4e81c6c32b2",
   "metadata": {},
   "source": [
    "*Apply exclusion filter*"
   ]
  },
  {
   "cell_type": "code",
   "execution_count": 24,
   "id": "79014f78-d59e-4638-8879-8ca8c2a3c500",
   "metadata": {},
   "outputs": [],
   "source": [
    "data.keywords = data.keywords.apply(lambda x: [item for item in x if item not in exclusion_filter])\n",
    "#data                                   "
   ]
  },
  {
   "cell_type": "code",
   "execution_count": 25,
   "id": "e8e2ac6f-972e-4be4-ab0d-440d414908be",
   "metadata": {},
   "outputs": [
    {
     "name": "stdout",
     "output_type": "stream",
     "text": [
      "Total number of keywords after exclusion: 14702\n",
      "Number of unique keywords after exclusion: 5728\n"
     ]
    }
   ],
   "source": [
    "print(f\"Total number of keywords after exclusion: {len(data.keywords.sum())}\")\n",
    "print(f\"Number of unique keywords after exclusion: {len(set(data.keywords.sum()))}\")"
   ]
  },
  {
   "cell_type": "markdown",
   "id": "28c06a57-5e6f-4c90-9ccb-7ac6329b0950",
   "metadata": {},
   "source": [
    "### 3. Term Classification and Replacement (TMSR dictionary.py)"
   ]
  },
  {
   "cell_type": "code",
   "execution_count": 26,
   "id": "75271d9e-b9b0-4797-a19e-deb8a7501a4e",
   "metadata": {},
   "outputs": [],
   "source": [
    "from TMSR_dictionary import word_dict\n",
    "from Word_functions.word_functions_py import classification, extend_keywords, to_nounbydoc"
   ]
  },
  {
   "cell_type": "code",
   "execution_count": 27,
   "id": "d5c78fc3-0f15-4a04-ab26-db89bf371c3a",
   "metadata": {},
   "outputs": [],
   "source": [
    "#keywords_list = sum(data.keywords, [])"
   ]
  },
  {
   "cell_type": "code",
   "execution_count": 28,
   "id": "7d627751-28a1-42b7-8ee7-88557e8db1e7",
   "metadata": {},
   "outputs": [],
   "source": [
    "#count_dict, uniques, terms_in_cat_dict = classification(keywords_list,word_dict)"
   ]
  },
  {
   "cell_type": "code",
   "execution_count": 29,
   "id": "2776f44d-144c-4771-8e3d-48f8062e2d92",
   "metadata": {
    "scrolled": true
   },
   "outputs": [],
   "source": [
    "#sorted(count_dict.items(), key=lambda item: item[1], reverse = True)"
   ]
  },
  {
   "cell_type": "code",
   "execution_count": 30,
   "id": "e1b21900-2215-4370-9d19-68aebd0d71b3",
   "metadata": {},
   "outputs": [],
   "source": [
    "#print(f\"{len(uniques)} not classified keywords, with {len(set(uniques))} unique terms.\")"
   ]
  },
  {
   "cell_type": "code",
   "execution_count": 31,
   "id": "f6c424d0-b8e2-4fee-885b-057bc4c9bffe",
   "metadata": {
    "scrolled": true
   },
   "outputs": [],
   "source": [
    "#frequency = Counter(uniques)\n",
    "#print(frequency)"
   ]
  },
  {
   "cell_type": "code",
   "execution_count": 32,
   "id": "2f779c6c-49ac-47c3-87d6-51c86e88b8a6",
   "metadata": {},
   "outputs": [
    {
     "data": {
      "text/html": [
       "<div>\n",
       "<style scoped>\n",
       "    .dataframe tbody tr th:only-of-type {\n",
       "        vertical-align: middle;\n",
       "    }\n",
       "\n",
       "    .dataframe tbody tr th {\n",
       "        vertical-align: top;\n",
       "    }\n",
       "\n",
       "    .dataframe thead th {\n",
       "        text-align: right;\n",
       "    }\n",
       "</style>\n",
       "<table border=\"1\" class=\"dataframe\">\n",
       "  <thead>\n",
       "    <tr style=\"text-align: right;\">\n",
       "      <th></th>\n",
       "      <th>record_id</th>\n",
       "      <th>keywords</th>\n",
       "      <th>cat_keywords</th>\n",
       "    </tr>\n",
       "  </thead>\n",
       "  <tbody>\n",
       "    <tr>\n",
       "      <th>0</th>\n",
       "      <td>50129</td>\n",
       "      <td>[goal shielding, passion, radicalization, sign...</td>\n",
       "      <td>[significance quest, radicalism, goal shieldin...</td>\n",
       "    </tr>\n",
       "    <tr>\n",
       "      <th>1</th>\n",
       "      <td>2624</td>\n",
       "      <td>[suicide attacks, extremism, radicalization, r...</td>\n",
       "      <td>[radicalism, fundamentalism]</td>\n",
       "    </tr>\n",
       "    <tr>\n",
       "      <th>2</th>\n",
       "      <td>35510</td>\n",
       "      <td>[social neuroscience, political neuroscience, ...</td>\n",
       "      <td>[group process, microsociology, political neur...</td>\n",
       "    </tr>\n",
       "    <tr>\n",
       "      <th>5</th>\n",
       "      <td>728</td>\n",
       "      <td>[uncertainty identity theory, social identity,...</td>\n",
       "      <td>[autocratic leadership, uncertainty, radicalis...</td>\n",
       "    </tr>\n",
       "    <tr>\n",
       "      <th>7</th>\n",
       "      <td>43755</td>\n",
       "      <td>[ideological extremism, homegrown terrorism, l...</td>\n",
       "      <td>[significance quest, radicalism, violence]</td>\n",
       "    </tr>\n",
       "    <tr>\n",
       "      <th>...</th>\n",
       "      <td>...</td>\n",
       "      <td>...</td>\n",
       "      <td>...</td>\n",
       "    </tr>\n",
       "    <tr>\n",
       "      <th>4012</th>\n",
       "      <td>18353</td>\n",
       "      <td>[institutional logics, microfoundations, polit...</td>\n",
       "      <td>[world culture, institutional logics, radicali...</td>\n",
       "    </tr>\n",
       "    <tr>\n",
       "      <th>4013</th>\n",
       "      <td>2048</td>\n",
       "      <td>[power, islam, muslim clergy, radical islam ex...</td>\n",
       "      <td>[muslim clergy, religiosity, radicalism, super...</td>\n",
       "    </tr>\n",
       "    <tr>\n",
       "      <th>4014</th>\n",
       "      <td>24073</td>\n",
       "      <td>[right wing extremism, fascism, women, golden ...</td>\n",
       "      <td>[sex, radicalism, far right, habitus, national...</td>\n",
       "    </tr>\n",
       "    <tr>\n",
       "      <th>4016</th>\n",
       "      <td>50382</td>\n",
       "      <td>[goal setting, goal formation, personality, so...</td>\n",
       "      <td>[goal formation, social attitudes, personality...</td>\n",
       "    </tr>\n",
       "    <tr>\n",
       "      <th>4017</th>\n",
       "      <td>2188</td>\n",
       "      <td>[pai teaching materials, religious tolerance, ...</td>\n",
       "      <td>[pai teaching materials, school, intolerance, ...</td>\n",
       "    </tr>\n",
       "  </tbody>\n",
       "</table>\n",
       "<p>3093 rows × 3 columns</p>\n",
       "</div>"
      ],
      "text/plain": [
       "      record_id                                           keywords  \\\n",
       "0         50129  [goal shielding, passion, radicalization, sign...   \n",
       "1          2624  [suicide attacks, extremism, radicalization, r...   \n",
       "2         35510  [social neuroscience, political neuroscience, ...   \n",
       "5           728  [uncertainty identity theory, social identity,...   \n",
       "7         43755  [ideological extremism, homegrown terrorism, l...   \n",
       "...         ...                                                ...   \n",
       "4012      18353  [institutional logics, microfoundations, polit...   \n",
       "4013       2048  [power, islam, muslim clergy, radical islam ex...   \n",
       "4014      24073  [right wing extremism, fascism, women, golden ...   \n",
       "4016      50382  [goal setting, goal formation, personality, so...   \n",
       "4017       2188  [pai teaching materials, religious tolerance, ...   \n",
       "\n",
       "                                           cat_keywords  \n",
       "0     [significance quest, radicalism, goal shieldin...  \n",
       "1                          [radicalism, fundamentalism]  \n",
       "2     [group process, microsociology, political neur...  \n",
       "5     [autocratic leadership, uncertainty, radicalis...  \n",
       "7            [significance quest, radicalism, violence]  \n",
       "...                                                 ...  \n",
       "4012  [world culture, institutional logics, radicali...  \n",
       "4013  [muslim clergy, religiosity, radicalism, super...  \n",
       "4014  [sex, radicalism, far right, habitus, national...  \n",
       "4016  [goal formation, social attitudes, personality...  \n",
       "4017  [pai teaching materials, school, intolerance, ...  \n",
       "\n",
       "[3093 rows x 3 columns]"
      ]
     },
     "execution_count": 32,
     "metadata": {},
     "output_type": "execute_result"
    }
   ],
   "source": [
    "clean_data = data.copy(deep = True)\n",
    "clean_data[\"cat_keywords\"] = clean_data.keywords.apply(lambda x: extend_keywords(x,word_dict))\n",
    "clean_data"
   ]
  },
  {
   "cell_type": "code",
   "execution_count": 33,
   "id": "05f84657-107b-44cf-871a-fa8d4da05f86",
   "metadata": {},
   "outputs": [],
   "source": [
    "clean_data.to_json(\"RTMR_Output/Keywords/Keywords_clean_data.json\", index = False)"
   ]
  },
  {
   "cell_type": "code",
   "execution_count": 34,
   "id": "2c6c1c3d-dbee-4207-ad8c-d3899e3d2626",
   "metadata": {},
   "outputs": [
    {
     "name": "stdout",
     "output_type": "stream",
     "text": [
      "Total number of keywords after classification: 13450\n",
      "Number of unique keywords after classification: 3122\n"
     ]
    }
   ],
   "source": [
    "print(f\"Total number of keywords after classification: {len(clean_data.cat_keywords.sum())}\")\n",
    "print(f\"Number of unique keywords after classification: {len(set(clean_data.cat_keywords.sum()))}\")"
   ]
  },
  {
   "cell_type": "code",
   "execution_count": null,
   "id": "b0a7c962-0a67-48b5-92f9-9d18affb3fe3",
   "metadata": {},
   "outputs": [],
   "source": []
  },
  {
   "cell_type": "markdown",
   "id": "50084216-0646-4f92-bf72-588be8aeb8ad",
   "metadata": {},
   "source": [
    "### 4. Nounbydoc\n",
    "\n",
    "Prepare data for van Lissa's code in R (negative binomial, topic modelling, cooccurrences)"
   ]
  },
  {
   "cell_type": "code",
   "execution_count": 35,
   "id": "854c56bd-e3b4-478b-b268-3dd49ea6247d",
   "metadata": {},
   "outputs": [
    {
     "data": {
      "text/html": [
       "<div>\n",
       "<style scoped>\n",
       "    .dataframe tbody tr th:only-of-type {\n",
       "        vertical-align: middle;\n",
       "    }\n",
       "\n",
       "    .dataframe tbody tr th {\n",
       "        vertical-align: top;\n",
       "    }\n",
       "\n",
       "    .dataframe thead th {\n",
       "        text-align: right;\n",
       "    }\n",
       "</style>\n",
       "<table border=\"1\" class=\"dataframe\">\n",
       "  <thead>\n",
       "    <tr style=\"text-align: right;\">\n",
       "      <th></th>\n",
       "      <th>doc_id</th>\n",
       "      <th>term</th>\n",
       "      <th>freq</th>\n",
       "    </tr>\n",
       "  </thead>\n",
       "  <tbody>\n",
       "    <tr>\n",
       "      <th>0</th>\n",
       "      <td>50129</td>\n",
       "      <td>significance quest</td>\n",
       "      <td>1</td>\n",
       "    </tr>\n",
       "    <tr>\n",
       "      <th>1</th>\n",
       "      <td>50129</td>\n",
       "      <td>radicalism</td>\n",
       "      <td>1</td>\n",
       "    </tr>\n",
       "    <tr>\n",
       "      <th>2</th>\n",
       "      <td>50129</td>\n",
       "      <td>goal shielding</td>\n",
       "      <td>1</td>\n",
       "    </tr>\n",
       "    <tr>\n",
       "      <th>3</th>\n",
       "      <td>50129</td>\n",
       "      <td>passion</td>\n",
       "      <td>1</td>\n",
       "    </tr>\n",
       "    <tr>\n",
       "      <th>4</th>\n",
       "      <td>2624</td>\n",
       "      <td>radicalism</td>\n",
       "      <td>1</td>\n",
       "    </tr>\n",
       "    <tr>\n",
       "      <th>...</th>\n",
       "      <td>...</td>\n",
       "      <td>...</td>\n",
       "      <td>...</td>\n",
       "    </tr>\n",
       "    <tr>\n",
       "      <th>13445</th>\n",
       "      <td>50382</td>\n",
       "      <td>goal setting</td>\n",
       "      <td>1</td>\n",
       "    </tr>\n",
       "    <tr>\n",
       "      <th>13446</th>\n",
       "      <td>2188</td>\n",
       "      <td>pai teaching materials</td>\n",
       "      <td>1</td>\n",
       "    </tr>\n",
       "    <tr>\n",
       "      <th>13447</th>\n",
       "      <td>2188</td>\n",
       "      <td>school</td>\n",
       "      <td>1</td>\n",
       "    </tr>\n",
       "    <tr>\n",
       "      <th>13448</th>\n",
       "      <td>2188</td>\n",
       "      <td>intolerance</td>\n",
       "      <td>1</td>\n",
       "    </tr>\n",
       "    <tr>\n",
       "      <th>13449</th>\n",
       "      <td>2188</td>\n",
       "      <td>students</td>\n",
       "      <td>1</td>\n",
       "    </tr>\n",
       "  </tbody>\n",
       "</table>\n",
       "<p>13450 rows × 3 columns</p>\n",
       "</div>"
      ],
      "text/plain": [
       "       doc_id                    term  freq\n",
       "0       50129      significance quest     1\n",
       "1       50129              radicalism     1\n",
       "2       50129          goal shielding     1\n",
       "3       50129                 passion     1\n",
       "4        2624              radicalism     1\n",
       "...       ...                     ...   ...\n",
       "13445   50382            goal setting     1\n",
       "13446    2188  pai teaching materials     1\n",
       "13447    2188                  school     1\n",
       "13448    2188             intolerance     1\n",
       "13449    2188                students     1\n",
       "\n",
       "[13450 rows x 3 columns]"
      ]
     },
     "execution_count": 35,
     "metadata": {},
     "output_type": "execute_result"
    }
   ],
   "source": [
    "nounbydoc = to_nounbydoc(clean_data, \"cat_keywords\")\n",
    "nounbydoc"
   ]
  },
  {
   "cell_type": "code",
   "execution_count": 36,
   "id": "dfe1968b-a9b6-4c71-a57f-5bf1df3affbd",
   "metadata": {},
   "outputs": [],
   "source": [
    "nounbydoc.to_csv(r\"RTMR_Output/Keywords/Keywords_nounbydoc.csv\", index = False)"
   ]
  },
  {
   "cell_type": "code",
   "execution_count": 37,
   "id": "6835bbb5-4e27-4ec0-a953-5748a1a28a49",
   "metadata": {},
   "outputs": [
    {
     "name": "stdout",
     "output_type": "stream",
     "text": [
      "Number of terms occurring only once:  2451\n"
     ]
    }
   ],
   "source": [
    "frequency = Counter(nounbydoc.term)\n",
    "one_hit_wonders = [term for term, n in frequency.items() if n == 1]\n",
    "print(\"Number of terms occurring only once: \", len(one_hit_wonders))"
   ]
  },
  {
   "cell_type": "markdown",
   "id": "14e92db7-a754-4f62-8b21-3402b4a5fb17",
   "metadata": {},
   "source": [
    "===========================================================================================================================\n",
    "\n",
    "### Run R script for:\n",
    "* Negative Binomial (Pruning)\n",
    "* Word Frequency\n",
    "* Topic Modelling\n",
    "* Term co-occurrences\n",
    "\n",
    "##### using van Lissa's R code\n",
    "  \n",
    "==========================================================================================================================="
   ]
  },
  {
   "cell_type": "code",
   "execution_count": null,
   "id": "06cab806-9991-4a52-aaf9-957c3f0ca0d3",
   "metadata": {},
   "outputs": [],
   "source": [
    "os.chdir(\"Word_functions\")\n",
    "r_script_path = 'keywords_processing.R'\n",
    "result = subprocess.run(['Rscript', r_script_path], capture_output=True, text=True)\n",
    "os.chdir(\"..\")\n",
    "\n",
    "if result.returncode == 0:\n",
    "    print(\"R script ran successfully\")\n",
    "else:\n",
    "    print(\"Error in running R script\")\n",
    "    print(result.stderr)\n",
    "    raise Exception(\"an error occurred\")"
   ]
  },
  {
   "cell_type": "markdown",
   "id": "fd6437f9-dc4b-47a3-949a-87bb30f7b3a5",
   "metadata": {},
   "source": [
    "## I. Word Frequency"
   ]
  },
  {
   "cell_type": "code",
   "execution_count": null,
   "id": "c1dc7218-97bd-47d9-b98f-93a1492be11d",
   "metadata": {},
   "outputs": [],
   "source": [
    "freq_df = pd.read_csv(r\"RTMR_Output/Keywords/Keywords_freq.csv\").sort_values(by= \"Frequency\", ascending=False).reset_index()\n",
    "len(freq_df)"
   ]
  },
  {
   "cell_type": "code",
   "execution_count": null,
   "id": "50f93a5b-c55f-46a0-a2d0-e5e029e474b5",
   "metadata": {},
   "outputs": [],
   "source": [
    "# Define the categorization\n",
    "micro_terms = [\"ideology\", \"violence\", \"religiosity\", \"adolescence\", \"identity\", \"cognition\", \n",
    "               \"sex\", \"employment\", \"deprivation\", \"emotion\", \"activism\", \"criminality\", \n",
    "               \"education\", \"nationalism\", \"populism\", \"status\", \"dogmatism\", \"authoritarianism\", \n",
    "               \"aggression\", \"morality\", \"mental health\", \"conservatism\", \"minority\", \n",
    "               \"sacred values\", \"age\", \"hate\", \"rationality\", \"prejudice\", \"uncertainty\", \n",
    "               \"trust\", \"personality\", \"liberalism\", \"intolerance\", \"fundamentalism\", \"fear\", \n",
    "               \"honor\", \"poverty\", \"white race\", \"superiority\", \"islamophobia\", \n",
    "               \"significance quest\", \"social movements\", \"masculinity\", \"conspiracy\", \n",
    "               \"misogyny\", \"racism\", \"martyrdom\", \"political engagement\", \"ptsd\", \"resilience\", \n",
    "               \"voting behavior\", \"misogyny\"]\n",
    "\n",
    "meso_terms = [\"social network\", \"threat\", \"diversity\", \"social exclusion\", \"norms\", \"internet\", \n",
    "              \"mobilization\", \"discourse\", \"integration\", \"family\", \"competition\", \"language\", \n",
    "              \"polarization\", \"discrimination\", \"group process\", \"recruitment\", \"elites\", \n",
    "              \"social media\", \"social cohesion\", \"social change\"]\n",
    "\n",
    "macro_terms = [\"conflict\", \"state\", \"economy\", \"society\", \"politics\", \"justice\", \"culture\", \n",
    "               \"security\", \"region\", \"elections\", \"policy\", \"democracy\", \"international\", \n",
    "               \"crisis\", \"institutions\", \"peace\", \"propaganda\", \"military\", \"globalization\", \n",
    "               \"immigration\"]\n",
    "\n",
    "theory_terms = [\"ideology\", \"violence\", \"social network\", \"conflict\", \"religiosity\", \"state\", \n",
    "                \"society\", \"identity\", \"politics\", \"cognition\", \"justice\", \"norms\", \"culture\", \n",
    "                \"threat\", \"superiority\", \"employment\", \"deprivation\", \"emotion\", \"activism\", \n",
    "                \"policy\", \"nationalism\", \"social exclusion\", \"status\", \"dogmatism\", \"mobilization\", \n",
    "                \"authoritarianism\", \"integration\", \"aggression\", \"morality\", \"competition\", \n",
    "                \"crisis\", \"sacred values\", \"discrimination\", \"group process\", \"rationality\", \n",
    "                \"prejudice\", \"uncertainty\", \"intolerance\", \"military\", \"fundamentalism\", \n",
    "                \"honor\", \"poverty\", \"significance quest\", \"social movements\", \"globalization\", \n",
    "                \"martyrdom\", \"political engagement\", \"resilience\", \"family\"]\n",
    "\n",
    "radicalism_terms = ['far right', \"far left\", \"islamist\", \"lone actor\", \"foreign fighter\", \"male supremacist\"]\n",
    "\n",
    "not_in_co_occ_map = {'intolerance', 'diversity', 'society', 'social movements', 'minority', \n",
    "                     'martyrdom', 'social change', 'social cohesion', 'political engagement', \n",
    "                     'resilience', 'discourse', 'competition', 'globalization', 'poverty', 'trust', \n",
    "                     'language', 'personality', 'state', 'white race', 'family', 'racism', 'peace', \n",
    "                     'status'}\n",
    "\n",
    "# Generate color mapping for shapes\n",
    "color_mapping = {\n",
    "    'micro': 'grey',  # Grey\n",
    "    'meso': '#6c9808',   # Green\n",
    "    'macro': '#d89b40',  # Orange\n",
    "    'radicalism': '#b50012'  # Red\n",
    "}\n",
    "\n",
    "plt_df = freq_df[freq_df.Word != \"radicalism\"].sort_values(by= \"Frequency\", ascending=True)\n",
    "\n",
    "\n",
    "# Define shape mapping for categories\n",
    "shape_dict = {word: ('o', color_mapping['micro']) for word in micro_terms}  # Circle for micro\n",
    "shape_dict.update({word: ('s', color_mapping['meso']) for word in meso_terms})  # Square for meso\n",
    "shape_dict.update({word: ('v', color_mapping['macro']) for word in macro_terms})  # Triangle for macro\n",
    "shape_dict.update({word: ('D', color_mapping['radicalism']) for word in radicalism_terms})  # Diamond for radicalism\n",
    "\n",
    "plt.figure(figsize=(10, 14))\n",
    "\n",
    "# Draw bars in the background\n",
    "for i, word in enumerate(plt_df['Word']):\n",
    "    if word in not_in_co_occ_map:\n",
    "        plt.barh(word, plt_df['Frequency'].iloc[i], color='#D3D3D3', height=0.5, hatch='..', edgecolor='grey', zorder=1)\n",
    "    else:\n",
    "        plt.barh(word, plt_df['Frequency'].iloc[i], color='#D3D3D3', height=0.1, edgecolor='grey', linewidth=2, zorder=1)\n",
    "\n",
    "# Add filled shapes for categories in the foreground\n",
    "shape_offset = 0.2\n",
    "for i, word in enumerate(plt_df['Word']):\n",
    "    shape, color = shape_dict.get(word, ('o', 'black'))\n",
    "    if word not in theory_terms:\n",
    "        plt.scatter(plt_df['Frequency'].iloc[i] + shape_offset, i, color=color, edgecolor=color, linewidth=1, s=50, marker=shape, facecolors=color, zorder=2)\n",
    "\n",
    "# Add hollow shapes for categories in the foreground with white filling\n",
    "for i, word in enumerate(plt_df['Word']):\n",
    "    shape, color = shape_dict.get(word, ('o', 'black'))\n",
    "    if word in theory_terms:\n",
    "        plt.scatter(plt_df['Frequency'].iloc[i] + shape_offset, i, color='white', edgecolor=color, linewidth=1, s=50, marker=shape, facecolors='white', zorder=3)\n",
    "\n",
    "plt.xlabel('Frequency Analysis 1', fontsize=12)  \n",
    "\n",
    "plt.tick_params(axis='x', labelsize=10)\n",
    "plt.tick_params(axis='y', labelsize=8)\n",
    "plt.savefig('RTMR_Output/Keywords/keywordsfull_frequency_of_words_wide.png', bbox_inches='tight', dpi=600)\n"
   ]
  },
  {
   "cell_type": "code",
   "execution_count": null,
   "id": "e3820d9b-7451-46de-a429-cede0db06255",
   "metadata": {},
   "outputs": [],
   "source": [
    "# Define the categorization\n",
    "micro_terms = [\"ideology\", \"violence\", \"religiosity\", \"adolescence\", \"identity\", \"cognition\", \n",
    "               \"sex\", \"employment\", \"deprivation\", \"emotion\", \"activism\", \"criminality\", \n",
    "               \"education\", \"nationalism\", \"populism\", \"status\", \"dogmatism\", \"authoritarianism\", \n",
    "               \"aggression\", \"morality\", \"mental health\", \"conservatism\", \"minority\", \n",
    "               \"sacred values\", \"age\", \"hate\", \"rationality\", \"prejudice\", \"uncertainty\", \n",
    "               \"trust\", \"personality\", \"liberalism\", \"intolerance\", \"fundamentalism\", \"fear\", \n",
    "               \"honor\", \"poverty\", \"white race\", \"superiority\", \"islamophobia\", \n",
    "               \"significance quest\", \"social movements\", \"masculinity\", \"conspiracy\", \n",
    "               \"misogyny\", \"racism\", \"martyrdom\", \"political engagement\", \"ptsd\", \"resilience\", \n",
    "               \"voting behavior\", \"misogyny\"]\n",
    "\n",
    "meso_terms = [\"social network\", \"threat\", \"diversity\", \"social exclusion\", \"norms\", \"internet\", \n",
    "              \"mobilization\", \"discourse\", \"integration\", \"family\", \"competition\", \"language\", \n",
    "              \"polarization\", \"discrimination\", \"group process\", \"recruitment\", \"elites\", \n",
    "              \"social media\", \"social cohesion\", \"social change\"]\n",
    "\n",
    "macro_terms = [\"conflict\", \"state\", \"economy\", \"society\", \"politics\", \"justice\", \"culture\", \n",
    "               \"security\", \"region\", \"elections\", \"policy\", \"democracy\", \"international\", \n",
    "               \"crisis\", \"institutions\", \"peace\", \"propaganda\", \"military\", \"globalization\", \n",
    "               \"immigration\"]\n",
    "\n",
    "theory_terms = [\"ideology\", \"violence\", \"social network\", \"conflict\", \"religiosity\", \"state\", \n",
    "                \"society\", \"identity\", \"politics\", \"cognition\", \"justice\", \"norms\", \"culture\", \n",
    "                \"threat\", \"superiority\", \"employment\", \"deprivation\", \"emotion\", \"activism\", \n",
    "                \"policy\", \"nationalism\", \"social exclusion\", \"status\", \"dogmatism\", \"mobilization\", \n",
    "                \"authoritarianism\", \"integration\", \"aggression\", \"morality\", \"competition\", \n",
    "                \"crisis\", \"sacred values\", \"discrimination\", \"group process\", \"rationality\", \n",
    "                \"prejudice\", \"uncertainty\", \"intolerance\", \"military\", \"fundamentalism\", \n",
    "                \"honor\", \"poverty\", \"significance quest\", \"social movements\", \"globalization\", \n",
    "                \"martyrdom\", \"political engagement\", \"resilience\", \"family\"]\n",
    "\n",
    "radicalism_terms = ['far right', \"far left\", \"islamist\", \"lone actor\", \"foreign fighter\", \"male supremacist\"]\n",
    "\n",
    "not_in_co_occ_map = {'intolerance', 'diversity', 'society', 'social movements', 'minority', \n",
    "                     'martyrdom', 'social change', 'social cohesion', 'political engagement', \n",
    "                     'resilience', 'discourse', 'competition', 'globalization', 'poverty', 'trust', \n",
    "                     'language', 'personality', 'state', 'white race', 'family', 'racism', 'peace', \n",
    "                     'status'}\n",
    "\n",
    "# Generate color mapping for shapes\n",
    "color_mapping = {\n",
    "    'micro': 'grey',  # Grey\n",
    "    'meso': '#6c9808',   # Green\n",
    "    'macro': '#d89b40',  # Orange\n",
    "    'radicalism': '#b50012'  # Red\n",
    "}\n",
    "\n",
    "# Define shape mapping for categories\n",
    "shape_dict = {word: ('o', color_mapping['micro']) for word in micro_terms}  # Circle for micro\n",
    "shape_dict.update({word: ('s', color_mapping['meso']) for word in meso_terms})  # Square for meso\n",
    "shape_dict.update({word: ('v', color_mapping['macro']) for word in macro_terms})  # Triangle for macro\n",
    "shape_dict.update({word: ('D', color_mapping['radicalism']) for word in radicalism_terms})  # Diamond for radicalism\n",
    "\n",
    "plt.figure(figsize=(6, 14))  # Adjusted figure size to make it more narrow\n",
    "\n",
    "# Draw bars in the background\n",
    "for i, word in enumerate(plt_df['Word']):\n",
    "    if word in not_in_co_occ_map:\n",
    "        plt.barh(word, plt_df['Frequency'].iloc[i], color='#D3D3D3', height=0.5, hatch='..', edgecolor='grey', zorder=1)\n",
    "    else:\n",
    "        plt.barh(word, plt_df['Frequency'].iloc[i], color='#D3D3D3', height=0.1, edgecolor='grey', linewidth=2, zorder=1)\n",
    "\n",
    "# Add filled shapes for categories in the foreground\n",
    "shape_offset = 0.2\n",
    "for i, word in enumerate(plt_df['Word']):\n",
    "    shape, color = shape_dict.get(word, ('o', 'black'))\n",
    "    if word not in theory_terms:\n",
    "        plt.scatter(plt_df['Frequency'].iloc[i] + shape_offset, i, color=color, edgecolor=color, linewidth=1, s=50, marker=shape, facecolors=color, zorder=2)\n",
    "\n",
    "# Add hollow shapes for categories in the foreground with white filling\n",
    "for i, word in enumerate(plt_df['Word']):\n",
    "    shape, color = shape_dict.get(word, ('o', 'black'))\n",
    "    if word in theory_terms:\n",
    "        plt.scatter(plt_df['Frequency'].iloc[i] + shape_offset, i, color='white', edgecolor=color, linewidth=1, s=50, marker=shape, facecolors='white', zorder=3)\n",
    "\n",
    "plt.xlabel('Frequency Analysis 1', fontsize=12)  \n",
    "\n",
    "plt.tick_params(axis='x', labelsize=10)\n",
    "plt.tick_params(axis='y', labelsize=8)\n",
    "plt.savefig('RTMR_Output/Keywords/keywordsfull_frequency_of_words_narrow.png', bbox_inches='tight', dpi=600)\n"
   ]
  },
  {
   "cell_type": "markdown",
   "id": "6fbb18a6-6208-439e-ba97-bd08367f030c",
   "metadata": {},
   "source": [
    "## II. Co-occurrences"
   ]
  },
  {
   "cell_type": "code",
   "execution_count": null,
   "id": "4d5c9fd7-7acd-4875-bd36-137f3297ccc4",
   "metadata": {},
   "outputs": [],
   "source": [
    "cooc_df_incl = pd.read_csv(r\"RTMR_Output/Keywords/Keywords_cooc_inclrad.csv\")\n",
    "cooc_df_excl = pd.read_csv(r\"RTMR_Output/Keywords/Keywords_cooc_worad.csv\")\n",
    "cooc_df_ado = pd.read_csv(r\"RTMR_Output/Keywords/Keywords_cooc_adolescence.csv\")\n",
    "cooc_df_islamist = pd.read_csv(r\"RTMR_Output/Keywords/Keywords_cooc_islamist.csv\")\n",
    "cooc_df_right = pd.read_csv(r\"RTMR_Output/Keywords/Keywords_cooc_far-right.csv\")\n",
    "cooc_df_left = pd.read_csv(r\"RTMR_Output/Keywords/Keywords_cooc_far-left.csv\")\n",
    "cooc_df_lone = pd.read_csv(r\"RTMR_Output/Keywords/Keywords_cooc_lone-actor.csv\")\n",
    "cooc_df_foreignf = pd.read_csv(r\"RTMR_Output/Keywords/Keywords_cooc_foreign-fighter.csv\")\n",
    "cooc_df_malesup = pd.read_csv(r\"RTMR_Output/Keywords/Keywords_cooc_male-supremacist.csv\")"
   ]
  },
  {
   "cell_type": "code",
   "execution_count": null,
   "id": "7bbc01c1-873b-49f8-a429-f18699679265",
   "metadata": {},
   "outputs": [],
   "source": [
    "cooc_df_incl"
   ]
  },
  {
   "cell_type": "code",
   "execution_count": null,
   "id": "89ca620f-2f58-4885-b0bd-862dc2f328f8",
   "metadata": {},
   "outputs": [],
   "source": [
    "print(\"Edges: \", len(cooc_df_incl))\n",
    "print(\"Nodes: \", len(set(list(cooc_df_incl.term1) + list(cooc_df_incl.term2))))\n",
    "print(\"Min number of co-occurrences: \", cooc_df_incl.cooc.min())\n"
   ]
  },
  {
   "cell_type": "markdown",
   "id": "c43289ca-c1a2-4729-a5e9-7777a92c4d5d",
   "metadata": {},
   "source": [
    "### Network Visualisation"
   ]
  },
  {
   "cell_type": "markdown",
   "id": "5d100169-4060-4b16-94d5-2c2af025d968",
   "metadata": {},
   "source": [
    "#### a) general network"
   ]
  },
  {
   "cell_type": "code",
   "execution_count": null,
   "id": "70aee522-7b18-40b7-8ff2-a1f245486dbd",
   "metadata": {},
   "outputs": [],
   "source": [
    "# Define terms for each category based on your categorization\n",
    "micro_terms = [\n",
    "    \"ideology\", \"violence\", \"religiosity\", \"adolescence\", \"identity\", \"cognition\", \n",
    "    \"sex\", \"employment\", \"deprivation\", \"emotion\", \"activism\", \n",
    "    \"criminality\", \"education\", \"nationalism\", \"populism\", \"status\", \"dogmatism\", \n",
    "    \"authoritarianism\", \"aggression\", \"morality\", \"mental health\", \"conservatism\", \n",
    "    \"minority\", \"sacred values\", \"age\", \"hate\", \"rationality\", \"prejudice\", \n",
    "    \"uncertainty\", \"trust\", \"personality\", \"liberalism\", \"intolerance\", \n",
    "    \"fundamentalism\", \"fear\", \"honor\", \"poverty\", \"white race\", \"superiority\",\n",
    "    \"islamophobia\", \"significance quest\", \"social movements\", \"masculinity\", \n",
    "    \"conspiracy\", \"misogyny\", \"racism\", \"martyrdom\", \"political engagement\", \n",
    "    \"ptsd\", \"resilience\", \"voting behavior\", \"misogyny\",\n",
    "]\n",
    "\n",
    "meso_terms = [\n",
    "    \"social network\", \"threat\", \"diversity\", \"social exclusion\", \"norms\", \"internet\",\n",
    "    \"mobilization\", \"discourse\", \"integration\", \"family\", \"competition\", \"language\",\n",
    "    \"polarization\", \"discrimination\", \"group process\", \"recruitment\", \n",
    "    \"elites\", \"social media\", \"social cohesion\", \"social change\",\n",
    "]\n",
    "\n",
    "macro_terms = [\n",
    "    \"conflict\", \"state\", \"economy\", \"society\", \"politics\", \"justice\", \n",
    "    \"culture\", \"security\", \"region\", \"elections\", \"policy\", \"democracy\", \n",
    "    \"international\", \"crisis\", \"institutions\", \"peace\", \"propaganda\", \n",
    "    \"military\", \"globalization\", \"immigration\"\n",
    "]\n",
    "\n",
    "theory_terms = [\n",
    "    \"ideology\", \"violence\", \"social network\", \"conflict\", \"religiosity\", \"state\", \n",
    "    \"society\", \"identity\", \"politics\", \"cognition\", \"justice\", \"norms\", \"culture\", \n",
    "    \"threat\", \"superiority\", \"employment\", \"deprivation\", \"emotion\", \"activism\", \n",
    "    \"policy\", \"nationalism\", \"social exclusion\", \"status\", \"dogmatism\", \"mobilization\", \n",
    "    \"authoritarianism\", \"integration\", \"aggression\", \"morality\", \"competition\", \n",
    "    \"crisis\", \"sacred values\", \"discrimination\", \"group process\", \"rationality\", \n",
    "    \"prejudice\", \"uncertainty\", \"intolerance\", \"military\", \"fundamentalism\", \n",
    "    \"honor\", \"poverty\", \"significance quest\", \"social movements\", \"globalization\", \n",
    "    \"martyrdom\", \"political engagement\", \"resilience\", \"family\"\n",
    "]\n",
    "\n",
    "radicalism_nodes = [\"radicalism\", \"far right\", \"islamist\", \"far left\", \"foreign fighter\", \"lone actor\", \"male supremacist\"]\n",
    "\n",
    "# Create the graph\n",
    "G = nx.Graph()\n",
    "\n",
    "# Add edges with the corresponding frequency as the weight\n",
    "for index, row in cooc_df_incl.iterrows():\n",
    "    G.add_edge(row['term1'], row['term2'], weight=row['cooc'])\n",
    "\n",
    "# Draw the graph\n",
    "plt.figure(figsize=(18, 10))\n",
    "\n",
    "# Use spring layout for better visualization\n",
    "pos = nx.spring_layout(G, seed=43, k=2, iterations=100, scale=2)  # positions for all nodes\n",
    "\n",
    "# Draw nodes with shape based on their category\n",
    "micro_nodes = [node for node in G.nodes() if node in micro_terms]\n",
    "meso_nodes = [node for node in G.nodes() if node in meso_terms]\n",
    "macro_nodes = [node for node in G.nodes() if node in macro_terms]\n",
    "\n",
    "# Updated color mapping for shapes\n",
    "color_mapping = {\n",
    "    'micro': 'grey',  # Grey\n",
    "    'meso': '#6c9808',   # Green\n",
    "    'macro': '#f0ad48',  # Orange\n",
    "    'radicalism': '#b50012'  # Red\n",
    "}\n",
    "\n",
    "# Draw micro nodes\n",
    "nx.draw_networkx_nodes(G, pos, nodelist=[node for node in micro_nodes if node not in theory_terms], node_size=200, node_color=color_mapping['micro'], node_shape='o', alpha=0.7, label='Micro Level')\n",
    "nx.draw_networkx_nodes(G, pos, nodelist=[node for node in micro_nodes if node in theory_terms], node_size=200, node_color='white', edgecolors=color_mapping['micro'], node_shape='o', linewidths=2.5, alpha=0.7, label='Micro Level')\n",
    "\n",
    "# Draw meso nodes\n",
    "nx.draw_networkx_nodes(G, pos, nodelist=[node for node in meso_nodes if node not in theory_terms], node_size=200, node_color=color_mapping['meso'], node_shape='s', alpha=0.7, label='Meso Level')\n",
    "nx.draw_networkx_nodes(G, pos, nodelist=[node for node in meso_nodes if node in theory_terms], node_size=200, node_color='white', edgecolors=color_mapping['meso'], node_shape='s', linewidths=2.5, alpha=0.7, label='Meso Level')\n",
    "\n",
    "# Draw macro nodes\n",
    "nx.draw_networkx_nodes(G, pos, nodelist=[node for node in macro_nodes if node not in theory_terms], node_size=200, node_color=color_mapping['macro'], node_shape='v', alpha=0.7, label='Macro Level')\n",
    "nx.draw_networkx_nodes(G, pos, nodelist=[node for node in macro_nodes if node in theory_terms], node_size=200, node_color='white', edgecolors=color_mapping['macro'], node_shape='v', linewidths=2.5, alpha=0.7, label='Macro Level')\n",
    "\n",
    "# Draw radicalism nodes\n",
    "nx.draw_networkx_nodes(G, pos, nodelist=[node for node in radicalism_nodes if node not in theory_terms], node_size=200, node_color=color_mapping['radicalism'], node_shape='D', alpha=0.7, label='Radicalism')\n",
    "nx.draw_networkx_nodes(G, pos, nodelist=[node for node in radicalism_nodes if node in theory_terms], node_size=200, node_color='white', edgecolors=color_mapping['radicalism'], node_shape='D', linewidths=2.5, alpha=0.7, label='Radicalism')\n",
    "\n",
    "# Draw edges with width and color proportional to the frequency\n",
    "weights = [G[u][v]['weight'] for u, v in G.edges]\n",
    "min_weight = min(weights)\n",
    "max_weight = max(weights)\n",
    "normalized_weights = [(weight - min_weight) / (max_weight - min_weight) for weight in weights]\n",
    "edge_widths = [1 + 15 * norm_weight for norm_weight in normalized_weights]  # Increase contrast in thickness\n",
    "\n",
    "# Set edge colors: grey if connected to radicalism, otherwise black\n",
    "edge_colors = ['grey' if 'radicalism' in (u, v) else '#5495a4' for u, v in G.edges]\n",
    "\n",
    "# Draw edges\n",
    "edges = nx.draw_networkx_edges(\n",
    "    G, pos,\n",
    "    edge_color=edge_colors,\n",
    "    width=edge_widths,\n",
    "    alpha=0.7\n",
    ")\n",
    "\n",
    "# Draw labels with increased font size\n",
    "nx.draw_networkx_labels(G, pos, font_size=14, font_family=\"sans-serif\")\n",
    "\n",
    "# Add legend for node shapes\n",
    "legend_elements = [\n",
    "    plt.Line2D([0], [0], marker='o', color='w', markerfacecolor=color_mapping['micro'], markersize=10, label='Micro Level'),\n",
    "    plt.Line2D([0], [0], marker='s', color='w', markerfacecolor=color_mapping['meso'], markersize=10, label='Meso Level'),\n",
    "    plt.Line2D([0], [0], marker='v', color='w', markerfacecolor=color_mapping['macro'], markersize=10, label='Macro Level'),\n",
    "    plt.Line2D([0], [0], marker='D', color='w', markerfacecolor=color_mapping['radicalism'], markersize=10, label='Radicalism')\n",
    "]\n",
    "\n",
    "plt.legend(handles=legend_elements, loc='upper right')\n",
    "\n",
    "# Remove the frame\n",
    "ax = plt.gca()\n",
    "ax.spines['top'].set_visible(False)\n",
    "ax.spines['right'].set_visible(False)\n",
    "ax.spines['left'].set_visible(False)\n",
    "ax.spines['bottom'].set_visible(False)\n",
    "\n",
    "plt.savefig('RTMR_Output/Keywords/keywords_cooccurrence_radicalism.png', bbox_inches='tight', dpi=600)\n"
   ]
  },
  {
   "cell_type": "markdown",
   "id": "4dcb4f13-c801-43b0-bed4-0ea2e48381df",
   "metadata": {},
   "source": [
    "#### b) centred around \"adolescence\""
   ]
  },
  {
   "cell_type": "code",
   "execution_count": null,
   "id": "3fedee85-4c51-4f51-9a51-2a2f104f635e",
   "metadata": {},
   "outputs": [],
   "source": [
    "# Define terms for each category based on your categorization\n",
    "categories = {\n",
    "    'micro': [\n",
    "        \"ideology\", \"violence\", \"religiosity\", \"adolescence\", \"identity\", \"cognition\", \n",
    "        \"sex\", \"employment\", \"deprivation\", \"emotion\", \"activism\", \n",
    "        \"criminality\", \"education\", \"nationalism\", \"populism\", \"status\", \"dogmatism\", \n",
    "        \"authoritarianism\", \"aggression\", \"morality\", \"mental health\", \"conservatism\", \n",
    "        \"minority\", \"sacred values\", \"age\", \"hate\", \"rationality\", \"prejudice\", \n",
    "        \"uncertainty\", \"trust\", \"personality\", \"liberalism\", \"intolerance\", \n",
    "        \"fundamentalism\", \"fear\", \"honor\", \"poverty\", \"white race\", \"superiority\",\n",
    "        \"islamophobia\", \"significance quest\", \"social movements\", \"masculinity\", \n",
    "        \"conspiracy\", \"misogyny\", \"racism\", \"martyrdom\", \"political engagement\", \n",
    "        \"ptsd\", \"resilience\", \"voting behavior\", \"misogyny\"\n",
    "    ],\n",
    "    'meso': [\n",
    "        \"social network\", \"threat\", \"diversity\", \"social exclusion\", \"norms\", \"internet\",\n",
    "        \"mobilization\", \"discourse\", \"integration\", \"family\", \"competition\", \"language\",\n",
    "        \"polarization\", \"discrimination\", \"group process\", \"recruitment\", \n",
    "        \"elites\", \"social media\", \"social cohesion\", \"social change\"\n",
    "    ],\n",
    "    'macro': [\n",
    "        \"conflict\", \"state\", \"economy\", \"society\", \"politics\", \"justice\", \n",
    "        \"culture\", \"security\", \"region\", \"elections\", \"policy\", \"democracy\", \n",
    "        \"international\", \"crisis\", \"institutions\", \"peace\", \"propaganda\", \n",
    "        \"military\", \"globalization\", \"immigration\"\n",
    "    ],\n",
    "    'theory': [\n",
    "        \"ideology\", \"violence\", \"social network\", \"conflict\", \"religiosity\", \"state\", \n",
    "        \"society\", \"identity\", \"politics\", \"cognition\", \"justice\", \"norms\", \"culture\", \n",
    "        \"threat\", \"superiority\", \"employment\", \"deprivation\", \"emotion\", \"activism\", \n",
    "        \"policy\", \"nationalism\", \"social exclusion\", \"status\", \"dogmatism\", \"mobilization\", \n",
    "        \"authoritarianism\", \"integration\", \"aggression\", \"morality\", \"competition\", \n",
    "        \"crisis\", \"sacred values\", \"discrimination\", \"group process\", \"rationality\", \n",
    "        \"prejudice\", \"uncertainty\", \"intolerance\", \"military\", \"fundamentalism\", \n",
    "        \"honor\", \"poverty\", \"significance quest\", \"social movements\", \"globalization\", \n",
    "        \"martyrdom\", \"political engagement\", \"resilience\", \"family\"\n",
    "    ],\n",
    "    'radicalism': [\"radicalism\", \"far right\", \"islamist\"]\n",
    "}\n",
    "\n",
    "# Create the graph\n",
    "G = nx.Graph()\n",
    "\n",
    "# Add edges with the corresponding frequency as the weight\n",
    "for index, row in cooc_df_ado.iterrows():\n",
    "    G.add_edge(row['term1'], row['term2'], weight=row['cooc'])\n",
    "\n",
    "# Draw the graph\n",
    "plt.figure(figsize=(14, 10))\n",
    "\n",
    "# Use spring layout for better visualization\n",
    "pos = nx.spring_layout(G, seed=43, k=2, iterations=100)  # positions for all nodes\n",
    "\n",
    "# Adjust positions to separate 'radicalism' and 'adolescence'\n",
    "if 'adolescence' in pos and 'radicalism' in pos:\n",
    "    pos['adolescence'][0] += 0.1  # Adjust x position\n",
    "    pos['adolescence'][1] += 0.1  # Adjust y position\n",
    "\n",
    "# Color mapping\n",
    "color_mapping = {\n",
    "    'micro': 'grey',\n",
    "    'meso': '#6c9808',\n",
    "    'macro': '#f0ad48',\n",
    "    'radicalism': 'red'\n",
    "}\n",
    "\n",
    "highlight_nodes = categories['radicalism']\n",
    "\n",
    "# Draw nodes\n",
    "for category, nodes in categories.items():\n",
    "    if category != 'theory':\n",
    "        node_shape = 'o' if category == 'micro' else ('s' if category == 'meso' else ('v' if category == 'macro' else 'D'))\n",
    "        color = color_mapping[category]\n",
    "        non_theory_nodes = [node for node in G.nodes() if node in nodes and node not in highlight_nodes and node not in categories['theory']]\n",
    "        theory_nodes = [node for node in G.nodes() if node in nodes and node in categories['theory']]\n",
    "        nx.draw_networkx_nodes(G, pos, nodelist=non_theory_nodes, node_size=200, node_color=color, node_shape=node_shape, alpha=0.7)\n",
    "        nx.draw_networkx_nodes(G, pos, nodelist=theory_nodes, node_size=200, node_color='white', edgecolors=color, node_shape=node_shape, linewidths=2.5, alpha=0.7)\n",
    "\n",
    "# Draw highlight nodes\n",
    "nx.draw_networkx_nodes(G, pos, nodelist=highlight_nodes, node_size=200, node_color=color_mapping['radicalism'], node_shape='D', alpha=0.7)\n",
    "\n",
    "# Draw edges with width and color proportional to the frequency\n",
    "weights = [G[u][v]['weight'] for u, v in G.edges]\n",
    "min_weight = min(weights)\n",
    "max_weight = max(weights)\n",
    "normalized_weights = [(weight - min_weight) / (max_weight - min_weight) for weight in weights]\n",
    "edge_widths = [1 + 15 * norm_weight for norm_weight in normalized_weights]\n",
    "edges = nx.draw_networkx_edges(G, pos, edge_color='grey', width=edge_widths, alpha=0.7)\n",
    "\n",
    "# Draw labels with increased font size\n",
    "nx.draw_networkx_labels(G, pos, font_size=14, font_family=\"sans-serif\")\n",
    "\n",
    "# Add legend for node shapes\n",
    "legend_elements = [\n",
    "    plt.Line2D([0], [0], marker='o', color='w', markerfacecolor=color_mapping['micro'], markersize=10, label='Micro Level'),\n",
    "    plt.Line2D([0], [0], marker='s', color='w', markerfacecolor=color_mapping['meso'], markersize=10, label='Meso Level'),\n",
    "    plt.Line2D([0], [0], marker='v', color='w', markerfacecolor=color_mapping['macro'], markersize=10, label='Macro Level'),\n",
    "    plt.Line2D([0], [0], marker='D', color='w', markerfacecolor=color_mapping['radicalism'], markersize=10, label='Radicalism')\n",
    "]\n",
    "\n",
    "plt.legend(handles=legend_elements, loc='upper right')\n",
    "\n",
    "# Remove the frame\n",
    "ax = plt.gca()\n",
    "ax.spines['top'].set_visible(False)\n",
    "ax.spines['right'].set_visible(False)\n",
    "ax.spines['left'].set_visible(False)\n",
    "ax.spines['bottom'].set_visible(False)\n",
    "\n",
    "plt.savefig('RTMR_Output/Keywords/keywords_cooccurrence_adolescence.png', bbox_inches='tight', dpi=600)\n"
   ]
  },
  {
   "cell_type": "markdown",
   "id": "44c28e75-8496-48c5-87ff-fd0311229e65",
   "metadata": {},
   "source": [
    "#### c) centred around \"islamist\""
   ]
  },
  {
   "cell_type": "code",
   "execution_count": null,
   "id": "8c1d456d-5f0e-45ca-9f86-3228ee38e09d",
   "metadata": {},
   "outputs": [],
   "source": [
    "# Define terms for each category based on your categorization\n",
    "categories = {\n",
    "    'micro': [\n",
    "        \"ideology\", \"violence\", \"religiosity\", \"adolescence\", \"identity\", \"cognition\", \n",
    "        \"sex\", \"employment\", \"deprivation\", \"emotion\", \"activism\", \n",
    "        \"criminality\", \"education\", \"nationalism\", \"populism\", \"status\", \"dogmatism\", \n",
    "        \"authoritarianism\", \"aggression\", \"morality\", \"mental health\", \"conservatism\", \n",
    "        \"minority\", \"sacred values\", \"age\", \"hate\", \"rationality\", \"prejudice\", \n",
    "        \"uncertainty\", \"trust\", \"personality\", \"liberalism\", \"intolerance\", \n",
    "        \"fundamentalism\", \"fear\", \"honor\", \"poverty\", \"white race\", \"superiority\",\n",
    "        \"islamophobia\", \"significance quest\", \"social movements\", \"masculinity\", \n",
    "        \"conspiracy\", \"misogyny\", \"racism\", \"martyrdom\", \"political engagement\", \n",
    "        \"ptsd\", \"resilience\", \"voting behavior\", \"misogyny\"\n",
    "    ],\n",
    "    'meso': [\n",
    "        \"social network\", \"threat\", \"diversity\", \"social exclusion\", \"norms\", \"internet\",\n",
    "        \"mobilization\", \"discourse\", \"integration\", \"family\", \"competition\", \"language\",\n",
    "        \"polarization\", \"discrimination\", \"group process\", \"recruitment\", \n",
    "        \"elites\", \"social media\", \"social cohesion\", \"social change\"\n",
    "    ],\n",
    "    'macro': [\n",
    "        \"conflict\", \"state\", \"economy\", \"society\", \"politics\", \"justice\", \n",
    "        \"culture\", \"security\", \"region\", \"elections\", \"policy\", \"democracy\", \n",
    "        \"international\", \"crisis\", \"institutions\", \"peace\", \"propaganda\", \n",
    "        \"military\", \"globalization\", \"immigration\"\n",
    "    ],\n",
    "    'theory': [\n",
    "        \"ideology\", \"violence\", \"social network\", \"conflict\", \"religiosity\", \"state\", \n",
    "        \"society\", \"identity\", \"politics\", \"cognition\", \"justice\", \"norms\", \"culture\", \n",
    "        \"threat\", \"superiority\", \"employment\", \"deprivation\", \"emotion\", \"activism\", \n",
    "        \"policy\", \"nationalism\", \"social exclusion\", \"status\", \"dogmatism\", \"mobilization\", \n",
    "        \"authoritarianism\", \"integration\", \"aggression\", \"morality\", \"competition\", \n",
    "        \"crisis\", \"sacred values\", \"discrimination\", \"group process\", \"rationality\", \n",
    "        \"prejudice\", \"uncertainty\", \"intolerance\", \"military\", \"fundamentalism\", \n",
    "        \"honor\", \"poverty\", \"significance quest\", \"social movements\", \"globalization\", \n",
    "        \"martyrdom\", \"political engagement\", \"resilience\"\n",
    "    ],\n",
    "    'radicalism': [\"radicalism\", \"far right\", \"islamist\", \"foreign fighter\"]\n",
    "}\n",
    "\n",
    "# Create the graph\n",
    "G = nx.Graph()\n",
    "\n",
    "# Add edges with the corresponding frequency as the weight\n",
    "for index, row in cooc_df_islamist.iterrows():\n",
    "    G.add_edge(row['term1'], row['term2'], weight=row['cooc'])\n",
    "\n",
    "# Draw the graph\n",
    "plt.figure(figsize=(14, 10))\n",
    "\n",
    "# Use spring layout for better visualization\n",
    "pos = nx.spring_layout(G, seed=43, k=2, iterations=100)  # positions for all nodes\n",
    "\n",
    "# Adjust positions to separate 'radicalism' and 'islamist'\n",
    "if 'islamist' in pos and 'radicalism' in pos:\n",
    "    pos['islamist'][0] += 0.1  # Adjust x position\n",
    "    pos['islamist'][1] += 0.1  # Adjust y position\n",
    "\n",
    "# Color mapping\n",
    "color_mapping = {\n",
    "    'micro': 'grey',\n",
    "    'meso': '#6c9808',\n",
    "    'macro': '#f0ad48',\n",
    "    'radicalism': 'red'\n",
    "}\n",
    "\n",
    "highlight_nodes = categories['radicalism']\n",
    "\n",
    "# Draw nodes\n",
    "for category, nodes in categories.items():\n",
    "    if category != 'theory':\n",
    "        node_shape = 'o' if category == 'micro' else ('s' if category == 'meso' else ('v' if category == 'macro' else 'D'))\n",
    "        color = color_mapping[category]\n",
    "        non_theory_nodes = [node for node in G.nodes() if node in nodes and node not in highlight_nodes and node not in categories['theory']]\n",
    "        theory_nodes = [node for node in G.nodes() if node in nodes and node in categories['theory']]\n",
    "        nx.draw_networkx_nodes(G, pos, nodelist=non_theory_nodes, node_size=200, node_color=color, node_shape=node_shape, alpha=0.7)\n",
    "        nx.draw_networkx_nodes(G, pos, nodelist=theory_nodes, node_size=200, node_color='white', edgecolors=color, node_shape=node_shape, linewidths=2.5, alpha=0.7)\n",
    "\n",
    "# Draw highlight nodes\n",
    "nx.draw_networkx_nodes(G, pos, nodelist=highlight_nodes, node_size=200, node_color=color_mapping['radicalism'], node_shape='D', alpha=0.7)\n",
    "\n",
    "# Draw edges with width and color proportional to the frequency\n",
    "weights = [G[u][v]['weight'] for u, v in G.edges]\n",
    "min_weight = min(weights)\n",
    "max_weight = max(weights)\n",
    "normalized_weights = [(weight - min_weight) / (max_weight - min_weight) for weight in weights]\n",
    "edge_widths = [1 + 15 * norm_weight for norm_weight in normalized_weights]\n",
    "edges = nx.draw_networkx_edges(G, pos, edge_color='grey', width=edge_widths, alpha=0.7)\n",
    "\n",
    "# Draw labels with increased font size\n",
    "nx.draw_networkx_labels(G, pos, font_size=14, font_family=\"sans-serif\")\n",
    "\n",
    "# Add legend for node shapes\n",
    "legend_elements = [\n",
    "    plt.Line2D([0], [0], marker='o', color='w', markerfacecolor=color_mapping['micro'], markersize=10, label='Micro Level'),\n",
    "    plt.Line2D([0], [0], marker='s', color='w', markerfacecolor=color_mapping['meso'], markersize=10, label='Meso Level'),\n",
    "    plt.Line2D([0], [0], marker='v', color='w', markerfacecolor=color_mapping['macro'], markersize=10, label='Macro Level'),\n",
    "    plt.Line2D([0], [0], marker='D', color='w', markerfacecolor=color_mapping['radicalism'], markersize=10, label='Radicalism')\n",
    "]\n",
    "\n",
    "plt.legend(handles=legend_elements, loc='upper right')\n",
    "\n",
    "# Remove the frame\n",
    "ax = plt.gca()\n",
    "ax.spines['top'].set_visible(False)\n",
    "ax.spines['right'].set_visible(False)\n",
    "ax.spines['left'].set_visible(False)\n",
    "ax.spines['bottom'].set_visible(False)\n",
    "\n",
    "plt.savefig('RTMR_Output/Keywords/keywords_cooccurrence_islamist.png', bbox_inches='tight', dpi=600)\n",
    "\n"
   ]
  },
  {
   "cell_type": "markdown",
   "id": "9b6b6b97-3766-4cc4-8bed-c6eb0e54b31f",
   "metadata": {},
   "source": [
    "#### d) centred around \"far right\""
   ]
  },
  {
   "cell_type": "code",
   "execution_count": null,
   "id": "93e83cd2-dc68-4cbf-9054-9f279d2941e0",
   "metadata": {},
   "outputs": [],
   "source": [
    "# Define terms for each category based on categorization\n",
    "micro_terms = [\n",
    "    \"ideology\", \"violence\", \"religiosity\", \"adolescence\", \"identity\", \"cognition\", \n",
    "    \"sex\", \"employment\", \"deprivation\", \"emotion\", \"activism\", \n",
    "    \"criminality\", \"education\", \"nationalism\", \"populism\", \"status\", \"dogmatism\", \n",
    "    \"authoritarianism\", \"aggression\", \"morality\", \"mental health\", \"conservatism\", \n",
    "    \"minority\", \"sacred values\", \"age\", \"hate\", \"rationality\", \"prejudice\", \n",
    "    \"uncertainty\", \"trust\", \"personality\", \"liberalism\", \"intolerance\", \n",
    "    \"fundamentalism\", \"fear\", \"honor\", \"poverty\", \"white race\", \"superiority\",\n",
    "    \"islamophobia\", \"significance quest\", \"social movements\", \"masculinity\", \n",
    "    \"conspiracy\", \"misogyny\", \"racism\", \"martyrdom\", \"political engagement\", \n",
    "    \"ptsd\", \"resilience\", \"voting behavior\", \"right wing populism\", \"euroscepticism\",\n",
    "]\n",
    "\n",
    "meso_terms = [\n",
    "    \"social network\", \"threat\", \"diversity\", \"social exclusion\", \"norms\", \"internet\",\n",
    "    \"mobilization\", \"discourse\", \"integration\", \"family\", \"competition\", \"language\",\n",
    "    \"polarization\", \"discrimination\", \"group process\", \"recruitment\", \n",
    "    \"elites\", \"social media\", \"social cohesion\", \"social change\",\n",
    "]\n",
    "\n",
    "macro_terms = [\n",
    "    \"conflict\", \"state\", \"economy\", \"society\", \"politics\", \"justice\", \n",
    "    \"culture\", \"security\", \"region\", \"elections\", \"policy\", \"democracy\", \n",
    "    \"international\", \"crisis\", \"institutions\", \"peace\", \"propaganda\", \n",
    "    \"military\", \"globalization\", \"immigration\"\n",
    "]\n",
    "\n",
    "theory_terms = [\n",
    "    \"ideology\", \"violence\", \"social network\", \"conflict\", \"religiosity\", \"state\", \n",
    "    \"society\", \"identity\", \"politics\", \"cognition\", \"justice\", \"norms\", \"culture\", \n",
    "    \"threat\", \"superiority\", \"employment\", \"deprivation\", \"emotion\", \"activism\", \n",
    "    \"policy\", \"nationalism\", \"social exclusion\", \"status\", \"dogmatism\", \"mobilization\", \n",
    "    \"authoritarianism\", \"integration\", \"aggression\", \"morality\", \"competition\", \n",
    "    \"crisis\", \"sacred values\", \"discrimination\", \"group process\", \"rationality\", \n",
    "    \"prejudice\", \"uncertainty\", \"intolerance\", \"military\", \"fundamentalism\", \n",
    "    \"honor\", \"poverty\", \"significance quest\", \"social movements\", \"globalization\", \n",
    "    \"martyrdom\", \"political engagement\", \"resilience\"\n",
    "]\n",
    "\n",
    "radicalism_nodes = [\"radicalism\", \"far right\", \"islamist\"]\n",
    "\n",
    "# Create the graph\n",
    "G = nx.Graph()\n",
    "\n",
    "# Add edges with the corresponding frequency as the weight\n",
    "for index, row in cooc_df_right.iterrows():\n",
    "    G.add_edge(row['term1'], row['term2'], weight=row['cooc'])\n",
    "\n",
    "# Draw the graph\n",
    "plt.figure(figsize=(18, 10))\n",
    "\n",
    "# Use spring layout for better visualization\n",
    "pos = nx.spring_layout(G, seed=43, k=2, iterations=100)  # positions for all nodes\n",
    "\n",
    "# Manually adjust positions to prevent overlap of \"far right\" and \"radicalism\"\n",
    "if \"far right\" in pos and \"radicalism\" in pos:\n",
    "    pos[\"far right\"][0] += 0.1  # Adjust x position\n",
    "    pos[\"far right\"][1] += 0.1  # Adjust y position\n",
    "if \"islamist\" in pos:\n",
    "    pos[\"islamist\"][0] += 0.1\n",
    "    pos[\"islamist\"][1] -= 0.1\n",
    "\n",
    "# Function to check if two positions overlap\n",
    "def positions_overlap(pos1, pos2, distance=0.1):\n",
    "    return np.linalg.norm(np.array(pos1) - np.array(pos2)) < distance\n",
    "\n",
    "# Function to adjust positions to prevent overlap\n",
    "def adjust_positions(positions, adjustment_distance=0.05, max_iterations=100):\n",
    "    adjusted_positions = positions.copy()\n",
    "    for _ in range(max_iterations):\n",
    "        overlaps = False\n",
    "        for node1, pos1 in adjusted_positions.items():\n",
    "            for node2, pos2 in adjusted_positions.items():\n",
    "                if node1 != node2 and positions_overlap(pos1, pos2, adjustment_distance):\n",
    "                    overlaps = True\n",
    "                    angle = np.arctan2(pos2[1] - pos1[1], pos2[0] - pos1[0])\n",
    "                    adjusted_positions[node2][0] += np.cos(angle) * adjustment_distance\n",
    "                    adjusted_positions[node2][1] += np.sin(angle) * adjustment_distance\n",
    "        if not overlaps:\n",
    "            break\n",
    "    return adjusted_positions\n",
    "\n",
    "# Adjust positions to prevent overlap\n",
    "pos = adjust_positions(pos)\n",
    "\n",
    "# Draw nodes with shape based on their category\n",
    "micro_nodes = [node for node in G.nodes() if node in micro_terms]\n",
    "meso_nodes = [node for node in G.nodes() if node in meso_terms]\n",
    "macro_nodes = [node for node in G.nodes() if node in macro_terms]\n",
    "\n",
    "# Updated color mapping for shapes\n",
    "color_mapping = {\n",
    "    'micro': 'grey',  # Grey\n",
    "    'meso': '#6c9808',   # Green\n",
    "    'macro': '#f0ad48',  # Orange\n",
    "    'radicalism': '#b50012'  # Red\n",
    "}\n",
    "\n",
    "# Draw micro nodes\n",
    "nx.draw_networkx_nodes(G, pos, nodelist=[node for node in micro_nodes if node not in theory_terms], node_size=200, node_color=color_mapping['micro'], node_shape='o', alpha=0.7, label='Micro Level')\n",
    "nx.draw_networkx_nodes(G, pos, nodelist=[node for node in micro_nodes if node in theory_terms], node_size=200, node_color='white', edgecolors=color_mapping['micro'], node_shape='o', linewidths=2.5, alpha=0.7, label='Micro Level')\n",
    "\n",
    "# Draw meso nodes\n",
    "nx.draw_networkx_nodes(G, pos, nodelist=[node for node in meso_nodes if node not in theory_terms], node_size=200, node_color=color_mapping['meso'], node_shape='s', alpha=0.7, label='Meso Level')\n",
    "nx.draw_networkx_nodes(G, pos, nodelist=[node for node in meso_nodes if node in theory_terms], node_size=200, node_color='white', edgecolors=color_mapping['meso'], node_shape='s', linewidths=2.5, alpha=0.7, label='Meso Level')\n",
    "\n",
    "# Draw macro nodes\n",
    "nx.draw_networkx_nodes(G, pos, nodelist=[node for node in macro_nodes if node not in theory_terms], node_size=200, node_color=color_mapping['macro'], node_shape='v', alpha=0.7, label='Macro Level')\n",
    "nx.draw_networkx_nodes(G, pos, nodelist=[node for node in macro_nodes if node in theory_terms], node_size=200, node_color='white', edgecolors=color_mapping['macro'], node_shape='v', linewidths=2.5, alpha=0.7, label='Macro Level')\n",
    "\n",
    "# Draw radicalism nodes\n",
    "nx.draw_networkx_nodes(G, pos, nodelist=[node for node in radicalism_nodes if node not in theory_terms], node_size=200, node_color=color_mapping['radicalism'], node_shape='D', alpha=0.7, label='Radicalism')\n",
    "nx.draw_networkx_nodes(G, pos, nodelist=[node for node in radicalism_nodes if node in theory_terms], node_size=200, node_color='white', edgecolors=color_mapping['radicalism'], node_shape='D', linewidths=2.5, alpha=0.7, label='Radicalism')\n",
    "\n",
    "# Draw edges with width and color proportional to the frequency\n",
    "weights = [G[u][v]['weight'] for u, v in G.edges]\n",
    "min_weight = min(weights)\n",
    "max_weight = max(weights)\n",
    "normalized_weights = [(weight - min_weight) / (max_weight - min_weight) for weight in weights]\n",
    "edge_widths = [1 + 15 * norm_weight for norm_weight in normalized_weights]  # Increase contrast in thickness\n",
    "\n",
    "# Set edge colors to a single color (e.g., grey)\n",
    "edge_colors = ['grey' for _ in G.edges]\n",
    "\n",
    "# Draw edges\n",
    "edges = nx.draw_networkx_edges(\n",
    "    G, pos,\n",
    "    edge_color=edge_colors,\n",
    "    width=edge_widths,\n",
    "    alpha=0.7\n",
    ")\n",
    "\n",
    "# Draw labels with consistent font size\n",
    "nx.draw_networkx_labels(G, pos, font_size=12, font_family=\"sans-serif\")\n",
    "\n",
    "# Add legend for node shapes\n",
    "legend_elements = [\n",
    "    plt.Line2D([0], [0], marker='o', color='w', markerfacecolor=color_mapping['micro'], markersize=10, label='Micro Level'),\n",
    "    plt.Line2D([0], [0], marker='s', color='w', markerfacecolor=color_mapping['meso'], markersize=10, label='Meso Level'),\n",
    "    plt.Line2D([0], [0], marker='v', color='w', markerfacecolor=color_mapping['macro'], markersize=10, label='Macro Level'),\n",
    "    plt.Line2D([0], [0], marker='D', color='w', markerfacecolor=color_mapping['radicalism'], markersize=10, label='Radicalism')\n",
    "]\n",
    "\n",
    "plt.legend(handles=legend_elements, loc='upper right')\n",
    "\n",
    "# Remove the frame\n",
    "ax = plt.gca()\n",
    "ax.spines['top'].set_visible(False)\n",
    "ax.spines['right'].set_visible(False)\n",
    "ax.spines['left'].set_visible(False)\n",
    "ax.spines['bottom'].set_visible(False)\n",
    "\n",
    "plt.savefig('RTMR_Output/Keywords/keywords_cooccurrence_farright.png', bbox_inches='tight', dpi=600)\n",
    "plt.show()\n"
   ]
  },
  {
   "cell_type": "markdown",
   "id": "f3043bf9-f793-403f-aadd-3a3f16ce2d09",
   "metadata": {},
   "source": [
    "#### e) centred around \"far left\""
   ]
  },
  {
   "cell_type": "code",
   "execution_count": null,
   "id": "1d5e2b79-cb68-4c3b-887b-f6bab6cf1678",
   "metadata": {},
   "outputs": [],
   "source": [
    "# Define terms for each category based on your categorization\n",
    "categories = {\n",
    "    'micro': [\n",
    "        \"ideology\", \"violence\", \"religiosity\", \"adolescence\", \"identity\", \"cognition\", \n",
    "        \"sex\", \"employment\", \"deprivation\", \"emotion\", \"activism\", \n",
    "        \"criminality\", \"education\", \"nationalism\", \"populism\", \"status\", \"dogmatism\", \n",
    "        \"authoritarianism\", \"aggression\", \"morality\", \"mental health\", \"conservatism\", \n",
    "        \"minority\", \"sacred values\", \"age\", \"hate\", \"rationality\", \"prejudice\", \n",
    "        \"uncertainty\", \"trust\", \"personality\", \"liberalism\", \"intolerance\", \n",
    "        \"fundamentalism\", \"fear\", \"honor\", \"poverty\", \"white race\", \"superiority\",\n",
    "        \"islamophobia\", \"significance quest\", \"social movements\", \"masculinity\", \n",
    "        \"conspiracy\", \"misogyny\", \"racism\", \"martyrdom\", \"political engagement\", \n",
    "        \"ptsd\", \"resilience\", \"voting behavior\", \"misogyny\"\n",
    "    ],\n",
    "    'meso': [\n",
    "        \"social network\", \"threat\", \"diversity\", \"social exclusion\", \"norms\", \"internet\",\n",
    "        \"mobilization\", \"discourse\", \"integration\", \"family\", \"competition\", \"language\",\n",
    "        \"polarization\", \"discrimination\", \"group process\", \"recruitment\", \n",
    "        \"elites\", \"social media\", \"social cohesion\", \"social change\"\n",
    "    ],\n",
    "    'macro': [\n",
    "        \"conflict\", \"state\", \"economy\", \"society\", \"politics\", \"justice\", \n",
    "        \"culture\", \"security\", \"region\", \"elections\", \"policy\", \"democracy\", \n",
    "        \"international\", \"crisis\", \"institutions\", \"peace\", \"propaganda\", \n",
    "        \"military\", \"globalization\", \"immigration\"\n",
    "    ],\n",
    "    'theory': [\n",
    "        \"ideology\", \"violence\", \"social network\", \"conflict\", \"religiosity\", \"state\", \n",
    "        \"society\", \"identity\", \"politics\", \"cognition\", \"justice\", \"norms\", \"culture\", \n",
    "        \"threat\", \"superiority\", \"employment\", \"deprivation\", \"emotion\", \"activism\", \n",
    "        \"policy\", \"nationalism\", \"social exclusion\", \"status\", \"dogmatism\", \"mobilization\", \n",
    "        \"authoritarianism\", \"integration\", \"aggression\", \"morality\", \"competition\", \n",
    "        \"crisis\", \"sacred values\", \"discrimination\", \"group process\", \"rationality\", \n",
    "        \"prejudice\", \"uncertainty\", \"intolerance\", \"military\", \"fundamentalism\", \n",
    "        \"honor\", \"poverty\", \"significance quest\", \"social movements\", \"globalization\", \n",
    "        \"martyrdom\", \"political engagement\", \"resilience\"\n",
    "    ],\n",
    "    'radicalism': [\"radicalism\", \"far right\", \"far left\"]\n",
    "}\n",
    "\n",
    "# Create the graph\n",
    "G = nx.Graph()\n",
    "\n",
    "# Add edges with the corresponding frequency as the weight\n",
    "for index, row in cooc_df_left.iterrows():\n",
    "    G.add_edge(row['term1'], row['term2'], weight=row['cooc'])\n",
    "\n",
    "# Draw the graph\n",
    "plt.figure(figsize=(14, 10))\n",
    "\n",
    "# Use spring layout for better visualization\n",
    "pos = nx.spring_layout(G, seed=43, k=2, iterations=100)  # positions for all nodes\n",
    "\n",
    "# Adjust positions to separate 'radicalism' and 'far left'\n",
    "if 'far left' in pos and 'radicalism' in pos:\n",
    "    pos['far left'][0] += 0.1  # Adjust x position\n",
    "    pos['far left'][1] += 0.1  # Adjust y position\n",
    "\n",
    "# Color mapping\n",
    "color_mapping = {\n",
    "    'micro': 'grey',\n",
    "    'meso': '#6c9808',\n",
    "    'macro': '#f0ad48',\n",
    "    'radicalism': 'red'\n",
    "}\n",
    "\n",
    "highlight_nodes = categories['radicalism']\n",
    "\n",
    "# Draw nodes\n",
    "for category, nodes in categories.items():\n",
    "    if category != 'theory':\n",
    "        node_shape = 'o' if category == 'micro' else ('s' if category == 'meso' else ('v' if category == 'macro' else 'D'))\n",
    "        color = color_mapping[category]\n",
    "        non_theory_nodes = [node for node in G.nodes() if node in nodes and node not in highlight_nodes and node not in categories['theory']]\n",
    "        theory_nodes = [node for node in G.nodes() if node in nodes and node in categories['theory']]\n",
    "        nx.draw_networkx_nodes(G, pos, nodelist=non_theory_nodes, node_size=200, node_color=color, node_shape=node_shape, alpha=0.7)\n",
    "        nx.draw_networkx_nodes(G, pos, nodelist=theory_nodes, node_size=200, node_color='white', edgecolors=color, node_shape=node_shape, linewidths=2.5, alpha=0.7)\n",
    "\n",
    "# Draw highlight nodes\n",
    "nx.draw_networkx_nodes(G, pos, nodelist=highlight_nodes, node_size=200, node_color=color_mapping['radicalism'], node_shape='D', alpha=0.7)\n",
    "\n",
    "# Draw edges with width and color proportional to the frequency\n",
    "weights = [G[u][v]['weight'] for u, v in G.edges]\n",
    "min_weight = min(weights)\n",
    "max_weight = max(weights)\n",
    "normalized_weights = [(weight - min_weight) / (max_weight - min_weight) for weight in weights]\n",
    "edge_widths = [1 + 15 * norm_weight for norm_weight in normalized_weights]\n",
    "edges = nx.draw_networkx_edges(G, pos, edge_color='grey', width=edge_widths, alpha=0.7)\n",
    "\n",
    "# Draw labels with increased font size\n",
    "nx.draw_networkx_labels(G, pos, font_size=14, font_family=\"sans-serif\")\n",
    "\n",
    "# Add legend\n",
    "legend_elements = [\n",
    "    plt.Line2D([0], [0], marker='o', color='w', markerfacecolor=color_mapping['micro'], markersize=10, label='Micro Level'),\n",
    "    plt.Line2D([0], [0], marker='v', color='w', markerfacecolor=color_mapping['macro'], markersize=10, label='Macro Level'),\n",
    "    plt.Line2D([0], [0], marker='D', color='w', markerfacecolor=color_mapping['radicalism'], markersize=10, label='Radicalism')\n",
    "]\n",
    "\n",
    "plt.legend(handles=legend_elements, loc='upper right')\n",
    "\n",
    "# Remove the frame\n",
    "ax = plt.gca()\n",
    "ax.spines['top'].set_visible(False)\n",
    "ax.spines['right'].set_visible(False)\n",
    "ax.spines['left'].set_visible(False)\n",
    "ax.spines['bottom'].set_visible(False)\n",
    "\n",
    "plt.savefig('RTMR_Output/Keywords/keywords_cooccurrence_farleft.png', bbox_inches='tight', dpi=600)\n",
    "\n"
   ]
  },
  {
   "cell_type": "markdown",
   "id": "029569b9-6e45-4756-a83f-f2c92ac78a96",
   "metadata": {},
   "source": [
    "#### f) centred around \"lone actor\""
   ]
  },
  {
   "cell_type": "code",
   "execution_count": null,
   "id": "628f2f91-815c-4a25-81e6-aa1a44ff48de",
   "metadata": {},
   "outputs": [],
   "source": [
    "# Define terms for each category based on your categorization\n",
    "categories = {\n",
    "    'micro': [\n",
    "        \"ideology\", \"violence\", \"religiosity\", \"adolescence\", \"identity\", \"cognition\", \n",
    "        \"sex\", \"employment\", \"deprivation\", \"emotion\", \"activism\", \n",
    "        \"criminality\", \"education\", \"nationalism\", \"populism\", \"status\", \"dogmatism\", \n",
    "        \"authoritarianism\", \"aggression\", \"morality\", \"mental health\", \"conservatism\", \n",
    "        \"minority\", \"sacred values\", \"age\", \"hate\", \"rationality\", \"prejudice\", \n",
    "        \"uncertainty\", \"trust\", \"personality\", \"liberalism\", \"intolerance\", \n",
    "        \"fundamentalism\", \"fear\", \"honor\", \"poverty\", \"white race\", \"superiority\",\n",
    "        \"islamophobia\", \"significance quest\", \"social movements\", \"masculinity\", \n",
    "        \"conspiracy\", \"misogyny\", \"racism\", \"martyrdom\", \"political engagement\", \n",
    "        \"ptsd\", \"resilience\", \"voting behavior\", \"misogyny\"\n",
    "    ],\n",
    "    'meso': [\n",
    "        \"social network\", \"threat\", \"diversity\", \"social exclusion\", \"norms\", \"internet\",\n",
    "        \"mobilization\", \"discourse\", \"integration\", \"family\", \"competition\", \"language\",\n",
    "        \"polarization\", \"discrimination\", \"group process\", \"recruitment\", \n",
    "        \"elites\", \"social media\", \"social cohesion\", \"social change\"\n",
    "    ],\n",
    "    'macro': [\n",
    "        \"conflict\", \"state\", \"economy\", \"society\", \"politics\", \"justice\", \n",
    "        \"culture\", \"security\", \"region\", \"elections\", \"policy\", \"democracy\", \n",
    "        \"international\", \"crisis\", \"institutions\", \"peace\", \"propaganda\", \n",
    "        \"military\", \"globalization\", \"immigration\"\n",
    "    ],\n",
    "    'theory': [\n",
    "        \"ideology\", \"violence\", \"social network\", \"conflict\", \"religiosity\", \"state\", \n",
    "        \"society\", \"identity\", \"politics\", \"cognition\", \"justice\", \"norms\", \"culture\", \n",
    "        \"threat\", \"superiority\", \"employment\", \"deprivation\", \"emotion\", \"activism\", \n",
    "        \"policy\", \"nationalism\", \"social exclusion\", \"status\", \"dogmatism\", \"mobilization\", \n",
    "        \"authoritarianism\", \"integration\", \"aggression\", \"morality\", \"competition\", \n",
    "        \"crisis\", \"sacred values\", \"discrimination\", \"group process\", \"rationality\", \n",
    "        \"prejudice\", \"uncertainty\", \"intolerance\", \"military\", \"fundamentalism\", \n",
    "        \"honor\", \"poverty\", \"significance quest\", \"social movements\", \"globalization\", \n",
    "        \"martyrdom\", \"political engagement\", \"resilience\"\n",
    "    ],\n",
    "    'radicalism': [\"radicalism\", \"lone actor\"]\n",
    "}\n",
    "\n",
    "# Create the graph\n",
    "G = nx.Graph()\n",
    "\n",
    "# Add edges with the corresponding frequency as the weight\n",
    "for index, row in cooc_df_lone.iterrows():\n",
    "    G.add_edge(row['term1'], row['term2'], weight=row['cooc'])\n",
    "\n",
    "# Draw the graph\n",
    "plt.figure(figsize=(14, 10))\n",
    "\n",
    "# Use spring layout for better visualization\n",
    "pos = nx.spring_layout(G, seed=43, k=2, iterations=100)  # positions for all nodes\n",
    "\n",
    "# Adjust positions to separate 'radicalism' and 'lone actor'\n",
    "if 'lone actor' in pos and 'radicalism' in pos:\n",
    "    pos['lone actor'][0] += 0.1  # Adjust x position\n",
    "    pos['lone actor'][1] += 0.1  # Adjust y position\n",
    "\n",
    "# Color mapping\n",
    "color_mapping = {\n",
    "    'micro': 'grey',\n",
    "    'meso': '#6c9808',\n",
    "    'macro': '#f0ad48',\n",
    "    'radicalism': 'red'\n",
    "}\n",
    "\n",
    "highlight_nodes = categories['radicalism']\n",
    "\n",
    "# Draw nodes\n",
    "for category, nodes in categories.items():\n",
    "    if category != 'theory':\n",
    "        node_shape = 'o' if category == 'micro' else ('s' if category == 'meso' else ('v' if category == 'macro' else 'D'))\n",
    "        color = color_mapping[category]\n",
    "        non_theory_nodes = [node for node in G.nodes() if node in nodes and node not in highlight_nodes and node not in categories['theory']]\n",
    "        theory_nodes = [node for node in G.nodes() if node in nodes and node in categories['theory']]\n",
    "        nx.draw_networkx_nodes(G, pos, nodelist=non_theory_nodes, node_size=200, node_color=color, node_shape=node_shape, alpha=0.7)\n",
    "        nx.draw_networkx_nodes(G, pos, nodelist=theory_nodes, node_size=200, node_color='white', edgecolors=color, node_shape=node_shape, linewidths=2.5, alpha=0.7)\n",
    "\n",
    "# Draw highlight nodes\n",
    "nx.draw_networkx_nodes(G, pos, nodelist=highlight_nodes, node_size=200, node_color=color_mapping['radicalism'], node_shape='D', alpha=0.7)\n",
    "\n",
    "# Draw edges with width and color proportional to the frequency\n",
    "weights = [G[u][v]['weight'] for u, v in G.edges]\n",
    "min_weight = min(weights)\n",
    "max_weight = max(weights)\n",
    "normalized_weights = [(weight - min_weight) / (max_weight - min_weight) for weight in weights]\n",
    "edge_widths = [1 + 15 * norm_weight for norm_weight in normalized_weights]\n",
    "edges = nx.draw_networkx_edges(G, pos, edge_color='grey', width=edge_widths, alpha=0.7)\n",
    "\n",
    "# Draw labels with increased font size\n",
    "nx.draw_networkx_labels(G, pos, font_size=14, font_family=\"sans-serif\")\n",
    "\n",
    "# Add legend for node shapes\n",
    "legend_elements = [\n",
    "    plt.Line2D([0], [0], marker='o', color='w', markerfacecolor=color_mapping['micro'], markersize=10, label='Micro Level'),\n",
    "    plt.Line2D([0], [0], marker='s', color='w', markerfacecolor=color_mapping['meso'], markersize=10, label='Meso Level'),\n",
    "    plt.Line2D([0], [0], marker='v', color='w', markerfacecolor=color_mapping['macro'], markersize=10, label='Macro Level'),\n",
    "    plt.Line2D([0], [0], marker='D', color='w', markerfacecolor=color_mapping['radicalism'], markersize=10, label='Radicalism')\n",
    "]\n",
    "\n",
    "plt.legend(handles=legend_elements, loc='upper right', fontsize=10, bbox_to_anchor=(1, 1.1))\n",
    "\n",
    "# Remove the frame\n",
    "ax = plt.gca()\n",
    "ax.spines['top'].set_visible(False)\n",
    "ax.spines['right'].set_visible(False)\n",
    "ax.spines['left'].set_visible(False)\n",
    "ax.spines['bottom'].set_visible(False)\n",
    "\n",
    "plt.savefig('RTMR_Output/Keywords/keywords_cooccurrence_loneactor.png', bbox_inches='tight', dpi=600)\n",
    "\n"
   ]
  },
  {
   "cell_type": "markdown",
   "id": "566b0fbc-b078-4910-87c7-ee6f19c9f011",
   "metadata": {},
   "source": [
    "#### g) Centred around \"foreign fighter\""
   ]
  },
  {
   "cell_type": "code",
   "execution_count": null,
   "id": "5f617892-1d85-449b-b515-bdbb115de122",
   "metadata": {},
   "outputs": [],
   "source": [
    "# Define terms for each category based on your categorization\n",
    "categories = {\n",
    "    'micro': [\n",
    "        \"ideology\", \"violence\", \"religiosity\", \"adolescence\", \"identity\", \"cognition\", \n",
    "        \"sex\", \"employment\", \"deprivation\", \"emotion\", \"activism\", \n",
    "        \"criminality\", \"education\", \"nationalism\", \"populism\", \"status\", \"dogmatism\", \n",
    "        \"authoritarianism\", \"aggression\", \"morality\", \"mental health\", \"conservatism\", \n",
    "        \"minority\", \"sacred values\", \"age\", \"hate\", \"rationality\", \"prejudice\", \n",
    "        \"uncertainty\", \"trust\", \"personality\", \"liberalism\", \"intolerance\", \n",
    "        \"fundamentalism\", \"fear\", \"honor\", \"poverty\", \"white race\", \"superiority\",\n",
    "        \"islamophobia\", \"significance quest\", \"social movements\", \"masculinity\", \n",
    "        \"conspiracy\", \"misogyny\", \"racism\", \"martyrdom\", \"political engagement\", \n",
    "        \"ptsd\", \"resilience\", \"voting behavior\", \"misogyny\"\n",
    "    ],\n",
    "    'meso': [\n",
    "        \"social network\", \"threat\", \"diversity\", \"social exclusion\", \"norms\", \"internet\",\n",
    "        \"mobilization\", \"discourse\", \"integration\", \"family\", \"competition\", \"language\",\n",
    "        \"polarization\", \"discrimination\", \"group process\", \"recruitment\", \n",
    "        \"elites\", \"social media\", \"social cohesion\", \"social change\"\n",
    "    ],\n",
    "    'macro': [\n",
    "        \"conflict\", \"state\", \"economy\", \"society\", \"politics\", \"justice\", \n",
    "        \"culture\", \"security\", \"region\", \"elections\", \"policy\", \"democracy\", \n",
    "        \"international\", \"crisis\", \"institutions\", \"peace\", \"propaganda\", \n",
    "        \"military\", \"globalization\", \"immigration\"\n",
    "    ],\n",
    "    'theory': [\n",
    "        \"ideology\", \"violence\", \"social network\", \"conflict\", \"religiosity\", \"state\", \n",
    "        \"society\", \"identity\", \"politics\", \"cognition\", \"justice\", \"norms\", \"culture\", \n",
    "        \"threat\", \"superiority\", \"employment\", \"deprivation\", \"emotion\", \"activism\", \n",
    "        \"policy\", \"nationalism\", \"social exclusion\", \"status\", \"dogmatism\", \"mobilization\", \n",
    "        \"authoritarianism\", \"integration\", \"aggression\", \"morality\", \"competition\", \n",
    "        \"crisis\", \"sacred values\", \"discrimination\", \"group process\", \"rationality\", \n",
    "        \"prejudice\", \"uncertainty\", \"intolerance\", \"military\", \"fundamentalism\", \n",
    "        \"honor\", \"poverty\", \"significance quest\", \"social movements\", \"globalization\", \n",
    "        \"martyrdom\", \"political engagement\", \"resilience\", \"family\"\n",
    "    ],\n",
    "    'radicalism': [\"radicalism\", \"foreign fighter\", \"islamist\"]\n",
    "}\n",
    "\n",
    "# Create the graph\n",
    "G = nx.Graph()\n",
    "\n",
    "# Add edges with the corresponding frequency as the weight\n",
    "for index, row in cooc_df_foreignf.iterrows():\n",
    "    G.add_edge(row['term1'], row['term2'], weight=row['cooc'])\n",
    "\n",
    "# Draw the graph\n",
    "plt.figure(figsize=(14, 10))\n",
    "\n",
    "# Use spring layout for better visualization\n",
    "pos = nx.spring_layout(G, seed=43, k=2, iterations=100)  # positions for all nodes\n",
    "\n",
    "# Adjust positions to separate 'radicalism' and 'lone actor'\n",
    "if 'lone actor' in pos and 'radicalism' in pos:\n",
    "    pos['lone actor'][0] += 0.1  # Adjust x position\n",
    "    pos['lone actor'][1] += 0.1  # Adjust y position\n",
    "\n",
    "# Color mapping\n",
    "color_mapping = {\n",
    "    'micro': 'grey',\n",
    "    'meso': '#6c9808',\n",
    "    'macro': '#f0ad48',\n",
    "    'radicalism': 'red'\n",
    "}\n",
    "\n",
    "highlight_nodes = categories['radicalism']\n",
    "\n",
    "# Draw nodes\n",
    "for category, nodes in categories.items():\n",
    "    if category != 'theory':\n",
    "        node_shape = 'o' if category == 'micro' else ('s' if category == 'meso' else ('v' if category == 'macro' else 'D'))\n",
    "        color = color_mapping[category]\n",
    "        non_theory_nodes = [node for node in G.nodes() if node in nodes and node not in highlight_nodes and node not in categories['theory']]\n",
    "        theory_nodes = [node for node in G.nodes() if node in nodes and node in categories['theory']]\n",
    "        nx.draw_networkx_nodes(G, pos, nodelist=non_theory_nodes, node_size=200, node_color=color, node_shape=node_shape, alpha=0.7)\n",
    "        nx.draw_networkx_nodes(G, pos, nodelist=theory_nodes, node_size=200, node_color='white', edgecolors=color, node_shape=node_shape, linewidths=2.5, alpha=0.7)\n",
    "\n",
    "# Draw highlight nodes\n",
    "nx.draw_networkx_nodes(G, pos, nodelist=highlight_nodes, node_size=200, node_color=color_mapping['radicalism'], node_shape='D', alpha=0.7)\n",
    "\n",
    "# Draw edges with width and color proportional to the frequency\n",
    "weights = [G[u][v]['weight'] for u, v in G.edges]\n",
    "min_weight = min(weights)\n",
    "max_weight = max(weights)\n",
    "normalized_weights = [(weight - min_weight) / (max_weight - min_weight) for weight in weights]\n",
    "edge_widths = [1 + 15 * norm_weight for norm_weight in normalized_weights]\n",
    "edges = nx.draw_networkx_edges(G, pos, edge_color='grey', width=edge_widths, alpha=0.7)\n",
    "\n",
    "# Draw labels with increased font size\n",
    "nx.draw_networkx_labels(G, pos, font_size=14, font_family=\"sans-serif\")\n",
    "\n",
    "# Add legend for node shapes\n",
    "legend_elements = [\n",
    "    plt.Line2D([0], [0], marker='s', color='w', markerfacecolor=color_mapping['meso'], markersize=10, label='Meso Level'),\n",
    "    plt.Line2D([0], [0], marker='v', color='w', markerfacecolor=color_mapping['macro'], markersize=10, label='Macro Level'),\n",
    "    plt.Line2D([0], [0], marker='D', color='w', markerfacecolor=color_mapping['radicalism'], markersize=10, label='Radicalism')\n",
    "]\n",
    "\n",
    "plt.legend(handles=legend_elements, loc='upper right', fontsize=10, bbox_to_anchor=(1, 1.1))\n",
    "\n",
    "# Remove the frame\n",
    "ax = plt.gca()\n",
    "ax.spines['top'].set_visible(False)\n",
    "ax.spines['right'].set_visible(False)\n",
    "ax.spines['left'].set_visible(False)\n",
    "ax.spines['bottom'].set_visible(False)\n",
    "\n",
    "plt.savefig('RTMR_Output/Keywords/keywords_cooccurrence_foreignfighter.png', bbox_inches='tight', dpi=600)\n",
    "\n"
   ]
  },
  {
   "cell_type": "code",
   "execution_count": null,
   "id": "54157827-417e-40d8-8fec-f1ec94031cd3",
   "metadata": {},
   "outputs": [],
   "source": [
    "#### h) centred around \"male supremacist\""
   ]
  },
  {
   "cell_type": "code",
   "execution_count": null,
   "id": "10eb9e63-ae0a-4483-ad56-21e19f640030",
   "metadata": {},
   "outputs": [],
   "source": [
    "# Define terms for each category based on your categorization\n",
    "categories = {\n",
    "    'micro': [\n",
    "        \"ideology\", \"violence\", \"religiosity\", \"adolescence\", \"identity\", \"cognition\", \n",
    "        \"sex\", \"employment\", \"deprivation\", \"emotion\", \"activism\", \n",
    "        \"criminality\", \"education\", \"nationalism\", \"populism\", \"status\", \"dogmatism\", \n",
    "        \"authoritarianism\", \"aggression\", \"morality\", \"mental health\", \"conservatism\", \n",
    "        \"minority\", \"sacred values\", \"age\", \"hate\", \"rationality\", \"prejudice\", \n",
    "        \"uncertainty\", \"trust\", \"personality\", \"liberalism\", \"intolerance\", \n",
    "        \"fundamentalism\", \"fear\", \"honor\", \"poverty\", \"white race\", \"superiority\",\n",
    "        \"islamophobia\", \"significance quest\", \"social movements\", \"masculinity\", \n",
    "        \"conspiracy\", \"misogyny\", \"racism\", \"martyrdom\", \"political engagement\", \n",
    "        \"ptsd\", \"resilience\", \"voting behavior\", \"misogyny\"\n",
    "    ],\n",
    "    'meso': [\n",
    "        \"social network\", \"threat\", \"diversity\", \"social exclusion\", \"norms\", \"internet\",\n",
    "        \"mobilization\", \"discourse\", \"integration\", \"family\", \"competition\", \"language\",\n",
    "        \"polarization\", \"discrimination\", \"group process\", \"recruitment\", \n",
    "        \"elites\", \"social media\", \"social cohesion\", \"social change\"\n",
    "    ],\n",
    "    'macro': [\n",
    "        \"conflict\", \"state\", \"economy\", \"society\", \"politics\", \"justice\", \n",
    "        \"culture\", \"security\", \"region\", \"elections\", \"policy\", \"democracy\", \n",
    "        \"international\", \"crisis\", \"institutions\", \"peace\", \"propaganda\", \n",
    "        \"military\", \"globalization\", \"immigration\"\n",
    "    ],\n",
    "    'theory': [\n",
    "        \"ideology\", \"violence\", \"social network\", \"conflict\", \"religiosity\", \"state\", \n",
    "        \"society\", \"identity\", \"politics\", \"cognition\", \"justice\", \"norms\", \"culture\", \n",
    "        \"threat\", \"superiority\", \"employment\", \"deprivation\", \"emotion\", \"activism\", \n",
    "        \"policy\", \"nationalism\", \"social exclusion\", \"status\", \"dogmatism\", \"mobilization\", \n",
    "        \"authoritarianism\", \"integration\", \"aggression\", \"morality\", \"competition\", \n",
    "        \"crisis\", \"sacred values\", \"discrimination\", \"group process\", \"rationality\", \n",
    "        \"prejudice\", \"uncertainty\", \"intolerance\", \"military\", \"fundamentalism\", \n",
    "        \"honor\", \"poverty\", \"significance quest\", \"social movements\", \"globalization\", \n",
    "        \"martyrdom\", \"political engagement\", \"resilience\", \"family\"\n",
    "    ],\n",
    "    'radicalism': [\"radicalism\", \"male supremacist\", \"far right\"]\n",
    "}\n",
    "\n",
    "# Create the graph\n",
    "G = nx.Graph()\n",
    "\n",
    "# Add edges with the corresponding frequency as the weight\n",
    "for index, row in cooc_df_malesup.iterrows():\n",
    "    G.add_edge(row['term1'], row['term2'], weight=row['cooc'])\n",
    "\n",
    "# Draw the graph\n",
    "plt.figure(figsize=(14, 10))\n",
    "\n",
    "# Use spring layout for better visualization\n",
    "pos = nx.spring_layout(G, seed=43, k=2, iterations=100)  # positions for all nodes\n",
    "\n",
    "# Adjust positions to separate 'radicalism' and 'lone actor'\n",
    "if 'lone actor' in pos and 'radicalism' in pos:\n",
    "    pos['lone actor'][0] += 0.1  # Adjust x position\n",
    "    pos['lone actor'][1] += 0.1  # Adjust y position\n",
    "\n",
    "# Color mapping\n",
    "color_mapping = {\n",
    "    'micro': 'grey',\n",
    "    'meso': '#6c9808',\n",
    "    'macro': '#f0ad48',\n",
    "    'radicalism': 'red'\n",
    "}\n",
    "\n",
    "highlight_nodes = categories['radicalism']\n",
    "\n",
    "# Draw nodes\n",
    "for category, nodes in categories.items():\n",
    "    if category != 'theory':\n",
    "        node_shape = 'o' if category == 'micro' else ('s' if category == 'meso' else ('v' if category == 'macro' else 'D'))\n",
    "        color = color_mapping[category]\n",
    "        non_theory_nodes = [node for node in G.nodes() if node in nodes and node not in highlight_nodes and node not in categories['theory']]\n",
    "        theory_nodes = [node for node in G.nodes() if node in nodes and node in categories['theory']]\n",
    "        nx.draw_networkx_nodes(G, pos, nodelist=non_theory_nodes, node_size=200, node_color=color, node_shape=node_shape, alpha=0.7)\n",
    "        nx.draw_networkx_nodes(G, pos, nodelist=theory_nodes, node_size=200, node_color='white', edgecolors=color, node_shape=node_shape, linewidths=2.5, alpha=0.7)\n",
    "\n",
    "# Draw highlight nodes\n",
    "nx.draw_networkx_nodes(G, pos, nodelist=highlight_nodes, node_size=200, node_color=color_mapping['radicalism'], node_shape='D', alpha=0.7)\n",
    "\n",
    "# Draw edges with width and color proportional to the frequency\n",
    "weights = [G[u][v]['weight'] for u, v in G.edges]\n",
    "min_weight = min(weights)\n",
    "max_weight = max(weights)\n",
    "normalized_weights = [(weight - min_weight) / (max_weight - min_weight) for weight in weights]\n",
    "edge_widths = [1 + 15 * norm_weight for norm_weight in normalized_weights]\n",
    "edges = nx.draw_networkx_edges(G, pos, edge_color='grey', width=edge_widths, alpha=0.7)\n",
    "\n",
    "# Draw labels with increased font size\n",
    "nx.draw_networkx_labels(G, pos, font_size=14, font_family=\"sans-serif\")\n",
    "\n",
    "# Add legend for node shapes\n",
    "legend_elements = [\n",
    "    plt.Line2D([0], [0], marker='o', color='w', markerfacecolor=color_mapping['micro'], markersize=10, label='Micro Level'),\n",
    "    plt.Line2D([0], [0], marker='s', color='w', markerfacecolor=color_mapping['meso'], markersize=10, label='Meso Level'),\n",
    "    plt.Line2D([0], [0], marker='D', color='w', markerfacecolor=color_mapping['radicalism'], markersize=10, label='Radicalism')\n",
    "]\n",
    "\n",
    "plt.legend(handles=legend_elements, loc='upper right', fontsize=10, bbox_to_anchor=(1, 1.1))\n",
    "\n",
    "# Remove the frame\n",
    "ax = plt.gca()\n",
    "ax.spines['top'].set_visible(False)\n",
    "ax.spines['right'].set_visible(False)\n",
    "ax.spines['left'].set_visible(False)\n",
    "ax.spines['bottom'].set_visible(False)\n",
    "\n",
    "plt.savefig('RTMR_Output/Keywords/keywords_cooccurrence_malesupremacist.png', bbox_inches='tight', dpi=600)\n",
    "\n"
   ]
  },
  {
   "cell_type": "markdown",
   "id": "4650b41c-c0cd-4f09-a381-369c144263ca",
   "metadata": {},
   "source": [
    "## Terms not occurring in co-occurrence map"
   ]
  },
  {
   "cell_type": "code",
   "execution_count": null,
   "id": "e767112c-971e-4ad7-9142-d4ff9f4e7082",
   "metadata": {},
   "outputs": [],
   "source": [
    "print(\"Terms not occurring in co-occurrnece map: \\n\", set(list(freq_df.Word)).difference(set(list(cooc_df_incl.term1) + list(cooc_df_incl.term2))))"
   ]
  },
  {
   "cell_type": "code",
   "execution_count": null,
   "id": "1a87402a-2e34-445f-961c-945c70c41171",
   "metadata": {},
   "outputs": [],
   "source": []
  },
  {
   "cell_type": "markdown",
   "id": "f7acef55-a722-46c8-9c04-78d5b79e0772",
   "metadata": {},
   "source": [
    "## Mental Health"
   ]
  },
  {
   "cell_type": "markdown",
   "id": "bb5277d8-a30f-4fd7-bba2-c2bb321b9506",
   "metadata": {},
   "source": [
    "### Mental Health occurrence across time for Keywords"
   ]
  },
  {
   "cell_type": "code",
   "execution_count": null,
   "id": "37fe8d1e-fff6-4b90-83ce-6147d831d10b",
   "metadata": {},
   "outputs": [],
   "source": [
    "year_df = dfTot[[\"record_id\",\"Publication Year\"]]"
   ]
  },
  {
   "cell_type": "code",
   "execution_count": null,
   "id": "888b98d8-2e16-4d0f-b265-e9c1b97a2668",
   "metadata": {},
   "outputs": [],
   "source": [
    "study1 = clean_data"
   ]
  },
  {
   "cell_type": "code",
   "execution_count": null,
   "id": "b6696e5b-aa85-4c0f-9307-46f239e4f8d9",
   "metadata": {},
   "outputs": [],
   "source": [
    "merged_df = pd.merge(year_df, study1, on='record_id', how='outer')\n",
    "merged_df"
   ]
  },
  {
   "cell_type": "code",
   "execution_count": null,
   "id": "74e2cce6-e7af-457d-810a-3aa9897858b6",
   "metadata": {},
   "outputs": [],
   "source": [
    "# Replace NaN values with empty lists\n",
    "merged_df['cat_keywords'] = merged_df['cat_keywords'].apply(lambda x: x if isinstance(x, list) else [])\n"
   ]
  },
  {
   "cell_type": "code",
   "execution_count": null,
   "id": "861555c6-06a7-460b-b39c-606eb3db464e",
   "metadata": {},
   "outputs": [],
   "source": [
    "articles_per_year = Counter(merged_df[\"Publication Year\"])"
   ]
  },
  {
   "cell_type": "code",
   "execution_count": null,
   "id": "ba635b61-74a8-410f-88f2-ae6be684e35b",
   "metadata": {},
   "outputs": [],
   "source": [
    "check_term = \"mental health\""
   ]
  },
  {
   "cell_type": "code",
   "execution_count": null,
   "id": "24cd21fa-9d22-4bb8-aa78-e7946e098bfd",
   "metadata": {},
   "outputs": [],
   "source": [
    "rels = merged_df[merged_df['cat_keywords'].apply(lambda x: check_term in x)]\n",
    "mental_health_per_year = Counter(rels[\"Publication Year\"])"
   ]
  },
  {
   "cell_type": "code",
   "execution_count": null,
   "id": "82225934-fce8-4356-91bf-c42fa5749547",
   "metadata": {},
   "outputs": [],
   "source": [
    "corrected_years = dict()\n",
    "for key, value in mental_health_per_year.items():\n",
    "    corrected_years[key] = value / articles_per_year[key]\n",
    "\n",
    "corrected_years = dict(sorted(corrected_years.items()))"
   ]
  },
  {
   "cell_type": "code",
   "execution_count": null,
   "id": "946f027c-a053-47f2-9592-5c22f358056d",
   "metadata": {},
   "outputs": [],
   "source": [
    "# Determine the range of years\n",
    "min_year = min(corrected_years.keys())\n",
    "max_year = max(corrected_years.keys())\n",
    "\n",
    "# Create a list of all years in the range\n",
    "all_years = list(range(min_year, max_year + 1))\n",
    "\n",
    "# Get the frequencies for all years, using 0 for years with no data\n",
    "frequencies = [corrected_years.get(year, 0) for year in all_years]\n",
    "\n",
    "# Plot the histogram\n",
    "plt.figure(figsize=(10, 6))\n",
    "\n",
    "plt.bar(all_years, frequencies, edgecolor='black', color='gray')\n",
    "\n",
    "# Customize the x-axis labels for better detail\n",
    "plt.xticks(all_years, rotation=45)  # Rotate labels to 45 degrees\n",
    "plt.xlabel('Publication Year', fontsize=12, labelpad=15)  # Add padding\n",
    "plt.ylabel(f'Frequency of {check_term}', fontsize=12, labelpad=15)  # Add padding\n",
    "\n",
    "# Remove the background grid\n",
    "plt.grid(False)\n",
    "\n",
    "# Save\n",
    "plt.savefig('RTMR_Output/Keywords/Keywords_mental-health_hist.png', bbox_inches='tight', dpi=600)\n",
    "\n",
    "\n",
    "# Show the plot\n",
    "plt.tight_layout()\n",
    "plt.show()\n"
   ]
  },
  {
   "cell_type": "markdown",
   "id": "64afdded-9222-4a07-92ff-00dc54307a37",
   "metadata": {},
   "source": [
    "## Binomial test for within vs. between category co-occurrences"
   ]
  },
  {
   "cell_type": "code",
   "execution_count": null,
   "id": "4cb8c05f-5db3-473b-bd45-c8ae1f1ea180",
   "metadata": {},
   "outputs": [],
   "source": [
    "data_binom = cooc_df_excl.copy(deep=True)\n",
    "data_binom"
   ]
  },
  {
   "cell_type": "code",
   "execution_count": null,
   "id": "df5ab2f3-4188-4827-8379-8aeb111f19dc",
   "metadata": {},
   "outputs": [],
   "source": [
    "# Define terms for each category based on your updated categorization\n",
    "micro_terms = [\n",
    "    \"ideology\", \"violence\", \"religiosity\", \"adolescence\", \"identity\", \"cognition\", \n",
    "    \"sex\", \"employment\", \"deprivation\", \"immigration\", \"emotion\", \"activism\", \n",
    "    \"criminality\", \"education\", \"nationalism\", \"populism\", \"status\", \"dogmatism\", \n",
    "    \"authoritarianism\", \"aggression\", \"morality\", \"mental health\", \"conservatism\", \n",
    "    \"minority\", \"sacred values\", \"age\", \"hate\", \"rationality\", \"prejudice\", \n",
    "    \"uncertainty\", \"trust\", \"personality\", \"liberalism\", \"intolerance\", \n",
    "    \"fundamentalism\", \"fear\", \"honor\", \"poverty\", \"white race\", \"superiority\", \"fusion\",\n",
    "    \"masculinity\", \"racism\"\n",
    "]\n",
    "\n",
    "meso_terms = [\n",
    "    \"social network\", \"threat\", \"diversity\", \"social exclusion\", \"discourse\", \n",
    "    \"family\", \"competition\", \"polarization\", \"discrimination\", \"group process\", \n",
    "    \"recruitment\", \"elites\", \"social media\", \"social coherence\", \"mobilization\", \n",
    "    \"integration\", \"social movements\"\n",
    "]\n",
    "\n",
    "macro_terms = [\n",
    "    \"conflict\", \"state\", \"economy\", \"society\", \"politics\", \"justice\", \"norms\", \n",
    "    \"culture\", \"internet\", \"security\", \"region\", \"elections\", \"policy\", \"democracy\", \n",
    "    \"language\", \"international\", \"crisis\", \"institutions\", \"peace\", \"propaganda\", \n",
    "    \"military\"\n",
    "]\n",
    "\n",
    "# Function to categorize terms\n",
    "def categorize_terms(term):\n",
    "    if term in micro_terms:\n",
    "        return 'micro'\n",
    "    elif term in meso_terms:\n",
    "        return 'meso'\n",
    "    elif term in macro_terms:\n",
    "        return 'macro'\n",
    "    else:\n",
    "        return 'unknown'"
   ]
  },
  {
   "cell_type": "code",
   "execution_count": null,
   "id": "00ebad7c-889b-4d4c-9115-9967309ad6a9",
   "metadata": {},
   "outputs": [],
   "source": [
    "# Apply categorization to terms\n",
    "data_binom['category1'] = data_binom['term1'].apply(categorize_terms)\n",
    "data_binom['category2'] = data_binom['term2'].apply(categorize_terms)\n",
    "\n",
    "# Filter out unknown categories\n",
    "cooc_df_filtered = data_binom[(data_binom['category1'] != 'unknown') & (data_binom['category2'] != 'unknown')]\n",
    "cooc_df_filtered"
   ]
  },
  {
   "cell_type": "code",
   "execution_count": null,
   "id": "23a8725a-61d7-4796-ae48-fc44a74d8e1d",
   "metadata": {},
   "outputs": [],
   "source": [
    "data_binom[ (data_binom.category2 == \"unknown\") | (data_binom.category1 == \"unknown\") ]"
   ]
  },
  {
   "cell_type": "code",
   "execution_count": null,
   "id": "4acda02e-db8b-487c-a353-b18c59f958ef",
   "metadata": {},
   "outputs": [],
   "source": [
    "## how often do the levels occurr\n",
    "freq_levels = Counter(list(cooc_df_filtered.category1) + list(cooc_df_filtered.category2))\n",
    "total_nodes = np.sum(list(freq_levels.values()))\n",
    "for key, value in freq_levels.items():\n",
    "    freq_levels[key] = value / total_nodes\n",
    "freq_levels"
   ]
  },
  {
   "cell_type": "code",
   "execution_count": null,
   "id": "77bd855c-618a-4a41-be2a-640d1236f99b",
   "metadata": {},
   "outputs": [],
   "source": [
    "n = cooc_df_filtered.cooc.sum()\n",
    "n"
   ]
  },
  {
   "cell_type": "code",
   "execution_count": null,
   "id": "40e6bbef-c62a-487d-9bdf-debe08df5ba3",
   "metadata": {},
   "outputs": [],
   "source": [
    "occ_within = cooc_df_filtered.cooc[cooc_df_filtered.category1 == cooc_df_filtered.category2].sum()\n",
    "occ_between = cooc_df_filtered.cooc[cooc_df_filtered.category1 != cooc_df_filtered.category2].sum()\n",
    "print(\"within: \",occ_within)\n",
    "print(\"between: \", occ_between)"
   ]
  },
  {
   "cell_type": "code",
   "execution_count": null,
   "id": "574d7eaf-7fda-48b6-b320-52d713b42cd4",
   "metadata": {},
   "outputs": [],
   "source": [
    "print(binom_test(x=occ_between, n= n, p=1/2))\n",
    "print(binom_test(x=occ_within, n= n, p=1/2))\n"
   ]
  }
 ],
 "metadata": {
  "kernelspec": {
   "display_name": "RadTMSR_env",
   "language": "python",
   "name": "radtmsr_env"
  },
  "language_info": {
   "codemirror_mode": {
    "name": "ipython",
    "version": 3
   },
   "file_extension": ".py",
   "mimetype": "text/x-python",
   "name": "python",
   "nbconvert_exporter": "python",
   "pygments_lexer": "ipython3",
   "version": "3.10.11"
  }
 },
 "nbformat": 4,
 "nbformat_minor": 5
}
