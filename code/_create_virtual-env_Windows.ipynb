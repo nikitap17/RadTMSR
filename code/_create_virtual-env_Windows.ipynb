{
 "cells": [
  {
   "cell_type": "markdown",
   "id": "531e9247-ae39-4b89-8819-7442036bd58d",
   "metadata": {},
   "source": [
    "# Reproducible code\n",
    "For maximal reproducibility, we recommend to run the following code, which will be executed in the command prompt (Windows). You are then required to change the analyses notebook's kernel to \"RadTMSR_env\", which stores all required versions of the used modules.\n",
    "\n",
    "**Written in Python 4.20.11 and Jupyter Lab 4.0.7**\n",
    "\n",
    "More information on virtualenv, please visit https://docs.python.org/3/library/venv.html\n"
   ]
  },
  {
   "cell_type": "code",
   "execution_count": 1,
   "id": "58e6d92a-126c-4b3b-9e2b-433e824a8726",
   "metadata": {},
   "outputs": [
    {
     "name": "stdout",
     "output_type": "stream",
     "text": [
      "Microsoft Windows [Version 10.0.26100.4652]\n",
      "(c) Microsoft Corporation. Alle Rechte vorbehalten.\n",
      "\n",
      "C:\\Users\\NikitaPodolin\\OneDrive - Cronbach GmbH\\Dokumente\\Privat\\Research\\RadTMSR\\code>pip install virtualenv\n",
      "Requirement already satisfied: virtualenv in c:\\users\\nikitapodolin\\appdata\\local\\programs\\python\\python313\\lib\\site-packages (20.31.2)\n",
      "Requirement already satisfied: distlib<1,>=0.3.7 in c:\\users\\nikitapodolin\\appdata\\local\\programs\\python\\python313\\lib\\site-packages (from virtualenv) (0.3.9)\n",
      "Requirement already satisfied: filelock<4,>=3.12.2 in c:\\users\\nikitapodolin\\appdata\\local\\programs\\python\\python313\\lib\\site-packages (from virtualenv) (3.18.0)\n",
      "Requirement already satisfied: platformdirs<5,>=3.9.1 in c:\\users\\nikitapodolin\\appdata\\local\\programs\\python\\python313\\lib\\site-packages (from virtualenv) (4.3.8)\n",
      "\n",
      "C:\\Users\\NikitaPodolin\\OneDrive - Cronbach GmbH\\Dokumente\\Privat\\Research\\RadTMSR\\code>"
     ]
    }
   ],
   "source": [
    "%%cmd\n",
    "pip install virtualenv"
   ]
  },
  {
   "cell_type": "code",
   "execution_count": 4,
   "id": "887c1556-e335-43d4-a297-9e4d184d2cbe",
   "metadata": {
    "scrolled": true
   },
   "outputs": [
    {
     "name": "stdout",
     "output_type": "stream",
     "text": [
      "Microsoft Windows [Version 10.0.26100.4652]\n",
      "(c) Microsoft Corporation. Alle Rechte vorbehalten.\n",
      "\n",
      "C:\\Users\\NikitaPodolin\\OneDrive - Cronbach GmbH\\Dokumente\\Privat\\Research\\RadTMSR\\code>python -m venv RadTMSR_env\n",
      "\n",
      "C:\\Users\\NikitaPodolin\\OneDrive - Cronbach GmbH\\Dokumente\\Privat\\Research\\RadTMSR\\code>RadTMSR_env\\Scripts\\activate.bat\n",
      "\n",
      "(RadTMSR_env) C:\\Users\\NikitaPodolin\\OneDrive - Cronbach GmbH\\Dokumente\\Privat\\Research\\RadTMSR\\code>pip install -r requirements.txt\n",
      "Collecting en-core-web-sm==3.7.1 (from -r requirements.txt (line 7))\n",
      "  Using cached https://github.com/explosion/spacy-models/releases/download/en_core_web_sm-3.7.1/en_core_web_sm-3.7.1-py3-none-any.whl (12.8 MB)\n",
      "Collecting ipykernel==6.28.0 (from -r requirements.txt (line 1))\n",
      "  Using cached ipykernel-6.28.0-py3-none-any.whl.metadata (6.0 kB)\n",
      "Requirement already satisfied: pandas==2.1.1 in c:\\users\\nikitapodolin\\onedrive - cronbach gmbh\\dokumente\\privat\\research\\radtmsr\\code\\radtmsr_env\\lib\\site-packages (from -r requirements.txt (line 2)) (2.1.1)\n",
      "Requirement already satisfied: regex==2023.10.3 in c:\\users\\nikitapodolin\\onedrive - cronbach gmbh\\dokumente\\privat\\research\\radtmsr\\code\\radtmsr_env\\lib\\site-packages (from -r requirements.txt (line 3)) (2023.10.3)\n",
      "Collecting numpy==1.26.2 (from -r requirements.txt (line 4))\n",
      "  Downloading numpy-1.26.2.tar.gz (15.7 MB)\n",
      "     ---------------------------------------- 15.7/15.7 MB 7.1 MB/s eta 0:00:00\n",
      "  Installing build dependencies: started\n",
      "  Installing build dependencies: finished with status 'done'\n",
      "  Getting requirements to build wheel: started\n",
      "  Getting requirements to build wheel: finished with status 'done'\n",
      "  Installing backend dependencies: started\n",
      "  Installing backend dependencies: finished with status 'done'\n",
      "  Preparing metadata (pyproject.toml): started\n",
      "  Preparing metadata (pyproject.toml): finished with status 'error'\n"
     ]
    },
    {
     "name": "stderr",
     "output_type": "stream",
     "text": [
      "  error: subprocess-exited-with-error\n",
      "  \n",
      "  Preparing metadata (pyproject.toml) did not run successfully.\n",
      "  exit code: 1\n",
      "  \n",
      "  [21 lines of output]\n",
      "  + C:\\Users\\NikitaPodolin\\OneDrive - Cronbach GmbH\\Dokumente\\Privat\\Research\\RadTMSR\\code\\RadTMSR_env\\Scripts\\python.exe C:\\Users\\NikitaPodolin\\AppData\\Local\\Temp\\pip-install-37v45jmi\\numpy_fb954d1cc4c94c6f9cc8f1d0c364f09d\\vendored-meson\\meson\\meson.py setup C:\\Users\\NikitaPodolin\\AppData\\Local\\Temp\\pip-install-37v45jmi\\numpy_fb954d1cc4c94c6f9cc8f1d0c364f09d C:\\Users\\NikitaPodolin\\AppData\\Local\\Temp\\pip-install-37v45jmi\\numpy_fb954d1cc4c94c6f9cc8f1d0c364f09d\\.mesonpy-8ee5zl9p\\build -Dbuildtype=release -Db_ndebug=if-release -Db_vscrt=md --native-file=C:\\Users\\NikitaPodolin\\AppData\\Local\\Temp\\pip-install-37v45jmi\\numpy_fb954d1cc4c94c6f9cc8f1d0c364f09d\\.mesonpy-8ee5zl9p\\build\\meson-python-native-file.ini\n",
      "  The Meson build system\n",
      "  Version: 1.2.99\n",
      "  Source dir: C:\\Users\\NikitaPodolin\\AppData\\Local\\Temp\\pip-install-37v45jmi\\numpy_fb954d1cc4c94c6f9cc8f1d0c364f09d\n",
      "  Build dir: C:\\Users\\NikitaPodolin\\AppData\\Local\\Temp\\pip-install-37v45jmi\\numpy_fb954d1cc4c94c6f9cc8f1d0c364f09d\\.mesonpy-8ee5zl9p\\build\n",
      "  Build type: native build\n",
      "  Project name: NumPy\n",
      "  Project version: 1.26.2\n",
      "  WARNING: Failed to activate VS environment: Could not find C:\\Program Files (x86)\\Microsoft Visual Studio\\Installer\\vswhere.exe\n",
      "  \n",
      "  ..\\..\\meson.build:1:0: ERROR: Unknown compiler(s): [['icl'], ['cl'], ['cc'], ['gcc'], ['clang'], ['clang-cl'], ['pgcc']]\n",
      "  The following exception(s) were encountered:\n",
      "  Running `icl \"\"` gave \"[WinError 2] Das System kann die angegebene Datei nicht finden\"\n",
      "  Running `cl /?` gave \"[WinError 2] Das System kann die angegebene Datei nicht finden\"\n",
      "  Running `cc --version` gave \"[WinError 2] Das System kann die angegebene Datei nicht finden\"\n",
      "  Running `gcc --version` gave \"[WinError 2] Das System kann die angegebene Datei nicht finden\"\n",
      "  Running `clang --version` gave \"[WinError 2] Das System kann die angegebene Datei nicht finden\"\n",
      "  Running `clang-cl /?` gave \"[WinError 2] Das System kann die angegebene Datei nicht finden\"\n",
      "  Running `pgcc --version` gave \"[WinError 2] Das System kann die angegebene Datei nicht finden\"\n",
      "  \n",
      "  A full log can be found at C:\\Users\\NikitaPodolin\\AppData\\Local\\Temp\\pip-install-37v45jmi\\numpy_fb954d1cc4c94c6f9cc8f1d0c364f09d\\.mesonpy-8ee5zl9p\\build\\meson-logs\\meson-log.txt\n",
      "  [end of output]\n",
      "  \n",
      "  note: This error originates from a subprocess, and is likely not a problem with pip.\n",
      "\n",
      "[notice] A new release of pip is available: 25.0.1 -> 25.1.1\n",
      "[notice] To update, run: python.exe -m pip install --upgrade pip\n",
      "error: metadata-generation-failed\n",
      "\n",
      "Encountered error while generating package metadata.\n",
      "\n",
      "See above for output.\n",
      "\n",
      "note: This is an issue with the package mentioned above, not pip.\n",
      "hint: See above for details.\n"
     ]
    },
    {
     "name": "stdout",
     "output_type": "stream",
     "text": [
      "\n",
      "(RadTMSR_env) C:\\Users\\NikitaPodolin\\OneDrive - Cronbach GmbH\\Dokumente\\Privat\\Research\\RadTMSR\\code>"
     ]
    }
   ],
   "source": [
    "%%cmd\n",
    "python -m venv RadTMSR_env\n",
    "RadTMSR_env\\Scripts\\activate.bat\n",
    "pip install -r requirements.txt\n"
   ]
  },
  {
   "cell_type": "code",
   "execution_count": 3,
   "id": "c14498bc-ec88-46bd-9119-77c1fb666ffb",
   "metadata": {},
   "outputs": [
    {
     "name": "stdout",
     "output_type": "stream",
     "text": [
      "Microsoft Windows [Version 10.0.26100.4652]\n",
      "(c) Microsoft Corporation. Alle Rechte vorbehalten.\n",
      "\n",
      "C:\\Users\\NikitaPodolin\\OneDrive - Cronbach GmbH\\Dokumente\\Privat\\Research\\RadTMSR\\code>RadTMSR_env\\Scripts\\activate.bat\n",
      "\n",
      "(RadTMSR_env) C:\\Users\\NikitaPodolin\\OneDrive - Cronbach GmbH\\Dokumente\\Privat\\Research\\RadTMSR\\code>python -m ipykernel install --user --name RadTMSR_env --display-name \"Python (RadTMSR_env)\"\n",
      "Installed kernelspec RadTMSR_env in C:\\Users\\NikitaPodolin\\AppData\\Roaming\\jupyter\\kernels\\radtmsr_env\n",
      "\n",
      "(RadTMSR_env) C:\\Users\\NikitaPodolin\\OneDrive - Cronbach GmbH\\Dokumente\\Privat\\Research\\RadTMSR\\code>"
     ]
    }
   ],
   "source": [
    "%%cmd\n",
    "RadTMSR_env\\Scripts\\activate.bat\n",
    "python -m ipykernel install --user --name RadTMSR_env --display-name \"Python (RadTMSR_env)\""
   ]
  }
 ],
 "metadata": {
  "kernelspec": {
   "display_name": "Python 3 (ipykernel)",
   "language": "python",
   "name": "python3"
  },
  "language_info": {
   "codemirror_mode": {
    "name": "ipython",
    "version": 3
   },
   "file_extension": ".py",
   "mimetype": "text/x-python",
   "name": "python",
   "nbconvert_exporter": "python",
   "pygments_lexer": "ipython3",
   "version": "3.13.3"
  }
 },
 "nbformat": 4,
 "nbformat_minor": 5
}
