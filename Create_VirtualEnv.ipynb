{
 "cells": [
  {
   "cell_type": "markdown",
   "id": "148f4ccd-2ec3-4f91-a8fb-db2fdaebc824",
   "metadata": {},
   "source": [
    "## Reproducible Virtual Environment\n",
    "**Python version: 3.10.11**\n",
    "\n",
    "**Jupyter Lab version: 4.0.7**"
   ]
  },
  {
   "cell_type": "code",
   "execution_count": 37,
   "id": "58e6d92a-126c-4b3b-9e2b-433e824a8726",
   "metadata": {},
   "outputs": [
    {
     "name": "stdout",
     "output_type": "stream",
     "text": [
      "Requirement already satisfied: virtualenv in c:\\users\\nikit\\appdata\\local\\programs\\python\\python310\\lib\\site-packages (20.25.0)\n",
      "Requirement already satisfied: distlib<1,>=0.3.7 in c:\\users\\nikit\\appdata\\local\\programs\\python\\python310\\lib\\site-packages (from virtualenv) (0.3.8)\n",
      "Requirement already satisfied: filelock<4,>=3.12.2 in c:\\users\\nikit\\appdata\\local\\programs\\python\\python310\\lib\\site-packages (from virtualenv) (3.13.1)\n",
      "Requirement already satisfied: platformdirs<5,>=3.9.1 in c:\\users\\nikit\\appdata\\local\\programs\\python\\python310\\lib\\site-packages (from virtualenv) (3.11.0)\n"
     ]
    }
   ],
   "source": [
    "%%bash\n",
    "pip install virtualenv"
   ]
  },
  {
   "cell_type": "code",
   "execution_count": 38,
   "id": "78be2989-4f06-4b15-bcbf-e2689742f4f9",
   "metadata": {},
   "outputs": [
    {
     "name": "stdout",
     "output_type": "stream",
     "text": [
      "created virtual environment CPython3.10.11.final.0-64 in 2941ms\n",
      "  creator CPython3Windows(dest=C:\\Users\\nikit\\Documents\\Academia\\B - Praktika und Research\\Anusch phd\\Textmining arniundbarni\\RadTMSR\\RadTMSR_env, clear=False, no_vcs_ignore=False, global=False)\n",
      "  seeder FromAppData(download=False, pip=bundle, setuptools=bundle, wheel=bundle, via=copy, app_data_dir=C:\\Users\\nikit\\AppData\\Local\\pypa\\virtualenv)\n",
      "    added seed packages: pip==23.3.1, setuptools==69.0.2, wheel==0.42.0\n",
      "  activators BashActivator,BatchActivator,FishActivator,NushellActivator,PowerShellActivator,PythonActivator\n"
     ]
    }
   ],
   "source": [
    "%%bash\n",
    "virtualenv RadTMSR_env"
   ]
  },
  {
   "cell_type": "code",
   "execution_count": 52,
   "id": "184a4c4d-ca7d-494a-90c2-ae2f55f30da4",
   "metadata": {},
   "outputs": [
    {
     "name": "stdout",
     "output_type": "stream",
     "text": [
      "/c/Users/nikit/Documents/Academia/B - Praktika und Research/Anusch phd/Textmining arniundbarni/RadTMSR/RadTMSR_env/Scripts/python\n",
      "Collecting en-core-web-sm==3.7.1 (from -r requirements.txt (line 7))\n",
      "  Downloading https://github.com/explosion/spacy-models/releases/download/en_core_web_sm-3.7.1/en_core_web_sm-3.7.1-py3-none-any.whl (12.8 MB)\n",
      "     ---------------------------------------- 12.8/12.8 MB 7.4 MB/s eta 0:00:00\n",
      "Requirement already satisfied: ipykernel==6.28.0 in c:\\users\\nikit\\documents\\academia\\b - praktika und research\\anusch phd\\textmining arniundbarni\\radtmsr\\radtmsr_env\\lib\\site-packages (from -r requirements.txt (line 1)) (6.28.0)\n",
      "Requirement already satisfied: pandas==2.1.1 in c:\\users\\nikit\\documents\\academia\\b - praktika und research\\anusch phd\\textmining arniundbarni\\radtmsr\\radtmsr_env\\lib\\site-packages (from -r requirements.txt (line 2)) (2.1.1)\n",
      "Requirement already satisfied: regex==2023.10.3 in c:\\users\\nikit\\documents\\academia\\b - praktika und research\\anusch phd\\textmining arniundbarni\\radtmsr\\radtmsr_env\\lib\\site-packages (from -r requirements.txt (line 3)) (2023.10.3)\n",
      "Requirement already satisfied: numpy==1.26.1 in c:\\users\\nikit\\documents\\academia\\b - praktika und research\\anusch phd\\textmining arniundbarni\\radtmsr\\radtmsr_env\\lib\\site-packages (from -r requirements.txt (line 4)) (1.26.1)\n",
      "Requirement already satisfied: matplotlib==3.8.0 in c:\\users\\nikit\\documents\\academia\\b - praktika und research\\anusch phd\\textmining arniundbarni\\radtmsr\\radtmsr_env\\lib\\site-packages (from -r requirements.txt (line 5)) (3.8.0)\n",
      "Requirement already satisfied: spacy==3.7.2 in c:\\users\\nikit\\documents\\academia\\b - praktika und research\\anusch phd\\textmining arniundbarni\\radtmsr\\radtmsr_env\\lib\\site-packages (from -r requirements.txt (line 6)) (3.7.2)\n",
      "Requirement already satisfied: stop-words==2018.7.23 in c:\\users\\nikit\\documents\\academia\\b - praktika und research\\anusch phd\\textmining arniundbarni\\radtmsr\\radtmsr_env\\lib\\site-packages (from -r requirements.txt (line 8)) (2018.7.23)\n",
      "Requirement already satisfied: country-list==1.0.0 in c:\\users\\nikit\\documents\\academia\\b - praktika und research\\anusch phd\\textmining arniundbarni\\radtmsr\\radtmsr_env\\lib\\site-packages (from -r requirements.txt (line 9)) (1.0.0)\n",
      "Requirement already satisfied: networkx==3.3 in c:\\users\\nikit\\documents\\academia\\b - praktika und research\\anusch phd\\textmining arniundbarni\\radtmsr\\radtmsr_env\\lib\\site-packages (from -r requirements.txt (line 10)) (3.3)\n",
      "Requirement already satisfied: scipy==1.11.3 in c:\\users\\nikit\\documents\\academia\\b - praktika und research\\anusch phd\\textmining arniundbarni\\radtmsr\\radtmsr_env\\lib\\site-packages (from -r requirements.txt (line 11)) (1.11.3)\n",
      "Requirement already satisfied: comm>=0.1.1 in c:\\users\\nikit\\documents\\academia\\b - praktika und research\\anusch phd\\textmining arniundbarni\\radtmsr\\radtmsr_env\\lib\\site-packages (from ipykernel==6.28.0->-r requirements.txt (line 1)) (0.2.2)\n",
      "Requirement already satisfied: debugpy>=1.6.5 in c:\\users\\nikit\\documents\\academia\\b - praktika und research\\anusch phd\\textmining arniundbarni\\radtmsr\\radtmsr_env\\lib\\site-packages (from ipykernel==6.28.0->-r requirements.txt (line 1)) (1.8.2)\n",
      "Requirement already satisfied: ipython>=7.23.1 in c:\\users\\nikit\\documents\\academia\\b - praktika und research\\anusch phd\\textmining arniundbarni\\radtmsr\\radtmsr_env\\lib\\site-packages (from ipykernel==6.28.0->-r requirements.txt (line 1)) (8.26.0)\n",
      "Requirement already satisfied: jupyter-client>=6.1.12 in c:\\users\\nikit\\documents\\academia\\b - praktika und research\\anusch phd\\textmining arniundbarni\\radtmsr\\radtmsr_env\\lib\\site-packages (from ipykernel==6.28.0->-r requirements.txt (line 1)) (8.6.2)\n",
      "Requirement already satisfied: jupyter-core!=5.0.*,>=4.12 in c:\\users\\nikit\\documents\\academia\\b - praktika und research\\anusch phd\\textmining arniundbarni\\radtmsr\\radtmsr_env\\lib\\site-packages (from ipykernel==6.28.0->-r requirements.txt (line 1)) (5.7.2)\n",
      "Requirement already satisfied: matplotlib-inline>=0.1 in c:\\users\\nikit\\documents\\academia\\b - praktika und research\\anusch phd\\textmining arniundbarni\\radtmsr\\radtmsr_env\\lib\\site-packages (from ipykernel==6.28.0->-r requirements.txt (line 1)) (0.1.7)\n",
      "Requirement already satisfied: nest-asyncio in c:\\users\\nikit\\documents\\academia\\b - praktika und research\\anusch phd\\textmining arniundbarni\\radtmsr\\radtmsr_env\\lib\\site-packages (from ipykernel==6.28.0->-r requirements.txt (line 1)) (1.6.0)\n",
      "Requirement already satisfied: packaging in c:\\users\\nikit\\documents\\academia\\b - praktika und research\\anusch phd\\textmining arniundbarni\\radtmsr\\radtmsr_env\\lib\\site-packages (from ipykernel==6.28.0->-r requirements.txt (line 1)) (24.1)\n",
      "Requirement already satisfied: psutil in c:\\users\\nikit\\documents\\academia\\b - praktika und research\\anusch phd\\textmining arniundbarni\\radtmsr\\radtmsr_env\\lib\\site-packages (from ipykernel==6.28.0->-r requirements.txt (line 1)) (6.0.0)\n",
      "Requirement already satisfied: pyzmq>=24 in c:\\users\\nikit\\documents\\academia\\b - praktika und research\\anusch phd\\textmining arniundbarni\\radtmsr\\radtmsr_env\\lib\\site-packages (from ipykernel==6.28.0->-r requirements.txt (line 1)) (26.0.3)\n",
      "Requirement already satisfied: tornado>=6.1 in c:\\users\\nikit\\documents\\academia\\b - praktika und research\\anusch phd\\textmining arniundbarni\\radtmsr\\radtmsr_env\\lib\\site-packages (from ipykernel==6.28.0->-r requirements.txt (line 1)) (6.4.1)\n",
      "Requirement already satisfied: traitlets>=5.4.0 in c:\\users\\nikit\\documents\\academia\\b - praktika und research\\anusch phd\\textmining arniundbarni\\radtmsr\\radtmsr_env\\lib\\site-packages (from ipykernel==6.28.0->-r requirements.txt (line 1)) (5.14.3)\n",
      "Requirement already satisfied: python-dateutil>=2.8.2 in c:\\users\\nikit\\documents\\academia\\b - praktika und research\\anusch phd\\textmining arniundbarni\\radtmsr\\radtmsr_env\\lib\\site-packages (from pandas==2.1.1->-r requirements.txt (line 2)) (2.9.0.post0)\n",
      "Requirement already satisfied: pytz>=2020.1 in c:\\users\\nikit\\documents\\academia\\b - praktika und research\\anusch phd\\textmining arniundbarni\\radtmsr\\radtmsr_env\\lib\\site-packages (from pandas==2.1.1->-r requirements.txt (line 2)) (2024.1)\n",
      "Requirement already satisfied: tzdata>=2022.1 in c:\\users\\nikit\\documents\\academia\\b - praktika und research\\anusch phd\\textmining arniundbarni\\radtmsr\\radtmsr_env\\lib\\site-packages (from pandas==2.1.1->-r requirements.txt (line 2)) (2024.1)\n",
      "Requirement already satisfied: contourpy>=1.0.1 in c:\\users\\nikit\\documents\\academia\\b - praktika und research\\anusch phd\\textmining arniundbarni\\radtmsr\\radtmsr_env\\lib\\site-packages (from matplotlib==3.8.0->-r requirements.txt (line 5)) (1.2.1)\n",
      "Requirement already satisfied: cycler>=0.10 in c:\\users\\nikit\\documents\\academia\\b - praktika und research\\anusch phd\\textmining arniundbarni\\radtmsr\\radtmsr_env\\lib\\site-packages (from matplotlib==3.8.0->-r requirements.txt (line 5)) (0.12.1)\n",
      "Requirement already satisfied: fonttools>=4.22.0 in c:\\users\\nikit\\documents\\academia\\b - praktika und research\\anusch phd\\textmining arniundbarni\\radtmsr\\radtmsr_env\\lib\\site-packages (from matplotlib==3.8.0->-r requirements.txt (line 5)) (4.53.1)\n",
      "Requirement already satisfied: kiwisolver>=1.0.1 in c:\\users\\nikit\\documents\\academia\\b - praktika und research\\anusch phd\\textmining arniundbarni\\radtmsr\\radtmsr_env\\lib\\site-packages (from matplotlib==3.8.0->-r requirements.txt (line 5)) (1.4.5)\n",
      "Requirement already satisfied: pillow>=6.2.0 in c:\\users\\nikit\\documents\\academia\\b - praktika und research\\anusch phd\\textmining arniundbarni\\radtmsr\\radtmsr_env\\lib\\site-packages (from matplotlib==3.8.0->-r requirements.txt (line 5)) (10.4.0)\n",
      "Requirement already satisfied: pyparsing>=2.3.1 in c:\\users\\nikit\\documents\\academia\\b - praktika und research\\anusch phd\\textmining arniundbarni\\radtmsr\\radtmsr_env\\lib\\site-packages (from matplotlib==3.8.0->-r requirements.txt (line 5)) (3.1.2)\n",
      "Requirement already satisfied: spacy-legacy<3.1.0,>=3.0.11 in c:\\users\\nikit\\documents\\academia\\b - praktika und research\\anusch phd\\textmining arniundbarni\\radtmsr\\radtmsr_env\\lib\\site-packages (from spacy==3.7.2->-r requirements.txt (line 6)) (3.0.12)\n",
      "Requirement already satisfied: spacy-loggers<2.0.0,>=1.0.0 in c:\\users\\nikit\\documents\\academia\\b - praktika und research\\anusch phd\\textmining arniundbarni\\radtmsr\\radtmsr_env\\lib\\site-packages (from spacy==3.7.2->-r requirements.txt (line 6)) (1.0.5)\n",
      "Requirement already satisfied: murmurhash<1.1.0,>=0.28.0 in c:\\users\\nikit\\documents\\academia\\b - praktika und research\\anusch phd\\textmining arniundbarni\\radtmsr\\radtmsr_env\\lib\\site-packages (from spacy==3.7.2->-r requirements.txt (line 6)) (1.0.10)\n",
      "Requirement already satisfied: cymem<2.1.0,>=2.0.2 in c:\\users\\nikit\\documents\\academia\\b - praktika und research\\anusch phd\\textmining arniundbarni\\radtmsr\\radtmsr_env\\lib\\site-packages (from spacy==3.7.2->-r requirements.txt (line 6)) (2.0.8)\n",
      "Requirement already satisfied: preshed<3.1.0,>=3.0.2 in c:\\users\\nikit\\documents\\academia\\b - praktika und research\\anusch phd\\textmining arniundbarni\\radtmsr\\radtmsr_env\\lib\\site-packages (from spacy==3.7.2->-r requirements.txt (line 6)) (3.0.9)\n",
      "Requirement already satisfied: thinc<8.3.0,>=8.1.8 in c:\\users\\nikit\\documents\\academia\\b - praktika und research\\anusch phd\\textmining arniundbarni\\radtmsr\\radtmsr_env\\lib\\site-packages (from spacy==3.7.2->-r requirements.txt (line 6)) (8.2.5)\n",
      "Requirement already satisfied: wasabi<1.2.0,>=0.9.1 in c:\\users\\nikit\\documents\\academia\\b - praktika und research\\anusch phd\\textmining arniundbarni\\radtmsr\\radtmsr_env\\lib\\site-packages (from spacy==3.7.2->-r requirements.txt (line 6)) (1.1.3)\n",
      "Requirement already satisfied: srsly<3.0.0,>=2.4.3 in c:\\users\\nikit\\documents\\academia\\b - praktika und research\\anusch phd\\textmining arniundbarni\\radtmsr\\radtmsr_env\\lib\\site-packages (from spacy==3.7.2->-r requirements.txt (line 6)) (2.4.8)\n",
      "Requirement already satisfied: catalogue<2.1.0,>=2.0.6 in c:\\users\\nikit\\documents\\academia\\b - praktika und research\\anusch phd\\textmining arniundbarni\\radtmsr\\radtmsr_env\\lib\\site-packages (from spacy==3.7.2->-r requirements.txt (line 6)) (2.0.10)\n",
      "Requirement already satisfied: weasel<0.4.0,>=0.1.0 in c:\\users\\nikit\\documents\\academia\\b - praktika und research\\anusch phd\\textmining arniundbarni\\radtmsr\\radtmsr_env\\lib\\site-packages (from spacy==3.7.2->-r requirements.txt (line 6)) (0.3.4)\n",
      "Requirement already satisfied: typer<0.10.0,>=0.3.0 in c:\\users\\nikit\\documents\\academia\\b - praktika und research\\anusch phd\\textmining arniundbarni\\radtmsr\\radtmsr_env\\lib\\site-packages (from spacy==3.7.2->-r requirements.txt (line 6)) (0.9.4)\n",
      "Requirement already satisfied: smart-open<7.0.0,>=5.2.1 in c:\\users\\nikit\\documents\\academia\\b - praktika und research\\anusch phd\\textmining arniundbarni\\radtmsr\\radtmsr_env\\lib\\site-packages (from spacy==3.7.2->-r requirements.txt (line 6)) (6.4.0)\n",
      "Requirement already satisfied: tqdm<5.0.0,>=4.38.0 in c:\\users\\nikit\\documents\\academia\\b - praktika und research\\anusch phd\\textmining arniundbarni\\radtmsr\\radtmsr_env\\lib\\site-packages (from spacy==3.7.2->-r requirements.txt (line 6)) (4.66.4)\n",
      "Requirement already satisfied: requests<3.0.0,>=2.13.0 in c:\\users\\nikit\\documents\\academia\\b - praktika und research\\anusch phd\\textmining arniundbarni\\radtmsr\\radtmsr_env\\lib\\site-packages (from spacy==3.7.2->-r requirements.txt (line 6)) (2.32.3)\n",
      "Requirement already satisfied: pydantic!=1.8,!=1.8.1,<3.0.0,>=1.7.4 in c:\\users\\nikit\\documents\\academia\\b - praktika und research\\anusch phd\\textmining arniundbarni\\radtmsr\\radtmsr_env\\lib\\site-packages (from spacy==3.7.2->-r requirements.txt (line 6)) (2.8.2)\n",
      "Requirement already satisfied: jinja2 in c:\\users\\nikit\\documents\\academia\\b - praktika und research\\anusch phd\\textmining arniundbarni\\radtmsr\\radtmsr_env\\lib\\site-packages (from spacy==3.7.2->-r requirements.txt (line 6)) (3.1.4)\n",
      "Requirement already satisfied: setuptools in c:\\users\\nikit\\documents\\academia\\b - praktika und research\\anusch phd\\textmining arniundbarni\\radtmsr\\radtmsr_env\\lib\\site-packages (from spacy==3.7.2->-r requirements.txt (line 6)) (69.0.2)\n",
      "Requirement already satisfied: langcodes<4.0.0,>=3.2.0 in c:\\users\\nikit\\documents\\academia\\b - praktika und research\\anusch phd\\textmining arniundbarni\\radtmsr\\radtmsr_env\\lib\\site-packages (from spacy==3.7.2->-r requirements.txt (line 6)) (3.4.0)\n",
      "Requirement already satisfied: decorator in c:\\users\\nikit\\documents\\academia\\b - praktika und research\\anusch phd\\textmining arniundbarni\\radtmsr\\radtmsr_env\\lib\\site-packages (from ipython>=7.23.1->ipykernel==6.28.0->-r requirements.txt (line 1)) (5.1.1)\n",
      "Requirement already satisfied: jedi>=0.16 in c:\\users\\nikit\\documents\\academia\\b - praktika und research\\anusch phd\\textmining arniundbarni\\radtmsr\\radtmsr_env\\lib\\site-packages (from ipython>=7.23.1->ipykernel==6.28.0->-r requirements.txt (line 1)) (0.19.1)\n",
      "Requirement already satisfied: prompt-toolkit<3.1.0,>=3.0.41 in c:\\users\\nikit\\documents\\academia\\b - praktika und research\\anusch phd\\textmining arniundbarni\\radtmsr\\radtmsr_env\\lib\\site-packages (from ipython>=7.23.1->ipykernel==6.28.0->-r requirements.txt (line 1)) (3.0.47)\n",
      "Requirement already satisfied: pygments>=2.4.0 in c:\\users\\nikit\\documents\\academia\\b - praktika und research\\anusch phd\\textmining arniundbarni\\radtmsr\\radtmsr_env\\lib\\site-packages (from ipython>=7.23.1->ipykernel==6.28.0->-r requirements.txt (line 1)) (2.18.0)\n",
      "Requirement already satisfied: stack-data in c:\\users\\nikit\\documents\\academia\\b - praktika und research\\anusch phd\\textmining arniundbarni\\radtmsr\\radtmsr_env\\lib\\site-packages (from ipython>=7.23.1->ipykernel==6.28.0->-r requirements.txt (line 1)) (0.6.3)\n",
      "Requirement already satisfied: exceptiongroup in c:\\users\\nikit\\documents\\academia\\b - praktika und research\\anusch phd\\textmining arniundbarni\\radtmsr\\radtmsr_env\\lib\\site-packages (from ipython>=7.23.1->ipykernel==6.28.0->-r requirements.txt (line 1)) (1.2.2)\n",
      "Requirement already satisfied: typing-extensions>=4.6 in c:\\users\\nikit\\documents\\academia\\b - praktika und research\\anusch phd\\textmining arniundbarni\\radtmsr\\radtmsr_env\\lib\\site-packages (from ipython>=7.23.1->ipykernel==6.28.0->-r requirements.txt (line 1)) (4.12.2)\n",
      "Requirement already satisfied: colorama in c:\\users\\nikit\\documents\\academia\\b - praktika und research\\anusch phd\\textmining arniundbarni\\radtmsr\\radtmsr_env\\lib\\site-packages (from ipython>=7.23.1->ipykernel==6.28.0->-r requirements.txt (line 1)) (0.4.6)\n",
      "Requirement already satisfied: platformdirs>=2.5 in c:\\users\\nikit\\documents\\academia\\b - praktika und research\\anusch phd\\textmining arniundbarni\\radtmsr\\radtmsr_env\\lib\\site-packages (from jupyter-core!=5.0.*,>=4.12->ipykernel==6.28.0->-r requirements.txt (line 1)) (4.2.2)\n",
      "Requirement already satisfied: pywin32>=300 in c:\\users\\nikit\\documents\\academia\\b - praktika und research\\anusch phd\\textmining arniundbarni\\radtmsr\\radtmsr_env\\lib\\site-packages (from jupyter-core!=5.0.*,>=4.12->ipykernel==6.28.0->-r requirements.txt (line 1)) (306)\n",
      "Requirement already satisfied: language-data>=1.2 in c:\\users\\nikit\\documents\\academia\\b - praktika und research\\anusch phd\\textmining arniundbarni\\radtmsr\\radtmsr_env\\lib\\site-packages (from langcodes<4.0.0,>=3.2.0->spacy==3.7.2->-r requirements.txt (line 6)) (1.2.0)\n",
      "Requirement already satisfied: annotated-types>=0.4.0 in c:\\users\\nikit\\documents\\academia\\b - praktika und research\\anusch phd\\textmining arniundbarni\\radtmsr\\radtmsr_env\\lib\\site-packages (from pydantic!=1.8,!=1.8.1,<3.0.0,>=1.7.4->spacy==3.7.2->-r requirements.txt (line 6)) (0.7.0)\n",
      "Requirement already satisfied: pydantic-core==2.20.1 in c:\\users\\nikit\\documents\\academia\\b - praktika und research\\anusch phd\\textmining arniundbarni\\radtmsr\\radtmsr_env\\lib\\site-packages (from pydantic!=1.8,!=1.8.1,<3.0.0,>=1.7.4->spacy==3.7.2->-r requirements.txt (line 6)) (2.20.1)\n",
      "Requirement already satisfied: six>=1.5 in c:\\users\\nikit\\documents\\academia\\b - praktika und research\\anusch phd\\textmining arniundbarni\\radtmsr\\radtmsr_env\\lib\\site-packages (from python-dateutil>=2.8.2->pandas==2.1.1->-r requirements.txt (line 2)) (1.16.0)\n",
      "Requirement already satisfied: charset-normalizer<4,>=2 in c:\\users\\nikit\\documents\\academia\\b - praktika und research\\anusch phd\\textmining arniundbarni\\radtmsr\\radtmsr_env\\lib\\site-packages (from requests<3.0.0,>=2.13.0->spacy==3.7.2->-r requirements.txt (line 6)) (3.3.2)\n",
      "Requirement already satisfied: idna<4,>=2.5 in c:\\users\\nikit\\documents\\academia\\b - praktika und research\\anusch phd\\textmining arniundbarni\\radtmsr\\radtmsr_env\\lib\\site-packages (from requests<3.0.0,>=2.13.0->spacy==3.7.2->-r requirements.txt (line 6)) (3.7)\n",
      "Requirement already satisfied: urllib3<3,>=1.21.1 in c:\\users\\nikit\\documents\\academia\\b - praktika und research\\anusch phd\\textmining arniundbarni\\radtmsr\\radtmsr_env\\lib\\site-packages (from requests<3.0.0,>=2.13.0->spacy==3.7.2->-r requirements.txt (line 6)) (2.2.2)\n",
      "Requirement already satisfied: certifi>=2017.4.17 in c:\\users\\nikit\\documents\\academia\\b - praktika und research\\anusch phd\\textmining arniundbarni\\radtmsr\\radtmsr_env\\lib\\site-packages (from requests<3.0.0,>=2.13.0->spacy==3.7.2->-r requirements.txt (line 6)) (2024.7.4)\n",
      "Requirement already satisfied: blis<0.8.0,>=0.7.8 in c:\\users\\nikit\\documents\\academia\\b - praktika und research\\anusch phd\\textmining arniundbarni\\radtmsr\\radtmsr_env\\lib\\site-packages (from thinc<8.3.0,>=8.1.8->spacy==3.7.2->-r requirements.txt (line 6)) (0.7.11)\n",
      "Requirement already satisfied: confection<1.0.0,>=0.0.1 in c:\\users\\nikit\\documents\\academia\\b - praktika und research\\anusch phd\\textmining arniundbarni\\radtmsr\\radtmsr_env\\lib\\site-packages (from thinc<8.3.0,>=8.1.8->spacy==3.7.2->-r requirements.txt (line 6)) (0.1.5)\n",
      "Requirement already satisfied: click<9.0.0,>=7.1.1 in c:\\users\\nikit\\documents\\academia\\b - praktika und research\\anusch phd\\textmining arniundbarni\\radtmsr\\radtmsr_env\\lib\\site-packages (from typer<0.10.0,>=0.3.0->spacy==3.7.2->-r requirements.txt (line 6)) (8.1.7)\n",
      "Requirement already satisfied: cloudpathlib<0.17.0,>=0.7.0 in c:\\users\\nikit\\documents\\academia\\b - praktika und research\\anusch phd\\textmining arniundbarni\\radtmsr\\radtmsr_env\\lib\\site-packages (from weasel<0.4.0,>=0.1.0->spacy==3.7.2->-r requirements.txt (line 6)) (0.16.0)\n",
      "Requirement already satisfied: MarkupSafe>=2.0 in c:\\users\\nikit\\documents\\academia\\b - praktika und research\\anusch phd\\textmining arniundbarni\\radtmsr\\radtmsr_env\\lib\\site-packages (from jinja2->spacy==3.7.2->-r requirements.txt (line 6)) (2.1.5)\n",
      "Requirement already satisfied: parso<0.9.0,>=0.8.3 in c:\\users\\nikit\\documents\\academia\\b - praktika und research\\anusch phd\\textmining arniundbarni\\radtmsr\\radtmsr_env\\lib\\site-packages (from jedi>=0.16->ipython>=7.23.1->ipykernel==6.28.0->-r requirements.txt (line 1)) (0.8.4)\n",
      "Requirement already satisfied: marisa-trie>=0.7.7 in c:\\users\\nikit\\documents\\academia\\b - praktika und research\\anusch phd\\textmining arniundbarni\\radtmsr\\radtmsr_env\\lib\\site-packages (from language-data>=1.2->langcodes<4.0.0,>=3.2.0->spacy==3.7.2->-r requirements.txt (line 6)) (1.2.0)\n",
      "Requirement already satisfied: wcwidth in c:\\users\\nikit\\documents\\academia\\b - praktika und research\\anusch phd\\textmining arniundbarni\\radtmsr\\radtmsr_env\\lib\\site-packages (from prompt-toolkit<3.1.0,>=3.0.41->ipython>=7.23.1->ipykernel==6.28.0->-r requirements.txt (line 1)) (0.2.13)\n",
      "Requirement already satisfied: executing>=1.2.0 in c:\\users\\nikit\\documents\\academia\\b - praktika und research\\anusch phd\\textmining arniundbarni\\radtmsr\\radtmsr_env\\lib\\site-packages (from stack-data->ipython>=7.23.1->ipykernel==6.28.0->-r requirements.txt (line 1)) (2.0.1)\n",
      "Requirement already satisfied: asttokens>=2.1.0 in c:\\users\\nikit\\documents\\academia\\b - praktika und research\\anusch phd\\textmining arniundbarni\\radtmsr\\radtmsr_env\\lib\\site-packages (from stack-data->ipython>=7.23.1->ipykernel==6.28.0->-r requirements.txt (line 1)) (2.4.1)\n",
      "Requirement already satisfied: pure-eval in c:\\users\\nikit\\documents\\academia\\b - praktika und research\\anusch phd\\textmining arniundbarni\\radtmsr\\radtmsr_env\\lib\\site-packages (from stack-data->ipython>=7.23.1->ipykernel==6.28.0->-r requirements.txt (line 1)) (0.2.2)\n"
     ]
    },
    {
     "name": "stderr",
     "output_type": "stream",
     "text": [
      "\n",
      "[notice] A new release of pip is available: 23.3.1 -> 24.1.2\n",
      "[notice] To update, run: python.exe -m pip install --upgrade pip\n"
     ]
    },
    {
     "name": "stdout",
     "output_type": "stream",
     "text": [
      "/c/Users/nikit/AppData/Local/Programs/Python/Python310/python\n"
     ]
    }
   ],
   "source": [
    "%%bash\n",
    "source RadTMSR_env/Scripts/activate\n",
    "which python\n",
    "pip install -r requirements.txt\n",
    "\n",
    "deactivate\n",
    "which python"
   ]
  }
 ],
 "metadata": {
  "kernelspec": {
   "display_name": "Python 3 (ipykernel)",
   "language": "python",
   "name": "python3"
  },
  "language_info": {
   "codemirror_mode": {
    "name": "ipython",
    "version": 3
   },
   "file_extension": ".py",
   "mimetype": "text/x-python",
   "name": "python",
   "nbconvert_exporter": "python",
   "pygments_lexer": "ipython3",
   "version": "3.10.11"
  }
 },
 "nbformat": 4,
 "nbformat_minor": 5
}
