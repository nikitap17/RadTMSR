{
 "cells": [
  {
   "cell_type": "markdown",
   "id": "8429767c-b9c7-4327-abb7-234fc6438807",
   "metadata": {},
   "source": [
    "# Reproducible Code\n",
    "For maximal reproducibility, we recommend running the 'Create_VirtualEnv....ipynb' using the default shell of your OS or bash. You then need to change the current notebook's kernel to 'RadTMSR_env,' which stores all required versions of the used modules.\n",
    "\n",
    "**Written in Python 4.20.11, Jupyter Lab 4.0.7, and R 4.3.0**"
   ]
  },
  {
   "cell_type": "code",
   "execution_count": 1,
   "id": "6f4ccffe-3a9d-49fc-abba-449952184f47",
   "metadata": {},
   "outputs": [
    {
     "name": "stdin",
     "output_type": "stream",
     "text": [
      "Ensure that kernel is set to RadTMSR_env before continuing y\n"
     ]
    },
    {
     "data": {
      "text/plain": [
       "'y'"
      ]
     },
     "execution_count": 1,
     "metadata": {},
     "output_type": "execute_result"
    }
   ],
   "source": [
    "input(\"Ensure that kernel is set to RadTMSR_env before continuing\")"
   ]
  },
  {
   "cell_type": "code",
   "execution_count": 2,
   "id": "4966a6ed-77c8-4438-af14-64593a1808db",
   "metadata": {},
   "outputs": [],
   "source": [
    "import pandas as pd\n",
    "import os\n",
    "import re\n",
    "import numpy as np\n",
    "import matplotlib.pyplot as plt\n",
    "from collections import Counter\n",
    "import subprocess\n",
    "import spacy\n",
    "nlp = spacy.load('en_core_web_sm')\n",
    "import networkx as nx\n",
    "from scipy.stats import binom_test"
   ]
  },
  {
   "cell_type": "code",
   "execution_count": 3,
   "id": "6200755f-3cd1-47a7-90c8-8989a87813ba",
   "metadata": {},
   "outputs": [],
   "source": [
    "## create folder for storing output\n",
    "if not os.path.exists(\"RTMR_Output\"):\n",
    "    os.makedirs(\"RTMR_Output\")\n",
    "if not os.path.exists(\"RTMR_Output/Abstracts\"):\n",
    "    os.makedirs(\"RTMR_Output/Abstracts\")"
   ]
  },
  {
   "cell_type": "markdown",
   "id": "60ce043d-f9a4-4bf2-a630-91fef2577bda",
   "metadata": {},
   "source": [
    "#### **To run this script successfully, R must be installed and Rscript.exe must be in the local environment's PATH.**\n",
    "\n",
    "To ensure that Rscript.exe is in the PATH, follow these steps:\n",
    "\n",
    "1. Run the cell below. If Rscript.exe is found, you are informed that R scripts can be run successfully. If Rscript.exe is not found, you will need to provide the absolute path to the Rscript.exe file. To do this, follow these instructions:\n",
    "\n",
    "2. Locate the Rscript.exe file, which is usually in the bin folder of your R installation directory. The path might look something like C:\\Program Files\\R\\R-x.x.x\\bin."
   ]
  },
  {
   "cell_type": "code",
   "execution_count": 4,
   "id": "e614c675-be5a-4dae-b3c9-26935f8357cf",
   "metadata": {},
   "outputs": [
    {
     "name": "stdout",
     "output_type": "stream",
     "text": [
      "Rscript version: Rscript (R) version 4.3.2 (2023-10-31)\n",
      "\n",
      "R scripts can be successfully run.\n"
     ]
    }
   ],
   "source": [
    "try:\n",
    "    result = subprocess.run(['Rscript', '--version'], capture_output=True, text=True)\n",
    "    print(\"Rscript version:\", result.stdout)\n",
    "    print(\"R scripts can be successfully run.\")\n",
    "    \n",
    "except FileNotFoundError:\n",
    "    rscript_path = input(\"Rscript.exe not found. Please enter the absolute directory path where Rscript.exe is located: \")\n",
    "    print(\"Absolute path provided: \", rscript_path)\n",
    "    \n",
    "    # Add the path to the PATH environment variable for the current session\n",
    "    os.environ['PATH'] += os.pathsep + rscript_path\n",
    "    \n",
    "    # Verify if Rscript is accessible this time\n",
    "    try:\n",
    "        result = subprocess.run(['Rscript', '--version'], capture_output=True, text=True)\n",
    "        print(\"Rscript version:\", result.stdout)\n",
    "        print(\"R scripts can be successfully run.\")\n",
    "    except FileNotFoundError:\n",
    "        raise Exception(\"Rscript not found. Please check the path.\")"
   ]
  },
  {
   "cell_type": "markdown",
   "id": "68c108e3-f7b3-4223-a6a2-fdd91cf1c514",
   "metadata": {},
   "source": [
    "## Study 2 - Abstract Analysis"
   ]
  },
  {
   "cell_type": "code",
   "execution_count": 5,
   "id": "c5fe4e71-ea63-4bfe-8066-078cb1c17b78",
   "metadata": {},
   "outputs": [],
   "source": [
    "# Import data\n",
    "dfTot = pd.read_excel(\"asreview_dataset_relevant_Radicalization.xlsx\")\n",
    "#dfTot.head()"
   ]
  },
  {
   "cell_type": "code",
   "execution_count": 6,
   "id": "b3aaf06d-a690-4f20-a60d-be12d9b0b6ab",
   "metadata": {},
   "outputs": [],
   "source": [
    "data = dfTot[[\"record_id\",\"Abstract\"]].copy()\n",
    "data.rename(columns={'Abstract': 'abstract'}, inplace=True)"
   ]
  },
  {
   "cell_type": "code",
   "execution_count": 7,
   "id": "5394b0b4-d83b-4ca7-a863-bbeafd71931d",
   "metadata": {},
   "outputs": [
    {
     "data": {
      "text/html": [
       "<div>\n",
       "<style scoped>\n",
       "    .dataframe tbody tr th:only-of-type {\n",
       "        vertical-align: middle;\n",
       "    }\n",
       "\n",
       "    .dataframe tbody tr th {\n",
       "        vertical-align: top;\n",
       "    }\n",
       "\n",
       "    .dataframe thead th {\n",
       "        text-align: right;\n",
       "    }\n",
       "</style>\n",
       "<table border=\"1\" class=\"dataframe\">\n",
       "  <thead>\n",
       "    <tr style=\"text-align: right;\">\n",
       "      <th></th>\n",
       "      <th>record_id</th>\n",
       "      <th>abstract</th>\n",
       "    </tr>\n",
       "  </thead>\n",
       "  <tbody>\n",
       "    <tr>\n",
       "      <th>0</th>\n",
       "      <td>50129</td>\n",
       "      <td>This research examines how the relationship be...</td>\n",
       "    </tr>\n",
       "    <tr>\n",
       "      <th>1</th>\n",
       "      <td>2624</td>\n",
       "      <td>Religion is often seen as one of the main caus...</td>\n",
       "    </tr>\n",
       "    <tr>\n",
       "      <th>2</th>\n",
       "      <td>35510</td>\n",
       "      <td>Why are some people capable of sympathizing wi...</td>\n",
       "    </tr>\n",
       "    <tr>\n",
       "      <th>3</th>\n",
       "      <td>43427</td>\n",
       "      <td>In this study among Dutch Muslim youth (N= 131...</td>\n",
       "    </tr>\n",
       "    <tr>\n",
       "      <th>4</th>\n",
       "      <td>986</td>\n",
       "      <td>Despite its prominence in radicalization model...</td>\n",
       "    </tr>\n",
       "    <tr>\n",
       "      <th>...</th>\n",
       "      <td>...</td>\n",
       "      <td>...</td>\n",
       "    </tr>\n",
       "    <tr>\n",
       "      <th>4014</th>\n",
       "      <td>24073</td>\n",
       "      <td>This article focuses on the place and role of ...</td>\n",
       "    </tr>\n",
       "    <tr>\n",
       "      <th>4015</th>\n",
       "      <td>22510</td>\n",
       "      <td>Islamist militancy is not a new phenomenon in ...</td>\n",
       "    </tr>\n",
       "    <tr>\n",
       "      <th>4016</th>\n",
       "      <td>50382</td>\n",
       "      <td>Results of an empirical study of long-term goa...</td>\n",
       "    </tr>\n",
       "    <tr>\n",
       "      <th>4017</th>\n",
       "      <td>2188</td>\n",
       "      <td>The purpose of this study is to examine the ef...</td>\n",
       "    </tr>\n",
       "    <tr>\n",
       "      <th>4018</th>\n",
       "      <td>33733</td>\n",
       "      <td>We compare the characteristics of 77 homegrown...</td>\n",
       "    </tr>\n",
       "  </tbody>\n",
       "</table>\n",
       "<p>4019 rows × 2 columns</p>\n",
       "</div>"
      ],
      "text/plain": [
       "      record_id                                           abstract\n",
       "0         50129  This research examines how the relationship be...\n",
       "1          2624  Religion is often seen as one of the main caus...\n",
       "2         35510  Why are some people capable of sympathizing wi...\n",
       "3         43427  In this study among Dutch Muslim youth (N= 131...\n",
       "4           986  Despite its prominence in radicalization model...\n",
       "...         ...                                                ...\n",
       "4014      24073  This article focuses on the place and role of ...\n",
       "4015      22510  Islamist militancy is not a new phenomenon in ...\n",
       "4016      50382  Results of an empirical study of long-term goa...\n",
       "4017       2188  The purpose of this study is to examine the ef...\n",
       "4018      33733  We compare the characteristics of 77 homegrown...\n",
       "\n",
       "[4019 rows x 2 columns]"
      ]
     },
     "execution_count": 7,
     "metadata": {},
     "output_type": "execute_result"
    }
   ],
   "source": [
    "data = data.dropna(subset = ['abstract']).reset_index(drop=True)\n",
    "data"
   ]
  },
  {
   "cell_type": "markdown",
   "id": "224eca3a-8f94-4b45-9ec9-1c7ad214dddc",
   "metadata": {},
   "source": [
    "# Preprocessing\n",
    "\n",
    "**Pipeline**:\n",
    "\n",
    "`data` --> `pre-processing`\n",
    "\n",
    "* strip punctuation, exclude non-letters, but keep \"-\" between words\n",
    "* part-of-speech tagging - retain adjectives and nouns only\n",
    "* lower case\n",
    "* lemmatise\n",
    "\n",
    "--> `exclusion filter (stopwords, countries, exclusion terms)` --> `n-gram extraction`\n",
    "\n",
    "* 1 - 3-grams\n",
    "\n",
    "--> `classification and replacement`\n",
    "\n",
    "* Replace according to dictionary order (vs. overlapping as in keywords) ?\n",
    "\n",
    "\n",
    "\n",
    "\n",
    "--> `tokenbydoc` --> *transfer to R* --> `negative binomial` --> `topic modelling` --> `frequence analysis` --> `co-occurrence analysis` --> *transfer to Python* --> `co-occurrence network map`"
   ]
  },
  {
   "cell_type": "markdown",
   "id": "bb1562c1-6297-4470-b9e8-67a759d88ff7",
   "metadata": {},
   "source": [
    "### 1. Cleaning"
   ]
  },
  {
   "cell_type": "code",
   "execution_count": 8,
   "id": "32cdb19f-96b1-4500-b5d2-82a769072e2a",
   "metadata": {},
   "outputs": [],
   "source": [
    "from Word_functions.word_functions_py import strip_characters, POS_tagging, lemmatisation"
   ]
  },
  {
   "cell_type": "markdown",
   "id": "7165d8e6-6073-46a3-a03a-e69a4ae6fd5c",
   "metadata": {},
   "source": [
    "**strip punctuation, exclude non-letters**"
   ]
  },
  {
   "cell_type": "code",
   "execution_count": 9,
   "id": "72766942-19bc-4c1d-962b-e9a122458e43",
   "metadata": {},
   "outputs": [
    {
     "data": {
      "text/plain": [
       "\"This article focuses on the place and role of women in the ideology of the Greek neo-Nazi political party Golden Dawn (GD). The article considers the place of women in GD's ideology as well as how GD envisages the role of women in society. It asks whether this vision of women's role is reflected in the participation of women in the party's activities. Based on a content analysis of material derived from the party's official websites, it is argued that women play a key role in GD's ideological edifice. This is evident in the party's concern with the construction of a nationalist habitus for women. This habitus is rooted in ideas of anti-feminism, motherhood and family and the primacy of nation and nationalist sentiment in determining women's lives.\""
      ]
     },
     "execution_count": 9,
     "metadata": {},
     "output_type": "execute_result"
    }
   ],
   "source": [
    "data.abstract[4014]"
   ]
  },
  {
   "cell_type": "code",
   "execution_count": 10,
   "id": "2095fda1-8580-4b19-9171-2df140ef6d43",
   "metadata": {},
   "outputs": [],
   "source": [
    "data.abstract = data.abstract.apply(strip_characters)"
   ]
  },
  {
   "cell_type": "code",
   "execution_count": 11,
   "id": "c3938f58-d7e3-4c6c-b477-2f4cd9fc9e09",
   "metadata": {},
   "outputs": [
    {
     "data": {
      "text/plain": [
       "'This article focuses on the place and role of women in the ideology of the Greek neo Nazi political party Golden Dawn GD The article considers the place of women in GD ideology as well as how GD envisages the role of women in society It asks whether this vision of women role is reflected in the participation of women in the party activities Based on a content analysis of material derived from the party official websites it is argued that women play a key role in GD ideological edifice This is evident in the party concern with the construction of a nationalist habitus for women This habitus is rooted in ideas of anti feminism motherhood and family and the primacy of nation and nationalist sentiment in determining women lives'"
      ]
     },
     "execution_count": 11,
     "metadata": {},
     "output_type": "execute_result"
    }
   ],
   "source": [
    "data.abstract[4014]"
   ]
  },
  {
   "cell_type": "markdown",
   "id": "ccbd7c25-688d-4b07-9845-b5c979194584",
   "metadata": {},
   "source": [
    "**POS tagging**"
   ]
  },
  {
   "cell_type": "code",
   "execution_count": 12,
   "id": "e91e10a5-134a-4f8a-a557-198f3e3e21e0",
   "metadata": {},
   "outputs": [],
   "source": [
    "data.abstract = data.abstract.apply(POS_tagging)"
   ]
  },
  {
   "cell_type": "code",
   "execution_count": 13,
   "id": "e5090357-b21c-4ef7-b5e8-5a829f22bfb0",
   "metadata": {},
   "outputs": [
    {
     "data": {
      "text/plain": [
       "'article place role women ideology Greek neo political party article place women ideology role women society vision women role participation women party activities content analysis material party official websites women key role ideological edifice evident party concern construction nationalist habitus women habitus ideas anti feminism motherhood family primacy nation nationalist sentiment women lives'"
      ]
     },
     "execution_count": 13,
     "metadata": {},
     "output_type": "execute_result"
    }
   ],
   "source": [
    "data.abstract[4014]"
   ]
  },
  {
   "cell_type": "markdown",
   "id": "9d1a54f5-6aac-4c96-9e4f-a6cacb81d027",
   "metadata": {},
   "source": [
    "**lower case**"
   ]
  },
  {
   "cell_type": "code",
   "execution_count": 14,
   "id": "1b992a1e-5431-499a-8df8-2ec5f3af3db0",
   "metadata": {},
   "outputs": [],
   "source": [
    "data.abstract = data.abstract.apply(lambda x: \" \".join([str(item).lower() for item in x.split(\" \")]))"
   ]
  },
  {
   "cell_type": "code",
   "execution_count": 15,
   "id": "b5d9709f-b253-4077-b629-79f6d2cb54a9",
   "metadata": {},
   "outputs": [
    {
     "data": {
      "text/plain": [
       "'article place role women ideology greek neo political party article place women ideology role women society vision women role participation women party activities content analysis material party official websites women key role ideological edifice evident party concern construction nationalist habitus women habitus ideas anti feminism motherhood family primacy nation nationalist sentiment women lives'"
      ]
     },
     "execution_count": 15,
     "metadata": {},
     "output_type": "execute_result"
    }
   ],
   "source": [
    "data.abstract[4014]"
   ]
  },
  {
   "cell_type": "markdown",
   "id": "aa208cb2-2b9a-4800-851d-8fa504db61eb",
   "metadata": {},
   "source": [
    "**lemmatisation**"
   ]
  },
  {
   "cell_type": "code",
   "execution_count": 16,
   "id": "7dfd270c-4fe5-429e-aa6b-6837eb3d3ec4",
   "metadata": {},
   "outputs": [],
   "source": [
    "data.abstract = data.abstract.apply(lemmatisation)"
   ]
  },
  {
   "cell_type": "code",
   "execution_count": 17,
   "id": "e41b51cb-4a86-481d-980b-23f1fb8d7529",
   "metadata": {},
   "outputs": [
    {
     "data": {
      "text/plain": [
       "'article place role woman ideology greek neo political party article place woman ideology role woman society vision woman role participation woman party activity content analysis material party official website woman key role ideological edifice evident party concern construction nationalist habitus woman habitus ideas anti feminism motherhood family primacy nation nationalist sentiment woman live'"
      ]
     },
     "execution_count": 17,
     "metadata": {},
     "output_type": "execute_result"
    }
   ],
   "source": [
    "data.abstract[4014]"
   ]
  },
  {
   "cell_type": "markdown",
   "id": "fdac0de2-8bea-4be0-9ad8-19159f6560bb",
   "metadata": {},
   "source": [
    "-------------------------------------------------------------------------------------------\n",
    "\n",
    "### *Frequency of Countries and Regions*\n",
    "(needs to be executed before term exclusion)"
   ]
  },
  {
   "cell_type": "code",
   "execution_count": 18,
   "id": "fc07b74d-d5e0-43e4-8ae9-8d8946d77010",
   "metadata": {},
   "outputs": [],
   "source": [
    "from country_list import countries_for_language\n",
    "countries_dict = dict(countries_for_language('en'))\n",
    "countries_raw = list(countries_dict.values())\n",
    "countries = [term.lower() for term in countries_raw]\n",
    "\n",
    "region_list = ['africa','asia','europe','america','middle east',\n",
    "               \"western europe\", \"northern ireland\", \"hong kong\", \"basque country\",\n",
    "               \"eastern europe\", \"southeast asia\", \"south asia\", \"somali\", \"britain\", \"latin america\", \"central asia\",\n",
    "               \"palestine\", 'middle east and north africa']"
   ]
  },
  {
   "cell_type": "code",
   "execution_count": 19,
   "id": "1ffbc967-8e66-4af8-8b66-182cdb9e7aa7",
   "metadata": {},
   "outputs": [],
   "source": [
    "regions_data = data.copy(deep=True)\n",
    "regions_col = []\n",
    "for element in data.abstract:\n",
    "    temp_col = []\n",
    "    for term in countries+region_list:\n",
    "        if term in element:\n",
    "            temp_col.append(term)\n",
    "    regions_col.append(temp_col)\n",
    "\n",
    "regions_data[\"region\"] = regions_col"
   ]
  },
  {
   "cell_type": "code",
   "execution_count": 20,
   "id": "f0573df3-02c8-4979-9b54-8f2ed0f44a40",
   "metadata": {},
   "outputs": [
    {
     "data": {
      "image/png": "[encoded data removed]",
      "text/plain": [
       "<Figure size 800x1200 with 1 Axes>"
      ]
     },
     "metadata": {},
     "output_type": "display_data"
    }
   ],
   "source": [
    "# Calculate frequency of regions\n",
    "freq_regions = {key: value for key, value in Counter(regions_data.region.apply(lambda x: list(set(x))).sum()).items() if key in countries + region_list}\n",
    "freq_regions = pd.Series(dict(sorted(freq_regions.items(), key=lambda item: item[1])))\n",
    "\n",
    "# Save frequencies to Excel file\n",
    "freq_regions.to_excel('RTMR_Output/Abstracts/Abstracts_Regions_freq.xlsx')\n",
    "\n",
    "# Plotting\n",
    "plt.figure(figsize=(8, 12))\n",
    "plt.barh(freq_regions.index, freq_regions, edgecolor='black', color='gray')\n",
    "\n",
    "# Customize x-axis labels\n",
    "plt.xticks(rotation=45, ha=\"right\")  # Rotate labels to 45 degrees\n",
    "\n",
    "# Adjust layout\n",
    "plt.tight_layout(pad=3)\n",
    "\n",
    "plt.savefig('RTMR_Output/Abstracts/Abstracts_Regions_freq_barplot.png', bbox_inches='tight', dpi=600)\n",
    "plt.show()\n"
   ]
  },
  {
   "cell_type": "markdown",
   "id": "db48bf46-da95-4191-bc0a-fa3b8b0fa13e",
   "metadata": {},
   "source": [
    "---------------------------------------------------------------------------------"
   ]
  },
  {
   "cell_type": "markdown",
   "id": "8c945593-3f6f-4823-b490-ab002a17cae8",
   "metadata": {
    "jp-MarkdownHeadingCollapsed": true
   },
   "source": [
    "### 2. Exclusion Filter"
   ]
  },
  {
   "cell_type": "code",
   "execution_count": 21,
   "id": "4c733e0b-7c07-4d27-98ff-6dfa2df4279e",
   "metadata": {},
   "outputs": [],
   "source": [
    "from stop_words import get_stop_words\n",
    "stoplist = get_stop_words('en')"
   ]
  },
  {
   "cell_type": "code",
   "execution_count": 22,
   "id": "e10ad5bb-abee-482f-9cba-97c106156a99",
   "metadata": {},
   "outputs": [],
   "source": [
    "exclusion_list = pd.read_excel(\"Exclusion_def.xlsx\")\n",
    "excl_list = list(exclusion_list.Exclusion)\n",
    "excl_list = [str(item) for item in excl_list]"
   ]
  },
  {
   "cell_type": "code",
   "execution_count": 23,
   "id": "b07821c1-e23b-480d-9140-671ec5e3bd4e",
   "metadata": {},
   "outputs": [],
   "source": [
    "exclusion_filter = set(excl_list + countries + stoplist + region_list)\n",
    "exclusion_filter_string = \"\\\\b\" + \" \\\\b|\\\\b\".join(exclusion_filter) + \" \\\\b\""
   ]
  },
  {
   "cell_type": "code",
   "execution_count": 24,
   "id": "49e1f7ae-827c-4d4a-bcde-febdfdc457b8",
   "metadata": {},
   "outputs": [],
   "source": [
    "data.abstract = data.abstract.apply(lambda x: re.sub(exclusion_filter_string, \"\", x))\n",
    "#data"
   ]
  },
  {
   "cell_type": "code",
   "execution_count": 25,
   "id": "67ee7861-7736-4282-b0a3-37300662598b",
   "metadata": {
    "scrolled": true
   },
   "outputs": [],
   "source": [
    "data.to_json('RTMR_Output/Abstracts/Abstracts_data_preprocessed.json', orient='records', lines=True)"
   ]
  },
  {
   "cell_type": "markdown",
   "id": "fcc4dcc5-3e29-40ba-906e-c89a2314f3d0",
   "metadata": {},
   "source": [
    "### 3. N-gram Extraction"
   ]
  },
  {
   "cell_type": "code",
   "execution_count": 26,
   "id": "9713b39b-6ad7-4f6d-af77-2bbe121cbb1d",
   "metadata": {},
   "outputs": [],
   "source": [
    "#data = pd.read_json('RTMR_Output/Abstracts/Abstracts_data_preprocessed.json', orient='records', lines=True)"
   ]
  },
  {
   "cell_type": "code",
   "execution_count": 27,
   "id": "8de99fd2-3270-49cb-bb14-7e0ff64f9913",
   "metadata": {},
   "outputs": [],
   "source": [
    "from Word_functions.word_functions_py import ngram_extractor, trigram_to_nounbydoc, bigram_to_nounbydoc, relevant_trigrams, select_unigrams, to_nounbydoc"
   ]
  },
  {
   "cell_type": "code",
   "execution_count": 28,
   "id": "2d8cd293-f5be-4814-897e-806d9c8560c2",
   "metadata": {},
   "outputs": [],
   "source": [
    "data.abstract = data.abstract.apply(lambda x: x.split(\" \"))"
   ]
  },
  {
   "cell_type": "code",
   "execution_count": 29,
   "id": "15f6a1b4-d2f1-4ee6-8c01-52fead77e4a2",
   "metadata": {},
   "outputs": [],
   "source": [
    "# remove consecutive duplicates\n",
    "data.abstract = data.abstract.apply(lambda x: [element for idx, element in enumerate(x) if idx == 0 or element != x[idx-1]])"
   ]
  },
  {
   "cell_type": "code",
   "execution_count": 30,
   "id": "79c88f44-aa7a-4b38-95f2-ac274cda1a09",
   "metadata": {},
   "outputs": [],
   "source": [
    "data[\"ngram\"] = data.abstract.apply(ngram_extractor)"
   ]
  },
  {
   "cell_type": "markdown",
   "id": "c26a0c94-32ec-4d40-95d2-96ca3751dd77",
   "metadata": {},
   "source": [
    "#### Identifying Meaningful N-grams \n",
    "\n",
    "**Workflow**:\n",
    "\n",
    "1. N-grams can be considered meaningful if they occur above chance.\n",
    "2. To this end, the occurrence of trigrams will be modelled with a negative binomial distribution"
   ]
  },
  {
   "cell_type": "code",
   "execution_count": 31,
   "id": "78fbebf7-4e2f-4a8e-861b-f387ca26aba1",
   "metadata": {},
   "outputs": [],
   "source": [
    "trigram_nounbydoc = trigram_to_nounbydoc(data)\n",
    "#trigram_nounbydoc"
   ]
  },
  {
   "cell_type": "code",
   "execution_count": 32,
   "id": "513ab3a0-d2ef-4806-bc68-3af12cc21a4d",
   "metadata": {},
   "outputs": [],
   "source": [
    "trigram_nounbydoc.to_csv(\"RTMR_Output/Abstracts/trigram_nounbydoc.csv\", index=False)"
   ]
  },
  {
   "cell_type": "code",
   "execution_count": 33,
   "id": "f005acd9-f3f9-481e-98e6-717ac352cea2",
   "metadata": {},
   "outputs": [
    {
     "name": "stdout",
     "output_type": "stream",
     "text": [
      "R script ran successfully\n"
     ]
    }
   ],
   "source": [
    "os.chdir(\"Word_functions\")\n",
    "r_script_path = 'trigrams_pruning.R'\n",
    "result = subprocess.run(['Rscript', r_script_path], capture_output=True, text=True)\n",
    "os.chdir(\"..\")\n",
    "\n",
    "if result.returncode == 0:\n",
    "    print(\"R script ran successfully\")\n",
    "else:\n",
    "    print(\"Error in running R script\")\n",
    "    print(result.stderr)\n",
    "    raise Exception(\"an error occurred\")"
   ]
  },
  {
   "cell_type": "code",
   "execution_count": 34,
   "id": "b2967da7-6edb-4025-99f7-93404350d4cd",
   "metadata": {},
   "outputs": [],
   "source": [
    "meaningful_trigrams = list(pd.read_csv(\"RTMR_Output/Abstracts/trigrams_pruned.csv\").Word)"
   ]
  },
  {
   "cell_type": "code",
   "execution_count": 35,
   "id": "d4262d02-3392-4f0a-9559-f5d45340fbb1",
   "metadata": {},
   "outputs": [],
   "source": [
    "data[[\"trigrams\",\"residual_ngrams\"]] = data.ngram.apply(lambda x: pd.Series(relevant_trigrams(x, meaningful_trigrams)))"
   ]
  },
  {
   "cell_type": "code",
   "execution_count": 36,
   "id": "7e49cbf0-3a06-4486-a39d-1bd933c36aae",
   "metadata": {},
   "outputs": [
    {
     "data": {
      "text/html": [
       "<div>\n",
       "<style scoped>\n",
       "    .dataframe tbody tr th:only-of-type {\n",
       "        vertical-align: middle;\n",
       "    }\n",
       "\n",
       "    .dataframe tbody tr th {\n",
       "        vertical-align: top;\n",
       "    }\n",
       "\n",
       "    .dataframe thead th {\n",
       "        text-align: right;\n",
       "    }\n",
       "</style>\n",
       "<table border=\"1\" class=\"dataframe\">\n",
       "  <thead>\n",
       "    <tr style=\"text-align: right;\">\n",
       "      <th></th>\n",
       "      <th>record_id</th>\n",
       "      <th>abstract</th>\n",
       "      <th>ngram</th>\n",
       "      <th>trigrams</th>\n",
       "      <th>residual_ngrams</th>\n",
       "    </tr>\n",
       "  </thead>\n",
       "  <tbody>\n",
       "    <tr>\n",
       "      <th>0</th>\n",
       "      <td>50129</td>\n",
       "      <td>[relationship, passion, ideology, violent, act...</td>\n",
       "      <td>[[relationship passion ideology, relationship ...</td>\n",
       "      <td>[obsessive harmonious passion, collective loss...</td>\n",
       "      <td>[relationship passion, passion ideology, ideol...</td>\n",
       "    </tr>\n",
       "    <tr>\n",
       "      <th>1</th>\n",
       "      <td>2624</td>\n",
       "      <td>[religion, main, extremist, violence, suicide,...</td>\n",
       "      <td>[[religion main extremist, religion main], [ma...</td>\n",
       "      <td>[support extremist violence]</td>\n",
       "      <td>[religion main, main extremist, extremist viol...</td>\n",
       "    </tr>\n",
       "    <tr>\n",
       "      <th>2</th>\n",
       "      <td>35510</td>\n",
       "      <td>[capable, andor, act, political, violence, att...</td>\n",
       "      <td>[[capable andor act, capable andor], [andor ac...</td>\n",
       "      <td>[act political violence, extreme political vio...</td>\n",
       "      <td>[capable andor, andor act, nan, violence attac...</td>\n",
       "    </tr>\n",
       "    <tr>\n",
       "      <th>3</th>\n",
       "      <td>43427</td>\n",
       "      <td>[dutch, muslim, youth, radicalization, main, p...</td>\n",
       "      <td>[[dutch muslim youth, dutch muslim], [muslim y...</td>\n",
       "      <td>[]</td>\n",
       "      <td>[dutch muslim, muslim youth, youth radicalizat...</td>\n",
       "    </tr>\n",
       "    <tr>\n",
       "      <th>4</th>\n",
       "      <td>986</td>\n",
       "      <td>[prominence, understand, extent, identity, ext...</td>\n",
       "      <td>[[prominence understand extent, prominence und...</td>\n",
       "      <td>[]</td>\n",
       "      <td>[prominence understand, understand extent, ext...</td>\n",
       "    </tr>\n",
       "  </tbody>\n",
       "</table>\n",
       "</div>"
      ],
      "text/plain": [
       "   record_id                                           abstract  \\\n",
       "0      50129  [relationship, passion, ideology, violent, act...   \n",
       "1       2624  [religion, main, extremist, violence, suicide,...   \n",
       "2      35510  [capable, andor, act, political, violence, att...   \n",
       "3      43427  [dutch, muslim, youth, radicalization, main, p...   \n",
       "4        986  [prominence, understand, extent, identity, ext...   \n",
       "\n",
       "                                               ngram  \\\n",
       "0  [[relationship passion ideology, relationship ...   \n",
       "1  [[religion main extremist, religion main], [ma...   \n",
       "2  [[capable andor act, capable andor], [andor ac...   \n",
       "3  [[dutch muslim youth, dutch muslim], [muslim y...   \n",
       "4  [[prominence understand extent, prominence und...   \n",
       "\n",
       "                                            trigrams  \\\n",
       "0  [obsessive harmonious passion, collective loss...   \n",
       "1                       [support extremist violence]   \n",
       "2  [act political violence, extreme political vio...   \n",
       "3                                                 []   \n",
       "4                                                 []   \n",
       "\n",
       "                                     residual_ngrams  \n",
       "0  [relationship passion, passion ideology, ideol...  \n",
       "1  [religion main, main extremist, extremist viol...  \n",
       "2  [capable andor, andor act, nan, violence attac...  \n",
       "3  [dutch muslim, muslim youth, youth radicalizat...  \n",
       "4  [prominence understand, understand extent, ext...  "
      ]
     },
     "execution_count": 36,
     "metadata": {},
     "output_type": "execute_result"
    }
   ],
   "source": [
    "data.head()"
   ]
  },
  {
   "cell_type": "markdown",
   "id": "bc1ebdb2-1911-4db2-aea7-2e8504f45c2a",
   "metadata": {},
   "source": [
    "**Next Step: Selecting Meaningful 2-grams**"
   ]
  },
  {
   "cell_type": "code",
   "execution_count": 37,
   "id": "82359ed1-9ef7-4399-94a1-32dc9c3115a4",
   "metadata": {},
   "outputs": [],
   "source": [
    "bigrams_nounbydoc = bigram_to_nounbydoc(data)\n",
    "#bigrams_nounbydoc"
   ]
  },
  {
   "cell_type": "code",
   "execution_count": 38,
   "id": "bb430585-f460-4665-ba40-cdac6815bb96",
   "metadata": {},
   "outputs": [],
   "source": [
    "bigrams_nounbydoc.to_csv(\"RTMR_Output/Abstracts/bigrams_nounbydoc.csv\",index=False)"
   ]
  },
  {
   "cell_type": "code",
   "execution_count": 39,
   "id": "81839e76-16c2-489a-92cb-1902dbbc3981",
   "metadata": {},
   "outputs": [
    {
     "name": "stdout",
     "output_type": "stream",
     "text": [
      "R script ran successfully\n"
     ]
    }
   ],
   "source": [
    "os.chdir(\"Word_functions\")\n",
    "r_script_path = 'bigrams_pruning.R'\n",
    "result = subprocess.run(['Rscript', r_script_path], capture_output=True, text=True)\n",
    "os.chdir(\"..\")\n",
    "\n",
    "if result.returncode == 0:\n",
    "    print(\"R script ran successfully\")\n",
    "else:\n",
    "    print(\"Error in running R script\")\n",
    "    print(result.stderr)\n",
    "    raise Exception(\"an error occurred\")"
   ]
  },
  {
   "cell_type": "code",
   "execution_count": 40,
   "id": "6199745a-ff0b-4fa6-8d50-fda6764b5eda",
   "metadata": {},
   "outputs": [],
   "source": [
    "meaningful_bigrams = list(pd.read_csv(\"RTMR_Output/Abstracts/bigrams_pruned.csv\").Word)"
   ]
  },
  {
   "cell_type": "code",
   "execution_count": 41,
   "id": "1d6a3e7d-49d4-418b-97bf-c25444ea8ca8",
   "metadata": {},
   "outputs": [],
   "source": [
    "data[\"bigrams\"] = data.residual_ngrams.apply(lambda x: list(set([element for element in x if element in meaningful_bigrams])))"
   ]
  },
  {
   "cell_type": "markdown",
   "id": "f338a628-6faf-4085-ac24-83144194eb62",
   "metadata": {},
   "source": [
    "**Combining Meaningful Trigrams, Bigrams, and Unigrams**"
   ]
  },
  {
   "cell_type": "code",
   "execution_count": 42,
   "id": "f7d5856a-dbee-41ef-bfa7-99f58567d048",
   "metadata": {},
   "outputs": [],
   "source": [
    "select_unigrams(data)"
   ]
  },
  {
   "cell_type": "code",
   "execution_count": 43,
   "id": "e13cd98c-1ed3-4e21-b8c5-8287eec6dff4",
   "metadata": {},
   "outputs": [],
   "source": [
    "#data.drop(\"residual_ngrams\",axis=1,inplace=True)\n",
    "data['keywords'] = data.apply(lambda row: list(set(row['trigrams'] + row['bigrams'] + row['resid_onegrams'])), axis=1)\n",
    "#data['keywords'] = data.apply(lambda row: list(set(row['trigrams'] + row['bigrams'])), axis=1)\n",
    "#data.head()"
   ]
  },
  {
   "cell_type": "markdown",
   "id": "8d83fff6-7063-49ef-a673-cc7c38ebf1d1",
   "metadata": {},
   "source": [
    "### 4. Classification and Replacement\n",
    "\n",
    "Related terms are clustered into groups and assigned an overarching umbrella term (e.g. \"adoloscence\" <- \"youth\" & \"adoloscents\"). We call this process classification. Subsequently, related terms are replaced by an umbrella term to reduce redundandancy and noise. Importantly, one keyword can naturally belong to multiple overarching classes (i.e., there is some overlap between certain classes). To solve this problem, keywords that belong to multiple classes are replaced by multiple classes. This way, a loss of information can be avoided while noise is significantly reduced."
   ]
  },
  {
   "cell_type": "code",
   "execution_count": 44,
   "id": "3ffae6fa-003a-4a71-bb37-758398a01cbb",
   "metadata": {},
   "outputs": [],
   "source": [
    "data.to_json('RTMR_Output/Abstracts/Abstracts_data_prepared.json', orient='records', lines=True)\n",
    "#data = pd.read_json('RTMR_Output/Abstracts/Abstracts_data_prepared.json', orient='records', lines=True)"
   ]
  },
  {
   "cell_type": "code",
   "execution_count": 45,
   "id": "e84fd3f8-2ac2-416b-88c0-0b6e49ec104b",
   "metadata": {},
   "outputs": [],
   "source": [
    "from TMSR_dictionary import word_dict\n",
    "from Word_functions.word_functions_py import classification, extend_keywords"
   ]
  },
  {
   "cell_type": "markdown",
   "id": "57d22a33-ecba-45c8-a450-0809b2e62a9b",
   "metadata": {},
   "source": [
    "========================================================================================================"
   ]
  },
  {
   "cell_type": "code",
   "execution_count": 46,
   "id": "fb5cb437-8238-4b59-8da5-153dfb0b826c",
   "metadata": {},
   "outputs": [
    {
     "data": {
      "text/plain": [
       "154704"
      ]
     },
     "execution_count": 46,
     "metadata": {},
     "output_type": "execute_result"
    }
   ],
   "source": [
    "keywords_list = sum(data.keywords, [])\n",
    "len(keywords_list)"
   ]
  },
  {
   "cell_type": "code",
   "execution_count": 47,
   "id": "05626b5d-37bf-44c1-97a6-eb8f8a067667",
   "metadata": {},
   "outputs": [],
   "source": [
    "count_dict, uniques, terms_in_cat_dict = classification(keywords_list,word_dict)"
   ]
  },
  {
   "cell_type": "code",
   "execution_count": 48,
   "id": "933d8f53-e074-4807-8392-6accec420593",
   "metadata": {},
   "outputs": [],
   "source": [
    "#print(f\"{len(uniques)} not classified keywords, with {len(set(uniques))} unique terms.\")"
   ]
  },
  {
   "cell_type": "markdown",
   "id": "6f368946-9892-493f-a431-b52ccd9ad4c7",
   "metadata": {},
   "source": [
    "======================================================================================================================================"
   ]
  },
  {
   "cell_type": "code",
   "execution_count": 49,
   "id": "ce94b0ab-c20b-46d9-86dd-ca676dfb420d",
   "metadata": {
    "scrolled": true
   },
   "outputs": [],
   "source": [
    "clean_data = data.copy(deep = True)\n",
    "clean_data[\"cat_keywords\"] = clean_data.keywords.apply(lambda x: extend_keywords(x,word_dict))"
   ]
  },
  {
   "cell_type": "markdown",
   "id": "152b3880-331b-4cd8-bea6-2fc2237ab6ad",
   "metadata": {},
   "source": [
    "**Keep Categories, 2-3grams, Discard Single Words**"
   ]
  },
  {
   "cell_type": "code",
   "execution_count": 50,
   "id": "669ef078-6e30-4ca8-85f1-9e07c14cb1f6",
   "metadata": {},
   "outputs": [],
   "source": [
    "clean_data[\"cat_keywords2\"] = clean_data.cat_keywords.apply(lambda x: [token for token in x if token in list(word_dict.keys()) or \" \" in token])"
   ]
  },
  {
   "cell_type": "code",
   "execution_count": 51,
   "id": "3a49a1ab-6fb0-4ef4-96ac-98c841eb04a0",
   "metadata": {},
   "outputs": [],
   "source": [
    "nounbydoc = to_nounbydoc(clean_data, \"cat_keywords2\")\n",
    "nounbydoc.to_csv(r\"RTMR_Output/Abstracts/Abstracts_nounbydoc.csv\", index = False)"
   ]
  },
  {
   "cell_type": "code",
   "execution_count": 52,
   "id": "30ff6a23-6430-4625-aa7e-9e6fef912ca4",
   "metadata": {},
   "outputs": [],
   "source": [
    "clean_data.to_json(\"RTMR_Output/Abstracts/Abstracts_clean_data.json\", orient='records', lines=True)\n",
    "#clean_data = pd.read_json(\"RTMR_Output/Abstracts/Abstracts_clean_data.json\", orient='records', lines=True)"
   ]
  },
  {
   "cell_type": "code",
   "execution_count": 53,
   "id": "96dcabe0-ac1c-419b-b3e5-5dfdcb741f2e",
   "metadata": {},
   "outputs": [
    {
     "name": "stdout",
     "output_type": "stream",
     "text": [
      "Total number of keywords: 45162\n",
      "Number of unique keywords: 2229\n",
      "Number of terms occurring only once:  35\n"
     ]
    }
   ],
   "source": [
    "print(f\"Total number of keywords: {len(nounbydoc.term)}\")\n",
    "print(f\"Number of unique keywords: {len(set(nounbydoc.term))}\")\n",
    "\n",
    "frequency = Counter(nounbydoc.term)\n",
    "one_hit_wonders = [term for term, n in frequency.items() if n == 1]\n",
    "print(\"Number of terms occurring only once: \", len(one_hit_wonders))"
   ]
  },
  {
   "cell_type": "code",
   "execution_count": null,
   "id": "a1e0773b-8024-4074-ba60-3a8f64c2cee3",
   "metadata": {},
   "outputs": [],
   "source": []
  },
  {
   "cell_type": "markdown",
   "id": "99331364-6645-4c76-bfd1-2692a7901d5e",
   "metadata": {},
   "source": [
    "### 5. Testing for Homogeneity of Corpus\n",
    "\n",
    "Thanks to the thorough eye of a reviewer, we realised that an LDA-based topic modelling approch, as it has been implemented in the R code, is not suitable for structured keywords and short text documents. To address this shortcoming, we implemented an additional analysis of corpus homogeineity that is rooted in embedding-based clustering. The pipeline is executed in a seperate Python file and results are saved in the usual `RTMR_OUTPUT` folder."
   ]
  },
  {
   "cell_type": "code",
   "execution_count": 54,
   "id": "c815e0b4-1be4-4fb5-acbe-7fd652e2e911",
   "metadata": {
    "scrolled": true
   },
   "outputs": [
    {
     "name": "stderr",
     "output_type": "stream",
     "text": [
      "C:\\Users\\495235\\Desktop\\TMSR\\RadTMSR\\RadTMSR_env\\lib\\site-packages\\tqdm\\auto.py:21: TqdmWarning: IProgress not found. Please update jupyter and ipywidgets. See https://ipywidgets.readthedocs.io/en/stable/user_install.html\n",
      "  from .autonotebook import tqdm as notebook_tqdm\n",
      "Embedding documents: 100%|███████████████████████████████████████████████████████████| 126/126 [05:44<00:00,  2.73s/it]\n"
     ]
    },
    {
     "name": "stdout",
     "output_type": "stream",
     "text": [
      "Computing cluster 2/20...\n",
      "Computing cluster 3/20...\n",
      "Computing cluster 4/20...\n",
      "Computing cluster 5/20...\n",
      "Computing cluster 6/20...\n",
      "Computing cluster 7/20...\n",
      "Computing cluster 8/20...\n",
      "Computing cluster 9/20...\n",
      "Computing cluster 10/20...\n",
      "Computing cluster 11/20...\n",
      "Computing cluster 12/20...\n",
      "Computing cluster 13/20...\n",
      "Computing cluster 14/20...\n",
      "Computing cluster 15/20...\n",
      "Computing cluster 16/20...\n",
      "Computing cluster 17/20...\n",
      "Computing cluster 18/20...\n",
      "Computing cluster 19/20...\n",
      "Computing cluster 20/20...\n",
      "Computing individual silhouette scores for 2 clusters...\n"
     ]
    },
    {
     "data": {
      "image/png": "[encoded data removed]",
      "text/plain": [
       "<Figure size 900x500 with 1 Axes>"
      ]
     },
     "metadata": {},
     "output_type": "display_data"
    },
    {
     "data": {
      "image/png": "[encoded data removed]",
      "text/plain": [
       "<Figure size 900x500 with 1 Axes>"
      ]
     },
     "metadata": {},
     "output_type": "display_data"
    }
   ],
   "source": [
    "from Word_functions.embedding_based_clustering import embedding_clustering\n",
    "import pandas as pd\n",
    "\n",
    "embedding_clustering(input_df = clean_data,\n",
    "                     output_folder = \"RTMR_Output/Abstracts\",\n",
    "                     batch_size = 32\n",
    "                    )"
   ]
  },
  {
   "cell_type": "code",
   "execution_count": null,
   "id": "912807d4-044a-40f0-986f-73b3b77dc769",
   "metadata": {},
   "outputs": [],
   "source": []
  },
  {
   "cell_type": "markdown",
   "id": "5db1e402-3e61-4bf7-b9ef-a706f916ae47",
   "metadata": {},
   "source": [
    "===========================================================================================================================\n",
    "\n",
    "### Run R script for:\n",
    "* Negative Binomial (Pruning)\n",
    "* Word Frequency\n",
    "* Topic Modelling\n",
    "* Term Co-occurrences\n",
    "\n",
    "##### using van Lissa's R code\n",
    "  \n",
    "==========================================================================================================================="
   ]
  },
  {
   "cell_type": "code",
   "execution_count": null,
   "id": "d2d899cf-bc3e-4180-9e1f-865ba926ef2d",
   "metadata": {},
   "outputs": [],
   "source": [
    "os.chdir(\"Word_functions\")\n",
    "r_script_path = 'abstracts_processing.R'\n",
    "result = subprocess.run(['Rscript', r_script_path], capture_output=True, text=True)\n",
    "os.chdir(\"..\")\n",
    "\n",
    "if result.returncode == 0:\n",
    "    print(\"R script ran successfully\")\n",
    "else:\n",
    "    print(\"Error in running R script\")\n",
    "    print(result.stderr)\n",
    "    raise Exception(\"an error occurred\")"
   ]
  },
  {
   "cell_type": "markdown",
   "id": "a4914f75-0fe2-4674-8af6-02f83170e858",
   "metadata": {},
   "source": [
    "**NOTE**\n",
    "\n",
    "**If an error occurs in relation to \"htmltools\", please go directly to the `renv.lock` file, look for `\"htmltools\":` and try to change the package's version from 0.5.8 to 0.5.7**"
   ]
  },
  {
   "cell_type": "markdown",
   "id": "9e686cd0-d3c8-47bc-8d6b-d39ed82acf15",
   "metadata": {},
   "source": [
    "## I. Word Frequency"
   ]
  },
  {
   "cell_type": "code",
   "execution_count": null,
   "id": "c0aba2b2-30ee-4015-965a-adf80eccd1dd",
   "metadata": {},
   "outputs": [],
   "source": [
    "freq_df = pd.read_csv(r\"RTMR_Output/Abstracts/Abstracts_freq.csv\").sort_values(by= \"Frequency\", ascending=False).reset_index()\n",
    "len(freq_df)"
   ]
  },
  {
   "cell_type": "markdown",
   "id": "dfafe3b1-ea8c-42f3-8ff2-d9f42cafe9b3",
   "metadata": {},
   "source": [
    "======================================================================================================"
   ]
  },
  {
   "cell_type": "markdown",
   "id": "27af683e-2575-4a45-9f17-04f303564493",
   "metadata": {},
   "source": [
    "**Short Visualization**"
   ]
  },
  {
   "cell_type": "code",
   "execution_count": null,
   "id": "d3f1417e-290a-44d8-8122-4703af296426",
   "metadata": {},
   "outputs": [],
   "source": [
    "plt_df = freq_df[freq_df.Word != \"radicalism\"].sort_values(by= \"Frequency\", ascending=True)\n",
    "\n",
    "# Filter out the word \"radicalism\" and sort by frequency\n",
    "plt_df = freq_df[freq_df.Word != \"radicalism\"].sort_values(by=\"Frequency\", ascending=False).head(50)\n",
    "\n",
    "highlight_words = []\n",
    "colors = ['skyblue' if word not in highlight_words else 'pink' for word in plt_df['Word']]\n",
    "\n",
    "plt.figure(figsize=(18, 4))\n",
    "plt.bar(plt_df['Word'], plt_df['Frequency'], color=colors)\n",
    "\n",
    "plt.ylabel('Frequency', fontsize=12)\n",
    "plt.xlabel('Phenomena', fontsize=12)\n",
    "plt.title('Frequency of Phenomena', fontsize=14)\n",
    "\n",
    "plt.xticks(rotation=45, ha='right', fontsize=10)\n",
    "plt.yticks(fontsize=10)\n",
    "\n",
    "# Remove the black frame\n",
    "ax = plt.gca()\n",
    "ax.spines['top'].set_visible(False)\n",
    "ax.spines['right'].set_visible(False)\n",
    "ax.spines['left'].set_visible(False)\n",
    "ax.spines['bottom'].set_visible(True)\n",
    "\n",
    "# Add horizontal grid lines\n",
    "ax.yaxis.grid(True, linestyle='-', linewidth=0.7, color='gray')\n",
    "ax.set_axisbelow(True)\n",
    "\n",
    "plt.savefig('RTMR_Output/Abstracts/abstracts_frequency_of_words_short.png', bbox_inches='tight', dpi=600)\n",
    "plt.show()"
   ]
  },
  {
   "cell_type": "markdown",
   "id": "496f0764-a1b9-4c1a-b7a3-ae5df33579bc",
   "metadata": {},
   "source": [
    "## Frequency with Categories"
   ]
  },
  {
   "cell_type": "code",
   "execution_count": null,
   "id": "548e2bd1-d6d1-42ed-aa8f-b0c5b9c17d81",
   "metadata": {},
   "outputs": [],
   "source": [
    "micro_terms = [\"ideology\", \"violence\", \"religiosity\", \"adolescence\", \"identity\", \"cognition\", \n",
    "               \"sex\", \"employment\", \"deprivation\", \"emotion\", \"activism\", \"criminality\", \n",
    "               \"education\", \"nationalism\", \"populism\", \"status\", \"dogmatism\", \"authoritarianism\", \n",
    "               \"aggression\", \"morality\", \"mental health\", \"conservatism\", \"minority\", \n",
    "               \"sacred values\", \"age\", \"hate\", \"rationality\", \"prejudice\", \"uncertainty\", \n",
    "               \"trust\", \"personality\", \"liberalism\", \"intolerance\", \"fundamentalism\", \"fear\", \n",
    "               \"honor\", \"poverty\", \"white race\", \"superiority\", \"islamophobia\", \n",
    "               \"significance quest\", \"social movements\", \"masculinity\", \"conspiracy\", \n",
    "               \"misogyny\", \"racism\", \"martyrdom\", \"political engagement\", \"ptsd\", \"resilience\", \n",
    "               \"voting behavior\", \"misogyny\"]\n",
    "\n",
    "meso_terms = [\"social network\", \"threat\", \"diversity\", \"social exclusion\", \"norms\", \"internet\", \n",
    "              \"mobilization\", \"discourse\", \"integration\", \"family\", \"competition\", \"language\", \n",
    "              \"polarization\", \"discrimination\", \"group process\", \"recruitment\", \"elites\", \n",
    "              \"social media\", \"social cohesion\", \"social change\"]\n",
    "\n",
    "macro_terms = [\"conflict\", \"state\", \"economy\", \"society\", \"politics\", \"justice\", \"culture\", \n",
    "               \"security\", \"region\", \"elections\", \"policy\", \"democracy\", \"international\", \n",
    "               \"crisis\", \"institutions\", \"peace\", \"propaganda\", \"military\", \"globalization\", \n",
    "               \"immigration\"]\n",
    "\n",
    "theory_terms = [\"ideology\", \"violence\", \"social network\", \"conflict\", \"religiosity\", \"state\", \n",
    "                \"society\", \"identity\", \"politics\", \"cognition\", \"justice\", \"norms\", \"culture\", \n",
    "                \"threat\", \"superiority\", \"employment\", \"deprivation\", \"emotion\", \"activism\", \n",
    "                \"policy\", \"nationalism\", \"social exclusion\", \"status\", \"dogmatism\", \"mobilization\", \n",
    "                \"authoritarianism\", \"integration\", \"aggression\", \"morality\", \"competition\", \n",
    "                \"crisis\", \"sacred values\", \"discrimination\", \"group process\", \"rationality\", \n",
    "                \"prejudice\", \"uncertainty\", \"intolerance\", \"military\", \"fundamentalism\", \n",
    "                \"honor\", \"poverty\", \"significance quest\", \"social movements\", \"globalization\", \n",
    "                \"martyrdom\", \"political engagement\", \"resilience\", \"family\"]\n",
    "\n",
    "radicalism_terms = ['far right', \"far left\", \"islamist\", \"lone actor\", \"foreign fighter\", \"male supremacist\"]\n",
    "\n",
    "not_in_co_occ_map = {'intolerance', 'diversity', 'society', 'social movements', 'minority', \n",
    "                     'martyrdom', 'social change', 'social cohesion', 'political engagement', \n",
    "                     'resilience', 'discourse', 'competition', 'globalization', 'poverty', 'trust', \n",
    "                     'language', 'personality', 'state', 'white race', 'family', 'racism', 'peace', \n",
    "                     'status'}\n",
    "\n",
    "# Generate color mapping for shapes\n",
    "color_mapping = {\n",
    "    'micro': 'grey',  # Grey\n",
    "    'meso': '#6c9808',   # Green\n",
    "    'macro': '#d89b40',  # Orange\n",
    "    'radicalism': '#b50012'  # Red\n",
    "}\n",
    "\n",
    "# Define shape mapping for categories\n",
    "shape_dict = {word: ('o', color_mapping['micro']) for word in micro_terms}  # Circle for micro\n",
    "shape_dict.update({word: ('s', color_mapping['meso']) for word in meso_terms})  # Square for meso\n",
    "shape_dict.update({word: ('v', color_mapping['macro']) for word in macro_terms})  # Triangle for macro\n",
    "shape_dict.update({word: ('D', color_mapping['radicalism']) for word in radicalism_terms})  # Diamond for radicalism\n",
    "\n",
    "plt_df = freq_df[freq_df.Word != \"radicalism\"].sort_values(by= \"Frequency\", ascending=True)\n",
    "\n",
    "plt.figure(figsize=(10, 14))\n",
    "\n",
    "# Draw bars in the background\n",
    "for i, word in enumerate(plt_df['Word']):\n",
    "    if word in not_in_co_occ_map:\n",
    "        plt.barh(word, plt_df['Frequency'].iloc[i], color='#D3D3D3', height=0.5, hatch='..', edgecolor='grey', zorder=1)\n",
    "    else:\n",
    "        plt.barh(word, plt_df['Frequency'].iloc[i], color='#D3D3D3', height=0.1, edgecolor='grey', linewidth=2, zorder=1)\n",
    "\n",
    "# Add filled shapes\n",
    "shape_offset = 0.2\n",
    "for i, word in enumerate(plt_df['Word']):\n",
    "    shape, color = shape_dict.get(word, ('o', 'black'))\n",
    "    if word not in theory_terms:\n",
    "        plt.scatter(plt_df['Frequency'].iloc[i] + shape_offset, i, color=color, edgecolor=color, linewidth=1, s=50, marker=shape, facecolors=color, zorder=2)\n",
    "\n",
    "# Add hollow shapes for terms occurring in theory\n",
    "for i, word in enumerate(plt_df['Word']):\n",
    "    shape, color = shape_dict.get(word, ('o', 'black'))\n",
    "    if word in theory_terms:\n",
    "        plt.scatter(plt_df['Frequency'].iloc[i] + shape_offset, i, color='white', edgecolor=color, linewidth=1, s=50, marker=shape, facecolors='white', zorder=3)\n",
    "\n",
    "plt.xlabel('Frequency Analysis 2', fontsize=12)  \n",
    "\n",
    "plt.tick_params(axis='x', labelsize=10)\n",
    "plt.tick_params(axis='y', labelsize=8)\n",
    "plt.savefig('RTMR_Output/Abstracts/abstractsfull_frequency_of_words_wide.png', bbox_inches='tight', dpi=600)"
   ]
  },
  {
   "cell_type": "markdown",
   "id": "3882802f-ad74-4cf1-bf3f-1b0da70e8665",
   "metadata": {},
   "source": [
    "#### Narrow Visualization"
   ]
  },
  {
   "cell_type": "code",
   "execution_count": null,
   "id": "abcd8f86-6657-4293-82b0-2c5a5f81afc1",
   "metadata": {},
   "outputs": [],
   "source": [
    "import numpy as np\n",
    "import matplotlib.pyplot as plt\n",
    "import matplotlib.lines as mlines\n",
    "\n",
    "micro_terms = [\"ideology\", \"violence\", \"religiosity\", \"adolescence\", \"identity\", \"cognition\", \n",
    "               \"sex\", \"employment\", \"deprivation\", \"emotion\", \"activism\", \"criminality\", \n",
    "               \"education\", \"nationalism\", \"populism\", \"status\", \"dogmatism\", \"authoritarianism\", \n",
    "               \"aggression\", \"morality\", \"mental health\", \"conservatism\", \"minority\", \n",
    "               \"sacred values\", \"age\", \"hate\", \"rationality\", \"prejudice\", \"uncertainty\", \n",
    "               \"trust\", \"personality\", \"liberalism\", \"intolerance\", \"fundamentalism\", \"fear\", \n",
    "               \"honor\", \"poverty\", \"white race\", \"superiority\", \"islamophobia\", \n",
    "               \"significance quest\", \"social movements\", \"masculinity\", \"conspiracy\", \n",
    "               \"misogyny\", \"racism\", \"martyrdom\", \"political engagement\", \"ptsd\", \"resilience\", \n",
    "               \"voting behavior\", \"determination\"]\n",
    "\n",
    "meso_terms = [\"social network\", \"threat\", \"diversity\", \"social exclusion\", \"norms\", \"internet\", \n",
    "              \"mobilization\", \"discourse\", \"integration\", \"family\", \"competition\", \"language\", \n",
    "              \"polarization\", \"discrimination\", \"group process\", \"recruitment\", \"elites\", \n",
    "              \"social media\", \"social cohesion\", \"social change\"]\n",
    "\n",
    "macro_terms = [\"conflict\", \"state\", \"economy\", \"society\", \"politics\", \"justice\", \"culture\", \n",
    "               \"security\", \"region\", \"elections\", \"policy\", \"democracy\", \"international\", \n",
    "               \"crisis\", \"institutions\", \"peace\", \"propaganda\", \"military\", \"globalization\", \n",
    "               \"immigration\"]\n",
    "\n",
    "theory_terms = [\"ideology\", \"violence\", \"social network\", \"conflict\", \"religiosity\", \"state\", \n",
    "                \"society\", \"identity\", \"politics\", \"cognition\", \"justice\", \"norms\", \"culture\", \n",
    "                \"threat\", \"superiority\", \"employment\", \"deprivation\", \"emotion\", \"activism\", \n",
    "                \"policy\", \"nationalism\", \"social exclusion\", \"status\", \"dogmatism\", \"mobilization\", \n",
    "                \"authoritarianism\", \"integration\", \"aggression\", \"morality\", \"competition\", \n",
    "                \"crisis\", \"sacred values\", \"discrimination\", \"group process\", \"rationality\", \n",
    "                \"prejudice\", \"uncertainty\", \"intolerance\", \"military\", \"fundamentalism\", \n",
    "                \"honor\", \"poverty\", \"significance quest\", \"social movements\", \"globalization\", \n",
    "                \"martyrdom\", \"political engagement\", \"resilience\", \"family\"]\n",
    "\n",
    "radicalism_terms = ['far right', \"far left\", \"islamist\", \"lone actor\", \"foreign fighter\", \"male supremacist\"]\n",
    "\n",
    "not_in_co_occ_map = {'intolerance', 'diversity', 'society', 'social movements', 'minority', \n",
    "                     'martyrdom', 'social change', 'social cohesion', 'political engagement', \n",
    "                     'resilience', 'discourse', 'competition', 'globalization', 'poverty', 'trust', \n",
    "                     'language', 'personality', 'state', 'white race', 'family', 'racism', 'peace', \n",
    "                     'status'}\n",
    "\n",
    "# Generate color mapping for shapes\n",
    "color_mapping = {\n",
    "    'micro': 'grey',  # Grey\n",
    "    'meso': '#6c9808',   # Green\n",
    "    'macro': '#d89b40',  # Orange\n",
    "    'radicalism': '#b50012'  # Red\n",
    "}\n",
    "\n",
    "# Define shape mapping for categories\n",
    "shape_dict = {word: ('o', color_mapping['micro']) for word in micro_terms}  # Circle for micro\n",
    "shape_dict.update({word: ('s', color_mapping['meso']) for word in meso_terms})  # Square for meso\n",
    "shape_dict.update({word: ('v', color_mapping['macro']) for word in macro_terms})  # Triangle for macro\n",
    "shape_dict.update({word: ('D', color_mapping['radicalism']) for word in radicalism_terms})  # Diamond for radicalism\n",
    "\n",
    "plt_df = freq_df[freq_df.Word != \"radicalism\"].sort_values(by= \"Frequency\", ascending=True)\n",
    "\n",
    "plt.figure(figsize=(3.5, 13))  # Adjusted figure size to make it more balanced\n",
    "\n",
    "# Draw bars in the background\n",
    "for i, word in enumerate(plt_df['Word']):\n",
    "    if word in not_in_co_occ_map:\n",
    "        plt.barh(word, plt_df['Frequency'].iloc[i], color='#D3D3D3', height=0.5, hatch='..', edgecolor='grey', zorder=1)\n",
    "    else:\n",
    "        plt.barh(word, plt_df['Frequency'].iloc[i], color='#D3D3D3', height=0.1, edgecolor='grey', linewidth=2, zorder=1)\n",
    "\n",
    "# Add filled shapes\n",
    "shape_offset = 0.2\n",
    "for i, word in enumerate(plt_df['Word']):\n",
    "    shape, color = shape_dict.get(word, ('o', 'black'))\n",
    "    if word not in theory_terms:\n",
    "        plt.scatter(plt_df['Frequency'].iloc[i] + shape_offset, i, color=color, edgecolor=color, linewidth=1, s=50, marker=shape, facecolors=color, zorder=2)\n",
    "\n",
    "# Add hollow shapes\n",
    "for i, word in enumerate(plt_df['Word']):\n",
    "    shape, color = shape_dict.get(word, ('o', 'black'))\n",
    "    if word in theory_terms:\n",
    "        plt.scatter(plt_df['Frequency'].iloc[i] + shape_offset, i, color='white', edgecolor=color, linewidth=1, s=50, marker=shape, facecolors='white', zorder=3)\n",
    "\n",
    "# Set X-axis with steps of 50\n",
    "x_min, x_max = plt.xlim()\n",
    "plt.xticks(np.arange(x_min, x_max, 100))\n",
    "\n",
    "# Adjust Y-axis limits\n",
    "plt.ylim(-0.5, len(plt_df['Word']) - 0.25)\n",
    "\n",
    "# Add lines\n",
    "plt.grid(axis='y', color='grey', linestyle='-', linewidth=0.5)\n",
    "\n",
    "# Remove black frame\n",
    "plt.gca().spines['top'].set_visible(False)\n",
    "plt.gca().spines['right'].set_visible(False)\n",
    "plt.gca().spines['left'].set_visible(False)\n",
    "plt.gca().spines['bottom'].set_visible(False)\n",
    "\n",
    "plt.xlabel('Frequency Analysis 2', fontsize=12)\n",
    "\n",
    "plt.tick_params(axis='x', labelsize=10)\n",
    "plt.tick_params(axis='y', labelsize=8)\n",
    "\n",
    "# Create legend\n",
    "micro_legend = mlines.Line2D([], [], color=color_mapping['micro'], marker='o', linestyle='None', markersize=7, label='Micro')\n",
    "meso_legend = mlines.Line2D([], [], color=color_mapping['meso'], marker='s', linestyle='None', markersize=7, label='Meso')\n",
    "macro_legend = mlines.Line2D([], [], color=color_mapping['macro'], marker='v', linestyle='None', markersize=7, label='Macro')\n",
    "radicalism_legend = mlines.Line2D([], [], color=color_mapping['radicalism'], marker='D', linestyle='None', markersize=7, label='Radicalism')\n",
    "\n",
    "plt.legend(handles=[micro_legend, meso_legend, macro_legend, radicalism_legend], loc='lower right')\n",
    "\n",
    "# Save figure\n",
    "plt.savefig('RTMR_Output/Abstracts/abstractsfull_frequency_of_words_narrow.png', bbox_inches='tight', dpi=600)\n"
   ]
  },
  {
   "cell_type": "markdown",
   "id": "09d949a1-604b-46b0-bf8a-2d722c44dc33",
   "metadata": {},
   "source": [
    "#### Fuse frequency anlyses plots from keywords and abstracts"
   ]
  },
  {
   "cell_type": "code",
   "execution_count": null,
   "id": "708d2544-27d9-4b78-9037-60779d8fc996",
   "metadata": {},
   "outputs": [],
   "source": [
    "from PIL import Image\n",
    "\n",
    "image1 = Image.open('RTMR_Output/Keywords/keywordsfull_frequency_of_words_narrow.png')\n",
    "image2 = Image.open('RTMR_Output/Abstracts/abstractsfull_frequency_of_words_narrow.png')\n",
    "\n",
    "# Get the width and height of each image\n",
    "width1, height1 = image1.size\n",
    "width2, height2 = image2.size\n",
    "\n",
    "total_width = width1 + width2\n",
    "max_height = max(height1, height2)\n",
    "\n",
    "new_image = Image.new('RGB', (total_width, max_height), (255, 255, 255))\n",
    "\n",
    "# Paste the two images into the new image\n",
    "new_image.paste(image1, (0, 0))\n",
    "new_image.paste(image2, (width1, 0))\n",
    "\n",
    "new_image.save('RTMR_Output/combined_frequency_analysis.png', dpi=(600, 600))\n",
    "new_image.show()\n"
   ]
  },
  {
   "cell_type": "markdown",
   "id": "c17f07be-72fa-4a79-9b63-4612fa577936",
   "metadata": {},
   "source": [
    "======================================================================================================"
   ]
  },
  {
   "cell_type": "markdown",
   "id": "7af52000-d80c-4f7b-bfcc-ce3d1a7468a7",
   "metadata": {},
   "source": [
    "## II. Co-occurrences"
   ]
  },
  {
   "cell_type": "code",
   "execution_count": null,
   "id": "fe0776c4-5f4a-4b81-895f-0d0488c77de2",
   "metadata": {},
   "outputs": [],
   "source": [
    "cooc_df_incl = pd.read_csv(r\"RTMR_Output/Abstracts/Abstracts_cooc_inclrad.csv\")\n",
    "cooc_df_excl = pd.read_csv(r\"RTMR_Output/Abstracts/Abstracts_cooc_worad.csv\")\n",
    "cooc_df_ado = pd.read_csv(r\"RTMR_Output/Abstracts/Abstracts_cooc_adolescence.csv\")\n",
    "cooc_df_islamist = pd.read_csv(r\"RTMR_Output/Abstracts/Abstracts_cooc_islamist.csv\")\n",
    "cooc_df_right = pd.read_csv(r\"RTMR_Output/Abstracts/Abstracts_cooc_far-right.csv\")\n",
    "cooc_df_left = pd.read_csv(r\"RTMR_Output/Abstracts/Abstracts_cooc_far-left.csv\")\n",
    "cooc_df_lone = pd.read_csv(r\"RTMR_Output/Abstracts/Abstracts_cooc_lone-actor.csv\")\n",
    "cooc_df_foreignf = pd.read_csv(r\"RTMR_Output/Abstracts/Abstracts_cooc_foreign-fighter.csv\")\n",
    "cooc_df_malesup = pd.read_csv(r\"RTMR_Output/Abstracts/Abstracts_cooc_male-supremacist.csv\")"
   ]
  },
  {
   "cell_type": "code",
   "execution_count": null,
   "id": "c3db9bf9-cbca-4eb6-b2e1-e77d0faaf1c0",
   "metadata": {},
   "outputs": [],
   "source": [
    "print(\"Edges: \", len(cooc_df_incl))\n",
    "print(\"Nodes: \", len(set(list(cooc_df_incl.term1) + list(cooc_df_incl.term2))))\n",
    "print(\"Min number of co-occurrences: \", cooc_df_incl.cooc.min())"
   ]
  },
  {
   "cell_type": "markdown",
   "id": "deff32f8-edef-4871-beef-777723b0d991",
   "metadata": {},
   "source": [
    "### Network Visualisation"
   ]
  },
  {
   "cell_type": "markdown",
   "id": "eea17753-0e8b-4f5a-b9e8-123e7c213bdd",
   "metadata": {},
   "source": [
    "#### a) General Network"
   ]
  },
  {
   "cell_type": "code",
   "execution_count": null,
   "id": "600f4342-a71c-4f68-9c06-0f76d7c572f8",
   "metadata": {
    "scrolled": true
   },
   "outputs": [],
   "source": [
    "micro_terms = [\n",
    "    \"ideology\", \"violence\", \"religiosity\", \"adolescence\", \"identity\", \"cognition\", \n",
    "    \"sex\", \"employment\", \"deprivation\", \"emotion\", \"activism\", \n",
    "    \"criminality\", \"education\", \"nationalism\", \"populism\", \"status\", \"dogmatism\", \n",
    "    \"authoritarianism\", \"aggression\", \"morality\", \"mental health\", \"conservatism\", \n",
    "    \"minority\", \"sacred values\", \"age\", \"hate\", \"rationality\", \"prejudice\", \n",
    "    \"uncertainty\", \"trust\", \"personality\", \"liberalism\", \"intolerance\", \n",
    "    \"fundamentalism\", \"fear\", \"honor\", \"poverty\", \"white race\", \"superiority\",\n",
    "    \"islamophobia\", \"significance quest\", \"social movements\", \"masculinity\", \n",
    "    \"conspiracy\", \"misogyny\", \"racism\", \"martyrdom\", \"political engagement\", \n",
    "    \"ptsd\", \"resilience\", \"voting behavior\", \"determination\"\n",
    "]\n",
    "\n",
    "meso_terms = [\n",
    "    \"social network\", \"threat\", \"diversity\", \"social exclusion\", \"norms\", \"internet\",\n",
    "    \"mobilization\", \"discourse\", \"integration\", \"family\", \"competition\", \"language\",\n",
    "    \"polarization\", \"discrimination\", \"group process\", \"recruitment\", \n",
    "    \"elites\", \"social media\", \"social cohesion\", \"social change\"\n",
    "]\n",
    "\n",
    "macro_terms = [\n",
    "    \"conflict\", \"state\", \"economy\", \"society\", \"politics\", \"justice\", \n",
    "    \"culture\", \"security\", \"region\", \"elections\", \"policy\", \"democracy\", \n",
    "    \"international\", \"crisis\", \"institutions\", \"peace\", \"propaganda\", \n",
    "    \"military\", \"globalization\", \"immigration\"\n",
    "]\n",
    "\n",
    "theory_terms = [\n",
    "    \"ideology\", \"violence\", \"social network\", \"conflict\", \"religiosity\", \"state\", \n",
    "    \"society\", \"identity\", \"politics\", \"cognition\", \"justice\", \"norms\", \"culture\", \n",
    "    \"threat\", \"superiority\", \"employment\", \"deprivation\", \"emotion\", \"activism\", \n",
    "    \"policy\", \"nationalism\", \"social exclusion\", \"status\", \"dogmatism\", \"mobilization\", \n",
    "    \"authoritarianism\", \"integration\", \"aggression\", \"morality\", \"competition\", \n",
    "    \"crisis\", \"sacred values\", \"discrimination\", \"group process\", \"rationality\", \n",
    "    \"prejudice\", \"uncertainty\", \"intolerance\", \"military\", \"fundamentalism\", \n",
    "    \"honor\", \"poverty\", \"significance quest\", \"social movements\", \"globalization\", \n",
    "    \"martyrdom\", \"political engagement\", \"resilience\", \"family\"\n",
    "]\n",
    "\n",
    "radicalism_nodes = [\"radicalism\", \"far right\", \"islamist\"]\n",
    "\n",
    "# Create the graph\n",
    "G = nx.Graph()\n",
    "\n",
    "# Add edges with corresponding frequency as weight\n",
    "for index, row in cooc_df_incl.iterrows():\n",
    "    G.add_edge(row['term1'], row['term2'], weight=row['cooc'])\n",
    "\n",
    "# Draw the graph\n",
    "plt.figure(figsize=(18, 10))\n",
    "\n",
    "# Spring layout\n",
    "pos = nx.spring_layout(G, seed=43, k=2, iterations=100, scale=2)  # positions for all nodes\n",
    "\n",
    "# Draw nodes with shape based on their category\n",
    "micro_nodes = [node for node in G.nodes() if node in micro_terms]\n",
    "meso_nodes = [node for node in G.nodes() if node in meso_terms]\n",
    "macro_nodes = [node for node in G.nodes() if node in macro_terms]\n",
    "\n",
    "color_mapping = {\n",
    "    'micro': 'grey',  # Grey\n",
    "    'meso': '#6c9808',   # Green\n",
    "    'macro': '#f0ad48',  # Orange\n",
    "    'radicalism': '#b50012'  # Red\n",
    "}\n",
    "\n",
    "# Draw micro nodes\n",
    "nx.draw_networkx_nodes(G, pos, nodelist=[node for node in micro_nodes if node not in theory_terms], node_size=200, node_color=color_mapping['micro'], node_shape='o', alpha=0.7, label='Micro Level')\n",
    "nx.draw_networkx_nodes(G, pos, nodelist=[node for node in micro_nodes if node in theory_terms], node_size=200, node_color='white', edgecolors=color_mapping['micro'], node_shape='o', linewidths=2.5, alpha=0.7, label='Micro Level')\n",
    "\n",
    "# Draw meso nodes\n",
    "nx.draw_networkx_nodes(G, pos, nodelist=[node for node in meso_nodes if node not in theory_terms], node_size=200, node_color=color_mapping['meso'], node_shape='s', alpha=0.7, label='Meso Level')\n",
    "nx.draw_networkx_nodes(G, pos, nodelist=[node for node in meso_nodes if node in theory_terms], node_size=200, node_color='white', edgecolors=color_mapping['meso'], node_shape='s', linewidths=2.5, alpha=0.7, label='Meso Level')\n",
    "\n",
    "# Draw macro nodes\n",
    "nx.draw_networkx_nodes(G, pos, nodelist=[node for node in macro_nodes if node not in theory_terms], node_size=200, node_color=color_mapping['macro'], node_shape='v', alpha=0.7, label='Macro Level')\n",
    "nx.draw_networkx_nodes(G, pos, nodelist=[node for node in macro_nodes if node in theory_terms], node_size=200, node_color='white', edgecolors=color_mapping['macro'], node_shape='v', linewidths=2.5, alpha=0.7, label='Macro Level')\n",
    "\n",
    "# Draw radicalism nodes\n",
    "nx.draw_networkx_nodes(G, pos, nodelist=[node for node in radicalism_nodes if node not in theory_terms], node_size=200, node_color=color_mapping['radicalism'], node_shape='D', alpha=0.7, label='Radicalism')\n",
    "nx.draw_networkx_nodes(G, pos, nodelist=[node for node in radicalism_nodes if node in theory_terms], node_size=200, node_color='white', edgecolors=color_mapping['radicalism'], node_shape='D', linewidths=2.5, alpha=0.7, label='Radicalism')\n",
    "\n",
    "# Draw edges with width and color proportional to frequency\n",
    "weights = [G[u][v]['weight'] for u, v in G.edges]\n",
    "min_weight = min(weights)\n",
    "max_weight = max(weights)\n",
    "normalized_weights = [(weight - min_weight) / (max_weight - min_weight) for weight in weights]\n",
    "edge_widths = [1 + 15 * norm_weight for norm_weight in normalized_weights]  # Increase contrast in thickness\n",
    "\n",
    "# Set edge colors: grey if connected to radicalism, otherwise blue\n",
    "edge_colors = ['grey' if 'radicalism' in (u, v) else '#5495a4' for u, v in G.edges]\n",
    "\n",
    "# Draw edges\n",
    "edges = nx.draw_networkx_edges(\n",
    "    G, pos,\n",
    "    edge_color=edge_colors,\n",
    "    width=edge_widths,\n",
    "    alpha=0.7\n",
    ")\n",
    "\n",
    "# Draw labels\n",
    "nx.draw_networkx_labels(G, pos, font_size=14, font_family=\"sans-serif\")\n",
    "\n",
    "# Legend\n",
    "legend_elements = [\n",
    "    plt.Line2D([0], [0], marker='o', color='w', markerfacecolor=color_mapping['micro'], markersize=15, label='Micro Level'),\n",
    "    plt.Line2D([0], [0], marker='s', color='w', markerfacecolor=color_mapping['meso'], markersize=15, label='Meso Level'),\n",
    "    plt.Line2D([0], [0], marker='v', color='w', markerfacecolor=color_mapping['macro'], markersize=15, label='Macro Level'),\n",
    "    plt.Line2D([0], [0], marker='D', color='w', markerfacecolor=color_mapping['radicalism'], markersize=15, label='Radicalism')\n",
    "]\n",
    "\n",
    "plt.legend(handles=legend_elements, loc='lower right', fontsize=15, markerscale=1)\n",
    "\n",
    "# Remove frame\n",
    "ax = plt.gca()\n",
    "ax.spines['top'].set_visible(False)\n",
    "ax.spines['right'].set_visible(False)\n",
    "ax.spines['left'].set_visible(False)\n",
    "ax.spines['bottom'].set_visible(False)\n",
    "\n",
    "plt.savefig('RTMR_Output/Abstracts/abstracts_cooccurrence_radicalism.png', bbox_inches='tight', dpi=600)\n",
    "plt.show()"
   ]
  },
  {
   "cell_type": "markdown",
   "id": "a3e0e4d9-4e2e-40a8-8b31-3b31cbda4880",
   "metadata": {},
   "source": [
    "#### Fuse General Networks from Keywords and Abstracts"
   ]
  },
  {
   "cell_type": "code",
   "execution_count": null,
   "id": "3f086d26-2487-416e-9715-342004f0a1ed",
   "metadata": {},
   "outputs": [],
   "source": [
    "from PIL import Image, ImageDraw, ImageFont\n",
    "# Load the images\n",
    "image1 = Image.open('RTMR_Output/Keywords/keywords_cooccurrence_radicalism.png')\n",
    "image2 = Image.open('RTMR_Output/Abstracts/abstracts_cooccurrence_radicalism.png')\n",
    "\n",
    "# Get the width and height of each image\n",
    "width1, height1 = image1.size\n",
    "width2, height2 = image2.size\n",
    "\n",
    "# Create a new image with the same width and the combined height of the two images\n",
    "total_height = height1 + height2\n",
    "total_width = max(width1, width2)\n",
    "\n",
    "new_image = Image.new('RGB', (total_width, total_height), (255, 255, 255))\n",
    "\n",
    "# Paste the two images into the new image\n",
    "new_image.paste(image1, (0, 0))\n",
    "new_image.paste(image2, (0, height1))\n",
    "\n",
    "# Add labels (a) and (b)\n",
    "draw = ImageDraw.Draw(new_image)\n",
    "font_size = 200  # Increase font size significantly\n",
    "\n",
    "try:\n",
    "    # Load a font\n",
    "    font = ImageFont.truetype(\"arial.ttf\", font_size)\n",
    "except IOError:\n",
    "    # Fallback to a more common font if the specific font is not available\n",
    "    font = ImageFont.load_default()\n",
    "\n",
    "# Add the labels to the images at a visible position\n",
    "draw.text((50, 50), \"(a)\", fill=\"black\", font=font)\n",
    "draw.text((50, height1 + 50), \"(b)\", fill=\"black\", font=font)\n",
    "\n",
    "# Save the new image with a DPI of 600\n",
    "new_image.save('RTMR_Output/combined_cooccurrence_radicalism.png', dpi=(600, 600))\n",
    "new_image.show()\n"
   ]
  },
  {
   "cell_type": "markdown",
   "id": "b14ca728-f5d3-49c3-bddd-e63bc6c83fa6",
   "metadata": {},
   "source": [
    "#### b) Centred on \"Adolescence\""
   ]
  },
  {
   "cell_type": "code",
   "execution_count": null,
   "id": "426fc624-a04f-4d29-adb2-edb5722f520c",
   "metadata": {},
   "outputs": [],
   "source": [
    "categories = {\n",
    "    'micro': [\n",
    "        \"ideology\", \"violence\", \"religiosity\", \"adolescence\", \"identity\", \"cognition\", \n",
    "        \"sex\", \"employment\", \"deprivation\", \"emotion\", \"activism\", \n",
    "        \"criminality\", \"education\", \"nationalism\", \"populism\", \"status\", \"dogmatism\", \n",
    "        \"authoritarianism\", \"aggression\", \"morality\", \"mental health\", \"conservatism\", \n",
    "        \"minority\", \"sacred values\", \"age\", \"hate\", \"rationality\", \"prejudice\", \n",
    "        \"uncertainty\", \"trust\", \"personality\", \"liberalism\", \"intolerance\", \n",
    "        \"fundamentalism\", \"fear\", \"honor\", \"poverty\", \"white race\", \"superiority\",\n",
    "        \"islamophobia\", \"significance quest\", \"social movements\", \"masculinity\", \n",
    "        \"conspiracy\", \"misogyny\", \"racism\", \"martyrdom\", \"political engagement\", \n",
    "        \"ptsd\", \"resilience\", \"voting behavior\", \"misogyny\"\n",
    "    ],\n",
    "    'meso': [\n",
    "        \"social network\", \"threat\", \"diversity\", \"social exclusion\", \"norms\", \"internet\",\n",
    "        \"mobilization\", \"discourse\", \"integration\", \"family\", \"competition\", \"language\",\n",
    "        \"polarization\", \"discrimination\", \"group process\", \"recruitment\", \n",
    "        \"elites\", \"social media\", \"social cohesion\", \"social change\"\n",
    "    ],\n",
    "    'macro': [\n",
    "        \"conflict\", \"state\", \"economy\", \"society\", \"politics\", \"justice\", \n",
    "        \"culture\", \"security\", \"region\", \"elections\", \"policy\", \"democracy\", \n",
    "        \"international\", \"crisis\", \"institutions\", \"peace\", \"propaganda\", \n",
    "        \"military\", \"globalization\", \"immigration\"\n",
    "    ],\n",
    "    'theory': [\n",
    "        \"ideology\", \"violence\", \"social network\", \"conflict\", \"religiosity\", \"state\", \n",
    "        \"society\", \"identity\", \"politics\", \"cognition\", \"justice\", \"norms\", \"culture\", \n",
    "        \"threat\", \"superiority\", \"employment\", \"deprivation\", \"emotion\", \"activism\", \n",
    "        \"policy\", \"nationalism\", \"social exclusion\", \"status\", \"dogmatism\", \"mobilization\", \n",
    "        \"authoritarianism\", \"integration\", \"aggression\", \"morality\", \"competition\", \n",
    "        \"crisis\", \"sacred values\", \"discrimination\", \"group process\", \"rationality\", \n",
    "        \"prejudice\", \"uncertainty\", \"intolerance\", \"military\", \"fundamentalism\", \n",
    "        \"honor\", \"poverty\", \"significance quest\", \"social movements\", \"globalization\", \n",
    "        \"martyrdom\", \"political engagement\", \"resilience\", \"family\"\n",
    "    ],\n",
    "    'radicalism': [\"radicalism\", \"far right\"]\n",
    "}\n",
    "\n",
    "# Create the graph\n",
    "G = nx.Graph()\n",
    "for index, row in cooc_df_ado.iterrows():\n",
    "    G.add_edge(row['term1'], row['term2'], weight=row['cooc'])\n",
    "\n",
    "plt.figure(figsize=(14, 10))\n",
    "pos = nx.spring_layout(G, seed=43, k=2, iterations=100)  # positions for all nodes\n",
    "\n",
    "# Adjust positions\n",
    "if 'adolescence' in pos and 'radicalism' in pos:\n",
    "    pos['adolescence'][0] += 0.2  # Adjust x position\n",
    "    pos['adolescence'][1] += 0.1  # Adjust y position\n",
    "\n",
    "# Color mapping\n",
    "color_mapping = {\n",
    "    'micro': 'grey',\n",
    "    'meso': '#6c9808',\n",
    "    'macro': '#f0ad48',\n",
    "    'radicalism': '#b50012'\n",
    "}\n",
    "\n",
    "highlight_nodes = categories['radicalism']\n",
    "\n",
    "# Draw nodes\n",
    "for category, nodes in categories.items():\n",
    "    if category != 'theory':\n",
    "        node_shape = 'o' if category == 'micro' else ('s' if category == 'meso' else ('v' if category == 'macro' else 'D'))\n",
    "        color = color_mapping[category]\n",
    "        non_theory_nodes = [node for node in G.nodes() if node in nodes and node not in highlight_nodes and node not in categories['theory']]\n",
    "        theory_nodes = [node for node in G.nodes() if node in nodes and node in categories['theory']]\n",
    "        nx.draw_networkx_nodes(G, pos, nodelist=non_theory_nodes, node_size=200, node_color=color, node_shape=node_shape, alpha=0.7)\n",
    "        nx.draw_networkx_nodes(G, pos, nodelist=theory_nodes, node_size=200, node_color='white', edgecolors=color, node_shape=node_shape, linewidths=2.5, alpha=0.7)\n",
    "\n",
    "# Draw highlight nodes\n",
    "nx.draw_networkx_nodes(G, pos, nodelist=highlight_nodes, node_size=200, node_color=color_mapping['radicalism'], node_shape='D', alpha=0.7)\n",
    "\n",
    "# Draw edges\n",
    "weights = [G[u][v]['weight'] for u, v in G.edges]\n",
    "min_weight = min(weights)\n",
    "max_weight = max(weights)\n",
    "normalized_weights = [(weight - min_weight) / (max_weight - min_weight) for weight in weights]\n",
    "edge_widths = [1 + 15 * norm_weight for norm_weight in normalized_weights]\n",
    "edges = nx.draw_networkx_edges(G, pos, edge_color='grey', width=edge_widths, alpha=0.7)\n",
    "\n",
    "# Draw labels\n",
    "nx.draw_networkx_labels(G, pos, font_size=14, font_family=\"sans-serif\")\n",
    "\n",
    "# Add legend\n",
    "legend_elements = [\n",
    "    plt.Line2D([0], [0], marker='o', color='w', markerfacecolor=color_mapping['micro'], markersize=10, label='Micro Level'),\n",
    "    plt.Line2D([0], [0], marker='s', color='w', markerfacecolor=color_mapping['meso'], markersize=10, label='Meso Level'),\n",
    "    plt.Line2D([0], [0], marker='v', color='w', markerfacecolor=color_mapping['macro'], markersize=10, label='Macro Level'),\n",
    "    plt.Line2D([0], [0], marker='D', color='w', markerfacecolor=color_mapping['radicalism'], markersize=10, label='Radicalism')\n",
    "]\n",
    "\n",
    "plt.legend(handles=legend_elements, loc='upper right')\n",
    "\n",
    "# Remove the frame\n",
    "ax = plt.gca()\n",
    "ax.spines['top'].set_visible(False)\n",
    "ax.spines['right'].set_visible(False)\n",
    "ax.spines['left'].set_visible(False)\n",
    "ax.spines['bottom'].set_visible(False)\n",
    "\n",
    "plt.savefig('RTMR_Output/Abstracts/abstracts_cooccurrence_adolescence.png', bbox_inches='tight', dpi=600)\n",
    "plt.show()"
   ]
  },
  {
   "cell_type": "markdown",
   "id": "3a2b78c3-e46c-4bbe-86c6-5dd7bd39d7d9",
   "metadata": {},
   "source": [
    "#### c) Centred on \"Islamist\""
   ]
  },
  {
   "cell_type": "code",
   "execution_count": null,
   "id": "3df855f4-570b-4900-a4a3-c844c1c1fc5a",
   "metadata": {},
   "outputs": [],
   "source": [
    "categories = {\n",
    "    'micro': [\n",
    "        \"ideology\", \"violence\", \"religiosity\", \"adolescence\", \"identity\", \"cognition\", \n",
    "        \"sex\", \"employment\", \"deprivation\", \"emotion\", \"activism\", \n",
    "        \"criminality\", \"education\", \"nationalism\", \"populism\", \"status\", \"dogmatism\", \n",
    "        \"authoritarianism\", \"aggression\", \"morality\", \"mental health\", \"conservatism\", \n",
    "        \"minority\", \"sacred values\", \"age\", \"hate\", \"rationality\", \"prejudice\", \n",
    "        \"uncertainty\", \"trust\", \"personality\", \"liberalism\", \"intolerance\", \n",
    "        \"fundamentalism\", \"fear\", \"honor\", \"poverty\", \"white race\", \"superiority\",\n",
    "        \"islamophobia\", \"significance quest\", \"social movements\", \"masculinity\", \n",
    "        \"conspiracy\", \"misogyny\", \"racism\", \"martyrdom\", \"political engagement\", \n",
    "        \"ptsd\", \"resilience\", \"voting behavior\", \"misogyny\"\n",
    "    ],\n",
    "    'meso': [\n",
    "        \"social network\", \"threat\", \"diversity\", \"social exclusion\", \"norms\", \"internet\",\n",
    "        \"mobilization\", \"discourse\", \"integration\", \"family\", \"competition\", \"language\",\n",
    "        \"polarization\", \"discrimination\", \"group process\", \"recruitment\", \n",
    "        \"elites\", \"social media\", \"social cohesion\", \"social change\"\n",
    "    ],\n",
    "    'macro': [\n",
    "        \"conflict\", \"state\", \"economy\", \"society\", \"politics\", \"justice\", \n",
    "        \"culture\", \"security\", \"region\", \"elections\", \"policy\", \"democracy\", \n",
    "        \"international\", \"crisis\", \"institutions\", \"peace\", \"propaganda\", \n",
    "        \"military\", \"globalization\", \"immigration\"\n",
    "    ],\n",
    "    'theory': [\n",
    "        \"ideology\", \"violence\", \"social network\", \"conflict\", \"religiosity\", \"state\", \n",
    "        \"society\", \"identity\", \"politics\", \"cognition\", \"justice\", \"norms\", \"culture\", \n",
    "        \"threat\", \"superiority\", \"employment\", \"deprivation\", \"emotion\", \"activism\", \n",
    "        \"policy\", \"nationalism\", \"social exclusion\", \"status\", \"dogmatism\", \"mobilization\", \n",
    "        \"authoritarianism\", \"integration\", \"aggression\", \"morality\", \"competition\", \n",
    "        \"crisis\", \"sacred values\", \"discrimination\", \"group process\", \"rationality\", \n",
    "        \"prejudice\", \"uncertainty\", \"intolerance\", \"military\", \"fundamentalism\", \n",
    "        \"honor\", \"poverty\", \"significance quest\", \"social movements\", \"globalization\", \n",
    "        \"martyrdom\", \"political engagement\", \"resilience\", \"family\"\n",
    "    ],\n",
    "    'radicalism': [\"radicalism\", \"islamist\", \"foreign fighter\"]\n",
    "}\n",
    "\n",
    "# Create the graph\n",
    "G = nx.Graph()\n",
    "for index, row in cooc_df_islamist.iterrows():\n",
    "    G.add_edge(row['term1'], row['term2'], weight=row['cooc'])\n",
    "\n",
    "plt.figure(figsize=(14, 10))\n",
    "pos = nx.spring_layout(G, seed=43, k=1.5, iterations=100)  # positions for all nodes\n",
    "\n",
    "# Adjust positions\n",
    "if 'islamist' in pos:\n",
    "    pos['islamist'][1] += 0.002  # Adjust y position slightly by 2 mm\n",
    "if 'radicalism' in pos:\n",
    "    pos['radicalism'][1] -= 0.002  # Adjust y position slightly by 2 mm\n",
    "\n",
    "# Color mapping\n",
    "color_mapping = {\n",
    "    'micro': 'grey',\n",
    "    'meso': '#6c9808',\n",
    "    'macro': '#f0ad48',\n",
    "    'radicalism': '#b50012'\n",
    "}\n",
    "\n",
    "highlight_nodes = categories['radicalism']\n",
    "\n",
    "# Draw nodes\n",
    "for category, nodes in categories.items():\n",
    "    if category != 'theory':\n",
    "        node_shape = 'o' if category == 'micro' else ('s' if category == 'meso' else ('v' if category == 'macro' else 'D'))\n",
    "        color = color_mapping[category]\n",
    "        non_theory_nodes = [node for node in G.nodes() if node in nodes and node not in highlight_nodes and node not in categories['theory']]\n",
    "        theory_nodes = [node for node in G.nodes() if node in nodes and node in categories['theory']]\n",
    "        nx.draw_networkx_nodes(G, pos, nodelist=non_theory_nodes, node_size=200, node_color=color, node_shape=node_shape, alpha=0.7)\n",
    "        nx.draw_networkx_nodes(G, pos, nodelist=theory_nodes, node_size=200, node_color='white', edgecolors=color, node_shape=node_shape, linewidths=2.5, alpha=0.7)\n",
    "\n",
    "# Draw highlight nodes\n",
    "nx.draw_networkx_nodes(G, pos, nodelist=highlight_nodes, node_size=200, node_color=color_mapping['radicalism'], node_shape='D', alpha=0.7)\n",
    "\n",
    "# Draw edges\n",
    "weights = [G[u][v]['weight'] for u, v in G.edges]\n",
    "min_weight = min(weights)\n",
    "max_weight = max(weights)\n",
    "normalized_weights = [(weight - min_weight) / (max_weight - min_weight) for weight in weights]\n",
    "edge_widths = [1 + 15 * norm_weight for norm_weight in normalized_weights]\n",
    "edges = nx.draw_networkx_edges(G, pos, edge_color='grey', width=edge_widths, alpha=0.7)\n",
    "\n",
    "# Draw labels with increased font size\n",
    "nx.draw_networkx_labels(G, pos, font_size=14, font_family=\"sans-serif\")\n",
    "\n",
    "# Add legend\n",
    "legend_elements = [\n",
    "    plt.Line2D([0], [0], marker='o', color='w', markerfacecolor=color_mapping['micro'], markersize=10, label='Micro Level'),\n",
    "    plt.Line2D([0], [0], marker='s', color='w', markerfacecolor=color_mapping['meso'], markersize=10, label='Meso Level'),\n",
    "    plt.Line2D([0], [0], marker='v', color='w', markerfacecolor=color_mapping['macro'], markersize=10, label='Macro Level'),\n",
    "    plt.Line2D([0], [0], marker='D', color='w', markerfacecolor=color_mapping['radicalism'], markersize=10, label='Radicalism')\n",
    "]\n",
    "\n",
    "plt.legend(handles=legend_elements, loc='upper right')\n",
    "\n",
    "# Remove the frame\n",
    "ax = plt.gca()\n",
    "ax.spines['top'].set_visible(False)\n",
    "ax.spines['right'].set_visible(False)\n",
    "ax.spines['left'].set_visible(False)\n",
    "ax.spines['bottom'].set_visible(False)\n",
    "\n",
    "#plt.savefig('RTMR_Output/Abstracts/abstracts_cooccurrence_islamist.png', bbox_inches='tight', dpi=600)\n",
    "plt.savefig('RTMR_Output/Abstracts/abstracts_cooccurrence_islamist.png', bbox_inches='tight', pad_inches=-0.4, dpi=600)\n",
    "\n",
    "plt.show()"
   ]
  },
  {
   "cell_type": "markdown",
   "id": "3cfe8c1d-ef5c-484a-b688-692095f73bb0",
   "metadata": {},
   "source": [
    "#### d) Centred on \"Far Right\""
   ]
  },
  {
   "cell_type": "code",
   "execution_count": null,
   "id": "aaedb503-060c-4e7c-854b-e1c8dabcbfe0",
   "metadata": {},
   "outputs": [],
   "source": [
    "micro_terms = [\n",
    "    \"ideology\", \"violence\", \"religiosity\", \"adolescence\", \"identity\", \"cognition\", \n",
    "    \"sex\", \"employment\", \"deprivation\", \"emotion\", \"activism\", \n",
    "    \"criminality\", \"education\", \"nationalism\", \"populism\", \"status\", \"dogmatism\", \n",
    "    \"authoritarianism\", \"aggression\", \"morality\", \"mental health\", \"conservatism\", \n",
    "    \"minority\", \"sacred values\", \"age\", \"hate\", \"rationality\", \"prejudice\", \n",
    "    \"uncertainty\", \"trust\", \"personality\", \"liberalism\", \"intolerance\", \n",
    "    \"fundamentalism\", \"fear\", \"honor\", \"poverty\", \"white race\", \"superiority\",\n",
    "    \"islamophobia\", \"significance quest\", \"social movements\", \"masculinity\", \n",
    "    \"conspiracy\", \"misogyny\", \"racism\", \"martyrdom\", \"political engagement\", \n",
    "    \"ptsd\", \"resilience\", \"voting behavior\", \"misogyny\",\n",
    "]\n",
    "\n",
    "meso_terms = [\n",
    "    \"social network\", \"threat\", \"diversity\", \"social exclusion\", \"norms\", \"internet\",\n",
    "    \"mobilization\", \"discourse\", \"integration\", \"family\", \"competition\", \"language\",\n",
    "    \"polarization\", \"discrimination\", \"group process\", \"recruitment\", \n",
    "    \"elites\", \"social media\", \"social cohesion\", \"social change\",\n",
    "]\n",
    "\n",
    "macro_terms = [\n",
    "    \"conflict\", \"state\", \"economy\", \"society\", \"politics\", \"justice\", \n",
    "    \"culture\", \"security\", \"region\", \"elections\", \"policy\", \"democracy\", \n",
    "    \"international\", \"crisis\", \"institutions\", \"peace\", \"propaganda\", \n",
    "    \"military\", \"globalization\", \"immigration\"\n",
    "]\n",
    "\n",
    "theory_terms = [\n",
    "    \"ideology\", \"violence\", \"social network\", \"conflict\", \"religiosity\", \"state\", \n",
    "    \"society\", \"identity\", \"politics\", \"cognition\", \"justice\", \"norms\", \"culture\", \n",
    "    \"threat\", \"superiority\", \"employment\", \"deprivation\", \"emotion\", \"activism\", \n",
    "    \"policy\", \"nationalism\", \"social exclusion\", \"status\", \"dogmatism\", \"mobilization\", \n",
    "    \"authoritarianism\", \"integration\", \"aggression\", \"morality\", \"competition\", \n",
    "    \"crisis\", \"sacred values\", \"discrimination\", \"group process\", \"rationality\", \n",
    "    \"prejudice\", \"uncertainty\", \"intolerance\", \"military\", \"fundamentalism\", \n",
    "    \"honor\", \"poverty\", \"significance quest\", \"social movements\", \"globalization\", \n",
    "    \"martyrdom\", \"political engagement\", \"resilience\", \"family\"\n",
    "]\n",
    "\n",
    "radicalism_nodes = [\"radicalism\", \"far right\"]\n",
    "\n",
    "# Create the graph\n",
    "G = nx.Graph()\n",
    "\n",
    "# Add edges with corresponding frequency as weight\n",
    "for index, row in cooc_df_right.iterrows():\n",
    "    G.add_edge(row['term1'], row['term2'], weight=row['cooc'])\n",
    "\n",
    "# Draw the graph\n",
    "plt.figure(figsize=(18, 10))\n",
    "\n",
    "# Spring layout\n",
    "pos = nx.spring_layout(G, seed=43, k=2, iterations=100, scale=2)  # positions for all nodes\n",
    "\n",
    "# Adjust positions\n",
    "if \"far right\" in pos and \"radicalism\" in pos:\n",
    "    pos[\"far right\"][0] += 0.1  # Adjust x position\n",
    "    pos[\"far right\"][1] += 0.1  # Adjust y position\n",
    "\n",
    "# Draw nodes with shape based on category\n",
    "micro_nodes = [node for node in G.nodes() if node in micro_terms]\n",
    "meso_nodes = [node for node in G.nodes() if node in meso_terms]\n",
    "macro_nodes = [node for node in G.nodes() if node in macro_terms]\n",
    "\n",
    "color_mapping = {\n",
    "    'micro': 'grey',  # Grey\n",
    "    'meso': '#6c9808',   # Green\n",
    "    'macro': '#f0ad48',  # Orange\n",
    "    'radicalism': '#b50012'  # Red\n",
    "}\n",
    "\n",
    "# Draw micro nodes\n",
    "nx.draw_networkx_nodes(G, pos, nodelist=[node for node in micro_nodes if node not in theory_terms], node_size=200, node_color=color_mapping['micro'], node_shape='o', alpha=0.7, label='Micro Level')\n",
    "nx.draw_networkx_nodes(G, pos, nodelist=[node for node in micro_nodes if node in theory_terms], node_size=200, node_color='white', edgecolors=color_mapping['micro'], node_shape='o', linewidths=2.5, alpha=0.7, label='Micro Level')\n",
    "\n",
    "# Draw meso nodes\n",
    "nx.draw_networkx_nodes(G, pos, nodelist=[node for node in meso_nodes if node not in theory_terms], node_size=200, node_color=color_mapping['meso'], node_shape='s', alpha=0.7, label='Meso Level')\n",
    "nx.draw_networkx_nodes(G, pos, nodelist=[node for node in meso_nodes if node in theory_terms], node_size=200, node_color='white', edgecolors=color_mapping['meso'], node_shape='s', linewidths=2.5, alpha=0.7, label='Meso Level')\n",
    "\n",
    "# Draw macro nodes\n",
    "nx.draw_networkx_nodes(G, pos, nodelist=[node for node in macro_nodes if node not in theory_terms], node_size=200, node_color=color_mapping['macro'], node_shape='v', alpha=0.7, label='Macro Level')\n",
    "nx.draw_networkx_nodes(G, pos, nodelist=[node for node in macro_nodes if node in theory_terms], node_size=200, node_color='white', edgecolors=color_mapping['macro'], node_shape='v', linewidths=2.5, alpha=0.7, label='Macro Level')\n",
    "\n",
    "# Draw radicalism nodes\n",
    "nx.draw_networkx_nodes(G, pos, nodelist=[node for node in radicalism_nodes if node not in theory_terms], node_size=200, node_color=color_mapping['radicalism'], node_shape='D', alpha=0.7, label='Radicalism')\n",
    "nx.draw_networkx_nodes(G, pos, nodelist=[node for node in radicalism_nodes if node in theory_terms], node_size=200, node_color='white', edgecolors=color_mapping['radicalism'], node_shape='D', linewidths=2.5, alpha=0.7, label='Radicalism')\n",
    "\n",
    "# Draw edges with width and color proportional to frequency\n",
    "weights = [G[u][v]['weight'] for u, v in G.edges]\n",
    "min_weight = min(weights)\n",
    "max_weight = max(weights)\n",
    "normalized_weights = [(weight - min_weight) / (max_weight - min_weight) for weight in weights]\n",
    "edge_widths = [1 + 15 * norm_weight for norm_weight in normalized_weights]  # Increase contrast in thickness\n",
    "\n",
    "# Set edge colors\n",
    "edge_colors = ['grey' for _ in G.edges]\n",
    "\n",
    "# Draw edges\n",
    "edges = nx.draw_networkx_edges(\n",
    "    G, pos,\n",
    "    edge_color=edge_colors,\n",
    "    width=edge_widths,\n",
    "    alpha=0.7\n",
    ")\n",
    "\n",
    "# Draw labels with increased font size\n",
    "nx.draw_networkx_labels(G, pos, font_size=14, font_family=\"sans-serif\")\n",
    "\n",
    "# Add legend\n",
    "legend_elements = [\n",
    "    plt.Line2D([0], [0], marker='o', color='w', markerfacecolor=color_mapping['micro'], markersize=10, label='Micro Level'),\n",
    "    plt.Line2D([0], [0], marker='s', color='w', markerfacecolor=color_mapping['meso'], markersize=10, label='Meso Level'),\n",
    "    plt.Line2D([0], [0], marker='v', color='w', markerfacecolor=color_mapping['macro'], markersize=10, label='Macro Level'),\n",
    "    plt.Line2D([0], [0], marker='D', color='w', markerfacecolor=color_mapping['radicalism'], markersize=10, label='Radicalism')\n",
    "]\n",
    "\n",
    "plt.legend(handles=legend_elements, loc='upper right')\n",
    "\n",
    "# Remove frame\n",
    "ax = plt.gca()\n",
    "ax.spines['top'].set_visible(False)\n",
    "ax.spines['right'].set_visible(False)\n",
    "ax.spines['left'].set_visible(False)\n",
    "ax.spines['bottom'].set_visible(False)\n",
    "\n",
    "#plt.savefig('RTMR_Output/Abstracts/abstracts_cooccurrence_farright.png', bbox_inches='tight', dpi=600)\n",
    "plt.savefig('RTMR_Output/Abstracts/abstracts_cooccurrence_farright.png', bbox_inches='tight', pad_inches=-0.4, dpi=600)\n",
    "\n",
    "plt.show()"
   ]
  },
  {
   "cell_type": "markdown",
   "id": "941e4778-74eb-45fd-be0e-b488d53257e8",
   "metadata": {},
   "source": [
    "#### without radicalism"
   ]
  },
  {
   "cell_type": "code",
   "execution_count": null,
   "id": "a41959d7-b52a-4448-892f-b09d8cec36a0",
   "metadata": {},
   "outputs": [],
   "source": [
    "micro_terms = [\n",
    "    \"ideology\", \"violence\", \"religiosity\", \"adolescence\", \"identity\", \"cognition\", \n",
    "    \"sex\", \"employment\", \"deprivation\", \"emotion\", \"activism\", \n",
    "    \"criminality\", \"education\", \"nationalism\", \"populism\", \"status\", \"dogmatism\", \n",
    "    \"authoritarianism\", \"aggression\", \"morality\", \"mental health\", \"conservatism\", \n",
    "    \"minority\", \"sacred values\", \"age\", \"hate\", \"rationality\", \"prejudice\", \n",
    "    \"uncertainty\", \"trust\", \"personality\", \"liberalism\", \"intolerance\", \n",
    "    \"fundamentalism\", \"fear\", \"honor\", \"poverty\", \"white race\", \"superiority\",\n",
    "    \"islamophobia\", \"significance quest\", \"social movements\", \"masculinity\", \n",
    "    \"conspiracy\", \"misogyny\", \"racism\", \"martyrdom\", \"political engagement\", \n",
    "    \"ptsd\", \"resilience\", \"voting behavior\", \"misogyny\",\n",
    "]\n",
    "\n",
    "meso_terms = [\n",
    "    \"social network\", \"threat\", \"diversity\", \"social exclusion\", \"norms\", \"internet\",\n",
    "    \"mobilization\", \"discourse\", \"integration\", \"family\", \"competition\", \"language\",\n",
    "    \"polarization\", \"discrimination\", \"group process\", \"recruitment\", \n",
    "    \"elites\", \"social media\", \"social cohesion\", \"social change\"\n",
    "]\n",
    "\n",
    "macro_terms = [\n",
    "    \"conflict\", \"state\", \"economy\", \"society\", \"politics\", \"justice\", \n",
    "    \"culture\", \"security\", \"region\", \"elections\", \"policy\", \"democracy\", \n",
    "    \"international\", \"crisis\", \"institutions\", \"peace\", \"propaganda\", \n",
    "    \"military\", \"globalization\", \"immigration\"\n",
    "]\n",
    "\n",
    "theory_terms = [\n",
    "    \"ideology\", \"violence\", \"social network\", \"conflict\", \"religiosity\", \"state\", \n",
    "    \"society\", \"identity\", \"politics\", \"cognition\", \"justice\", \"norms\", \"culture\", \n",
    "    \"threat\", \"superiority\", \"employment\", \"deprivation\", \"emotion\", \"activism\", \n",
    "    \"policy\", \"nationalism\", \"social exclusion\", \"status\", \"dogmatism\", \"mobilization\", \n",
    "    \"authoritarianism\", \"integration\", \"aggression\", \"morality\", \"competition\", \n",
    "    \"crisis\", \"sacred values\", \"discrimination\", \"group process\", \"rationality\", \n",
    "    \"prejudice\", \"uncertainty\", \"intolerance\", \"military\", \"fundamentalism\", \n",
    "    \"honor\", \"poverty\", \"significance quest\", \"social movements\", \"globalization\", \n",
    "    \"martyrdom\", \"political engagement\", \"resilience\", \"family\"\n",
    "]\n",
    "\n",
    "radicalism_terms = ['far right']\n",
    "\n",
    "# Create the graph\n",
    "G = nx.Graph()\n",
    "\n",
    "# Add edges with the corresponding frequency as the weight\n",
    "for index, row in cooc_df_right.iterrows():\n",
    "    if row['term1'] != \"radicalism\" and row['term2'] != \"radicalism\":\n",
    "        G.add_edge(row['term1'], row['term2'], weight=row['cooc'])\n",
    "\n",
    "# Draw the graph\n",
    "plt.figure(figsize=(18, 10))\n",
    "\n",
    "# Spring layout\n",
    "pos = nx.spring_layout(G, seed=43, k=2, iterations=100, scale=2)  # positions for all nodes\n",
    "\n",
    "# Draw nodes\n",
    "micro_nodes = [node for node in G.nodes() if node in micro_terms]\n",
    "meso_nodes = [node for node in G.nodes() if node in meso_terms]\n",
    "macro_nodes = [node for node in G.nodes() if node in macro_terms]\n",
    "\n",
    "color_mapping = {\n",
    "    'micro': 'grey',  # Grey\n",
    "    'meso': '#6c9808',   # Green\n",
    "    'macro': '#f0ad48',  # Orange\n",
    "    'radicalism': '#b50012'  # Red\n",
    "}\n",
    "\n",
    "# Draw micro nodes\n",
    "nx.draw_networkx_nodes(G, pos, nodelist=[node for node in micro_nodes if node not in theory_terms], node_size=200, node_color=color_mapping['micro'], node_shape='o', alpha=0.7, label='Micro Level')\n",
    "nx.draw_networkx_nodes(G, pos, nodelist=[node for node in micro_nodes if node in theory_terms], node_size=200, node_color='white', edgecolors=color_mapping['micro'], node_shape='o', linewidths=2.5, alpha=0.7, label='Micro Level')\n",
    "\n",
    "# Draw meso nodes\n",
    "nx.draw_networkx_nodes(G, pos, nodelist=[node for node in meso_nodes if node not in theory_terms], node_size=200, node_color=color_mapping['meso'], node_shape='s', alpha=0.7, label='Meso Level')\n",
    "nx.draw_networkx_nodes(G, pos, nodelist=[node for node in meso_nodes if node in theory_terms], node_size=200, node_color='white', edgecolors=color_mapping['meso'], node_shape='s', linewidths=2.5, alpha=0.7, label='Meso Level')\n",
    "\n",
    "# Draw macro nodes\n",
    "nx.draw_networkx_nodes(G, pos, nodelist=[node for node in macro_nodes if node not in theory_terms], node_size=200, node_color=color_mapping['macro'], node_shape='v', alpha=0.7, label='Macro Level')\n",
    "nx.draw_networkx_nodes(G, pos, nodelist=[node for node in macro_nodes if node in theory_terms], node_size=200, node_color='white', edgecolors=color_mapping['macro'], node_shape='v', linewidths=2.5, alpha=0.7, label='Macro Level')\n",
    "\n",
    "# Draw radicalism nodes\n",
    "nx.draw_networkx_nodes(G, pos, nodelist=[node for node in radicalism_terms], node_size=200, node_color=color_mapping['radicalism'], node_shape='D', alpha=0.7, label='Radicalism')\n",
    "\n",
    "# Draw edges with width and color proportional to the frequency\n",
    "weights = [G[u][v]['weight'] for u, v in G.edges]\n",
    "min_weight = min(weights)\n",
    "max_weight = max(weights)\n",
    "normalized_weights = [(weight - min_weight) / (max_weight - min_weight) for weight in weights]\n",
    "edge_widths = [1 + 15 * norm_weight for norm_weight in normalized_weights]  # Increase contrast in thickness\n",
    "\n",
    "edge_colors = ['grey' for _ in G.edges]\n",
    "\n",
    "# Draw edges\n",
    "edges = nx.draw_networkx_edges(\n",
    "    G, pos,\n",
    "    edge_color=edge_colors,\n",
    "    width=edge_widths,\n",
    "    alpha=0.7\n",
    ")\n",
    "\n",
    "# Draw labels with increased font size\n",
    "nx.draw_networkx_labels(G, pos, font_size=14, font_family=\"sans-serif\")\n",
    "\n",
    "# Add legend for node shapes\n",
    "legend_elements = [\n",
    "    plt.Line2D([0], [0], marker='o', color='w', markerfacecolor=color_mapping['micro'], markersize=10, label='Micro Level'),\n",
    "    plt.Line2D([0], [0], marker='s', color='w', markerfacecolor=color_mapping['meso'], markersize=10, label='Meso Level'),\n",
    "    plt.Line2D([0], [0], marker='v', color='w', markerfacecolor=color_mapping['macro'], markersize=10, label='Macro Level'),\n",
    "    plt.Line2D([0], [0], marker='D', color='w', markerfacecolor=color_mapping['radicalism'], markersize=10, label='Radicalism')\n",
    "]\n",
    "\n",
    "plt.legend(handles=legend_elements, loc='upper right')\n",
    "\n",
    "# Remove the frame\n",
    "ax = plt.gca()\n",
    "ax.spines['top'].set_visible(False)\n",
    "ax.spines['right'].set_visible(False)\n",
    "ax.spines['left'].set_visible(False)\n",
    "ax.spines['bottom'].set_visible(False)\n",
    "\n",
    "plt.savefig('RTMR_Output/Abstracts/abstracts_cooccurrence_farright_excluding_radicalism.png', bbox_inches='tight', dpi=600)\n",
    "plt.show()\n"
   ]
  },
  {
   "cell_type": "markdown",
   "id": "6733a498-b69e-4c19-8406-fbb615583018",
   "metadata": {},
   "source": [
    "#### e) Centred on \"Far Left\""
   ]
  },
  {
   "cell_type": "code",
   "execution_count": null,
   "id": "dbdd01cc-59c4-41ee-a4ca-5de0bc09c2bf",
   "metadata": {},
   "outputs": [],
   "source": [
    "categories = {\n",
    "    'micro': [\n",
    "        \"ideology\", \"violence\", \"religiosity\", \"adolescence\", \"identity\", \"cognition\", \n",
    "        \"sex\", \"employment\", \"deprivation\", \"emotion\", \"activism\", \n",
    "        \"criminality\", \"education\", \"nationalism\", \"populism\", \"status\", \"dogmatism\", \n",
    "        \"authoritarianism\", \"aggression\", \"morality\", \"mental health\", \"conservatism\", \n",
    "        \"minority\", \"sacred values\", \"age\", \"hate\", \"rationality\", \"prejudice\", \n",
    "        \"uncertainty\", \"trust\", \"personality\", \"liberalism\", \"intolerance\", \n",
    "        \"fundamentalism\", \"fear\", \"honor\", \"poverty\", \"white race\", \"superiority\",\n",
    "        \"islamophobia\", \"significance quest\", \"social movements\", \"masculinity\", \n",
    "        \"conspiracy\", \"misogyny\", \"racism\", \"martyrdom\", \"political engagement\", \n",
    "        \"ptsd\", \"resilience\", \"voting behavior\", \"misogyny\"\n",
    "    ],\n",
    "    'meso': [\n",
    "        \"social network\", \"threat\", \"diversity\", \"social exclusion\", \"norms\", \"internet\",\n",
    "        \"mobilization\", \"discourse\", \"integration\", \"family\", \"competition\", \"language\",\n",
    "        \"polarization\", \"discrimination\", \"group process\", \"recruitment\", \n",
    "        \"elites\", \"social media\", \"social cohesion\", \"social change\"\n",
    "    ],\n",
    "    'macro': [\n",
    "        \"conflict\", \"state\", \"economy\", \"society\", \"politics\", \"justice\", \n",
    "        \"culture\", \"security\", \"region\", \"elections\", \"policy\", \"democracy\", \n",
    "        \"international\", \"crisis\", \"institutions\", \"peace\", \"propaganda\", \n",
    "        \"military\", \"globalization\", \"immigration\"\n",
    "    ],\n",
    "    'theory': [\n",
    "        \"ideology\", \"violence\", \"social network\", \"conflict\", \"religiosity\", \"state\", \n",
    "        \"society\", \"identity\", \"politics\", \"cognition\", \"justice\", \"norms\", \"culture\", \n",
    "        \"threat\", \"superiority\", \"employment\", \"deprivation\", \"emotion\", \"activism\", \n",
    "        \"policy\", \"nationalism\", \"social exclusion\", \"status\", \"dogmatism\", \"mobilization\", \n",
    "        \"authoritarianism\", \"integration\", \"aggression\", \"morality\", \"competition\", \n",
    "        \"crisis\", \"sacred values\", \"discrimination\", \"group process\", \"rationality\", \n",
    "        \"prejudice\", \"uncertainty\", \"intolerance\", \"military\", \"fundamentalism\", \n",
    "        \"honor\", \"poverty\", \"significance quest\", \"social movements\", \"globalization\", \n",
    "        \"martyrdom\", \"political engagement\", \"resilience\", \"family\"\n",
    "    ],\n",
    "    'radicalism': [\"radicalism\", \"far left\", \"islamist\", \"far right\"]\n",
    "}\n",
    "\n",
    "# Create the graph\n",
    "G = nx.Graph()\n",
    "for index, row in cooc_df_left.iterrows():\n",
    "    G.add_edge(row['term1'], row['term2'], weight=row['cooc'])\n",
    "\n",
    "plt.figure(figsize=(14, 8))\n",
    "pos = nx.spring_layout(G, seed=43, k=0.1, iterations=100)  # positions for all nodes\n",
    "\n",
    "# Adjust positions\n",
    "if 'far left' in pos:\n",
    "    pos['far left'][1] += 0.002  # Adjust y position slightly by 2 mm\n",
    "if 'radicalism' in pos:\n",
    "    pos['radicalism'][1] -= 0.002  # Adjust y position slightly by 2 mm\n",
    "\n",
    "# Color mapping\n",
    "color_mapping = {\n",
    "    'micro': 'grey',\n",
    "    'meso': '#6c9808',\n",
    "    'macro': '#f0ad48',\n",
    "    'radicalism': '#b50012'\n",
    "}\n",
    "\n",
    "highlight_nodes = categories['radicalism']\n",
    "\n",
    "# Draw nodes\n",
    "for category, nodes in categories.items():\n",
    "    if category != 'theory':\n",
    "        node_shape = 'o' if category == 'micro' else ('s' if category == 'meso' else ('v' if category == 'macro' else 'D'))\n",
    "        color = color_mapping[category]\n",
    "        non_theory_nodes = [node for node in G.nodes() if node in nodes and node not in highlight_nodes and node not in categories['theory']]\n",
    "        theory_nodes = [node for node in G.nodes() if node in nodes and node in categories['theory']]\n",
    "        nx.draw_networkx_nodes(G, pos, nodelist=non_theory_nodes, node_size=200, node_color=color, node_shape=node_shape, alpha=0.7)\n",
    "        nx.draw_networkx_nodes(G, pos, nodelist=theory_nodes, node_size=200, node_color='white', edgecolors=color, node_shape=node_shape, linewidths=2.5, alpha=0.7)\n",
    "\n",
    "# Draw highlight nodes\n",
    "nx.draw_networkx_nodes(G, pos, nodelist=highlight_nodes, node_size=200, node_color=color_mapping['radicalism'], node_shape='D', alpha=0.7)\n",
    "\n",
    "# Draw edges\n",
    "weights = [G[u][v]['weight'] for u, v in G.edges]\n",
    "min_weight = min(weights)\n",
    "max_weight = max(weights)\n",
    "normalized_weights = [(weight - min_weight) / (max_weight - min_weight) for weight in weights]\n",
    "edge_widths = [1 + 15 * norm_weight for norm_weight in normalized_weights]\n",
    "edges = nx.draw_networkx_edges(G, pos, edge_color='grey', width=edge_widths, alpha=0.7)\n",
    "\n",
    "# Draw labels with increased font size\n",
    "nx.draw_networkx_labels(G, pos, font_size=14, font_family=\"sans-serif\")\n",
    "\n",
    "# Add legend for node shapes\n",
    "legend_elements = [\n",
    "    plt.Line2D([0], [0], marker='o', color='w', markerfacecolor=color_mapping['micro'], markersize=10, label='Micro Level'),\n",
    "    plt.Line2D([0], [0], marker='v', color='w', markerfacecolor=color_mapping['macro'], markersize=10, label='Macro Level'),\n",
    "    plt.Line2D([0], [0], marker='D', color='w', markerfacecolor=color_mapping['radicalism'], markersize=10, label='Radicalism')\n",
    "]\n",
    "\n",
    "plt.legend(handles=legend_elements, loc='upper right')\n",
    "\n",
    "# legend for fused graph\n",
    "#legend_elements = [\n",
    "#    plt.Line2D([0], [0], marker='o', color='w', markerfacecolor=color_mapping['micro'], markersize=15, label='Micro Level'),\n",
    "#    plt.Line2D([0], [0], marker='s', color='w', markerfacecolor=color_mapping['meso'], markersize=15, label='Meso Level'),\n",
    "#    plt.Line2D([0], [0], marker='v', color='w', markerfacecolor=color_mapping['macro'], markersize=15, label='Macro Level'),\n",
    "#    plt.Line2D([0], [0], marker='D', color='w', markerfacecolor=color_mapping['radicalism'], markersize=15, label='Radicalism')\n",
    "#]\n",
    "\n",
    "#plt.legend(handles=legend_elements, loc='lower right', fontsize=15)\n",
    "\n",
    "# Remove the frame\n",
    "ax = plt.gca()\n",
    "ax.spines['top'].set_visible(False)\n",
    "ax.spines['right'].set_visible(False)\n",
    "ax.spines['left'].set_visible(False)\n",
    "ax.spines['bottom'].set_visible(False)\n",
    "\n",
    "plt.savefig('RTMR_Output/Abstracts/abstracts_cooccurrence_farleft.png', bbox_inches='tight', dpi=600)\n",
    "plt.show()"
   ]
  },
  {
   "cell_type": "markdown",
   "id": "43d4fd05-4625-43e4-b9c3-5e517c8f4343",
   "metadata": {},
   "source": [
    "#### Without Radicalism"
   ]
  },
  {
   "cell_type": "code",
   "execution_count": null,
   "id": "f994ccb1-55a2-4235-911a-c344a3d7c44c",
   "metadata": {},
   "outputs": [],
   "source": [
    "categories = {\n",
    "    'micro': [\n",
    "        \"ideology\", \"violence\", \"religiosity\", \"adolescence\", \"identity\", \"cognition\", \n",
    "        \"sex\", \"employment\", \"deprivation\", \"emotion\", \"activism\", \n",
    "        \"criminality\", \"education\", \"nationalism\", \"populism\", \"status\", \"dogmatism\", \n",
    "        \"authoritarianism\", \"aggression\", \"morality\", \"mental health\", \"conservatism\", \n",
    "        \"minority\", \"sacred values\", \"age\", \"hate\", \"rationality\", \"prejudice\", \n",
    "        \"uncertainty\", \"trust\", \"personality\", \"liberalism\", \"intolerance\", \n",
    "        \"fundamentalism\", \"fear\", \"honor\", \"poverty\", \"white race\", \"superiority\",\n",
    "        \"islamophobia\", \"significance quest\", \"social movements\", \"masculinity\", \n",
    "        \"conspiracy\", \"misogyny\", \"racism\", \"martyrdom\", \"political engagement\", \n",
    "        \"ptsd\", \"resilience\", \"voting behavior\", \"misogyny\"\n",
    "    ],\n",
    "    'meso': [\n",
    "        \"social network\", \"threat\", \"diversity\", \"social exclusion\", \"norms\", \"internet\",\n",
    "        \"mobilization\", \"discourse\", \"integration\", \"family\", \"competition\", \"language\",\n",
    "        \"polarization\", \"discrimination\", \"group process\", \"recruitment\", \n",
    "        \"elites\", \"social media\", \"social cohesion\", \"social change\"\n",
    "    ],\n",
    "    'macro': [\n",
    "        \"conflict\", \"state\", \"economy\", \"society\", \"politics\", \"justice\", \n",
    "        \"culture\", \"security\", \"region\", \"elections\", \"policy\", \"democracy\", \n",
    "        \"international\", \"crisis\", \"institutions\", \"peace\", \"propaganda\", \n",
    "        \"military\", \"globalization\", \"immigration\"\n",
    "    ],\n",
    "    'theory': [\n",
    "        \"ideology\", \"violence\", \"social network\", \"conflict\", \"religiosity\", \"state\", \n",
    "        \"society\", \"identity\", \"politics\", \"cognition\", \"justice\", \"norms\", \"culture\", \n",
    "        \"threat\", \"superiority\", \"employment\", \"deprivation\", \"emotion\", \"activism\", \n",
    "        \"policy\", \"nationalism\", \"social exclusion\", \"status\", \"dogmatism\", \"mobilization\", \n",
    "        \"authoritarianism\", \"integration\", \"aggression\", \"morality\", \"competition\", \n",
    "        \"crisis\", \"sacred values\", \"discrimination\", \"group process\", \"rationality\", \n",
    "        \"prejudice\", \"uncertainty\", \"intolerance\", \"military\", \"fundamentalism\", \n",
    "        \"honor\", \"poverty\", \"significance quest\", \"social movements\", \"globalization\", \n",
    "        \"martyrdom\", \"political engagement\", \"resilience\", \"family\"\n",
    "    ],\n",
    "    'radicalism': [\"far left\", \"islamist\", \"far right\"]\n",
    "}\n",
    "\n",
    "# Create the graph\n",
    "G = nx.Graph()\n",
    "for index, row in cooc_df_left.iterrows():\n",
    "    if 'radicalism' not in (row['term1'], row['term2']):\n",
    "        G.add_edge(row['term1'], row['term2'], weight=row['cooc'])\n",
    "\n",
    "plt.figure(figsize=(14, 10))\n",
    "pos = nx.spring_layout(G, seed=43, k=0.3, iterations=300)  # positions for all nodes, more compact layout\n",
    "\n",
    "# Adjust positions to separate 'far left' and other nodes\n",
    "if 'far left' in pos:\n",
    "    pos['far left'][1] += 0.002  # Adjust y position slightly by 2 mm\n",
    "\n",
    "color_mapping = {\n",
    "    'micro': 'grey',\n",
    "    'meso': '#6c9808',\n",
    "    'macro': '#f0ad48',\n",
    "    'radicalism': '#b50012'\n",
    "}\n",
    "\n",
    "highlight_nodes = categories['radicalism']\n",
    "\n",
    "# Draw nodes\n",
    "for category, nodes in categories.items():\n",
    "    if category != 'theory':\n",
    "        node_shape = 'o' if category == 'micro' else ('s' if category == 'meso' else ('v' if category == 'macro' else 'D'))\n",
    "        color = color_mapping[category]\n",
    "        non_theory_nodes = [node for node in G.nodes() if node in nodes and node not in highlight_nodes and node not in categories['theory']]\n",
    "        theory_nodes = [node for node in G.nodes() if node in nodes and node in categories['theory']]\n",
    "        nx.draw_networkx_nodes(G, pos, nodelist=non_theory_nodes, node_size=200, node_color=color, node_shape=node_shape, alpha=0.7)\n",
    "        nx.draw_networkx_nodes(G, pos, nodelist=theory_nodes, node_size=200, node_color='white', edgecolors=color, node_shape=node_shape, linewidths=2.5, alpha=0.7)\n",
    "\n",
    "# Draw highlight nodes\n",
    "nx.draw_networkx_nodes(G, pos, nodelist=highlight_nodes, node_size=200, node_color=color_mapping['radicalism'], node_shape='D', alpha=0.7)\n",
    "\n",
    "# Draw edges\n",
    "weights = [G[u][v]['weight'] for u, v in G.edges]\n",
    "min_weight = min(weights)\n",
    "max_weight = max(weights)\n",
    "normalized_weights = [(weight - min_weight) / (max_weight - min_weight) for weight in weights]\n",
    "edge_widths = [1 + 15 * norm_weight for norm_weight in normalized_weights]\n",
    "edges = nx.draw_networkx_edges(G, pos, edge_color='grey', width=edge_widths, alpha=0.7)\n",
    "\n",
    "# Draw labels\n",
    "nx.draw_networkx_labels(G, pos, font_size=14, font_family=\"sans-serif\")\n",
    "\n",
    "# Add legend\n",
    "legend_elements = [\n",
    "    plt.Line2D([0], [0], marker='o', color='w', markerfacecolor=color_mapping['micro'], markersize=10, label='Micro Level'),\n",
    "    plt.Line2D([0], [0], marker='s', color='w', markerfacecolor=color_mapping['meso'], markersize=10, label='Meso Level'),\n",
    "    plt.Line2D([0], [0], marker='v', color='w', markerfacecolor=color_mapping['macro'], markersize=10, label='Macro Level'),\n",
    "    plt.Line2D([0], [0], marker='D', color='w', markerfacecolor=color_mapping['radicalism'], markersize=10, label='Radicalism')\n",
    "]\n",
    "\n",
    "plt.legend(handles=legend_elements, loc='upper right')\n",
    "\n",
    "# Remove frame\n",
    "ax = plt.gca()\n",
    "ax.spines['top'].set_visible(False)\n",
    "ax.spines['right'].set_visible(False)\n",
    "ax.spines['left'].set_visible(False)\n",
    "ax.spines['bottom'].set_visible(False)\n",
    "\n",
    "plt.savefig('RTMR_Output/Abstracts/abstracts_cooccurrence_farleft_excludingradicalism.png', bbox_inches='tight', dpi=600)\n",
    "plt.show()"
   ]
  },
  {
   "cell_type": "markdown",
   "id": "a593cebe-e487-4a63-a00c-53d7d0a7bf15",
   "metadata": {},
   "source": [
    "#### f) Centred on \"Lone Actor\""
   ]
  },
  {
   "cell_type": "code",
   "execution_count": null,
   "id": "81cec6c5-f653-438f-b06b-30f69afcc05e",
   "metadata": {},
   "outputs": [],
   "source": [
    "categories = {\n",
    "    'micro': [\n",
    "        \"ideology\", \"violence\", \"religiosity\", \"adolescence\", \"identity\", \"cognition\", \n",
    "        \"sex\", \"employment\", \"deprivation\", \"emotion\", \"activism\", \n",
    "        \"criminality\", \"education\", \"nationalism\", \"populism\", \"status\", \"dogmatism\", \n",
    "        \"authoritarianism\", \"aggression\", \"morality\", \"mental health\", \"conservatism\", \n",
    "        \"minority\", \"sacred values\", \"age\", \"hate\", \"rationality\", \"prejudice\", \n",
    "        \"uncertainty\", \"trust\", \"personality\", \"liberalism\", \"intolerance\", \n",
    "        \"fundamentalism\", \"fear\", \"honor\", \"poverty\", \"white race\", \"superiority\",\n",
    "        \"islamophobia\", \"significance quest\", \"social movements\", \"masculinity\", \n",
    "        \"conspiracy\", \"misogyny\", \"racism\", \"martyrdom\", \"political engagement\", \n",
    "        \"ptsd\", \"resilience\", \"voting behavior\", \"misogyny\"\n",
    "    ],\n",
    "    'meso': [\n",
    "        \"social network\", \"threat\", \"diversity\", \"social exclusion\", \"norms\", \"internet\",\n",
    "        \"mobilization\", \"discourse\", \"integration\", \"family\", \"competition\", \"language\",\n",
    "        \"polarization\", \"discrimination\", \"group process\", \"recruitment\", \n",
    "        \"elites\", \"social media\", \"social cohesion\", \"social change\"\n",
    "    ],\n",
    "    'macro': [\n",
    "        \"conflict\", \"state\", \"economy\", \"society\", \"politics\", \"justice\", \n",
    "        \"culture\", \"security\", \"region\", \"elections\", \"policy\", \"democracy\", \n",
    "        \"international\", \"crisis\", \"institutions\", \"peace\", \"propaganda\", \n",
    "        \"military\", \"globalization\", \"immigration\"\n",
    "    ],\n",
    "    'theory': [\n",
    "        \"ideology\", \"violence\", \"social network\", \"conflict\", \"religiosity\", \"state\", \n",
    "        \"society\", \"identity\", \"politics\", \"cognition\", \"justice\", \"norms\", \"culture\", \n",
    "        \"threat\", \"superiority\", \"employment\", \"deprivation\", \"emotion\", \"activism\", \n",
    "        \"policy\", \"nationalism\", \"social exclusion\", \"status\", \"dogmatism\", \"mobilization\", \n",
    "        \"authoritarianism\", \"integration\", \"aggression\", \"morality\", \"competition\", \n",
    "        \"crisis\", \"sacred values\", \"discrimination\", \"group process\", \"rationality\", \n",
    "        \"prejudice\", \"uncertainty\", \"intolerance\", \"military\", \"fundamentalism\", \n",
    "        \"honor\", \"poverty\", \"significance quest\", \"social movements\", \"globalization\", \n",
    "        \"martyrdom\", \"political engagement\", \"resilience\", \"family\"\n",
    "    ],\n",
    "    'radicalism': [\"lone actor\", \"radicalism\"]\n",
    "}\n",
    "\n",
    "# Create the graph\n",
    "G = nx.Graph()\n",
    "for index, row in cooc_df_lone.iterrows():\n",
    "    G.add_edge(row['term1'], row['term2'], weight=row['cooc'])\n",
    "\n",
    "plt.figure(figsize=(14, 10))\n",
    "pos = nx.spring_layout(G, seed=43, k=0.3, iterations=300)  # positions for all nodes\n",
    "\n",
    "# Adjust positions\n",
    "if 'lone actor' in pos:\n",
    "    pos['lone actor'][1] += 0.002  # Adjust y position slightly by 2 mm\n",
    "\n",
    "# Color mapping\n",
    "color_mapping = {\n",
    "    'micro': 'grey',\n",
    "    'meso': '#6c9808',\n",
    "    'macro': '#f0ad48',\n",
    "    'radicalism': '#b50012'\n",
    "}\n",
    "\n",
    "highlight_nodes = categories['radicalism']\n",
    "\n",
    "# Draw nodes\n",
    "for category, nodes in categories.items():\n",
    "    if category != 'theory':\n",
    "        node_shape = 'o' if category == 'micro' else ('s' if category == 'meso' else ('v' if category == 'macro' else 'D'))\n",
    "        color = color_mapping[category]\n",
    "        non_theory_nodes = [node for node in G.nodes() if node in nodes and node not in highlight_nodes and node not in categories['theory']]\n",
    "        theory_nodes = [node for node in G.nodes() if node in nodes and node in categories['theory']]\n",
    "        nx.draw_networkx_nodes(G, pos, nodelist=non_theory_nodes, node_size=200, node_color=color, node_shape=node_shape, alpha=0.7)\n",
    "        nx.draw_networkx_nodes(G, pos, nodelist=theory_nodes, node_size=200, node_color='white', edgecolors=color, node_shape=node_shape, linewidths=2.5, alpha=0.7)\n",
    "\n",
    "# Draw highlight nodes\n",
    "nx.draw_networkx_nodes(G, pos, nodelist=highlight_nodes, node_size=200, node_color=color_mapping['radicalism'], node_shape='D', alpha=0.7)\n",
    "\n",
    "# Draw edges\n",
    "weights = [G[u][v]['weight'] for u, v in G.edges]\n",
    "min_weight = min(weights)\n",
    "max_weight = max(weights)\n",
    "normalized_weights = [(weight - min_weight) / (max_weight - min_weight) for weight in weights]\n",
    "edge_widths = [1 + 15 * norm_weight for norm_weight in normalized_weights]\n",
    "edges = nx.draw_networkx_edges(G, pos, edge_color='grey', width=edge_widths, alpha=0.7)\n",
    "\n",
    "# Draw labels\n",
    "nx.draw_networkx_labels(G, pos, font_size=14, font_family=\"sans-serif\")\n",
    "\n",
    "# Add legend\n",
    "legend_elements = [\n",
    "    plt.Line2D([0], [0], marker='o', color='w', markerfacecolor=color_mapping['micro'], markersize=10, label='Micro Level'),\n",
    "    plt.Line2D([0], [0], marker='s', color='w', markerfacecolor=color_mapping['meso'], markersize=10, label='Meso Level'),\n",
    "    plt.Line2D([0], [0], marker='D', color='w', markerfacecolor=color_mapping['radicalism'], markersize=10, label='Radicalism')\n",
    "]\n",
    "\n",
    "plt.legend(handles=legend_elements, loc='upper right')\n",
    "\n",
    "# Remove frame\n",
    "ax = plt.gca()\n",
    "ax.spines['top'].set_visible(False)\n",
    "ax.spines['right'].set_visible(False)\n",
    "ax.spines['left'].set_visible(False)\n",
    "ax.spines['bottom'].set_visible(False)\n",
    "\n",
    "plt.savefig('RTMR_Output/Abstracts/abstracts_cooccurrence_loneactor.png', bbox_inches='tight', dpi=600)\n",
    "plt.show()"
   ]
  },
  {
   "cell_type": "markdown",
   "id": "49cee575-54ec-490b-92b4-af54d313aa29",
   "metadata": {},
   "source": [
    "#### Without Radicalism"
   ]
  },
  {
   "cell_type": "code",
   "execution_count": null,
   "id": "f8d0ac4f-b517-48b1-a08c-ded18f2d9a78",
   "metadata": {},
   "outputs": [],
   "source": [
    "categories = {\n",
    "    'micro': [\n",
    "        \"ideology\", \"violence\", \"religiosity\", \"adolescence\", \"identity\", \"cognition\", \n",
    "        \"sex\", \"employment\", \"deprivation\", \"emotion\", \"activism\", \n",
    "        \"criminality\", \"education\", \"nationalism\", \"populism\", \"status\", \"dogmatism\", \n",
    "        \"authoritarianism\", \"aggression\", \"morality\", \"mental health\", \"conservatism\", \n",
    "        \"minority\", \"sacred values\", \"age\", \"hate\", \"rationality\", \"prejudice\", \n",
    "        \"uncertainty\", \"trust\", \"personality\", \"liberalism\", \"intolerance\", \n",
    "        \"fundamentalism\", \"fear\", \"honor\", \"poverty\", \"white race\", \"superiority\",\n",
    "        \"islamophobia\", \"significance quest\", \"social movements\", \"masculinity\", \n",
    "        \"conspiracy\", \"misogyny\", \"racism\", \"martyrdom\", \"political engagement\", \n",
    "        \"ptsd\", \"resilience\", \"voting behavior\", \"misogyny\"\n",
    "    ],\n",
    "    'meso': [\n",
    "        \"social network\", \"threat\", \"diversity\", \"social exclusion\", \"norms\", \"internet\",\n",
    "        \"mobilization\", \"discourse\", \"integration\", \"family\", \"competition\", \"language\",\n",
    "        \"polarization\", \"discrimination\", \"group process\", \"recruitment\", \n",
    "        \"elites\", \"social media\", \"social cohesion\", \"social change\"\n",
    "    ],\n",
    "    'macro': [\n",
    "        \"conflict\", \"state\", \"economy\", \"society\", \"politics\", \"justice\", \n",
    "        \"culture\", \"security\", \"region\", \"elections\", \"policy\", \"democracy\", \n",
    "        \"international\", \"crisis\", \"institutions\", \"peace\", \"propaganda\", \n",
    "        \"military\", \"globalization\", \"immigration\"\n",
    "    ],\n",
    "    'theory': [\n",
    "        \"ideology\", \"violence\", \"social network\", \"conflict\", \"religiosity\", \"state\", \n",
    "        \"society\", \"identity\", \"politics\", \"cognition\", \"justice\", \"norms\", \"culture\", \n",
    "        \"threat\", \"superiority\", \"employment\", \"deprivation\", \"emotion\", \"activism\", \n",
    "        \"policy\", \"nationalism\", \"social exclusion\", \"status\", \"dogmatism\", \"mobilization\", \n",
    "        \"authoritarianism\", \"integration\", \"aggression\", \"morality\", \"competition\", \n",
    "        \"crisis\", \"sacred values\", \"discrimination\", \"group process\", \"rationality\", \n",
    "        \"prejudice\", \"uncertainty\", \"intolerance\", \"military\", \"fundamentalism\", \n",
    "        \"honor\", \"poverty\", \"significance quest\", \"social movements\", \"globalization\", \n",
    "        \"martyrdom\", \"political engagement\", \"resilience\", \"family\"\n",
    "    ],\n",
    "    'radicalism': [\"lone actor\"]\n",
    "}\n",
    "\n",
    "# Create the graph\n",
    "G = nx.Graph()\n",
    "for index, row in cooc_df_lone.iterrows():\n",
    "    if row['term1'] != \"radicalism\" and row['term2'] != \"radicalism\":\n",
    "        G.add_edge(row['term1'], row['term2'], weight=row['cooc'])\n",
    "\n",
    "plt.figure(figsize=(14, 10))\n",
    "pos = nx.spring_layout(G, seed=43, k=0.3, iterations=300)  # positions for all nodes\n",
    "\n",
    "# Adjust positions\n",
    "if 'lone actor' in pos:\n",
    "    pos['lone actor'][1] += 0.002  # Adjust y position slightly by 2 mm\n",
    "\n",
    "# Color mapping\n",
    "color_mapping = {\n",
    "    'micro': 'grey',\n",
    "    'meso': '#6c9808',\n",
    "    'macro': '#f0ad48',\n",
    "    'radicalism': '#b50012'\n",
    "}\n",
    "\n",
    "highlight_nodes = [node for node in categories['radicalism'] if node != \"radicalism\"]\n",
    "\n",
    "# Draw nodes\n",
    "for category, nodes in categories.items():\n",
    "    if category != 'theory':\n",
    "        node_shape = 'o' if category == 'micro' else ('s' if category == 'meso' else ('v' if category == 'macro' else 'D'))\n",
    "        color = color_mapping[category]\n",
    "        non_theory_nodes = [node for node in G.nodes() if node in nodes and node not in highlight_nodes and node not in categories['theory']]\n",
    "        theory_nodes = [node for node in G.nodes() if node in nodes and node in categories['theory']]\n",
    "        nx.draw_networkx_nodes(G, pos, nodelist=non_theory_nodes, node_size=200, node_color=color, node_shape=node_shape, alpha=0.7)\n",
    "        nx.draw_networkx_nodes(G, pos, nodelist=theory_nodes, node_size=200, node_color='white', edgecolors=color, node_shape=node_shape, linewidths=2.5, alpha=0.7)\n",
    "\n",
    "# Draw highlight nodes\n",
    "nx.draw_networkx_nodes(G, pos, nodelist=highlight_nodes, node_size=200, node_color=color_mapping['radicalism'], node_shape='D', alpha=0.7)\n",
    "\n",
    "# Draw edges\n",
    "weights = [G[u][v]['weight'] for u, v in G.edges]\n",
    "min_weight = min(weights)\n",
    "max_weight = max(weights)\n",
    "normalized_weights = [(weight - min_weight) / (max_weight - min_weight) for weight in weights]\n",
    "edge_widths = [1 + 15 * norm_weight for norm_weight in normalized_weights]\n",
    "edges = nx.draw_networkx_edges(G, pos, edge_color='grey', width=edge_widths, alpha=0.7)\n",
    "\n",
    "# Draw labels\n",
    "nx.draw_networkx_labels(G, pos, font_size=14, font_family=\"sans-serif\")\n",
    "\n",
    "# Add legend\n",
    "legend_elements = [\n",
    "    plt.Line2D([0], [0], marker='o', color='w', markerfacecolor=color_mapping['micro'], markersize=10, label='Micro Level'),\n",
    "    plt.Line2D([0], [0], marker='s', color='w', markerfacecolor=color_mapping['meso'], markersize=10, label='Meso Level'),\n",
    "    plt.Line2D([0], [0], marker='v', color='w', markerfacecolor=color_mapping['macro'], markersize=10, label='Macro Level'),\n",
    "    plt.Line2D([0], [0], marker='D', color='w', markerfacecolor=color_mapping['radicalism'], markersize=10, label='Radicalism')\n",
    "]\n",
    "\n",
    "plt.legend(handles=legend_elements, loc='upper right')\n",
    "\n",
    "# Remove frame\n",
    "ax = plt.gca()\n",
    "ax.spines['top'].set_visible(False)\n",
    "ax.spines['right'].set_visible(False)\n",
    "ax.spines['left'].set_visible(False)\n",
    "ax.spines['bottom'].set_visible(False)\n",
    "\n",
    "plt.savefig('RTMR_Output/Abstracts/abstracts_cooccurrence_loneactor_excludingradicalism.png', bbox_inches='tight', dpi=600)\n",
    "plt.show()"
   ]
  },
  {
   "cell_type": "markdown",
   "id": "b55b1d02-0384-4bf7-afeb-c366a6fc8aab",
   "metadata": {},
   "source": [
    "#### g) Centred on \"Foreign Fighter\""
   ]
  },
  {
   "cell_type": "code",
   "execution_count": null,
   "id": "0a8c4998-6f73-43e8-82dc-2cab0f1420a5",
   "metadata": {},
   "outputs": [],
   "source": [
    "categories = {\n",
    "    'micro': [\n",
    "        \"ideology\", \"violence\", \"religiosity\", \"adolescence\", \"identity\", \"cognition\", \n",
    "        \"sex\", \"employment\", \"deprivation\", \"emotion\", \"activism\", \n",
    "        \"criminality\", \"education\", \"nationalism\", \"populism\", \"status\", \"dogmatism\", \n",
    "        \"authoritarianism\", \"aggression\", \"morality\", \"mental health\", \"conservatism\", \n",
    "        \"minority\", \"sacred values\", \"age\", \"hate\", \"rationality\", \"prejudice\", \n",
    "        \"uncertainty\", \"trust\", \"personality\", \"liberalism\", \"intolerance\", \n",
    "        \"fundamentalism\", \"fear\", \"honor\", \"poverty\", \"white race\", \"superiority\",\n",
    "        \"islamophobia\", \"significance quest\", \"social movements\", \"masculinity\", \n",
    "        \"conspiracy\", \"misogyny\", \"racism\", \"martyrdom\", \"political engagement\", \n",
    "        \"ptsd\", \"resilience\", \"voting behavior\", \"misogyny\"\n",
    "    ],\n",
    "    'meso': [\n",
    "        \"social network\", \"threat\", \"diversity\", \"social exclusion\", \"norms\", \"internet\",\n",
    "        \"mobilization\", \"discourse\", \"integration\", \"family\", \"competition\", \"language\",\n",
    "        \"polarization\", \"discrimination\", \"group process\", \"recruitment\", \n",
    "        \"elites\", \"social media\", \"social cohesion\", \"social change\"\n",
    "    ],\n",
    "    'macro': [\n",
    "        \"conflict\", \"state\", \"economy\", \"society\", \"politics\", \"justice\", \n",
    "        \"culture\", \"security\", \"region\", \"elections\", \"policy\", \"democracy\", \n",
    "        \"international\", \"crisis\", \"institutions\", \"peace\", \"propaganda\", \n",
    "        \"military\", \"globalization\", \"immigration\", \"country muslim\"\n",
    "    ],\n",
    "    'theory': [\n",
    "        \"ideology\", \"violence\", \"social network\", \"conflict\", \"religiosity\", \"state\", \n",
    "        \"society\", \"identity\", \"politics\", \"cognition\", \"justice\", \"norms\", \"culture\", \n",
    "        \"threat\", \"superiority\", \"employment\", \"deprivation\", \"emotion\", \"activism\", \n",
    "        \"policy\", \"nationalism\", \"social exclusion\", \"status\", \"dogmatism\", \"mobilization\", \n",
    "        \"authoritarianism\", \"integration\", \"aggression\", \"morality\", \"competition\", \n",
    "        \"crisis\", \"sacred values\", \"discrimination\", \"group process\", \"rationality\", \n",
    "        \"prejudice\", \"uncertainty\", \"intolerance\", \"military\", \"fundamentalism\", \n",
    "        \"honor\", \"poverty\", \"significance quest\", \"social movements\", \"globalization\", \n",
    "        \"martyrdom\", \"political engagement\", \"resilience\", \"family\"\n",
    "    ],\n",
    "    'radicalism': [\"radicalism\", \"foreign fighter\", \"islamist\"]\n",
    "}\n",
    "\n",
    "# Create the graph\n",
    "G = nx.Graph()\n",
    "\n",
    "# Add edges with corresponding frequency as weight\n",
    "for index, row in cooc_df_foreignf.iterrows():\n",
    "    G.add_edge(row['term1'], row['term2'], weight=row['cooc'])\n",
    "\n",
    "# Draw the graph\n",
    "plt.figure(figsize=(16, 12))\n",
    "\n",
    "# Spring layout\n",
    "pos = nx.spring_layout(G, seed=43, k=8, iterations=200)\n",
    "\n",
    "# Function to adjust overlapping nodes\n",
    "def adjust_node_positions(pos, min_distance=0.1):\n",
    "    adjusted_pos = pos.copy()\n",
    "    for i, (node1, (x1, y1)) in enumerate(pos.items()):\n",
    "        for j, (node2, (x2, y2)) in enumerate(pos.items()):\n",
    "            if i >= j:\n",
    "                continue\n",
    "            distance = ((x2 - x1)**2 + (y2 - y1)**2)**0.5\n",
    "            if distance < min_distance:\n",
    "                angle = np.arctan2(y2 - y1, x2 - x1)\n",
    "                shift_x = min_distance * np.cos(angle)\n",
    "                shift_y = min_distance * np.sin(angle)\n",
    "                adjusted_pos[node2] = (x2 + shift_x, y2 + shift_y)\n",
    "    return adjusted_pos\n",
    "\n",
    "# Adjust positions to separate nodes\n",
    "pos = adjust_node_positions(pos)\n",
    "\n",
    "# Color mapping\n",
    "color_mapping = {\n",
    "    'micro': 'grey',\n",
    "    'meso': '#6c9808',\n",
    "    'macro': '#f0ad48',\n",
    "    'radicalism': '#b50012'\n",
    "}\n",
    "\n",
    "highlight_nodes = categories['radicalism']\n",
    "\n",
    "# Draw nodes\n",
    "for category, nodes in categories.items():\n",
    "    if category != 'theory':\n",
    "        node_shape = 'o' if category == 'micro' else ('s' if category == 'meso' else ('v' if category == 'macro' else 'D'))\n",
    "        color = color_mapping[category]\n",
    "        non_theory_nodes = [node for node in G.nodes() if node in nodes and node not in highlight_nodes and node not in categories['theory']]\n",
    "        theory_nodes = [node for node in G.nodes() if node in nodes and node in categories['theory']]\n",
    "        nx.draw_networkx_nodes(G, pos, nodelist=non_theory_nodes, node_size=200, node_color=color, node_shape=node_shape, alpha=0.7)\n",
    "        nx.draw_networkx_nodes(G, pos, nodelist=theory_nodes, node_size=200, node_color='white', edgecolors=color, node_shape=node_shape, linewidths=2.5, alpha=0.7)\n",
    "\n",
    "# Draw highlight nodes\n",
    "nx.draw_networkx_nodes(G, pos, nodelist=highlight_nodes, node_size=200, node_color=color_mapping['radicalism'], node_shape='D', alpha=0.7)\n",
    "\n",
    "# Draw edges with width and color proportional to frequency\n",
    "weights = [G[u][v]['weight'] for u, v in G.edges]\n",
    "min_weight = min(weights)\n",
    "max_weight = max(weights)\n",
    "normalized_weights = [(weight - min_weight) / (max_weight - min_weight) for weight in weights]\n",
    "edge_widths = [1 + 15 * norm_weight for norm_weight in normalized_weights]\n",
    "edges = nx.draw_networkx_edges(G, pos, edge_color='grey', width=edge_widths, alpha=0.7)\n",
    "\n",
    "# Draw labels\n",
    "nx.draw_networkx_labels(G, pos, font_size=14, font_family=\"sans-serif\")\n",
    "\n",
    "# Add legend\n",
    "legend_elements = [\n",
    "    plt.Line2D([0], [0], marker='o', color='w', markerfacecolor=color_mapping['micro'], markersize=10, label='Micro Level'),\n",
    "    plt.Line2D([0], [0], marker='s', color='w', markerfacecolor=color_mapping['meso'], markersize=10, label='Meso Level'),\n",
    "    plt.Line2D([0], [0], marker='v', color='w', markerfacecolor=color_mapping['macro'], markersize=10, label='Macro Level'),\n",
    "    plt.Line2D([0], [0], marker='D', color='w', markerfacecolor=color_mapping['radicalism'], markersize=10, label='Radicalism')\n",
    "]\n",
    "\n",
    "plt.legend(handles=legend_elements, loc='upper right', fontsize=10,)\n",
    "\n",
    "# Remove frame\n",
    "ax = plt.gca()\n",
    "ax.spines['top'].set_visible(False)\n",
    "ax.spines['right'].set_visible(False)\n",
    "ax.spines['left'].set_visible(False)\n",
    "ax.spines['bottom'].set_visible(False)\n",
    "\n",
    "plt.savefig('RTMR_Output/Abstracts/abstracts_cooccurrence_foreignfighter.png', bbox_inches='tight', dpi=600)"
   ]
  },
  {
   "cell_type": "markdown",
   "id": "aa6a5af6-3d59-4b2c-9e74-c693f1c09a16",
   "metadata": {},
   "source": [
    "#### h) Centred on \"Male Supremacist\""
   ]
  },
  {
   "cell_type": "code",
   "execution_count": null,
   "id": "d76b29bf-abaf-44c7-a073-a5b91371c6b9",
   "metadata": {},
   "outputs": [],
   "source": [
    "categories = {\n",
    "    'micro': [\"ideology\", \"violence\", \"religiosity\", \"adolescence\", \"identity\", \"cognition\", \n",
    "              \"sex\", \"employment\", \"deprivation\", \"emotion\", \"activism\", \"criminality\", \n",
    "              \"education\", \"nationalism\", \"populism\", \"status\", \"dogmatism\", \"authoritarianism\", \n",
    "              \"aggression\", \"morality\", \"mental health\", \"conservatism\", \"minority\", \"sacred values\", \n",
    "              \"age\", \"hate\", \"rationality\", \"prejudice\", \"uncertainty\", \"trust\", \"personality\", \n",
    "              \"liberalism\", \"intolerance\", \"fundamentalism\", \"fear\", \"honor\", \"poverty\", \n",
    "              \"white race\", \"superiority\", \"islamophobia\", \"significance quest\", \"social movements\", \n",
    "              \"masculinity\", \"conspiracy\", \"misogyny\", \"racism\", \"martyrdom\", \"political engagement\", \n",
    "              \"ptsd\", \"resilience\", \"voting behavior\", \"misogyny\"],\n",
    "    'meso': [\"social network\", \"threat\", \"diversity\", \"social exclusion\", \"norms\", \"internet\", \n",
    "             \"mobilization\", \"discourse\", \"integration\", \"family\", \"competition\", \"language\", \n",
    "             \"polarization\", \"discrimination\", \"group process\", \"recruitment\", \"elites\", \n",
    "             \"social media\", \"social cohesion\", \"social change\", \"sexual relationship\"],\n",
    "    'macro': [\"conflict\", \"state\", \"economy\", \"society\", \"politics\", \"justice\", \"culture\", \n",
    "              \"security\", \"region\", \"elections\", \"policy\", \"democracy\", \"international\", \n",
    "              \"crisis\", \"institutions\", \"peace\", \"propaganda\", \"military\", \"globalization\", \n",
    "              \"immigration\"],\n",
    "    'theory': [\"ideology\", \"violence\", \"social network\", \"conflict\", \"religiosity\", \"state\", \n",
    "               \"society\", \"identity\", \"politics\", \"cognition\", \"justice\", \"norms\", \"culture\", \n",
    "               \"threat\", \"superiority\", \"employment\", \"deprivation\", \"emotion\", \"activism\", \n",
    "               \"policy\", \"nationalism\", \"social exclusion\", \"status\", \"dogmatism\", \n",
    "               \"mobilization\", \"authoritarianism\", \"integration\", \"aggression\", \"morality\", \n",
    "               \"competition\", \"crisis\", \"sacred values\", \"discrimination\", \"group process\", \n",
    "               \"rationality\", \"prejudice\", \"uncertainty\", \"intolerance\", \"military\", \n",
    "               \"fundamentalism\", \"honor\", \"poverty\", \"significance quest\", \"social movements\", \n",
    "               \"globalization\", \"martyrdom\", \"political engagement\", \"resilience\", \"family\"],\n",
    "    'radicalism': [\"radicalism\", \"male supremacist\"]\n",
    "}\n",
    "\n",
    "# Create the graph\n",
    "G = nx.Graph()\n",
    "\n",
    "# Add edges with corresponding frequency as weight\n",
    "for index, row in cooc_df_malesup.iterrows():\n",
    "    G.add_edge(row['term1'], row['term2'], weight=row['cooc'])\n",
    "\n",
    "# Draw the graph\n",
    "plt.figure(figsize=(14, 10))\n",
    "\n",
    "# Spring layout\n",
    "pos = nx.spring_layout(G, seed=43, k=10, iterations=200)\n",
    "\n",
    "# Adjust positions to separate 'radicalism' and 'lone actor'\n",
    "if 'lone actor' in pos and 'radicalism' in pos:\n",
    "    pos['lone actor'][0] += 0.1  # Adjust x position\n",
    "    pos['lone actor'][1] += 0.1  # Adjust y position\n",
    "\n",
    "# Color mapping\n",
    "color_mapping = {\n",
    "    'micro': 'grey',\n",
    "    'meso': '#6c9808',\n",
    "    'macro': '#f0ad48',\n",
    "    'radicalism': '#b50012'\n",
    "}\n",
    "\n",
    "highlight_nodes = categories['radicalism']\n",
    "\n",
    "# Draw nodes\n",
    "for category, nodes in categories.items():\n",
    "    if category != 'theory':\n",
    "        node_shape = 'o' if category == 'micro' else ('s' if category == 'meso' else ('v' if category == 'macro' else 'D'))\n",
    "        color = color_mapping[category]\n",
    "        non_theory_nodes = [node for node in G.nodes() if node in nodes and node not in highlight_nodes and node not in categories['theory']]\n",
    "        theory_nodes = [node for node in G.nodes() if node in nodes and node in categories['theory']]\n",
    "        nx.draw_networkx_nodes(G, pos, nodelist=non_theory_nodes, node_size=200, node_color=color, node_shape=node_shape, alpha=0.7)\n",
    "        nx.draw_networkx_nodes(G, pos, nodelist=theory_nodes, node_size=200, node_color='white', edgecolors=color, node_shape=node_shape, linewidths=2.5, alpha=0.7)\n",
    "\n",
    "# Draw highlight nodes\n",
    "nx.draw_networkx_nodes(G, pos, nodelist=highlight_nodes, node_size=200, node_color=color_mapping['radicalism'], node_shape='D', alpha=0.7)\n",
    "\n",
    "# Draw edges with width and color proportional to frequency\n",
    "weights = [G[u][v]['weight'] for u, v in G.edges]\n",
    "min_weight = min(weights)\n",
    "max_weight = max(weights)\n",
    "normalized_weights = [(weight - min_weight) / (max_weight - min_weight) for weight in weights]\n",
    "edge_widths = [1 + 15 * norm_weight for norm_weight in normalized_weights]\n",
    "edges = nx.draw_networkx_edges(G, pos, edge_color='grey', width=edge_widths, alpha=0.7)\n",
    "\n",
    "# Draw labels with increased font size\n",
    "nx.draw_networkx_labels(G, pos, font_size=14, font_family=\"sans-serif\")\n",
    "\n",
    "# Add legend for node shapes\n",
    "legend_elements = [\n",
    "    plt.Line2D([0], [0], marker='o', color='w', markerfacecolor=color_mapping['micro'], markersize=10, label='Micro Level'),\n",
    "    plt.Line2D([0], [0], marker='s', color='w', markerfacecolor=color_mapping['meso'], markersize=10, label='Meso Level'),\n",
    "    plt.Line2D([0], [0], marker='v', color='w', markerfacecolor=color_mapping['macro'], markersize=10, label='Macro Level'),\n",
    "    plt.Line2D([0], [0], marker='D', color='w', markerfacecolor=color_mapping['radicalism'], markersize=10, label='Radicalism')\n",
    "]\n",
    "\n",
    "plt.legend(handles=legend_elements, loc='upper right', fontsize=10)\n",
    "\n",
    "# Remove the frame\n",
    "ax = plt.gca()\n",
    "ax.spines['top'].set_visible(False)\n",
    "ax.spines['right'].set_visible(False)\n",
    "ax.spines['left'].set_visible(False)\n",
    "ax.spines['bottom'].set_visible(False)\n",
    "\n",
    "plt.savefig('RTMR_Output/Abstracts/abstracts_cooccurrence_malesupremacist.png', bbox_inches='tight', dpi=600)"
   ]
  },
  {
   "cell_type": "markdown",
   "id": "5fd703c0-8382-440f-9107-66b3d45bda0d",
   "metadata": {},
   "source": [
    "#### Fuse Islamist, Far Right, Far Left Cooc Maps"
   ]
  },
  {
   "cell_type": "code",
   "execution_count": null,
   "id": "0b0c4aab-0a91-4376-9a01-5e82e6c4354d",
   "metadata": {},
   "outputs": [],
   "source": [
    "# Load images\n",
    "#image1 = Image.open('RTMR_Output/Abstracts/abstracts_cooccurrence_islamist.png')\n",
    "#image2 = Image.open('RTMR_Output/Abstracts/abstracts_cooccurrence_farright.png')\n",
    "#image3 = Image.open('RTMR_Output/Abstracts/abstracts_cooccurrence_farleft.png')\n",
    "\n",
    "# Get width and height of each image\n",
    "#width1, height1 = image1.size\n",
    "#width2, height2 = image2.size\n",
    "#width3, height3 = image3.size\n",
    "\n",
    "# Calculate total height and maximum width\n",
    "#total_height = height1 + height2 + height3\n",
    "#total_width = max(width1, width2, width3)\n",
    "\n",
    "# Create new image with the same width and the combined height of the three images\n",
    "#new_image = Image.new('RGB', (total_width, total_height), (255, 255, 255))\n",
    "\n",
    "# Calculate the x positions to center the images\n",
    "#x_offset1 = (total_width - width1) // 2\n",
    "#x_offset2 = (total_width - width2) // 2\n",
    "#x_offset3 = (total_width - width3) // 2\n",
    "\n",
    "# Paste the three images into the new image at the calculated x positions\n",
    "#new_image.paste(image1, (x_offset1, 0))\n",
    "#new_image.paste(image2, (x_offset2, height1))\n",
    "#new_image.paste(image3, (x_offset3, height1 + height2))\n",
    "\n",
    "# Add labels (a), (b), and (c)\n",
    "#draw = ImageDraw.Draw(new_image)\n",
    "#font_size = 200  # Adjust font size as needed\n",
    "\n",
    "#try:\n",
    "#    # Load a font\n",
    "#    font = ImageFont.truetype(\"arial.ttf\", font_size)\n",
    "#except IOError:\n",
    "#    # Fallback to a more common font if the specific font is not available\n",
    "#    font = ImageFont.load_default()\n",
    "\n",
    "# Set a fixed x position for the labels near the left edge\n",
    "#label_x_position = 50\n",
    "\n",
    "# Add the labels to the images at a visible position\n",
    "#draw.text((label_x_position, 50), \"(a)\", fill=\"black\", font=font)\n",
    "#draw.text((label_x_position, height1 + 50), \"(b)\", fill=\"black\", font=font)\n",
    "#draw.text((label_x_position, height1 + height2 + 50), \"(c)\", fill=\"black\", font=font)\n",
    "\n",
    "#new_image.save('RTMR_Output/combined_cooccurrence_islamist_farright_farleft.png', dpi=(600, 600))\n",
    "#new_image.show()\n"
   ]
  },
  {
   "cell_type": "markdown",
   "id": "18e84492-42f1-4fd9-8f4c-b046a5b2069a",
   "metadata": {},
   "source": [
    "### III. Comparison of Study 1 (Keywords) and Study 2 (Abstract)\n",
    "\n",
    "**Overlapping terms for frequencies**"
   ]
  },
  {
   "cell_type": "code",
   "execution_count": null,
   "id": "f665cf60-8123-46e9-89d7-c5c95642049a",
   "metadata": {},
   "outputs": [],
   "source": [
    "freq_df_st1 = pd.read_csv(r\"RTMR_Output/Keywords/Keywords_freq.csv\").sort_values(by= \"Frequency\", ascending=False).reset_index()\n",
    "freq_df_st2 = pd.read_csv(r\"RTMR_Output/Abstracts/Abstracts_freq.csv\").sort_values(by= \"Frequency\", ascending=False).reset_index()"
   ]
  },
  {
   "cell_type": "code",
   "execution_count": null,
   "id": "5b8dfb29-7273-48cb-a0b6-68e599e66a80",
   "metadata": {},
   "outputs": [],
   "source": [
    "print(\"Percentage of overlapping terms, based on study 1 (Keywords): \", len( set(freq_df_st1.Word).intersection(set(freq_df_st2.Word)) ) / len(freq_df_st1.Word) )\n",
    "print(\"Percentage of overlapping terms, based on study 2 (Abstracts): \", len( set(freq_df_st1.Word).intersection(set(freq_df_st2.Word)) ) / len(freq_df_st2.Word) )\n",
    "print(\"Absolute number of overlapping terms: \", len( set(freq_df_st1.Word).intersection(set(freq_df_st2.Word)) ))"
   ]
  },
  {
   "cell_type": "code",
   "execution_count": null,
   "id": "168c62d5-2b62-49a4-9205-538eb8c42211",
   "metadata": {},
   "outputs": [],
   "source": [
    "## Unique terms per analysis\n",
    "\n",
    "print(\"Unique terms in KW analysis: \\n\", set(freq_df_st1.Word).difference(set(freq_df_st2.Word)))\n",
    "print(\"\\nUnique terms in Abstract analysis: \\n\", set(freq_df_st2.Word).difference(set(freq_df_st1.Word)))"
   ]
  },
  {
   "cell_type": "markdown",
   "id": "eff495c3-4825-48ee-ba4e-dc1c8be3f6c9",
   "metadata": {},
   "source": [
    "## Mental Health"
   ]
  },
  {
   "cell_type": "markdown",
   "id": "043c236b-0927-4ed3-9330-ed3067bab03b",
   "metadata": {},
   "source": [
    "### Mental Health Occurrence Across Time for Abstracts"
   ]
  },
  {
   "cell_type": "code",
   "execution_count": null,
   "id": "45401a72-c140-4ecb-9d87-99666532da26",
   "metadata": {},
   "outputs": [],
   "source": [
    "year_df = dfTot[[\"record_id\",\"Publication Year\"]]"
   ]
  },
  {
   "cell_type": "code",
   "execution_count": null,
   "id": "9568c250-3e28-4494-95ae-cbc187fbcc24",
   "metadata": {},
   "outputs": [],
   "source": [
    "study2 = clean_data.drop(columns = [\"cat_keywords\"])"
   ]
  },
  {
   "cell_type": "code",
   "execution_count": null,
   "id": "c4d18b1c-0482-4639-a7fb-4a815a0265c3",
   "metadata": {},
   "outputs": [],
   "source": [
    "merged_df = pd.merge(year_df, study2, on='record_id', how='outer')\n",
    "merged_df"
   ]
  },
  {
   "cell_type": "code",
   "execution_count": null,
   "id": "825aa808-1844-49ea-beca-29708c803ab5",
   "metadata": {},
   "outputs": [],
   "source": [
    "# Replace NaN values with empty lists\n",
    "merged_df['cat_keywords2'] = merged_df['cat_keywords2'].apply(lambda x: x if isinstance(x, list) else [])\n"
   ]
  },
  {
   "cell_type": "code",
   "execution_count": null,
   "id": "4a1c0384-88c8-4ae6-8d12-ab339a13de5b",
   "metadata": {},
   "outputs": [],
   "source": [
    "articles_per_year = Counter(merged_df[\"Publication Year\"])"
   ]
  },
  {
   "cell_type": "code",
   "execution_count": null,
   "id": "ec222e09-a824-4a7e-9921-b745d54bb03d",
   "metadata": {},
   "outputs": [],
   "source": [
    "check_term = \"mental health\""
   ]
  },
  {
   "cell_type": "code",
   "execution_count": null,
   "id": "c5bd030d-0d39-4d0b-8e83-b2884a7094a2",
   "metadata": {},
   "outputs": [],
   "source": [
    "rels = merged_df[merged_df['cat_keywords2'].apply(lambda x: check_term in x)]\n",
    "mental_health_per_year = Counter(rels[\"Publication Year\"])"
   ]
  },
  {
   "cell_type": "code",
   "execution_count": null,
   "id": "38117441-8e19-45d5-8100-15bc056f052b",
   "metadata": {},
   "outputs": [],
   "source": [
    "corrected_years = dict()\n",
    "for key, value in mental_health_per_year.items():\n",
    "    corrected_years[key] = value / articles_per_year[key]\n",
    "\n",
    "corrected_years = dict(sorted(corrected_years.items()))"
   ]
  },
  {
   "cell_type": "code",
   "execution_count": null,
   "id": "3a71d682-eff2-4446-a07f-c79cc1892841",
   "metadata": {},
   "outputs": [],
   "source": [
    "# Determine range of years\n",
    "min_year = min(corrected_years.keys())\n",
    "max_year = max(corrected_years.keys())\n",
    "\n",
    "# Create list of all years in the range\n",
    "all_years = list(range(min_year, max_year + 1))\n",
    "\n",
    "# Get frequencies for all years, using 0 for years with no data\n",
    "frequencies = [corrected_years.get(year, 0) for year in all_years]\n",
    "\n",
    "# Plot histogram\n",
    "plt.figure(figsize=(10, 6))\n",
    "\n",
    "plt.bar(all_years, frequencies, edgecolor='black', color='gray')\n",
    "\n",
    "# Customize x-axis\n",
    "plt.xticks(all_years, rotation=45)  # Rotate labels to 45 degrees\n",
    "plt.xlabel('Publication Year', fontsize=12, labelpad=15)  # Add padding\n",
    "plt.ylabel(f'Frequency of {check_term}', fontsize=12, labelpad=15)  # Add padding\n",
    "\n",
    "\n",
    "plt.grid(False)\n",
    "\n",
    "plt.savefig('RTMR_Output/Abstracts/Abstracts_mental-health_hist.png', bbox_inches='tight', dpi=600)\n",
    "plt.tight_layout()\n",
    "plt.show()"
   ]
  },
  {
   "cell_type": "markdown",
   "id": "6400853c-542d-4e6f-93b8-db341ed81f25",
   "metadata": {},
   "source": [
    "### Mental Health occurrence across time for Keywords & Abstracts"
   ]
  },
  {
   "cell_type": "code",
   "execution_count": null,
   "id": "8cf555fa-6ea5-4d5f-b3f7-72beed95d744",
   "metadata": {},
   "outputs": [],
   "source": [
    "year_df = dfTot[[\"record_id\",\"Publication Year\"]]"
   ]
  },
  {
   "cell_type": "code",
   "execution_count": null,
   "id": "6947057c-5495-4094-bb4a-5b4a84bc8743",
   "metadata": {},
   "outputs": [],
   "source": [
    "study1 = pd.read_json(\"RTMR_Output/Keywords/Keywords_clean_data.json\")\n",
    "study2 = clean_data.drop(columns = [\"cat_keywords\"])"
   ]
  },
  {
   "cell_type": "code",
   "execution_count": null,
   "id": "f364921c-f651-4d33-87c0-7ec932acf2ce",
   "metadata": {},
   "outputs": [],
   "source": [
    "merged_df = pd.merge(study1, study2, on='record_id', how='outer')\n",
    "merged_df = pd.merge(year_df, merged_df, on='record_id', how='outer')\n",
    "merged_df"
   ]
  },
  {
   "cell_type": "code",
   "execution_count": null,
   "id": "ad9daac3-5296-4f34-b9e3-12b7fc16d819",
   "metadata": {},
   "outputs": [],
   "source": [
    "# Replace NaN values with empty lists\n",
    "merged_df['cat_keywords'] = merged_df['cat_keywords'].apply(lambda x: x if isinstance(x, list) else [])\n",
    "merged_df['cat_keywords2'] = merged_df['cat_keywords2'].apply(lambda x: x if isinstance(x, list) else [])"
   ]
  },
  {
   "cell_type": "code",
   "execution_count": null,
   "id": "6905795f-9ff8-4119-9731-0534d96bd14b",
   "metadata": {},
   "outputs": [],
   "source": [
    "articles_per_year = Counter(merged_df[\"Publication Year\"])"
   ]
  },
  {
   "cell_type": "code",
   "execution_count": null,
   "id": "099736df-ff0c-4948-80a8-e821edb3d909",
   "metadata": {},
   "outputs": [],
   "source": [
    "check_term = \"mental health\""
   ]
  },
  {
   "cell_type": "code",
   "execution_count": null,
   "id": "adcb8838-e7f5-49ca-b51c-92758f33a36c",
   "metadata": {},
   "outputs": [],
   "source": [
    "rels = merged_df[merged_df['cat_keywords'].apply(lambda x: check_term in x) | merged_df['cat_keywords2'].apply(lambda x: check_term in x)]\n",
    "mental_health_per_year = Counter(rels[\"Publication Year\"])"
   ]
  },
  {
   "cell_type": "code",
   "execution_count": null,
   "id": "d645a9fe-aa2d-41b1-bf88-7fa5913c1d99",
   "metadata": {},
   "outputs": [],
   "source": [
    "corrected_years = dict()\n",
    "for key, value in mental_health_per_year.items():\n",
    "    corrected_years[key] = value / articles_per_year[key]\n",
    "\n",
    "corrected_years = dict(sorted(corrected_years.items()))"
   ]
  },
  {
   "cell_type": "code",
   "execution_count": null,
   "id": "50b0f651-32f8-4da6-bfcf-45e582616ae0",
   "metadata": {},
   "outputs": [],
   "source": [
    "# Determine the range of years\n",
    "min_year = min(corrected_years.keys())\n",
    "max_year = max(corrected_years.keys())\n",
    "\n",
    "# Create a list of all years in the range\n",
    "all_years = list(range(min_year, max_year + 1))\n",
    "\n",
    "# Get the frequencies for all years, using 0 for years with no data\n",
    "frequencies = [corrected_years.get(year, 0) for year in all_years]\n",
    "\n",
    "# Plot histogram\n",
    "plt.figure(figsize=(10, 6))\n",
    "\n",
    "plt.bar(all_years, frequencies, edgecolor='black', color='gray')\n",
    "\n",
    "# Customize x-axis labels for better detail\n",
    "plt.xticks(all_years, rotation=45)  # Rotate labels to 45 degrees\n",
    "plt.xlabel('Publication Year', fontsize=12, labelpad=15)  # Add padding\n",
    "plt.ylabel(f'Frequency of \"{check_term}\"', fontsize=12, labelpad=15)  # Add padding\n",
    "\n",
    "plt.grid(False)\n",
    "\n",
    "plt.savefig('RTMR_Output/mental-health_hist_Abstracts&Keywords.png', bbox_inches='tight', dpi=600)\n",
    "plt.tight_layout()\n",
    "plt.show()"
   ]
  },
  {
   "cell_type": "markdown",
   "id": "511bfec2-7368-423f-905b-e860290f9246",
   "metadata": {},
   "source": [
    "## Terms Not Occurring in Co-occurrence"
   ]
  },
  {
   "cell_type": "code",
   "execution_count": null,
   "id": "72991fca-9593-465e-8d8b-7e2d1b3c729f",
   "metadata": {},
   "outputs": [],
   "source": [
    "print(\"Terms not occurring in co-occurrnece maps: \\n\", set(list(freq_df.Word)).difference(set(list(cooc_df_incl.term1) + list(cooc_df_incl.term2))))"
   ]
  },
  {
   "cell_type": "markdown",
   "id": "6cf57929-059e-41c0-81f3-cd435feeb6ae",
   "metadata": {},
   "source": [
    "## Binomial Test for Within vs. Between Category Co-occurrences"
   ]
  },
  {
   "cell_type": "code",
   "execution_count": null,
   "id": "9f8d0865-9dc9-42a1-a9e9-f29556bbb143",
   "metadata": {},
   "outputs": [],
   "source": [
    "data_chi = cooc_df_excl.copy(deep=True)\n",
    "data_chi"
   ]
  },
  {
   "cell_type": "code",
   "execution_count": null,
   "id": "7e460a22-5e9f-4843-86b7-344631d5fc54",
   "metadata": {},
   "outputs": [],
   "source": [
    "micro_terms = [\n",
    "    \"ideology\", \"violence\", \"religiosity\", \"adolescence\", \"identity\", \"cognition\", \n",
    "    \"sex\", \"employment\", \"deprivation\", \"immigration\", \"emotion\", \"activism\", \n",
    "    \"criminality\", \"education\", \"nationalism\", \"populism\", \"status\", \"dogmatism\", \n",
    "    \"authoritarianism\", \"aggression\", \"morality\", \"mental health\", \"conservatism\", \n",
    "    \"minority\", \"sacred values\", \"age\", \"hate\", \"rationality\", \"prejudice\", \n",
    "    \"uncertainty\", \"trust\", \"personality\", \"liberalism\", \"intolerance\", \n",
    "    \"fundamentalism\", \"fear\", \"honor\", \"poverty\", \"white race\", \"superiority\", \n",
    "]\n",
    "\n",
    "meso_terms = [\n",
    "    \"social network\", \"threat\", \"diversity\", \"social exclusion\", \"discourse\", \n",
    "    \"family\", \"competition\", \"polarization\", \"discrimination\", \"group process\", \n",
    "    \"recruitment\", \"elites\", \"social media\", \"social coherence\", \"mobilization\", \n",
    "    \"integration\"\n",
    "]\n",
    "\n",
    "macro_terms = [\n",
    "    \"conflict\", \"state\", \"economy\", \"society\", \"politics\", \"justice\", \"norms\", \n",
    "    \"culture\", \"internet\", \"security\", \"region\", \"elections\", \"policy\", \"democracy\", \n",
    "    \"language\", \"international\", \"crisis\", \"institutions\", \"peace\", \"propaganda\", \n",
    "    \"military\"\n",
    "]\n",
    "\n",
    "def categorize_terms(term):\n",
    "    if term in micro_terms:\n",
    "        return 'micro'\n",
    "    elif term in meso_terms:\n",
    "        return 'meso'\n",
    "    elif term in macro_terms:\n",
    "        return 'macro'\n",
    "    else:\n",
    "        return 'unknown'"
   ]
  },
  {
   "cell_type": "code",
   "execution_count": null,
   "id": "f21f7342-62d0-4004-b60e-693323a4694e",
   "metadata": {},
   "outputs": [],
   "source": [
    "# Apply categorization to terms\n",
    "data_chi['category1'] = data_chi['term1'].apply(categorize_terms)\n",
    "data_chi['category2'] = data_chi['term2'].apply(categorize_terms)\n",
    "\n",
    "# Filter out unknown categories\n",
    "cooc_df_filtered = data_chi[(data_chi['category1'] != 'unknown') & (data_chi['category2'] != 'unknown')]\n",
    "cooc_df_filtered"
   ]
  },
  {
   "cell_type": "code",
   "execution_count": null,
   "id": "12d75bcf-15d4-41f6-a57c-5ff39d64dedb",
   "metadata": {},
   "outputs": [],
   "source": [
    "## how often do the levels occurr\n",
    "freq_levels = Counter(list(cooc_df_filtered.category1) + list(cooc_df_filtered.category2))\n",
    "total_nodes = np.sum(list(freq_levels.values()))\n",
    "for key, value in freq_levels.items():\n",
    "    freq_levels[key] = value / total_nodes\n",
    "freq_levels"
   ]
  },
  {
   "cell_type": "code",
   "execution_count": null,
   "id": "dbc89336-be88-4672-9107-207677380369",
   "metadata": {},
   "outputs": [],
   "source": [
    "corrected_cooc = []\n",
    "total_edges = cooc_df_filtered.cooc.sum()\n",
    "for idx in cooc_df_filtered.index:\n",
    "    corrected_cooc.append( (cooc_df_filtered.loc[idx, \"cooc\"] / total_edges) / (freq_levels[cooc_df_filtered.loc[idx, \"category1\"]] * freq_levels[cooc_df_filtered.loc[idx, \"category2\"]]))\n",
    "\n",
    "cooc_df_filtered[\"corrected_cooc\"] = corrected_cooc\n",
    "cooc_df_filtered"
   ]
  },
  {
   "cell_type": "code",
   "execution_count": null,
   "id": "a760fb45-40a4-44e6-9087-f25bc45f58a7",
   "metadata": {},
   "outputs": [],
   "source": [
    "n = cooc_df_filtered.cooc.sum()\n",
    "n"
   ]
  },
  {
   "cell_type": "code",
   "execution_count": null,
   "id": "9af7bba4-2c44-481d-968d-31380afe09df",
   "metadata": {},
   "outputs": [],
   "source": [
    "occ_within = cooc_df_filtered.cooc[cooc_df_filtered.category1 == cooc_df_filtered.category2].sum()\n",
    "occ_between = cooc_df_filtered.cooc[cooc_df_filtered.category1 != cooc_df_filtered.category2].sum()\n",
    "print(\"within: \",occ_within)\n",
    "print(\"between: \", occ_between)"
   ]
  },
  {
   "cell_type": "code",
   "execution_count": null,
   "id": "608fc345-15c7-48c7-8983-335eed9adc8c",
   "metadata": {},
   "outputs": [],
   "source": [
    "from scipy.stats import binom_test\n",
    "print(binom_test(x=occ_between, n= n, p=1/2))\n",
    "print(binom_test(x=occ_within, n= n, p=1/2))"
   ]
  }
 ],
 "metadata": {
  "kernelspec": {
   "display_name": "RadTMSR_env",
   "language": "python",
   "name": "radtmsr_env"
  },
  "language_info": {
   "codemirror_mode": {
    "name": "ipython",
    "version": 3
   },
   "file_extension": ".py",
   "mimetype": "text/x-python",
   "name": "python",
   "nbconvert_exporter": "python",
   "pygments_lexer": "ipython3",
   "version": "3.10.11"
  }
 },
 "nbformat": 4,
 "nbformat_minor": 5
}
