{
 "cells": [
  {
   "cell_type": "markdown",
   "id": "531e9247-ae39-4b89-8819-7442036bd58d",
   "metadata": {},
   "source": [
    "# Reproducible code\n",
    "For maximal reproducibility, we recommend to run the following code, which will be executed in the command prompt (Windows). You are then required to change the analyses notebook's kernel to \"RadTMSR_env\", which stores all required versions of the used modules.\n",
    "\n",
    "**Written in Python 3.10**\n",
    "\n",
    "\n",
    "More information on virtualenv, please visit https://docs.python.org/3/library/venv.html\n"
   ]
  },
  {
   "cell_type": "code",
   "execution_count": null,
   "id": "58e6d92a-126c-4b3b-9e2b-433e824a8726",
   "metadata": {},
   "outputs": [],
   "source": [
    "%%cmd\n",
    "pip install virtualenv ipykernel"
   ]
  },
  {
   "cell_type": "code",
   "execution_count": null,
   "id": "887c1556-e335-43d4-a297-9e4d184d2cbe",
   "metadata": {
    "scrolled": true
   },
   "outputs": [],
   "source": [
    "%%cmd\n",
    "python -m venv RadTMSR_env\n",
    "RadTMSR_env\\Scripts\\activate.bat\n",
    "pip install -r requirements.txt\n"
   ]
  },
  {
   "cell_type": "code",
   "execution_count": null,
   "id": "c14498bc-ec88-46bd-9119-77c1fb666ffb",
   "metadata": {},
   "outputs": [],
   "source": [
    "%%cmd\n",
    "RadTMSR_env\\Scripts\\activate.bat\n",
    "pip install --force-reinstall --upgrade --no-cache-dir wheel pyzmq\n",
    "python -m ipykernel install --user --name RadTMSR_env --display-name \"RadTMSR_env\""
   ]
  }
 ],
 "metadata": {
  "kernelspec": {
   "display_name": "Python 3",
   "language": "python",
   "name": "python3"
  },
  "language_info": {
   "codemirror_mode": {
    "name": "ipython",
    "version": 3
   },
   "file_extension": ".py",
   "mimetype": "text/x-python",
   "name": "python",
   "nbconvert_exporter": "python",
   "pygments_lexer": "ipython3",
   "version": "3.11.8"
  }
 },
 "nbformat": 4,
 "nbformat_minor": 5
}
