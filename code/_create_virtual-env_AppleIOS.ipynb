{
 "cells": [
  {
   "cell_type": "markdown",
   "id": "531e9247-ae39-4b89-8819-7442036bd58d",
   "metadata": {},
   "source": [
    "# Reproducible code\n",
    "For maximal reproducibility, we recommend to run the following code, which will be executed in the zsh shell (Apple IOS). You are then required to change the analyses notebook's kernel to \"RadTMSR_env\", which stores all required versions of the used modules.\n",
    "\n",
    "**Written in Python 4.20.11 and Jupyter Lab 4.0.7**\n",
    "\n",
    "More information on virtualenv, please visit https://docs.python.org/3/library/venv.html\n"
   ]
  },
  {
   "cell_type": "code",
   "execution_count": 1,
   "id": "58e6d92a-126c-4b3b-9e2b-433e824a8726",
   "metadata": {},
   "outputs": [
    {
     "name": "stderr",
     "output_type": "stream",
     "text": [
      "UsageError: Cell magic `%%zsh` not found.\n"
     ]
    }
   ],
   "source": [
    "%%zsh\n",
    "pip install virtualenv"
   ]
  },
  {
   "cell_type": "code",
   "execution_count": null,
   "id": "78be2989-4f06-4b15-bcbf-e2689742f4f9",
   "metadata": {},
   "outputs": [],
   "source": [
    "%%zsh\n",
    "virtualenv RadTMSR_env"
   ]
  },
  {
   "cell_type": "code",
   "execution_count": null,
   "id": "184a4c4d-ca7d-494a-90c2-ae2f55f30da4",
   "metadata": {},
   "outputs": [],
   "source": [
    "%%zsh\n",
    "source RadTMSR_env/Scripts/activate\n",
    "which python\n",
    "pip install -r requirements.txt\n",
    "\n",
    "deactivate\n",
    "which python"
   ]
  },
  {
   "cell_type": "code",
   "execution_count": null,
   "id": "7d1dd5f7-dfc4-4338-8e78-0ecfa032413d",
   "metadata": {},
   "outputs": [],
   "source": [
    "%%zsh\n",
    "RadTMSR_env/Scripts/python -m ipykernel install --name \"RadTMSR_env\""
   ]
  }
 ],
 "metadata": {
  "kernelspec": {
   "display_name": "Python 3 (ipykernel)",
   "language": "python",
   "name": "python3"
  },
  "language_info": {
   "codemirror_mode": {
    "name": "ipython",
    "version": 3
   },
   "file_extension": ".py",
   "mimetype": "text/x-python",
   "name": "python",
   "nbconvert_exporter": "python",
   "pygments_lexer": "ipython3",
   "version": "3.10.11"
  }
 },
 "nbformat": 4,
 "nbformat_minor": 5
}
